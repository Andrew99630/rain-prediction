{
 "cells": [
  {
   "cell_type": "markdown",
   "id": "9aec5158",
   "metadata": {},
   "source": [
    "# Weather prediction"
   ]
  },
  {
   "cell_type": "markdown",
   "id": "1bb46122",
   "metadata": {},
   "source": [
    "**Task.** Predict next-day rain by training classification models on the target variable \"RainTomorrow\". <br>\n",
    "This dataset contains about 10 years of daily weather observations from many locations across Australia. <br>\n",
    "RainTomorrow is the target variable to predict. The value is \"Yes\" if the amount of precipitation is 1 mm or more."
   ]
  },
  {
   "cell_type": "markdown",
   "id": "4f283413",
   "metadata": {},
   "source": [
    "#### Description of the data set:\n",
    "   - **Date**. The date of observation;\n",
    "   - **Location**.The common name of the location of the weather station;\n",
    "   - **MinTemp**. The minimum temperature in degrees celsius;\n",
    "   - **MaxTemp**. The maximum temperature in degrees celsius;\n",
    "   - **Rainfall**. The amount of rainfall recorded for the day in mm;\n",
    "   - **Evaporation**. The so-called Class A pan evaporation (mm) in the 24 hours to 9am;\n",
    "   - **Sunshine**. The number of hours of bright sunshine in the day;\n",
    "   - **WindGustDir**. The direction of the strongest wind gust in the 24 hours to midnight;\n",
    "   - **WindGustSpeed**. The speed (km/h) of the strongest wind gust in the 24 hours to midnight;\n",
    "   - **WindDir9am**. Direction of the wind at 9am;\n",
    "   - **WindDir3pm**. Direction of the wind at 3pm;\n",
    "   - **WindSpeed9am**. Wind speed (km/hr) averaged over 10 minutes prior to 9am;\n",
    "   - **WindSpeed3pm**. Wind speed (km/hr) averaged over 10 minutes prior to 3pm;\n",
    "   - **Humidity9am**. Humidity (percent) at 9am;\n",
    "   - **Humidity3pm**. Humidity (percent) at 3pm;\n",
    "   - **Pressure9am**. Atmospheric pressure (hpa) reduced to mean sea level at 9am;\n",
    "   - **Pressure3pm**. Atmospheric pressure (hpa) reduced to mean sea level at 3pm;\n",
    "   - **Cloud9am**. Fraction of sky obscured by cloud at 9am. This is measured in \"oktas\", which are a unit of eigths. It records how many;\n",
    "   - **Cloud3pm**. Fraction of sky obscured by cloud (in \"oktas\": eighths) at 3pm. See Cload9am for a description of the value;\n",
    "   - **Temp9am**. Temperature (degrees C) at 9am;\n",
    "   - **Temp3pm**. Temperature (degrees C) at 3pm;\n",
    "   - **RainToday**. Boolean: 1 if precipitation (mm) in the 24 hours to 9am exceeds 1mm, otherwise 0;\n",
    "   - **RainTomorrow**. The amount of next day rain in mm. Used to create response variable RainTomorrow. A kind of measure of the \"risk\"."
   ]
  },
  {
   "cell_type": "markdown",
   "id": "aab50327",
   "metadata": {},
   "source": [
    "План работы:\n",
    "1. [Study of general information.](#id1)\n",
    "2. [Data preprocessing.](#id2)\n",
    "3. [Exploratory data analysis.](#id3)\n",
    "4. [Model building .](#id4)\n",
    "5. [General conclusion.](#id5)"
   ]
  },
  {
   "cell_type": "code",
   "execution_count": 725,
   "id": "71aa527f",
   "metadata": {
    "ExecuteTime": {
     "end_time": "2022-07-01T10:12:24.900770Z",
     "start_time": "2022-07-01T10:12:24.894836Z"
    }
   },
   "outputs": [],
   "source": [
    "import pandas as pd\n",
    "import numpy as np\n",
    "\n",
    "from collections import Counter\n",
    "\n",
    "from pymystem3 import Mystem\n",
    "\n",
    "import plotly.express as px\n",
    "import plotly.figure_factory as ff\n",
    "import plotly.graph_objects as go\n",
    "from plotly.subplots import make_subplots\n",
    "import seaborn as sns\n",
    "import matplotlib.pyplot as plt\n",
    "sns.set_theme()\n",
    "\n",
    "import statsmodels.api as sm\n",
    "\n",
    "from sklearn.linear_model import LogisticRegression\n",
    "from sklearn.tree import DecisionTreeClassifier\n",
    "from sklearn.ensemble import RandomForestClassifier\n",
    "from sklearn.naive_bayes import GaussianNB\n",
    "from sklearn.svm import SVC\n",
    "from sklearn.svm import LinearSVC\n",
    "from sklearn.neighbors import KNeighborsClassifier\n",
    "from sklearn.linear_model import SGDClassifier\n",
    "from sklearn import preprocessing\n",
    "\n",
    "from sklearn import preprocessing\n",
    "from sklearn.model_selection import train_test_split\n",
    "from sklearn.model_selection import cross_val_score\n",
    "from sklearn.model_selection import cross_validate\n",
    "from sklearn.metrics import classification_report\n",
    "\n",
    "import warnings\n",
    "warnings.filterwarnings('ignore')"
   ]
  },
  {
   "cell_type": "markdown",
   "id": "c5ab2668",
   "metadata": {},
   "source": [
    "<a id=\"id1\"></a>\n",
    "## 1. Study of general information"
   ]
  },
  {
   "cell_type": "code",
   "execution_count": 680,
   "id": "763ce66b",
   "metadata": {
    "ExecuteTime": {
     "end_time": "2022-07-01T09:37:47.308663Z",
     "start_time": "2022-07-01T09:37:46.669739Z"
    }
   },
   "outputs": [
    {
     "name": "stdout",
     "output_type": "stream",
     "text": [
      "<class 'pandas.core.frame.DataFrame'>\n",
      "RangeIndex: 145460 entries, 0 to 145459\n",
      "Data columns (total 23 columns):\n",
      " #   Column         Non-Null Count   Dtype  \n",
      "---  ------         --------------   -----  \n",
      " 0   Date           145460 non-null  object \n",
      " 1   Location       145460 non-null  object \n",
      " 2   MinTemp        143975 non-null  float64\n",
      " 3   MaxTemp        144199 non-null  float64\n",
      " 4   Rainfall       142199 non-null  float64\n",
      " 5   Evaporation    82670 non-null   float64\n",
      " 6   Sunshine       75625 non-null   float64\n",
      " 7   WindGustDir    135134 non-null  object \n",
      " 8   WindGustSpeed  135197 non-null  float64\n",
      " 9   WindDir9am     134894 non-null  object \n",
      " 10  WindDir3pm     141232 non-null  object \n",
      " 11  WindSpeed9am   143693 non-null  float64\n",
      " 12  WindSpeed3pm   142398 non-null  float64\n",
      " 13  Humidity9am    142806 non-null  float64\n",
      " 14  Humidity3pm    140953 non-null  float64\n",
      " 15  Pressure9am    130395 non-null  float64\n",
      " 16  Pressure3pm    130432 non-null  float64\n",
      " 17  Cloud9am       89572 non-null   float64\n",
      " 18  Cloud3pm       86102 non-null   float64\n",
      " 19  Temp9am        143693 non-null  float64\n",
      " 20  Temp3pm        141851 non-null  float64\n",
      " 21  RainToday      142199 non-null  object \n",
      " 22  RainTomorrow   142193 non-null  object \n",
      "dtypes: float64(16), object(7)\n",
      "memory usage: 25.5+ MB\n"
     ]
    },
    {
     "data": {
      "text/html": [
       "<div>\n",
       "<style scoped>\n",
       "    .dataframe tbody tr th:only-of-type {\n",
       "        vertical-align: middle;\n",
       "    }\n",
       "\n",
       "    .dataframe tbody tr th {\n",
       "        vertical-align: top;\n",
       "    }\n",
       "\n",
       "    .dataframe thead th {\n",
       "        text-align: right;\n",
       "    }\n",
       "</style>\n",
       "<table border=\"1\" class=\"dataframe\">\n",
       "  <thead>\n",
       "    <tr style=\"text-align: right;\">\n",
       "      <th></th>\n",
       "      <th>Date</th>\n",
       "      <th>Location</th>\n",
       "      <th>MinTemp</th>\n",
       "      <th>MaxTemp</th>\n",
       "      <th>Rainfall</th>\n",
       "      <th>Evaporation</th>\n",
       "      <th>Sunshine</th>\n",
       "      <th>WindGustDir</th>\n",
       "      <th>WindGustSpeed</th>\n",
       "      <th>WindDir9am</th>\n",
       "      <th>...</th>\n",
       "      <th>Humidity9am</th>\n",
       "      <th>Humidity3pm</th>\n",
       "      <th>Pressure9am</th>\n",
       "      <th>Pressure3pm</th>\n",
       "      <th>Cloud9am</th>\n",
       "      <th>Cloud3pm</th>\n",
       "      <th>Temp9am</th>\n",
       "      <th>Temp3pm</th>\n",
       "      <th>RainToday</th>\n",
       "      <th>RainTomorrow</th>\n",
       "    </tr>\n",
       "  </thead>\n",
       "  <tbody>\n",
       "    <tr>\n",
       "      <th>0</th>\n",
       "      <td>2008-12-01</td>\n",
       "      <td>Albury</td>\n",
       "      <td>13.4</td>\n",
       "      <td>22.9</td>\n",
       "      <td>0.6</td>\n",
       "      <td>NaN</td>\n",
       "      <td>NaN</td>\n",
       "      <td>W</td>\n",
       "      <td>44.0</td>\n",
       "      <td>W</td>\n",
       "      <td>...</td>\n",
       "      <td>71.0</td>\n",
       "      <td>22.0</td>\n",
       "      <td>1007.7</td>\n",
       "      <td>1007.1</td>\n",
       "      <td>8.0</td>\n",
       "      <td>NaN</td>\n",
       "      <td>16.9</td>\n",
       "      <td>21.8</td>\n",
       "      <td>No</td>\n",
       "      <td>No</td>\n",
       "    </tr>\n",
       "    <tr>\n",
       "      <th>1</th>\n",
       "      <td>2008-12-02</td>\n",
       "      <td>Albury</td>\n",
       "      <td>7.4</td>\n",
       "      <td>25.1</td>\n",
       "      <td>0.0</td>\n",
       "      <td>NaN</td>\n",
       "      <td>NaN</td>\n",
       "      <td>WNW</td>\n",
       "      <td>44.0</td>\n",
       "      <td>NNW</td>\n",
       "      <td>...</td>\n",
       "      <td>44.0</td>\n",
       "      <td>25.0</td>\n",
       "      <td>1010.6</td>\n",
       "      <td>1007.8</td>\n",
       "      <td>NaN</td>\n",
       "      <td>NaN</td>\n",
       "      <td>17.2</td>\n",
       "      <td>24.3</td>\n",
       "      <td>No</td>\n",
       "      <td>No</td>\n",
       "    </tr>\n",
       "    <tr>\n",
       "      <th>2</th>\n",
       "      <td>2008-12-03</td>\n",
       "      <td>Albury</td>\n",
       "      <td>12.9</td>\n",
       "      <td>25.7</td>\n",
       "      <td>0.0</td>\n",
       "      <td>NaN</td>\n",
       "      <td>NaN</td>\n",
       "      <td>WSW</td>\n",
       "      <td>46.0</td>\n",
       "      <td>W</td>\n",
       "      <td>...</td>\n",
       "      <td>38.0</td>\n",
       "      <td>30.0</td>\n",
       "      <td>1007.6</td>\n",
       "      <td>1008.7</td>\n",
       "      <td>NaN</td>\n",
       "      <td>2.0</td>\n",
       "      <td>21.0</td>\n",
       "      <td>23.2</td>\n",
       "      <td>No</td>\n",
       "      <td>No</td>\n",
       "    </tr>\n",
       "    <tr>\n",
       "      <th>3</th>\n",
       "      <td>2008-12-04</td>\n",
       "      <td>Albury</td>\n",
       "      <td>9.2</td>\n",
       "      <td>28.0</td>\n",
       "      <td>0.0</td>\n",
       "      <td>NaN</td>\n",
       "      <td>NaN</td>\n",
       "      <td>NE</td>\n",
       "      <td>24.0</td>\n",
       "      <td>SE</td>\n",
       "      <td>...</td>\n",
       "      <td>45.0</td>\n",
       "      <td>16.0</td>\n",
       "      <td>1017.6</td>\n",
       "      <td>1012.8</td>\n",
       "      <td>NaN</td>\n",
       "      <td>NaN</td>\n",
       "      <td>18.1</td>\n",
       "      <td>26.5</td>\n",
       "      <td>No</td>\n",
       "      <td>No</td>\n",
       "    </tr>\n",
       "    <tr>\n",
       "      <th>4</th>\n",
       "      <td>2008-12-05</td>\n",
       "      <td>Albury</td>\n",
       "      <td>17.5</td>\n",
       "      <td>32.3</td>\n",
       "      <td>1.0</td>\n",
       "      <td>NaN</td>\n",
       "      <td>NaN</td>\n",
       "      <td>W</td>\n",
       "      <td>41.0</td>\n",
       "      <td>ENE</td>\n",
       "      <td>...</td>\n",
       "      <td>82.0</td>\n",
       "      <td>33.0</td>\n",
       "      <td>1010.8</td>\n",
       "      <td>1006.0</td>\n",
       "      <td>7.0</td>\n",
       "      <td>8.0</td>\n",
       "      <td>17.8</td>\n",
       "      <td>29.7</td>\n",
       "      <td>No</td>\n",
       "      <td>No</td>\n",
       "    </tr>\n",
       "  </tbody>\n",
       "</table>\n",
       "<p>5 rows × 23 columns</p>\n",
       "</div>"
      ],
      "text/plain": [
       "         Date Location  MinTemp  MaxTemp  Rainfall  Evaporation  Sunshine  \\\n",
       "0  2008-12-01   Albury     13.4     22.9       0.6          NaN       NaN   \n",
       "1  2008-12-02   Albury      7.4     25.1       0.0          NaN       NaN   \n",
       "2  2008-12-03   Albury     12.9     25.7       0.0          NaN       NaN   \n",
       "3  2008-12-04   Albury      9.2     28.0       0.0          NaN       NaN   \n",
       "4  2008-12-05   Albury     17.5     32.3       1.0          NaN       NaN   \n",
       "\n",
       "  WindGustDir  WindGustSpeed WindDir9am  ... Humidity9am  Humidity3pm  \\\n",
       "0           W           44.0          W  ...        71.0         22.0   \n",
       "1         WNW           44.0        NNW  ...        44.0         25.0   \n",
       "2         WSW           46.0          W  ...        38.0         30.0   \n",
       "3          NE           24.0         SE  ...        45.0         16.0   \n",
       "4           W           41.0        ENE  ...        82.0         33.0   \n",
       "\n",
       "   Pressure9am  Pressure3pm  Cloud9am  Cloud3pm  Temp9am  Temp3pm  RainToday  \\\n",
       "0       1007.7       1007.1       8.0       NaN     16.9     21.8         No   \n",
       "1       1010.6       1007.8       NaN       NaN     17.2     24.3         No   \n",
       "2       1007.6       1008.7       NaN       2.0     21.0     23.2         No   \n",
       "3       1017.6       1012.8       NaN       NaN     18.1     26.5         No   \n",
       "4       1010.8       1006.0       7.0       8.0     17.8     29.7         No   \n",
       "\n",
       "   RainTomorrow  \n",
       "0            No  \n",
       "1            No  \n",
       "2            No  \n",
       "3            No  \n",
       "4            No  \n",
       "\n",
       "[5 rows x 23 columns]"
      ]
     },
     "execution_count": 680,
     "metadata": {},
     "output_type": "execute_result"
    }
   ],
   "source": [
    "data = pd.read_csv('weatherAUS.csv')\n",
    "data.info()\n",
    "data.head()"
   ]
  },
  {
   "cell_type": "code",
   "execution_count": 681,
   "id": "88088290",
   "metadata": {
    "ExecuteTime": {
     "end_time": "2022-07-01T09:37:47.405617Z",
     "start_time": "2022-07-01T09:37:47.310277Z"
    }
   },
   "outputs": [
    {
     "data": {
      "text/html": [
       "<div>\n",
       "<style scoped>\n",
       "    .dataframe tbody tr th:only-of-type {\n",
       "        vertical-align: middle;\n",
       "    }\n",
       "\n",
       "    .dataframe tbody tr th {\n",
       "        vertical-align: top;\n",
       "    }\n",
       "\n",
       "    .dataframe thead th {\n",
       "        text-align: right;\n",
       "    }\n",
       "</style>\n",
       "<table border=\"1\" class=\"dataframe\">\n",
       "  <thead>\n",
       "    <tr style=\"text-align: right;\">\n",
       "      <th></th>\n",
       "      <th>MinTemp</th>\n",
       "      <th>MaxTemp</th>\n",
       "      <th>Rainfall</th>\n",
       "      <th>Evaporation</th>\n",
       "      <th>Sunshine</th>\n",
       "      <th>WindGustSpeed</th>\n",
       "      <th>WindSpeed9am</th>\n",
       "      <th>WindSpeed3pm</th>\n",
       "      <th>Humidity9am</th>\n",
       "      <th>Humidity3pm</th>\n",
       "      <th>Pressure9am</th>\n",
       "      <th>Pressure3pm</th>\n",
       "      <th>Cloud9am</th>\n",
       "      <th>Cloud3pm</th>\n",
       "      <th>Temp9am</th>\n",
       "      <th>Temp3pm</th>\n",
       "    </tr>\n",
       "  </thead>\n",
       "  <tbody>\n",
       "    <tr>\n",
       "      <th>count</th>\n",
       "      <td>143975.000000</td>\n",
       "      <td>144199.000000</td>\n",
       "      <td>142199.000000</td>\n",
       "      <td>82670.000000</td>\n",
       "      <td>75625.000000</td>\n",
       "      <td>135197.000000</td>\n",
       "      <td>143693.000000</td>\n",
       "      <td>142398.000000</td>\n",
       "      <td>142806.000000</td>\n",
       "      <td>140953.000000</td>\n",
       "      <td>130395.00000</td>\n",
       "      <td>130432.000000</td>\n",
       "      <td>89572.000000</td>\n",
       "      <td>86102.000000</td>\n",
       "      <td>143693.000000</td>\n",
       "      <td>141851.00000</td>\n",
       "    </tr>\n",
       "    <tr>\n",
       "      <th>mean</th>\n",
       "      <td>12.194034</td>\n",
       "      <td>23.221348</td>\n",
       "      <td>2.360918</td>\n",
       "      <td>5.468232</td>\n",
       "      <td>7.611178</td>\n",
       "      <td>40.035230</td>\n",
       "      <td>14.043426</td>\n",
       "      <td>18.662657</td>\n",
       "      <td>68.880831</td>\n",
       "      <td>51.539116</td>\n",
       "      <td>1017.64994</td>\n",
       "      <td>1015.255889</td>\n",
       "      <td>4.447461</td>\n",
       "      <td>4.509930</td>\n",
       "      <td>16.990631</td>\n",
       "      <td>21.68339</td>\n",
       "    </tr>\n",
       "    <tr>\n",
       "      <th>std</th>\n",
       "      <td>6.398495</td>\n",
       "      <td>7.119049</td>\n",
       "      <td>8.478060</td>\n",
       "      <td>4.193704</td>\n",
       "      <td>3.785483</td>\n",
       "      <td>13.607062</td>\n",
       "      <td>8.915375</td>\n",
       "      <td>8.809800</td>\n",
       "      <td>19.029164</td>\n",
       "      <td>20.795902</td>\n",
       "      <td>7.10653</td>\n",
       "      <td>7.037414</td>\n",
       "      <td>2.887159</td>\n",
       "      <td>2.720357</td>\n",
       "      <td>6.488753</td>\n",
       "      <td>6.93665</td>\n",
       "    </tr>\n",
       "    <tr>\n",
       "      <th>min</th>\n",
       "      <td>-8.500000</td>\n",
       "      <td>-4.800000</td>\n",
       "      <td>0.000000</td>\n",
       "      <td>0.000000</td>\n",
       "      <td>0.000000</td>\n",
       "      <td>6.000000</td>\n",
       "      <td>0.000000</td>\n",
       "      <td>0.000000</td>\n",
       "      <td>0.000000</td>\n",
       "      <td>0.000000</td>\n",
       "      <td>980.50000</td>\n",
       "      <td>977.100000</td>\n",
       "      <td>0.000000</td>\n",
       "      <td>0.000000</td>\n",
       "      <td>-7.200000</td>\n",
       "      <td>-5.40000</td>\n",
       "    </tr>\n",
       "    <tr>\n",
       "      <th>25%</th>\n",
       "      <td>7.600000</td>\n",
       "      <td>17.900000</td>\n",
       "      <td>0.000000</td>\n",
       "      <td>2.600000</td>\n",
       "      <td>4.800000</td>\n",
       "      <td>31.000000</td>\n",
       "      <td>7.000000</td>\n",
       "      <td>13.000000</td>\n",
       "      <td>57.000000</td>\n",
       "      <td>37.000000</td>\n",
       "      <td>1012.90000</td>\n",
       "      <td>1010.400000</td>\n",
       "      <td>1.000000</td>\n",
       "      <td>2.000000</td>\n",
       "      <td>12.300000</td>\n",
       "      <td>16.60000</td>\n",
       "    </tr>\n",
       "    <tr>\n",
       "      <th>50%</th>\n",
       "      <td>12.000000</td>\n",
       "      <td>22.600000</td>\n",
       "      <td>0.000000</td>\n",
       "      <td>4.800000</td>\n",
       "      <td>8.400000</td>\n",
       "      <td>39.000000</td>\n",
       "      <td>13.000000</td>\n",
       "      <td>19.000000</td>\n",
       "      <td>70.000000</td>\n",
       "      <td>52.000000</td>\n",
       "      <td>1017.60000</td>\n",
       "      <td>1015.200000</td>\n",
       "      <td>5.000000</td>\n",
       "      <td>5.000000</td>\n",
       "      <td>16.700000</td>\n",
       "      <td>21.10000</td>\n",
       "    </tr>\n",
       "    <tr>\n",
       "      <th>75%</th>\n",
       "      <td>16.900000</td>\n",
       "      <td>28.200000</td>\n",
       "      <td>0.800000</td>\n",
       "      <td>7.400000</td>\n",
       "      <td>10.600000</td>\n",
       "      <td>48.000000</td>\n",
       "      <td>19.000000</td>\n",
       "      <td>24.000000</td>\n",
       "      <td>83.000000</td>\n",
       "      <td>66.000000</td>\n",
       "      <td>1022.40000</td>\n",
       "      <td>1020.000000</td>\n",
       "      <td>7.000000</td>\n",
       "      <td>7.000000</td>\n",
       "      <td>21.600000</td>\n",
       "      <td>26.40000</td>\n",
       "    </tr>\n",
       "    <tr>\n",
       "      <th>max</th>\n",
       "      <td>33.900000</td>\n",
       "      <td>48.100000</td>\n",
       "      <td>371.000000</td>\n",
       "      <td>145.000000</td>\n",
       "      <td>14.500000</td>\n",
       "      <td>135.000000</td>\n",
       "      <td>130.000000</td>\n",
       "      <td>87.000000</td>\n",
       "      <td>100.000000</td>\n",
       "      <td>100.000000</td>\n",
       "      <td>1041.00000</td>\n",
       "      <td>1039.600000</td>\n",
       "      <td>9.000000</td>\n",
       "      <td>9.000000</td>\n",
       "      <td>40.200000</td>\n",
       "      <td>46.70000</td>\n",
       "    </tr>\n",
       "  </tbody>\n",
       "</table>\n",
       "</div>"
      ],
      "text/plain": [
       "             MinTemp        MaxTemp       Rainfall   Evaporation  \\\n",
       "count  143975.000000  144199.000000  142199.000000  82670.000000   \n",
       "mean       12.194034      23.221348       2.360918      5.468232   \n",
       "std         6.398495       7.119049       8.478060      4.193704   \n",
       "min        -8.500000      -4.800000       0.000000      0.000000   \n",
       "25%         7.600000      17.900000       0.000000      2.600000   \n",
       "50%        12.000000      22.600000       0.000000      4.800000   \n",
       "75%        16.900000      28.200000       0.800000      7.400000   \n",
       "max        33.900000      48.100000     371.000000    145.000000   \n",
       "\n",
       "           Sunshine  WindGustSpeed   WindSpeed9am   WindSpeed3pm  \\\n",
       "count  75625.000000  135197.000000  143693.000000  142398.000000   \n",
       "mean       7.611178      40.035230      14.043426      18.662657   \n",
       "std        3.785483      13.607062       8.915375       8.809800   \n",
       "min        0.000000       6.000000       0.000000       0.000000   \n",
       "25%        4.800000      31.000000       7.000000      13.000000   \n",
       "50%        8.400000      39.000000      13.000000      19.000000   \n",
       "75%       10.600000      48.000000      19.000000      24.000000   \n",
       "max       14.500000     135.000000     130.000000      87.000000   \n",
       "\n",
       "         Humidity9am    Humidity3pm   Pressure9am    Pressure3pm  \\\n",
       "count  142806.000000  140953.000000  130395.00000  130432.000000   \n",
       "mean       68.880831      51.539116    1017.64994    1015.255889   \n",
       "std        19.029164      20.795902       7.10653       7.037414   \n",
       "min         0.000000       0.000000     980.50000     977.100000   \n",
       "25%        57.000000      37.000000    1012.90000    1010.400000   \n",
       "50%        70.000000      52.000000    1017.60000    1015.200000   \n",
       "75%        83.000000      66.000000    1022.40000    1020.000000   \n",
       "max       100.000000     100.000000    1041.00000    1039.600000   \n",
       "\n",
       "           Cloud9am      Cloud3pm        Temp9am       Temp3pm  \n",
       "count  89572.000000  86102.000000  143693.000000  141851.00000  \n",
       "mean       4.447461      4.509930      16.990631      21.68339  \n",
       "std        2.887159      2.720357       6.488753       6.93665  \n",
       "min        0.000000      0.000000      -7.200000      -5.40000  \n",
       "25%        1.000000      2.000000      12.300000      16.60000  \n",
       "50%        5.000000      5.000000      16.700000      21.10000  \n",
       "75%        7.000000      7.000000      21.600000      26.40000  \n",
       "max        9.000000      9.000000      40.200000      46.70000  "
      ]
     },
     "execution_count": 681,
     "metadata": {},
     "output_type": "execute_result"
    }
   ],
   "source": [
    "data.describe()"
   ]
  },
  {
   "cell_type": "code",
   "execution_count": 682,
   "id": "7b60651c",
   "metadata": {
    "ExecuteTime": {
     "end_time": "2022-07-01T09:37:47.520400Z",
     "start_time": "2022-07-01T09:37:47.407111Z"
    }
   },
   "outputs": [
    {
     "data": {
      "text/plain": [
       "0"
      ]
     },
     "execution_count": 682,
     "metadata": {},
     "output_type": "execute_result"
    }
   ],
   "source": [
    "data.duplicated().sum()"
   ]
  },
  {
   "cell_type": "code",
   "execution_count": 683,
   "id": "e42b3b64",
   "metadata": {
    "ExecuteTime": {
     "end_time": "2022-07-01T09:37:47.670414Z",
     "start_time": "2022-07-01T09:37:47.522451Z"
    }
   },
   "outputs": [
    {
     "data": {
      "application/vnd.plotly.v1+json": {
       "config": {
        "plotlyServerURL": "https://plot.ly"
       },
       "data": [
        {
         "alignmentgroup": "True",
         "hovertemplate": "Percentage=%{text}<br>Feature=%{y}<extra></extra>",
         "legendgroup": "",
         "marker": {
          "color": "#F8766D",
          "pattern": {
           "shape": ""
          }
         },
         "name": "",
         "offsetgroup": "",
         "orientation": "h",
         "showlegend": false,
         "text": [
          0.01,
          0.009,
          0.022,
          0.432,
          0.48,
          0.071,
          0.071,
          0.073,
          0.029,
          0.012,
          0.021,
          0.018,
          0.031,
          0.104,
          0.103,
          0.384,
          0.408,
          0.012,
          0.025,
          0.022,
          0.022
         ],
         "textposition": "outside",
         "type": "bar",
         "x": [
          0.01,
          0.009,
          0.022,
          0.432,
          0.48,
          0.071,
          0.071,
          0.073,
          0.029,
          0.012,
          0.021,
          0.018,
          0.031,
          0.104,
          0.103,
          0.384,
          0.408,
          0.012,
          0.025,
          0.022,
          0.022
         ],
         "xaxis": "x",
         "y": [
          "MinTemp",
          "MaxTemp",
          "Rainfall",
          "Evaporation",
          "Sunshine",
          "WindGustDir",
          "WindGustSpeed",
          "WindDir9am",
          "WindDir3pm",
          "WindSpeed9am",
          "WindSpeed3pm",
          "Humidity9am",
          "Humidity3pm",
          "Pressure9am",
          "Pressure3pm",
          "Cloud9am",
          "Cloud3pm",
          "Temp9am",
          "Temp3pm",
          "RainToday",
          "RainTomorrow"
         ],
         "yaxis": "y"
        }
       ],
       "layout": {
        "barmode": "relative",
        "font": {
         "size": 16
        },
        "height": 800,
        "legend": {
         "tracegroupgap": 0
        },
        "template": {
         "data": {
          "bar": [
           {
            "error_x": {
             "color": "rgb(51,51,51)"
            },
            "error_y": {
             "color": "rgb(51,51,51)"
            },
            "marker": {
             "line": {
              "color": "rgb(237,237,237)",
              "width": 0.5
             },
             "pattern": {
              "fillmode": "overlay",
              "size": 10,
              "solidity": 0.2
             }
            },
            "type": "bar"
           }
          ],
          "barpolar": [
           {
            "marker": {
             "line": {
              "color": "rgb(237,237,237)",
              "width": 0.5
             },
             "pattern": {
              "fillmode": "overlay",
              "size": 10,
              "solidity": 0.2
             }
            },
            "type": "barpolar"
           }
          ],
          "carpet": [
           {
            "aaxis": {
             "endlinecolor": "rgb(51,51,51)",
             "gridcolor": "white",
             "linecolor": "white",
             "minorgridcolor": "white",
             "startlinecolor": "rgb(51,51,51)"
            },
            "baxis": {
             "endlinecolor": "rgb(51,51,51)",
             "gridcolor": "white",
             "linecolor": "white",
             "minorgridcolor": "white",
             "startlinecolor": "rgb(51,51,51)"
            },
            "type": "carpet"
           }
          ],
          "choropleth": [
           {
            "colorbar": {
             "outlinewidth": 0,
             "tickcolor": "rgb(237,237,237)",
             "ticklen": 6,
             "ticks": "inside"
            },
            "type": "choropleth"
           }
          ],
          "contour": [
           {
            "colorbar": {
             "outlinewidth": 0,
             "tickcolor": "rgb(237,237,237)",
             "ticklen": 6,
             "ticks": "inside"
            },
            "colorscale": [
             [
              0,
              "rgb(20,44,66)"
             ],
             [
              1,
              "rgb(90,179,244)"
             ]
            ],
            "type": "contour"
           }
          ],
          "contourcarpet": [
           {
            "colorbar": {
             "outlinewidth": 0,
             "tickcolor": "rgb(237,237,237)",
             "ticklen": 6,
             "ticks": "inside"
            },
            "type": "contourcarpet"
           }
          ],
          "heatmap": [
           {
            "colorbar": {
             "outlinewidth": 0,
             "tickcolor": "rgb(237,237,237)",
             "ticklen": 6,
             "ticks": "inside"
            },
            "colorscale": [
             [
              0,
              "rgb(20,44,66)"
             ],
             [
              1,
              "rgb(90,179,244)"
             ]
            ],
            "type": "heatmap"
           }
          ],
          "heatmapgl": [
           {
            "colorbar": {
             "outlinewidth": 0,
             "tickcolor": "rgb(237,237,237)",
             "ticklen": 6,
             "ticks": "inside"
            },
            "colorscale": [
             [
              0,
              "rgb(20,44,66)"
             ],
             [
              1,
              "rgb(90,179,244)"
             ]
            ],
            "type": "heatmapgl"
           }
          ],
          "histogram": [
           {
            "marker": {
             "pattern": {
              "fillmode": "overlay",
              "size": 10,
              "solidity": 0.2
             }
            },
            "type": "histogram"
           }
          ],
          "histogram2d": [
           {
            "colorbar": {
             "outlinewidth": 0,
             "tickcolor": "rgb(237,237,237)",
             "ticklen": 6,
             "ticks": "inside"
            },
            "colorscale": [
             [
              0,
              "rgb(20,44,66)"
             ],
             [
              1,
              "rgb(90,179,244)"
             ]
            ],
            "type": "histogram2d"
           }
          ],
          "histogram2dcontour": [
           {
            "colorbar": {
             "outlinewidth": 0,
             "tickcolor": "rgb(237,237,237)",
             "ticklen": 6,
             "ticks": "inside"
            },
            "colorscale": [
             [
              0,
              "rgb(20,44,66)"
             ],
             [
              1,
              "rgb(90,179,244)"
             ]
            ],
            "type": "histogram2dcontour"
           }
          ],
          "mesh3d": [
           {
            "colorbar": {
             "outlinewidth": 0,
             "tickcolor": "rgb(237,237,237)",
             "ticklen": 6,
             "ticks": "inside"
            },
            "type": "mesh3d"
           }
          ],
          "parcoords": [
           {
            "line": {
             "colorbar": {
              "outlinewidth": 0,
              "tickcolor": "rgb(237,237,237)",
              "ticklen": 6,
              "ticks": "inside"
             }
            },
            "type": "parcoords"
           }
          ],
          "pie": [
           {
            "automargin": true,
            "type": "pie"
           }
          ],
          "scatter": [
           {
            "marker": {
             "colorbar": {
              "outlinewidth": 0,
              "tickcolor": "rgb(237,237,237)",
              "ticklen": 6,
              "ticks": "inside"
             }
            },
            "type": "scatter"
           }
          ],
          "scatter3d": [
           {
            "line": {
             "colorbar": {
              "outlinewidth": 0,
              "tickcolor": "rgb(237,237,237)",
              "ticklen": 6,
              "ticks": "inside"
             }
            },
            "marker": {
             "colorbar": {
              "outlinewidth": 0,
              "tickcolor": "rgb(237,237,237)",
              "ticklen": 6,
              "ticks": "inside"
             }
            },
            "type": "scatter3d"
           }
          ],
          "scattercarpet": [
           {
            "marker": {
             "colorbar": {
              "outlinewidth": 0,
              "tickcolor": "rgb(237,237,237)",
              "ticklen": 6,
              "ticks": "inside"
             }
            },
            "type": "scattercarpet"
           }
          ],
          "scattergeo": [
           {
            "marker": {
             "colorbar": {
              "outlinewidth": 0,
              "tickcolor": "rgb(237,237,237)",
              "ticklen": 6,
              "ticks": "inside"
             }
            },
            "type": "scattergeo"
           }
          ],
          "scattergl": [
           {
            "marker": {
             "colorbar": {
              "outlinewidth": 0,
              "tickcolor": "rgb(237,237,237)",
              "ticklen": 6,
              "ticks": "inside"
             }
            },
            "type": "scattergl"
           }
          ],
          "scattermapbox": [
           {
            "marker": {
             "colorbar": {
              "outlinewidth": 0,
              "tickcolor": "rgb(237,237,237)",
              "ticklen": 6,
              "ticks": "inside"
             }
            },
            "type": "scattermapbox"
           }
          ],
          "scatterpolar": [
           {
            "marker": {
             "colorbar": {
              "outlinewidth": 0,
              "tickcolor": "rgb(237,237,237)",
              "ticklen": 6,
              "ticks": "inside"
             }
            },
            "type": "scatterpolar"
           }
          ],
          "scatterpolargl": [
           {
            "marker": {
             "colorbar": {
              "outlinewidth": 0,
              "tickcolor": "rgb(237,237,237)",
              "ticklen": 6,
              "ticks": "inside"
             }
            },
            "type": "scatterpolargl"
           }
          ],
          "scatterternary": [
           {
            "marker": {
             "colorbar": {
              "outlinewidth": 0,
              "tickcolor": "rgb(237,237,237)",
              "ticklen": 6,
              "ticks": "inside"
             }
            },
            "type": "scatterternary"
           }
          ],
          "surface": [
           {
            "colorbar": {
             "outlinewidth": 0,
             "tickcolor": "rgb(237,237,237)",
             "ticklen": 6,
             "ticks": "inside"
            },
            "colorscale": [
             [
              0,
              "rgb(20,44,66)"
             ],
             [
              1,
              "rgb(90,179,244)"
             ]
            ],
            "type": "surface"
           }
          ],
          "table": [
           {
            "cells": {
             "fill": {
              "color": "rgb(237,237,237)"
             },
             "line": {
              "color": "white"
             }
            },
            "header": {
             "fill": {
              "color": "rgb(217,217,217)"
             },
             "line": {
              "color": "white"
             }
            },
            "type": "table"
           }
          ]
         },
         "layout": {
          "annotationdefaults": {
           "arrowhead": 0,
           "arrowwidth": 1
          },
          "autotypenumbers": "strict",
          "coloraxis": {
           "colorbar": {
            "outlinewidth": 0,
            "tickcolor": "rgb(237,237,237)",
            "ticklen": 6,
            "ticks": "inside"
           }
          },
          "colorscale": {
           "sequential": [
            [
             0,
             "rgb(20,44,66)"
            ],
            [
             1,
             "rgb(90,179,244)"
            ]
           ],
           "sequentialminus": [
            [
             0,
             "rgb(20,44,66)"
            ],
            [
             1,
             "rgb(90,179,244)"
            ]
           ]
          },
          "colorway": [
           "#F8766D",
           "#A3A500",
           "#00BF7D",
           "#00B0F6",
           "#E76BF3"
          ],
          "font": {
           "color": "rgb(51,51,51)"
          },
          "geo": {
           "bgcolor": "white",
           "lakecolor": "white",
           "landcolor": "rgb(237,237,237)",
           "showlakes": true,
           "showland": true,
           "subunitcolor": "white"
          },
          "hoverlabel": {
           "align": "left"
          },
          "hovermode": "closest",
          "paper_bgcolor": "white",
          "plot_bgcolor": "rgb(237,237,237)",
          "polar": {
           "angularaxis": {
            "gridcolor": "white",
            "linecolor": "white",
            "showgrid": true,
            "tickcolor": "rgb(51,51,51)",
            "ticks": "outside"
           },
           "bgcolor": "rgb(237,237,237)",
           "radialaxis": {
            "gridcolor": "white",
            "linecolor": "white",
            "showgrid": true,
            "tickcolor": "rgb(51,51,51)",
            "ticks": "outside"
           }
          },
          "scene": {
           "xaxis": {
            "backgroundcolor": "rgb(237,237,237)",
            "gridcolor": "white",
            "gridwidth": 2,
            "linecolor": "white",
            "showbackground": true,
            "showgrid": true,
            "tickcolor": "rgb(51,51,51)",
            "ticks": "outside",
            "zerolinecolor": "white"
           },
           "yaxis": {
            "backgroundcolor": "rgb(237,237,237)",
            "gridcolor": "white",
            "gridwidth": 2,
            "linecolor": "white",
            "showbackground": true,
            "showgrid": true,
            "tickcolor": "rgb(51,51,51)",
            "ticks": "outside",
            "zerolinecolor": "white"
           },
           "zaxis": {
            "backgroundcolor": "rgb(237,237,237)",
            "gridcolor": "white",
            "gridwidth": 2,
            "linecolor": "white",
            "showbackground": true,
            "showgrid": true,
            "tickcolor": "rgb(51,51,51)",
            "ticks": "outside",
            "zerolinecolor": "white"
           }
          },
          "shapedefaults": {
           "fillcolor": "black",
           "line": {
            "width": 0
           },
           "opacity": 0.3
          },
          "ternary": {
           "aaxis": {
            "gridcolor": "white",
            "linecolor": "white",
            "showgrid": true,
            "tickcolor": "rgb(51,51,51)",
            "ticks": "outside"
           },
           "baxis": {
            "gridcolor": "white",
            "linecolor": "white",
            "showgrid": true,
            "tickcolor": "rgb(51,51,51)",
            "ticks": "outside"
           },
           "bgcolor": "rgb(237,237,237)",
           "caxis": {
            "gridcolor": "white",
            "linecolor": "white",
            "showgrid": true,
            "tickcolor": "rgb(51,51,51)",
            "ticks": "outside"
           }
          },
          "xaxis": {
           "automargin": true,
           "gridcolor": "white",
           "linecolor": "white",
           "showgrid": true,
           "tickcolor": "rgb(51,51,51)",
           "ticks": "outside",
           "title": {
            "standoff": 15
           },
           "zerolinecolor": "white"
          },
          "yaxis": {
           "automargin": true,
           "gridcolor": "white",
           "linecolor": "white",
           "showgrid": true,
           "tickcolor": "rgb(51,51,51)",
           "ticks": "outside",
           "title": {
            "standoff": 15
           },
           "zerolinecolor": "white"
          }
         }
        },
        "title": {
         "text": "<b>Percentage of missing values<b>"
        },
        "uniformtext": {
         "minsize": 12
        },
        "xaxis": {
         "anchor": "y",
         "domain": [
          0,
          1
         ],
         "title": {
          "text": "Percentage"
         }
        },
        "yaxis": {
         "anchor": "x",
         "domain": [
          0,
          1
         ],
         "title": {
          "text": "Feature"
         }
        }
       }
      },
      "text/html": [
       "<div>                            <div id=\"5e82d29c-b991-44bf-a86e-ff7b288093b9\" class=\"plotly-graph-div\" style=\"height:800px; width:100%;\"></div>            <script type=\"text/javascript\">                require([\"plotly\"], function(Plotly) {                    window.PLOTLYENV=window.PLOTLYENV || {};                                    if (document.getElementById(\"5e82d29c-b991-44bf-a86e-ff7b288093b9\")) {                    Plotly.newPlot(                        \"5e82d29c-b991-44bf-a86e-ff7b288093b9\",                        [{\"alignmentgroup\":\"True\",\"hovertemplate\":\"Percentage=%{text}<br>Feature=%{y}<extra></extra>\",\"legendgroup\":\"\",\"marker\":{\"color\":\"#F8766D\",\"pattern\":{\"shape\":\"\"}},\"name\":\"\",\"offsetgroup\":\"\",\"orientation\":\"h\",\"showlegend\":false,\"text\":[0.01,0.009,0.022,0.432,0.48,0.071,0.071,0.073,0.029,0.012,0.021,0.018,0.031,0.104,0.103,0.384,0.408,0.012,0.025,0.022,0.022],\"textposition\":\"outside\",\"x\":[0.01,0.009,0.022,0.432,0.48,0.071,0.071,0.073,0.029,0.012,0.021,0.018,0.031,0.104,0.103,0.384,0.408,0.012,0.025,0.022,0.022],\"xaxis\":\"x\",\"y\":[\"MinTemp\",\"MaxTemp\",\"Rainfall\",\"Evaporation\",\"Sunshine\",\"WindGustDir\",\"WindGustSpeed\",\"WindDir9am\",\"WindDir3pm\",\"WindSpeed9am\",\"WindSpeed3pm\",\"Humidity9am\",\"Humidity3pm\",\"Pressure9am\",\"Pressure3pm\",\"Cloud9am\",\"Cloud3pm\",\"Temp9am\",\"Temp3pm\",\"RainToday\",\"RainTomorrow\"],\"yaxis\":\"y\",\"type\":\"bar\"}],                        {\"template\":{\"data\":{\"barpolar\":[{\"marker\":{\"line\":{\"color\":\"rgb(237,237,237)\",\"width\":0.5},\"pattern\":{\"fillmode\":\"overlay\",\"size\":10,\"solidity\":0.2}},\"type\":\"barpolar\"}],\"bar\":[{\"error_x\":{\"color\":\"rgb(51,51,51)\"},\"error_y\":{\"color\":\"rgb(51,51,51)\"},\"marker\":{\"line\":{\"color\":\"rgb(237,237,237)\",\"width\":0.5},\"pattern\":{\"fillmode\":\"overlay\",\"size\":10,\"solidity\":0.2}},\"type\":\"bar\"}],\"carpet\":[{\"aaxis\":{\"endlinecolor\":\"rgb(51,51,51)\",\"gridcolor\":\"white\",\"linecolor\":\"white\",\"minorgridcolor\":\"white\",\"startlinecolor\":\"rgb(51,51,51)\"},\"baxis\":{\"endlinecolor\":\"rgb(51,51,51)\",\"gridcolor\":\"white\",\"linecolor\":\"white\",\"minorgridcolor\":\"white\",\"startlinecolor\":\"rgb(51,51,51)\"},\"type\":\"carpet\"}],\"choropleth\":[{\"colorbar\":{\"outlinewidth\":0,\"tickcolor\":\"rgb(237,237,237)\",\"ticklen\":6,\"ticks\":\"inside\"},\"type\":\"choropleth\"}],\"contourcarpet\":[{\"colorbar\":{\"outlinewidth\":0,\"tickcolor\":\"rgb(237,237,237)\",\"ticklen\":6,\"ticks\":\"inside\"},\"type\":\"contourcarpet\"}],\"contour\":[{\"colorbar\":{\"outlinewidth\":0,\"tickcolor\":\"rgb(237,237,237)\",\"ticklen\":6,\"ticks\":\"inside\"},\"colorscale\":[[0,\"rgb(20,44,66)\"],[1,\"rgb(90,179,244)\"]],\"type\":\"contour\"}],\"heatmapgl\":[{\"colorbar\":{\"outlinewidth\":0,\"tickcolor\":\"rgb(237,237,237)\",\"ticklen\":6,\"ticks\":\"inside\"},\"colorscale\":[[0,\"rgb(20,44,66)\"],[1,\"rgb(90,179,244)\"]],\"type\":\"heatmapgl\"}],\"heatmap\":[{\"colorbar\":{\"outlinewidth\":0,\"tickcolor\":\"rgb(237,237,237)\",\"ticklen\":6,\"ticks\":\"inside\"},\"colorscale\":[[0,\"rgb(20,44,66)\"],[1,\"rgb(90,179,244)\"]],\"type\":\"heatmap\"}],\"histogram2dcontour\":[{\"colorbar\":{\"outlinewidth\":0,\"tickcolor\":\"rgb(237,237,237)\",\"ticklen\":6,\"ticks\":\"inside\"},\"colorscale\":[[0,\"rgb(20,44,66)\"],[1,\"rgb(90,179,244)\"]],\"type\":\"histogram2dcontour\"}],\"histogram2d\":[{\"colorbar\":{\"outlinewidth\":0,\"tickcolor\":\"rgb(237,237,237)\",\"ticklen\":6,\"ticks\":\"inside\"},\"colorscale\":[[0,\"rgb(20,44,66)\"],[1,\"rgb(90,179,244)\"]],\"type\":\"histogram2d\"}],\"histogram\":[{\"marker\":{\"pattern\":{\"fillmode\":\"overlay\",\"size\":10,\"solidity\":0.2}},\"type\":\"histogram\"}],\"mesh3d\":[{\"colorbar\":{\"outlinewidth\":0,\"tickcolor\":\"rgb(237,237,237)\",\"ticklen\":6,\"ticks\":\"inside\"},\"type\":\"mesh3d\"}],\"parcoords\":[{\"line\":{\"colorbar\":{\"outlinewidth\":0,\"tickcolor\":\"rgb(237,237,237)\",\"ticklen\":6,\"ticks\":\"inside\"}},\"type\":\"parcoords\"}],\"pie\":[{\"automargin\":true,\"type\":\"pie\"}],\"scatter3d\":[{\"line\":{\"colorbar\":{\"outlinewidth\":0,\"tickcolor\":\"rgb(237,237,237)\",\"ticklen\":6,\"ticks\":\"inside\"}},\"marker\":{\"colorbar\":{\"outlinewidth\":0,\"tickcolor\":\"rgb(237,237,237)\",\"ticklen\":6,\"ticks\":\"inside\"}},\"type\":\"scatter3d\"}],\"scattercarpet\":[{\"marker\":{\"colorbar\":{\"outlinewidth\":0,\"tickcolor\":\"rgb(237,237,237)\",\"ticklen\":6,\"ticks\":\"inside\"}},\"type\":\"scattercarpet\"}],\"scattergeo\":[{\"marker\":{\"colorbar\":{\"outlinewidth\":0,\"tickcolor\":\"rgb(237,237,237)\",\"ticklen\":6,\"ticks\":\"inside\"}},\"type\":\"scattergeo\"}],\"scattergl\":[{\"marker\":{\"colorbar\":{\"outlinewidth\":0,\"tickcolor\":\"rgb(237,237,237)\",\"ticklen\":6,\"ticks\":\"inside\"}},\"type\":\"scattergl\"}],\"scattermapbox\":[{\"marker\":{\"colorbar\":{\"outlinewidth\":0,\"tickcolor\":\"rgb(237,237,237)\",\"ticklen\":6,\"ticks\":\"inside\"}},\"type\":\"scattermapbox\"}],\"scatterpolargl\":[{\"marker\":{\"colorbar\":{\"outlinewidth\":0,\"tickcolor\":\"rgb(237,237,237)\",\"ticklen\":6,\"ticks\":\"inside\"}},\"type\":\"scatterpolargl\"}],\"scatterpolar\":[{\"marker\":{\"colorbar\":{\"outlinewidth\":0,\"tickcolor\":\"rgb(237,237,237)\",\"ticklen\":6,\"ticks\":\"inside\"}},\"type\":\"scatterpolar\"}],\"scatter\":[{\"marker\":{\"colorbar\":{\"outlinewidth\":0,\"tickcolor\":\"rgb(237,237,237)\",\"ticklen\":6,\"ticks\":\"inside\"}},\"type\":\"scatter\"}],\"scatterternary\":[{\"marker\":{\"colorbar\":{\"outlinewidth\":0,\"tickcolor\":\"rgb(237,237,237)\",\"ticklen\":6,\"ticks\":\"inside\"}},\"type\":\"scatterternary\"}],\"surface\":[{\"colorbar\":{\"outlinewidth\":0,\"tickcolor\":\"rgb(237,237,237)\",\"ticklen\":6,\"ticks\":\"inside\"},\"colorscale\":[[0,\"rgb(20,44,66)\"],[1,\"rgb(90,179,244)\"]],\"type\":\"surface\"}],\"table\":[{\"cells\":{\"fill\":{\"color\":\"rgb(237,237,237)\"},\"line\":{\"color\":\"white\"}},\"header\":{\"fill\":{\"color\":\"rgb(217,217,217)\"},\"line\":{\"color\":\"white\"}},\"type\":\"table\"}]},\"layout\":{\"annotationdefaults\":{\"arrowhead\":0,\"arrowwidth\":1},\"autotypenumbers\":\"strict\",\"coloraxis\":{\"colorbar\":{\"outlinewidth\":0,\"tickcolor\":\"rgb(237,237,237)\",\"ticklen\":6,\"ticks\":\"inside\"}},\"colorscale\":{\"sequential\":[[0,\"rgb(20,44,66)\"],[1,\"rgb(90,179,244)\"]],\"sequentialminus\":[[0,\"rgb(20,44,66)\"],[1,\"rgb(90,179,244)\"]]},\"colorway\":[\"#F8766D\",\"#A3A500\",\"#00BF7D\",\"#00B0F6\",\"#E76BF3\"],\"font\":{\"color\":\"rgb(51,51,51)\"},\"geo\":{\"bgcolor\":\"white\",\"lakecolor\":\"white\",\"landcolor\":\"rgb(237,237,237)\",\"showlakes\":true,\"showland\":true,\"subunitcolor\":\"white\"},\"hoverlabel\":{\"align\":\"left\"},\"hovermode\":\"closest\",\"paper_bgcolor\":\"white\",\"plot_bgcolor\":\"rgb(237,237,237)\",\"polar\":{\"angularaxis\":{\"gridcolor\":\"white\",\"linecolor\":\"white\",\"showgrid\":true,\"tickcolor\":\"rgb(51,51,51)\",\"ticks\":\"outside\"},\"bgcolor\":\"rgb(237,237,237)\",\"radialaxis\":{\"gridcolor\":\"white\",\"linecolor\":\"white\",\"showgrid\":true,\"tickcolor\":\"rgb(51,51,51)\",\"ticks\":\"outside\"}},\"scene\":{\"xaxis\":{\"backgroundcolor\":\"rgb(237,237,237)\",\"gridcolor\":\"white\",\"gridwidth\":2,\"linecolor\":\"white\",\"showbackground\":true,\"showgrid\":true,\"tickcolor\":\"rgb(51,51,51)\",\"ticks\":\"outside\",\"zerolinecolor\":\"white\"},\"yaxis\":{\"backgroundcolor\":\"rgb(237,237,237)\",\"gridcolor\":\"white\",\"gridwidth\":2,\"linecolor\":\"white\",\"showbackground\":true,\"showgrid\":true,\"tickcolor\":\"rgb(51,51,51)\",\"ticks\":\"outside\",\"zerolinecolor\":\"white\"},\"zaxis\":{\"backgroundcolor\":\"rgb(237,237,237)\",\"gridcolor\":\"white\",\"gridwidth\":2,\"linecolor\":\"white\",\"showbackground\":true,\"showgrid\":true,\"tickcolor\":\"rgb(51,51,51)\",\"ticks\":\"outside\",\"zerolinecolor\":\"white\"}},\"shapedefaults\":{\"fillcolor\":\"black\",\"line\":{\"width\":0},\"opacity\":0.3},\"ternary\":{\"aaxis\":{\"gridcolor\":\"white\",\"linecolor\":\"white\",\"showgrid\":true,\"tickcolor\":\"rgb(51,51,51)\",\"ticks\":\"outside\"},\"baxis\":{\"gridcolor\":\"white\",\"linecolor\":\"white\",\"showgrid\":true,\"tickcolor\":\"rgb(51,51,51)\",\"ticks\":\"outside\"},\"bgcolor\":\"rgb(237,237,237)\",\"caxis\":{\"gridcolor\":\"white\",\"linecolor\":\"white\",\"showgrid\":true,\"tickcolor\":\"rgb(51,51,51)\",\"ticks\":\"outside\"}},\"xaxis\":{\"automargin\":true,\"gridcolor\":\"white\",\"linecolor\":\"white\",\"showgrid\":true,\"tickcolor\":\"rgb(51,51,51)\",\"ticks\":\"outside\",\"title\":{\"standoff\":15},\"zerolinecolor\":\"white\"},\"yaxis\":{\"automargin\":true,\"gridcolor\":\"white\",\"linecolor\":\"white\",\"showgrid\":true,\"tickcolor\":\"rgb(51,51,51)\",\"ticks\":\"outside\",\"title\":{\"standoff\":15},\"zerolinecolor\":\"white\"}}},\"xaxis\":{\"anchor\":\"y\",\"domain\":[0.0,1.0],\"title\":{\"text\":\"Percentage\"}},\"yaxis\":{\"anchor\":\"x\",\"domain\":[0.0,1.0],\"title\":{\"text\":\"Feature\"}},\"legend\":{\"tracegroupgap\":0},\"title\":{\"text\":\"<b>Percentage of missing values<b>\"},\"barmode\":\"relative\",\"height\":800,\"uniformtext\":{\"minsize\":12},\"font\":{\"size\":16}},                        {\"responsive\": true}                    ).then(function(){\n",
       "                            \n",
       "var gd = document.getElementById('5e82d29c-b991-44bf-a86e-ff7b288093b9');\n",
       "var x = new MutationObserver(function (mutations, observer) {{\n",
       "        var display = window.getComputedStyle(gd).display;\n",
       "        if (!display || display === 'none') {{\n",
       "            console.log([gd, 'removed!']);\n",
       "            Plotly.purge(gd);\n",
       "            observer.disconnect();\n",
       "        }}\n",
       "}});\n",
       "\n",
       "// Listen for the removal of the full notebook cells\n",
       "var notebookContainer = gd.closest('#notebook-container');\n",
       "if (notebookContainer) {{\n",
       "    x.observe(notebookContainer, {childList: true});\n",
       "}}\n",
       "\n",
       "// Listen for the clearing of the current output cell\n",
       "var outputEl = gd.closest('.output');\n",
       "if (outputEl) {{\n",
       "    x.observe(outputEl, {childList: true});\n",
       "}}\n",
       "\n",
       "                        })                };                });            </script>        </div>"
      ]
     },
     "metadata": {},
     "output_type": "display_data"
    }
   ],
   "source": [
    "null = round(data.isnull().sum() / data.shape[0], 3)\n",
    "null = null[null != 0] \\\n",
    "    .reset_index() \\\n",
    "    .rename(columns={'index': 'Feature', 0: 'Percentage'})\n",
    "fig = px.bar(null, x='Percentage', y='Feature', text='Percentage', template='ggplot2',\n",
    "            title='<b>Percentage of missing values<b>', height=800)\n",
    "fig.update_traces(textposition='outside')\n",
    "fig.update_layout(uniformtext_minsize=12, font_size=16)\n",
    "fig.show()"
   ]
  },
  {
   "cell_type": "code",
   "execution_count": 684,
   "id": "d582bf22",
   "metadata": {
    "ExecuteTime": {
     "end_time": "2022-07-01T09:37:47.783059Z",
     "start_time": "2022-07-01T09:37:47.671902Z"
    }
   },
   "outputs": [
    {
     "data": {
      "application/vnd.plotly.v1+json": {
       "config": {
        "plotlyServerURL": "https://plot.ly"
       },
       "data": [
        {
         "alignmentgroup": "True",
         "hovertemplate": "Count=%{text}<br>Feature=%{y}<extra></extra>",
         "legendgroup": "",
         "marker": {
          "color": "#F8766D",
          "pattern": {
           "shape": ""
          }
         },
         "name": "",
         "offsetgroup": "",
         "orientation": "h",
         "showlegend": false,
         "text": [
          3436,
          49,
          389,
          505,
          681,
          358,
          145,
          16,
          67,
          16,
          16,
          43,
          44,
          101,
          101,
          546,
          549,
          10,
          10,
          441,
          502,
          2,
          2
         ],
         "textposition": "outside",
         "type": "bar",
         "x": [
          3436,
          49,
          389,
          505,
          681,
          358,
          145,
          16,
          67,
          16,
          16,
          43,
          44,
          101,
          101,
          546,
          549,
          10,
          10,
          441,
          502,
          2,
          2
         ],
         "xaxis": "x",
         "y": [
          "Date",
          "Location",
          "MinTemp",
          "MaxTemp",
          "Rainfall",
          "Evaporation",
          "Sunshine",
          "WindGustDir",
          "WindGustSpeed",
          "WindDir9am",
          "WindDir3pm",
          "WindSpeed9am",
          "WindSpeed3pm",
          "Humidity9am",
          "Humidity3pm",
          "Pressure9am",
          "Pressure3pm",
          "Cloud9am",
          "Cloud3pm",
          "Temp9am",
          "Temp3pm",
          "RainToday",
          "RainTomorrow"
         ],
         "yaxis": "y"
        }
       ],
       "layout": {
        "barmode": "relative",
        "font": {
         "size": 16
        },
        "height": 800,
        "legend": {
         "tracegroupgap": 0
        },
        "template": {
         "data": {
          "bar": [
           {
            "error_x": {
             "color": "rgb(51,51,51)"
            },
            "error_y": {
             "color": "rgb(51,51,51)"
            },
            "marker": {
             "line": {
              "color": "rgb(237,237,237)",
              "width": 0.5
             },
             "pattern": {
              "fillmode": "overlay",
              "size": 10,
              "solidity": 0.2
             }
            },
            "type": "bar"
           }
          ],
          "barpolar": [
           {
            "marker": {
             "line": {
              "color": "rgb(237,237,237)",
              "width": 0.5
             },
             "pattern": {
              "fillmode": "overlay",
              "size": 10,
              "solidity": 0.2
             }
            },
            "type": "barpolar"
           }
          ],
          "carpet": [
           {
            "aaxis": {
             "endlinecolor": "rgb(51,51,51)",
             "gridcolor": "white",
             "linecolor": "white",
             "minorgridcolor": "white",
             "startlinecolor": "rgb(51,51,51)"
            },
            "baxis": {
             "endlinecolor": "rgb(51,51,51)",
             "gridcolor": "white",
             "linecolor": "white",
             "minorgridcolor": "white",
             "startlinecolor": "rgb(51,51,51)"
            },
            "type": "carpet"
           }
          ],
          "choropleth": [
           {
            "colorbar": {
             "outlinewidth": 0,
             "tickcolor": "rgb(237,237,237)",
             "ticklen": 6,
             "ticks": "inside"
            },
            "type": "choropleth"
           }
          ],
          "contour": [
           {
            "colorbar": {
             "outlinewidth": 0,
             "tickcolor": "rgb(237,237,237)",
             "ticklen": 6,
             "ticks": "inside"
            },
            "colorscale": [
             [
              0,
              "rgb(20,44,66)"
             ],
             [
              1,
              "rgb(90,179,244)"
             ]
            ],
            "type": "contour"
           }
          ],
          "contourcarpet": [
           {
            "colorbar": {
             "outlinewidth": 0,
             "tickcolor": "rgb(237,237,237)",
             "ticklen": 6,
             "ticks": "inside"
            },
            "type": "contourcarpet"
           }
          ],
          "heatmap": [
           {
            "colorbar": {
             "outlinewidth": 0,
             "tickcolor": "rgb(237,237,237)",
             "ticklen": 6,
             "ticks": "inside"
            },
            "colorscale": [
             [
              0,
              "rgb(20,44,66)"
             ],
             [
              1,
              "rgb(90,179,244)"
             ]
            ],
            "type": "heatmap"
           }
          ],
          "heatmapgl": [
           {
            "colorbar": {
             "outlinewidth": 0,
             "tickcolor": "rgb(237,237,237)",
             "ticklen": 6,
             "ticks": "inside"
            },
            "colorscale": [
             [
              0,
              "rgb(20,44,66)"
             ],
             [
              1,
              "rgb(90,179,244)"
             ]
            ],
            "type": "heatmapgl"
           }
          ],
          "histogram": [
           {
            "marker": {
             "pattern": {
              "fillmode": "overlay",
              "size": 10,
              "solidity": 0.2
             }
            },
            "type": "histogram"
           }
          ],
          "histogram2d": [
           {
            "colorbar": {
             "outlinewidth": 0,
             "tickcolor": "rgb(237,237,237)",
             "ticklen": 6,
             "ticks": "inside"
            },
            "colorscale": [
             [
              0,
              "rgb(20,44,66)"
             ],
             [
              1,
              "rgb(90,179,244)"
             ]
            ],
            "type": "histogram2d"
           }
          ],
          "histogram2dcontour": [
           {
            "colorbar": {
             "outlinewidth": 0,
             "tickcolor": "rgb(237,237,237)",
             "ticklen": 6,
             "ticks": "inside"
            },
            "colorscale": [
             [
              0,
              "rgb(20,44,66)"
             ],
             [
              1,
              "rgb(90,179,244)"
             ]
            ],
            "type": "histogram2dcontour"
           }
          ],
          "mesh3d": [
           {
            "colorbar": {
             "outlinewidth": 0,
             "tickcolor": "rgb(237,237,237)",
             "ticklen": 6,
             "ticks": "inside"
            },
            "type": "mesh3d"
           }
          ],
          "parcoords": [
           {
            "line": {
             "colorbar": {
              "outlinewidth": 0,
              "tickcolor": "rgb(237,237,237)",
              "ticklen": 6,
              "ticks": "inside"
             }
            },
            "type": "parcoords"
           }
          ],
          "pie": [
           {
            "automargin": true,
            "type": "pie"
           }
          ],
          "scatter": [
           {
            "marker": {
             "colorbar": {
              "outlinewidth": 0,
              "tickcolor": "rgb(237,237,237)",
              "ticklen": 6,
              "ticks": "inside"
             }
            },
            "type": "scatter"
           }
          ],
          "scatter3d": [
           {
            "line": {
             "colorbar": {
              "outlinewidth": 0,
              "tickcolor": "rgb(237,237,237)",
              "ticklen": 6,
              "ticks": "inside"
             }
            },
            "marker": {
             "colorbar": {
              "outlinewidth": 0,
              "tickcolor": "rgb(237,237,237)",
              "ticklen": 6,
              "ticks": "inside"
             }
            },
            "type": "scatter3d"
           }
          ],
          "scattercarpet": [
           {
            "marker": {
             "colorbar": {
              "outlinewidth": 0,
              "tickcolor": "rgb(237,237,237)",
              "ticklen": 6,
              "ticks": "inside"
             }
            },
            "type": "scattercarpet"
           }
          ],
          "scattergeo": [
           {
            "marker": {
             "colorbar": {
              "outlinewidth": 0,
              "tickcolor": "rgb(237,237,237)",
              "ticklen": 6,
              "ticks": "inside"
             }
            },
            "type": "scattergeo"
           }
          ],
          "scattergl": [
           {
            "marker": {
             "colorbar": {
              "outlinewidth": 0,
              "tickcolor": "rgb(237,237,237)",
              "ticklen": 6,
              "ticks": "inside"
             }
            },
            "type": "scattergl"
           }
          ],
          "scattermapbox": [
           {
            "marker": {
             "colorbar": {
              "outlinewidth": 0,
              "tickcolor": "rgb(237,237,237)",
              "ticklen": 6,
              "ticks": "inside"
             }
            },
            "type": "scattermapbox"
           }
          ],
          "scatterpolar": [
           {
            "marker": {
             "colorbar": {
              "outlinewidth": 0,
              "tickcolor": "rgb(237,237,237)",
              "ticklen": 6,
              "ticks": "inside"
             }
            },
            "type": "scatterpolar"
           }
          ],
          "scatterpolargl": [
           {
            "marker": {
             "colorbar": {
              "outlinewidth": 0,
              "tickcolor": "rgb(237,237,237)",
              "ticklen": 6,
              "ticks": "inside"
             }
            },
            "type": "scatterpolargl"
           }
          ],
          "scatterternary": [
           {
            "marker": {
             "colorbar": {
              "outlinewidth": 0,
              "tickcolor": "rgb(237,237,237)",
              "ticklen": 6,
              "ticks": "inside"
             }
            },
            "type": "scatterternary"
           }
          ],
          "surface": [
           {
            "colorbar": {
             "outlinewidth": 0,
             "tickcolor": "rgb(237,237,237)",
             "ticklen": 6,
             "ticks": "inside"
            },
            "colorscale": [
             [
              0,
              "rgb(20,44,66)"
             ],
             [
              1,
              "rgb(90,179,244)"
             ]
            ],
            "type": "surface"
           }
          ],
          "table": [
           {
            "cells": {
             "fill": {
              "color": "rgb(237,237,237)"
             },
             "line": {
              "color": "white"
             }
            },
            "header": {
             "fill": {
              "color": "rgb(217,217,217)"
             },
             "line": {
              "color": "white"
             }
            },
            "type": "table"
           }
          ]
         },
         "layout": {
          "annotationdefaults": {
           "arrowhead": 0,
           "arrowwidth": 1
          },
          "autotypenumbers": "strict",
          "coloraxis": {
           "colorbar": {
            "outlinewidth": 0,
            "tickcolor": "rgb(237,237,237)",
            "ticklen": 6,
            "ticks": "inside"
           }
          },
          "colorscale": {
           "sequential": [
            [
             0,
             "rgb(20,44,66)"
            ],
            [
             1,
             "rgb(90,179,244)"
            ]
           ],
           "sequentialminus": [
            [
             0,
             "rgb(20,44,66)"
            ],
            [
             1,
             "rgb(90,179,244)"
            ]
           ]
          },
          "colorway": [
           "#F8766D",
           "#A3A500",
           "#00BF7D",
           "#00B0F6",
           "#E76BF3"
          ],
          "font": {
           "color": "rgb(51,51,51)"
          },
          "geo": {
           "bgcolor": "white",
           "lakecolor": "white",
           "landcolor": "rgb(237,237,237)",
           "showlakes": true,
           "showland": true,
           "subunitcolor": "white"
          },
          "hoverlabel": {
           "align": "left"
          },
          "hovermode": "closest",
          "paper_bgcolor": "white",
          "plot_bgcolor": "rgb(237,237,237)",
          "polar": {
           "angularaxis": {
            "gridcolor": "white",
            "linecolor": "white",
            "showgrid": true,
            "tickcolor": "rgb(51,51,51)",
            "ticks": "outside"
           },
           "bgcolor": "rgb(237,237,237)",
           "radialaxis": {
            "gridcolor": "white",
            "linecolor": "white",
            "showgrid": true,
            "tickcolor": "rgb(51,51,51)",
            "ticks": "outside"
           }
          },
          "scene": {
           "xaxis": {
            "backgroundcolor": "rgb(237,237,237)",
            "gridcolor": "white",
            "gridwidth": 2,
            "linecolor": "white",
            "showbackground": true,
            "showgrid": true,
            "tickcolor": "rgb(51,51,51)",
            "ticks": "outside",
            "zerolinecolor": "white"
           },
           "yaxis": {
            "backgroundcolor": "rgb(237,237,237)",
            "gridcolor": "white",
            "gridwidth": 2,
            "linecolor": "white",
            "showbackground": true,
            "showgrid": true,
            "tickcolor": "rgb(51,51,51)",
            "ticks": "outside",
            "zerolinecolor": "white"
           },
           "zaxis": {
            "backgroundcolor": "rgb(237,237,237)",
            "gridcolor": "white",
            "gridwidth": 2,
            "linecolor": "white",
            "showbackground": true,
            "showgrid": true,
            "tickcolor": "rgb(51,51,51)",
            "ticks": "outside",
            "zerolinecolor": "white"
           }
          },
          "shapedefaults": {
           "fillcolor": "black",
           "line": {
            "width": 0
           },
           "opacity": 0.3
          },
          "ternary": {
           "aaxis": {
            "gridcolor": "white",
            "linecolor": "white",
            "showgrid": true,
            "tickcolor": "rgb(51,51,51)",
            "ticks": "outside"
           },
           "baxis": {
            "gridcolor": "white",
            "linecolor": "white",
            "showgrid": true,
            "tickcolor": "rgb(51,51,51)",
            "ticks": "outside"
           },
           "bgcolor": "rgb(237,237,237)",
           "caxis": {
            "gridcolor": "white",
            "linecolor": "white",
            "showgrid": true,
            "tickcolor": "rgb(51,51,51)",
            "ticks": "outside"
           }
          },
          "xaxis": {
           "automargin": true,
           "gridcolor": "white",
           "linecolor": "white",
           "showgrid": true,
           "tickcolor": "rgb(51,51,51)",
           "ticks": "outside",
           "title": {
            "standoff": 15
           },
           "zerolinecolor": "white"
          },
          "yaxis": {
           "automargin": true,
           "gridcolor": "white",
           "linecolor": "white",
           "showgrid": true,
           "tickcolor": "rgb(51,51,51)",
           "ticks": "outside",
           "title": {
            "standoff": 15
           },
           "zerolinecolor": "white"
          }
         }
        },
        "title": {
         "text": "<b>Number of unique values<b>"
        },
        "uniformtext": {
         "minsize": 12
        },
        "xaxis": {
         "anchor": "y",
         "domain": [
          0,
          1
         ],
         "title": {
          "text": "Count"
         }
        },
        "yaxis": {
         "anchor": "x",
         "domain": [
          0,
          1
         ],
         "title": {
          "text": "Feature"
         }
        }
       }
      },
      "text/html": [
       "<div>                            <div id=\"7feca87b-28af-41c6-8b3c-991638645020\" class=\"plotly-graph-div\" style=\"height:800px; width:100%;\"></div>            <script type=\"text/javascript\">                require([\"plotly\"], function(Plotly) {                    window.PLOTLYENV=window.PLOTLYENV || {};                                    if (document.getElementById(\"7feca87b-28af-41c6-8b3c-991638645020\")) {                    Plotly.newPlot(                        \"7feca87b-28af-41c6-8b3c-991638645020\",                        [{\"alignmentgroup\":\"True\",\"hovertemplate\":\"Count=%{text}<br>Feature=%{y}<extra></extra>\",\"legendgroup\":\"\",\"marker\":{\"color\":\"#F8766D\",\"pattern\":{\"shape\":\"\"}},\"name\":\"\",\"offsetgroup\":\"\",\"orientation\":\"h\",\"showlegend\":false,\"text\":[3436.0,49.0,389.0,505.0,681.0,358.0,145.0,16.0,67.0,16.0,16.0,43.0,44.0,101.0,101.0,546.0,549.0,10.0,10.0,441.0,502.0,2.0,2.0],\"textposition\":\"outside\",\"x\":[3436,49,389,505,681,358,145,16,67,16,16,43,44,101,101,546,549,10,10,441,502,2,2],\"xaxis\":\"x\",\"y\":[\"Date\",\"Location\",\"MinTemp\",\"MaxTemp\",\"Rainfall\",\"Evaporation\",\"Sunshine\",\"WindGustDir\",\"WindGustSpeed\",\"WindDir9am\",\"WindDir3pm\",\"WindSpeed9am\",\"WindSpeed3pm\",\"Humidity9am\",\"Humidity3pm\",\"Pressure9am\",\"Pressure3pm\",\"Cloud9am\",\"Cloud3pm\",\"Temp9am\",\"Temp3pm\",\"RainToday\",\"RainTomorrow\"],\"yaxis\":\"y\",\"type\":\"bar\"}],                        {\"template\":{\"data\":{\"barpolar\":[{\"marker\":{\"line\":{\"color\":\"rgb(237,237,237)\",\"width\":0.5},\"pattern\":{\"fillmode\":\"overlay\",\"size\":10,\"solidity\":0.2}},\"type\":\"barpolar\"}],\"bar\":[{\"error_x\":{\"color\":\"rgb(51,51,51)\"},\"error_y\":{\"color\":\"rgb(51,51,51)\"},\"marker\":{\"line\":{\"color\":\"rgb(237,237,237)\",\"width\":0.5},\"pattern\":{\"fillmode\":\"overlay\",\"size\":10,\"solidity\":0.2}},\"type\":\"bar\"}],\"carpet\":[{\"aaxis\":{\"endlinecolor\":\"rgb(51,51,51)\",\"gridcolor\":\"white\",\"linecolor\":\"white\",\"minorgridcolor\":\"white\",\"startlinecolor\":\"rgb(51,51,51)\"},\"baxis\":{\"endlinecolor\":\"rgb(51,51,51)\",\"gridcolor\":\"white\",\"linecolor\":\"white\",\"minorgridcolor\":\"white\",\"startlinecolor\":\"rgb(51,51,51)\"},\"type\":\"carpet\"}],\"choropleth\":[{\"colorbar\":{\"outlinewidth\":0,\"tickcolor\":\"rgb(237,237,237)\",\"ticklen\":6,\"ticks\":\"inside\"},\"type\":\"choropleth\"}],\"contourcarpet\":[{\"colorbar\":{\"outlinewidth\":0,\"tickcolor\":\"rgb(237,237,237)\",\"ticklen\":6,\"ticks\":\"inside\"},\"type\":\"contourcarpet\"}],\"contour\":[{\"colorbar\":{\"outlinewidth\":0,\"tickcolor\":\"rgb(237,237,237)\",\"ticklen\":6,\"ticks\":\"inside\"},\"colorscale\":[[0,\"rgb(20,44,66)\"],[1,\"rgb(90,179,244)\"]],\"type\":\"contour\"}],\"heatmapgl\":[{\"colorbar\":{\"outlinewidth\":0,\"tickcolor\":\"rgb(237,237,237)\",\"ticklen\":6,\"ticks\":\"inside\"},\"colorscale\":[[0,\"rgb(20,44,66)\"],[1,\"rgb(90,179,244)\"]],\"type\":\"heatmapgl\"}],\"heatmap\":[{\"colorbar\":{\"outlinewidth\":0,\"tickcolor\":\"rgb(237,237,237)\",\"ticklen\":6,\"ticks\":\"inside\"},\"colorscale\":[[0,\"rgb(20,44,66)\"],[1,\"rgb(90,179,244)\"]],\"type\":\"heatmap\"}],\"histogram2dcontour\":[{\"colorbar\":{\"outlinewidth\":0,\"tickcolor\":\"rgb(237,237,237)\",\"ticklen\":6,\"ticks\":\"inside\"},\"colorscale\":[[0,\"rgb(20,44,66)\"],[1,\"rgb(90,179,244)\"]],\"type\":\"histogram2dcontour\"}],\"histogram2d\":[{\"colorbar\":{\"outlinewidth\":0,\"tickcolor\":\"rgb(237,237,237)\",\"ticklen\":6,\"ticks\":\"inside\"},\"colorscale\":[[0,\"rgb(20,44,66)\"],[1,\"rgb(90,179,244)\"]],\"type\":\"histogram2d\"}],\"histogram\":[{\"marker\":{\"pattern\":{\"fillmode\":\"overlay\",\"size\":10,\"solidity\":0.2}},\"type\":\"histogram\"}],\"mesh3d\":[{\"colorbar\":{\"outlinewidth\":0,\"tickcolor\":\"rgb(237,237,237)\",\"ticklen\":6,\"ticks\":\"inside\"},\"type\":\"mesh3d\"}],\"parcoords\":[{\"line\":{\"colorbar\":{\"outlinewidth\":0,\"tickcolor\":\"rgb(237,237,237)\",\"ticklen\":6,\"ticks\":\"inside\"}},\"type\":\"parcoords\"}],\"pie\":[{\"automargin\":true,\"type\":\"pie\"}],\"scatter3d\":[{\"line\":{\"colorbar\":{\"outlinewidth\":0,\"tickcolor\":\"rgb(237,237,237)\",\"ticklen\":6,\"ticks\":\"inside\"}},\"marker\":{\"colorbar\":{\"outlinewidth\":0,\"tickcolor\":\"rgb(237,237,237)\",\"ticklen\":6,\"ticks\":\"inside\"}},\"type\":\"scatter3d\"}],\"scattercarpet\":[{\"marker\":{\"colorbar\":{\"outlinewidth\":0,\"tickcolor\":\"rgb(237,237,237)\",\"ticklen\":6,\"ticks\":\"inside\"}},\"type\":\"scattercarpet\"}],\"scattergeo\":[{\"marker\":{\"colorbar\":{\"outlinewidth\":0,\"tickcolor\":\"rgb(237,237,237)\",\"ticklen\":6,\"ticks\":\"inside\"}},\"type\":\"scattergeo\"}],\"scattergl\":[{\"marker\":{\"colorbar\":{\"outlinewidth\":0,\"tickcolor\":\"rgb(237,237,237)\",\"ticklen\":6,\"ticks\":\"inside\"}},\"type\":\"scattergl\"}],\"scattermapbox\":[{\"marker\":{\"colorbar\":{\"outlinewidth\":0,\"tickcolor\":\"rgb(237,237,237)\",\"ticklen\":6,\"ticks\":\"inside\"}},\"type\":\"scattermapbox\"}],\"scatterpolargl\":[{\"marker\":{\"colorbar\":{\"outlinewidth\":0,\"tickcolor\":\"rgb(237,237,237)\",\"ticklen\":6,\"ticks\":\"inside\"}},\"type\":\"scatterpolargl\"}],\"scatterpolar\":[{\"marker\":{\"colorbar\":{\"outlinewidth\":0,\"tickcolor\":\"rgb(237,237,237)\",\"ticklen\":6,\"ticks\":\"inside\"}},\"type\":\"scatterpolar\"}],\"scatter\":[{\"marker\":{\"colorbar\":{\"outlinewidth\":0,\"tickcolor\":\"rgb(237,237,237)\",\"ticklen\":6,\"ticks\":\"inside\"}},\"type\":\"scatter\"}],\"scatterternary\":[{\"marker\":{\"colorbar\":{\"outlinewidth\":0,\"tickcolor\":\"rgb(237,237,237)\",\"ticklen\":6,\"ticks\":\"inside\"}},\"type\":\"scatterternary\"}],\"surface\":[{\"colorbar\":{\"outlinewidth\":0,\"tickcolor\":\"rgb(237,237,237)\",\"ticklen\":6,\"ticks\":\"inside\"},\"colorscale\":[[0,\"rgb(20,44,66)\"],[1,\"rgb(90,179,244)\"]],\"type\":\"surface\"}],\"table\":[{\"cells\":{\"fill\":{\"color\":\"rgb(237,237,237)\"},\"line\":{\"color\":\"white\"}},\"header\":{\"fill\":{\"color\":\"rgb(217,217,217)\"},\"line\":{\"color\":\"white\"}},\"type\":\"table\"}]},\"layout\":{\"annotationdefaults\":{\"arrowhead\":0,\"arrowwidth\":1},\"autotypenumbers\":\"strict\",\"coloraxis\":{\"colorbar\":{\"outlinewidth\":0,\"tickcolor\":\"rgb(237,237,237)\",\"ticklen\":6,\"ticks\":\"inside\"}},\"colorscale\":{\"sequential\":[[0,\"rgb(20,44,66)\"],[1,\"rgb(90,179,244)\"]],\"sequentialminus\":[[0,\"rgb(20,44,66)\"],[1,\"rgb(90,179,244)\"]]},\"colorway\":[\"#F8766D\",\"#A3A500\",\"#00BF7D\",\"#00B0F6\",\"#E76BF3\"],\"font\":{\"color\":\"rgb(51,51,51)\"},\"geo\":{\"bgcolor\":\"white\",\"lakecolor\":\"white\",\"landcolor\":\"rgb(237,237,237)\",\"showlakes\":true,\"showland\":true,\"subunitcolor\":\"white\"},\"hoverlabel\":{\"align\":\"left\"},\"hovermode\":\"closest\",\"paper_bgcolor\":\"white\",\"plot_bgcolor\":\"rgb(237,237,237)\",\"polar\":{\"angularaxis\":{\"gridcolor\":\"white\",\"linecolor\":\"white\",\"showgrid\":true,\"tickcolor\":\"rgb(51,51,51)\",\"ticks\":\"outside\"},\"bgcolor\":\"rgb(237,237,237)\",\"radialaxis\":{\"gridcolor\":\"white\",\"linecolor\":\"white\",\"showgrid\":true,\"tickcolor\":\"rgb(51,51,51)\",\"ticks\":\"outside\"}},\"scene\":{\"xaxis\":{\"backgroundcolor\":\"rgb(237,237,237)\",\"gridcolor\":\"white\",\"gridwidth\":2,\"linecolor\":\"white\",\"showbackground\":true,\"showgrid\":true,\"tickcolor\":\"rgb(51,51,51)\",\"ticks\":\"outside\",\"zerolinecolor\":\"white\"},\"yaxis\":{\"backgroundcolor\":\"rgb(237,237,237)\",\"gridcolor\":\"white\",\"gridwidth\":2,\"linecolor\":\"white\",\"showbackground\":true,\"showgrid\":true,\"tickcolor\":\"rgb(51,51,51)\",\"ticks\":\"outside\",\"zerolinecolor\":\"white\"},\"zaxis\":{\"backgroundcolor\":\"rgb(237,237,237)\",\"gridcolor\":\"white\",\"gridwidth\":2,\"linecolor\":\"white\",\"showbackground\":true,\"showgrid\":true,\"tickcolor\":\"rgb(51,51,51)\",\"ticks\":\"outside\",\"zerolinecolor\":\"white\"}},\"shapedefaults\":{\"fillcolor\":\"black\",\"line\":{\"width\":0},\"opacity\":0.3},\"ternary\":{\"aaxis\":{\"gridcolor\":\"white\",\"linecolor\":\"white\",\"showgrid\":true,\"tickcolor\":\"rgb(51,51,51)\",\"ticks\":\"outside\"},\"baxis\":{\"gridcolor\":\"white\",\"linecolor\":\"white\",\"showgrid\":true,\"tickcolor\":\"rgb(51,51,51)\",\"ticks\":\"outside\"},\"bgcolor\":\"rgb(237,237,237)\",\"caxis\":{\"gridcolor\":\"white\",\"linecolor\":\"white\",\"showgrid\":true,\"tickcolor\":\"rgb(51,51,51)\",\"ticks\":\"outside\"}},\"xaxis\":{\"automargin\":true,\"gridcolor\":\"white\",\"linecolor\":\"white\",\"showgrid\":true,\"tickcolor\":\"rgb(51,51,51)\",\"ticks\":\"outside\",\"title\":{\"standoff\":15},\"zerolinecolor\":\"white\"},\"yaxis\":{\"automargin\":true,\"gridcolor\":\"white\",\"linecolor\":\"white\",\"showgrid\":true,\"tickcolor\":\"rgb(51,51,51)\",\"ticks\":\"outside\",\"title\":{\"standoff\":15},\"zerolinecolor\":\"white\"}}},\"xaxis\":{\"anchor\":\"y\",\"domain\":[0.0,1.0],\"title\":{\"text\":\"Count\"}},\"yaxis\":{\"anchor\":\"x\",\"domain\":[0.0,1.0],\"title\":{\"text\":\"Feature\"}},\"legend\":{\"tracegroupgap\":0},\"title\":{\"text\":\"<b>Number of unique values<b>\"},\"barmode\":\"relative\",\"height\":800,\"uniformtext\":{\"minsize\":12},\"font\":{\"size\":16}},                        {\"responsive\": true}                    ).then(function(){\n",
       "                            \n",
       "var gd = document.getElementById('7feca87b-28af-41c6-8b3c-991638645020');\n",
       "var x = new MutationObserver(function (mutations, observer) {{\n",
       "        var display = window.getComputedStyle(gd).display;\n",
       "        if (!display || display === 'none') {{\n",
       "            console.log([gd, 'removed!']);\n",
       "            Plotly.purge(gd);\n",
       "            observer.disconnect();\n",
       "        }}\n",
       "}});\n",
       "\n",
       "// Listen for the removal of the full notebook cells\n",
       "var notebookContainer = gd.closest('#notebook-container');\n",
       "if (notebookContainer) {{\n",
       "    x.observe(notebookContainer, {childList: true});\n",
       "}}\n",
       "\n",
       "// Listen for the clearing of the current output cell\n",
       "var outputEl = gd.closest('.output');\n",
       "if (outputEl) {{\n",
       "    x.observe(outputEl, {childList: true});\n",
       "}}\n",
       "\n",
       "                        })                };                });            </script>        </div>"
      ]
     },
     "metadata": {},
     "output_type": "display_data"
    }
   ],
   "source": [
    "unique_number = data.nunique() \\\n",
    "                .reset_index() \\\n",
    "                .rename(columns={'index': 'Feature', 0: 'Count'})\n",
    "fig = px.bar(unique_number, x='Count', y='Feature', text='Count', template='ggplot2',\n",
    "            title='<b>Number of unique values<b>', height=800)\n",
    "fig.update_traces(textposition='outside')\n",
    "fig.update_layout(uniformtext_minsize=12, font_size=16)\n",
    "fig.show()"
   ]
  },
  {
   "cell_type": "code",
   "execution_count": 685,
   "id": "80824f25",
   "metadata": {
    "ExecuteTime": {
     "end_time": "2022-07-01T09:37:47.798331Z",
     "start_time": "2022-07-01T09:37:47.784595Z"
    }
   },
   "outputs": [
    {
     "data": {
      "text/plain": [
       "No     110316\n",
       "Yes     31877\n",
       "Name: RainTomorrow, dtype: int64"
      ]
     },
     "execution_count": 685,
     "metadata": {},
     "output_type": "execute_result"
    }
   ],
   "source": [
    "data.RainTomorrow.value_counts()"
   ]
  },
  {
   "cell_type": "markdown",
   "id": "0f13b2f1",
   "metadata": {},
   "source": [
    "<a id=\"id2\"></a>\n",
    "## 2. Data preprocessing"
   ]
  },
  {
   "cell_type": "code",
   "execution_count": 686,
   "id": "162a64e5",
   "metadata": {
    "ExecuteTime": {
     "end_time": "2022-07-01T09:37:47.900281Z",
     "start_time": "2022-07-01T09:37:47.803287Z"
    }
   },
   "outputs": [],
   "source": [
    "data.columns = data.columns.str.lower()"
   ]
  },
  {
   "cell_type": "code",
   "execution_count": 687,
   "id": "ea1a9a9d",
   "metadata": {
    "ExecuteTime": {
     "end_time": "2022-07-01T09:37:48.014027Z",
     "start_time": "2022-07-01T09:37:47.901631Z"
    }
   },
   "outputs": [],
   "source": [
    "data.date = pd.to_datetime(data.date)"
   ]
  },
  {
   "cell_type": "markdown",
   "id": "dad8e4f3",
   "metadata": {},
   "source": [
    "### 2.1. Processing of missing values"
   ]
  },
  {
   "cell_type": "markdown",
   "id": "565c4884",
   "metadata": {},
   "source": [
    "For data preprocessing, it is useful to know about the linear relationships of features."
   ]
  },
  {
   "cell_type": "code",
   "execution_count": 688,
   "id": "a078e373",
   "metadata": {
    "ExecuteTime": {
     "end_time": "2022-07-01T09:37:48.374692Z",
     "start_time": "2022-07-01T09:37:48.015314Z"
    }
   },
   "outputs": [
    {
     "data": {
      "application/vnd.plotly.v1+json": {
       "config": {
        "plotlyServerURL": "https://plot.ly"
       },
       "data": [
        {
         "colorscale": [
          [
           0,
           "#0d0887"
          ],
          [
           0.1111111111111111,
           "#46039f"
          ],
          [
           0.2222222222222222,
           "#7201a8"
          ],
          [
           0.3333333333333333,
           "#9c179e"
          ],
          [
           0.4444444444444444,
           "#bd3786"
          ],
          [
           0.5555555555555556,
           "#d8576b"
          ],
          [
           0.6666666666666666,
           "#ed7953"
          ],
          [
           0.7777777777777778,
           "#fb9f3a"
          ],
          [
           0.8888888888888888,
           "#fdca26"
          ],
          [
           1,
           "#f0f921"
          ]
         ],
         "reversescale": false,
         "showscale": true,
         "type": "heatmap",
         "x": [
          "mintemp",
          "maxtemp",
          "rainfall",
          "evaporation",
          "sunshine",
          "windgustspeed",
          "windspeed9am",
          "windspeed3pm",
          "humidity9am",
          "humidity3pm",
          "pressure9am",
          "pressure3pm",
          "cloud9am",
          "cloud3pm",
          "temp9am",
          "temp3pm",
          "raintoday",
          "raintomorrow"
         ],
         "y": [
          "mintemp",
          "maxtemp",
          "rainfall",
          "evaporation",
          "sunshine",
          "windgustspeed",
          "windspeed9am",
          "windspeed3pm",
          "humidity9am",
          "humidity3pm",
          "pressure9am",
          "pressure3pm",
          "cloud9am",
          "cloud3pm",
          "temp9am",
          "temp3pm",
          "raintoday",
          "raintomorrow"
         ],
         "z": [
          [
           1,
           0.736554879947358,
           0.10393795340859532,
           0.4669925569214256,
           0.07258586808397571,
           0.1774145260976753,
           0.17506364073869057,
           0.17517263108767825,
           -0.23289924559073164,
           0.006088664224423575,
           -0.4509699734544065,
           -0.46129172586164047,
           0.0787538283427066,
           0.021604685038888648,
           0.9018205621778996,
           0.7089055392798455,
           0.05583627714953934,
           0.08393581350156308
          ],
          [
           0.736554879947358,
           1,
           -0.07499209497993575,
           0.5879322271019112,
           0.4701557064131683,
           0.06761477569098283,
           0.01444964588964599,
           0.050300397194580494,
           -0.5041098050273038,
           -0.5088554199984232,
           -0.33206130275331036,
           -0.4271668835749745,
           -0.2893701949239778,
           -0.27792100295511346,
           0.8872096927504229,
           0.9845028310904481,
           -0.22919201710479753,
           -0.15923666414933418
          ],
          [
           0.10393795340859532,
           -0.07499209497993575,
           1,
           -0.06435117292604013,
           -0.22754857553745375,
           0.13365939753988504,
           0.08733769468151066,
           0.05788711972355656,
           0.22440497587716363,
           0.2557546575244556,
           -0.16815364149847833,
           -0.1265338436909568,
           0.19852828605297007,
           0.17240289926478258,
           0.011191601489034678,
           -0.0796570726164772,
           0.5015157607624547,
           0.23903180145061992
          ],
          [
           0.4669925569214256,
           0.5879322271019112,
           -0.06435117292604013,
           1,
           0.36560215022270703,
           0.20302143800515285,
           0.19308448307770443,
           0.12940001633420806,
           -0.5040922527968444,
           -0.39024259071039363,
           -0.2703621404798875,
           -0.2935805340204502,
           -0.18379325900830737,
           -0.18261841213978056,
           0.5451152126470746,
           0.5728932109454876,
           -0.1869448712690504,
           -0.11928469674513818
          ],
          [
           0.07258586808397571,
           0.4701557064131683,
           -0.22754857553745375,
           0.36560215022270703,
           1,
           -0.03475045685199232,
           0.005498574825312206,
           0.053834024723800285,
           -0.49081885139829456,
           -0.6291303599834128,
           0.041969831552005885,
           -0.019719031024735247,
           -0.6753233097055099,
           -0.7039296337088615,
           0.29118794175836554,
           0.4905006212075918,
           -0.3305219883340796,
           -0.45076806310612133
          ],
          [
           0.1774145260976753,
           0.06761477569098283,
           0.13365939753988504,
           0.20302143800515285,
           -0.03475045685199232,
           1,
           0.6053032893809175,
           0.686306743470663,
           -0.21506968756795294,
           -0.026327121063789812,
           -0.45874421802344273,
           -0.41374904863463996,
           0.0717355819801594,
           0.1091675240686803,
           0.15015009761950066,
           0.03274777925600875,
           0.15576076092638677,
           0.2340097255174442
          ],
          [
           0.17506364073869057,
           0.01444964588964599,
           0.08733769468151066,
           0.19308448307770443,
           0.005498574825312206,
           0.6053032893809175,
           1,
           0.519546834492561,
           -0.2708583880345406,
           -0.0316138259484374,
           -0.22874305315934174,
           -0.17581712628835547,
           0.02511225384648038,
           0.054638619717694493,
           0.12854466322246128,
           0.004568833457939502,
           0.10305709619777459,
           0.09099465016310507
          ],
          [
           0.17517263108767825,
           0.050300397194580494,
           0.05788711972355656,
           0.12940001633420806,
           0.053834024723800285,
           0.686306743470663,
           0.519546834492561,
           1,
           -0.145525126140691,
           0.016432471350722434,
           -0.2963511676629694,
           -0.25543861805056034,
           0.05333665419063742,
           0.025395671222374603,
           0.16302996588669325,
           0.027777592344805757,
           0.0805913301004546,
           0.08781739865081425
          ],
          [
           -0.23289924559073164,
           -0.5041098050273038,
           0.22440497587716363,
           -0.5040922527968444,
           -0.49081885139829456,
           -0.21506968756795294,
           -0.2708583880345406,
           -0.145525126140691,
           1,
           0.6669485686855433,
           0.13944214914517747,
           0.18685839923670616,
           0.45229699069983464,
           0.3573261614347828,
           -0.47135393998323405,
           -0.49839946252911915,
           0.35370817607393973,
           0.2571611603438004
          ],
          [
           0.006088664224423575,
           -0.5088554199984232,
           0.2557546575244556,
           -0.39024259071039363,
           -0.6291303599834128,
           -0.026327121063789812,
           -0.0316138259484374,
           0.016432471350722434,
           0.6669485686855433,
           1,
           -0.02754442712799566,
           0.05199662593498018,
           0.517119947699489,
           0.5231199766631821,
           -0.22101938347112143,
           -0.5578410027715796,
           0.37902002883171093,
           0.4461603787913129
          ],
          [
           -0.4509699734544065,
           -0.33206130275331036,
           -0.16815364149847833,
           -0.2703621404798875,
           0.041969831552005885,
           -0.45874421802344273,
           -0.22874305315934174,
           -0.2963511676629694,
           0.13944214914517747,
           -0.02754442712799566,
           1,
           0.961325721117448,
           -0.12979647803334157,
           -0.1478608219698691,
           -0.4225556605462815,
           -0.2867700414222888,
           -0.1897810025428808,
           -0.24637114625949152
          ],
          [
           -0.46129172586164047,
           -0.4271668835749745,
           -0.1265338436909568,
           -0.2935805340204502,
           -0.019719031024735247,
           -0.41374904863463996,
           -0.17581712628835547,
           -0.25543861805056034,
           0.18685839923670616,
           0.05199662593498018,
           0.961325721117448,
           1,
           -0.06077150995691364,
           -0.08477834323465137,
           -0.4701868443814808,
           -0.38954834973721725,
           -0.10612988528356615,
           -0.22603114552542683
          ],
          [
           0.0787538283427066,
           -0.2893701949239778,
           0.19852828605297007,
           -0.18379325900830737,
           -0.6753233097055099,
           0.0717355819801594,
           0.02511225384648038,
           0.05333665419063742,
           0.45229699069983464,
           0.517119947699489,
           -0.12979647803334157,
           -0.06077150995691364,
           1,
           0.6035637678576092,
           -0.13695868734311356,
           -0.3020600252203267,
           0.306201284355178,
           0.3173798297063481
          ],
          [
           0.021604685038888648,
           -0.27792100295511346,
           0.17240289926478258,
           -0.18261841213978056,
           -0.7039296337088615,
           0.1091675240686803,
           0.054638619717694493,
           0.025395671222374603,
           0.3573261614347828,
           0.5231199766631821,
           -0.1478608219698691,
           -0.08477834323465137,
           0.6035637678576092,
           1,
           -0.12665882260768616,
           -0.31741962047769096,
           0.2722249558653982,
           0.3818704110470075
          ],
          [
           0.9018205621778996,
           0.8872096927504229,
           0.011191601489034678,
           0.5451152126470746,
           0.29118794175836554,
           0.15015009761950066,
           0.12854466322246128,
           0.16302996588669325,
           -0.47135393998323405,
           -0.22101938347112143,
           -0.4225556605462815,
           -0.4701868443814808,
           -0.13695868734311356,
           -0.12665882260768616,
           1,
           0.86059123734335,
           -0.09686468757182057,
           -0.025690822604581644
          ],
          [
           0.7089055392798455,
           0.9845028310904481,
           -0.0796570726164772,
           0.5728932109454876,
           0.4905006212075918,
           0.03274777925600875,
           0.004568833457939502,
           0.027777592344805757,
           -0.49839946252911915,
           -0.5578410027715796,
           -0.2867700414222888,
           -0.38954834973721725,
           -0.3020600252203267,
           -0.31741962047769096,
           0.86059123734335,
           1,
           -0.23534031052896895,
           -0.19242408670116043
          ],
          [
           0.05583627714953934,
           -0.22919201710479753,
           0.5015157607624547,
           -0.1869448712690504,
           -0.3305219883340796,
           0.15576076092638677,
           0.10305709619777459,
           0.0805913301004546,
           0.35370817607393973,
           0.37902002883171093,
           -0.1897810025428808,
           -0.10612988528356615,
           0.306201284355178,
           0.2722249558653982,
           -0.09686468757182057,
           -0.23534031052896895,
           1,
           0.31309674550896077
          ],
          [
           0.08393581350156308,
           -0.15923666414933418,
           0.23903180145061992,
           -0.11928469674513818,
           -0.45076806310612133,
           0.2340097255174442,
           0.09099465016310507,
           0.08781739865081425,
           0.2571611603438004,
           0.4461603787913129,
           -0.24637114625949152,
           -0.22603114552542683,
           0.3173798297063481,
           0.3818704110470075,
           -0.025690822604581644,
           -0.19242408670116043,
           0.31309674550896077,
           1
          ]
         ]
        }
       ],
       "layout": {
        "annotations": [
         {
          "font": {
           "color": "#000000"
          },
          "showarrow": false,
          "text": "1.0",
          "x": "mintemp",
          "xref": "x",
          "y": "mintemp",
          "yref": "y"
         },
         {
          "font": {
           "color": "#000000"
          },
          "showarrow": false,
          "text": "0.74",
          "x": "maxtemp",
          "xref": "x",
          "y": "mintemp",
          "yref": "y"
         },
         {
          "font": {
           "color": "#FFFFFF"
          },
          "showarrow": false,
          "text": "0.1",
          "x": "rainfall",
          "xref": "x",
          "y": "mintemp",
          "yref": "y"
         },
         {
          "font": {
           "color": "#000000"
          },
          "showarrow": false,
          "text": "0.47",
          "x": "evaporation",
          "xref": "x",
          "y": "mintemp",
          "yref": "y"
         },
         {
          "font": {
           "color": "#FFFFFF"
          },
          "showarrow": false,
          "text": "0.07",
          "x": "sunshine",
          "xref": "x",
          "y": "mintemp",
          "yref": "y"
         },
         {
          "font": {
           "color": "#000000"
          },
          "showarrow": false,
          "text": "0.18",
          "x": "windgustspeed",
          "xref": "x",
          "y": "mintemp",
          "yref": "y"
         },
         {
          "font": {
           "color": "#000000"
          },
          "showarrow": false,
          "text": "0.18",
          "x": "windspeed9am",
          "xref": "x",
          "y": "mintemp",
          "yref": "y"
         },
         {
          "font": {
           "color": "#000000"
          },
          "showarrow": false,
          "text": "0.18",
          "x": "windspeed3pm",
          "xref": "x",
          "y": "mintemp",
          "yref": "y"
         },
         {
          "font": {
           "color": "#FFFFFF"
          },
          "showarrow": false,
          "text": "-0.23",
          "x": "humidity9am",
          "xref": "x",
          "y": "mintemp",
          "yref": "y"
         },
         {
          "font": {
           "color": "#FFFFFF"
          },
          "showarrow": false,
          "text": "0.01",
          "x": "humidity3pm",
          "xref": "x",
          "y": "mintemp",
          "yref": "y"
         },
         {
          "font": {
           "color": "#FFFFFF"
          },
          "showarrow": false,
          "text": "-0.45",
          "x": "pressure9am",
          "xref": "x",
          "y": "mintemp",
          "yref": "y"
         },
         {
          "font": {
           "color": "#FFFFFF"
          },
          "showarrow": false,
          "text": "-0.46",
          "x": "pressure3pm",
          "xref": "x",
          "y": "mintemp",
          "yref": "y"
         },
         {
          "font": {
           "color": "#FFFFFF"
          },
          "showarrow": false,
          "text": "0.08",
          "x": "cloud9am",
          "xref": "x",
          "y": "mintemp",
          "yref": "y"
         },
         {
          "font": {
           "color": "#FFFFFF"
          },
          "showarrow": false,
          "text": "0.02",
          "x": "cloud3pm",
          "xref": "x",
          "y": "mintemp",
          "yref": "y"
         },
         {
          "font": {
           "color": "#000000"
          },
          "showarrow": false,
          "text": "0.9",
          "x": "temp9am",
          "xref": "x",
          "y": "mintemp",
          "yref": "y"
         },
         {
          "font": {
           "color": "#000000"
          },
          "showarrow": false,
          "text": "0.71",
          "x": "temp3pm",
          "xref": "x",
          "y": "mintemp",
          "yref": "y"
         },
         {
          "font": {
           "color": "#FFFFFF"
          },
          "showarrow": false,
          "text": "0.06",
          "x": "raintoday",
          "xref": "x",
          "y": "mintemp",
          "yref": "y"
         },
         {
          "font": {
           "color": "#FFFFFF"
          },
          "showarrow": false,
          "text": "0.08",
          "x": "raintomorrow",
          "xref": "x",
          "y": "mintemp",
          "yref": "y"
         },
         {
          "font": {
           "color": "#000000"
          },
          "showarrow": false,
          "text": "0.74",
          "x": "mintemp",
          "xref": "x",
          "y": "maxtemp",
          "yref": "y"
         },
         {
          "font": {
           "color": "#000000"
          },
          "showarrow": false,
          "text": "1.0",
          "x": "maxtemp",
          "xref": "x",
          "y": "maxtemp",
          "yref": "y"
         },
         {
          "font": {
           "color": "#FFFFFF"
          },
          "showarrow": false,
          "text": "-0.07",
          "x": "rainfall",
          "xref": "x",
          "y": "maxtemp",
          "yref": "y"
         },
         {
          "font": {
           "color": "#000000"
          },
          "showarrow": false,
          "text": "0.59",
          "x": "evaporation",
          "xref": "x",
          "y": "maxtemp",
          "yref": "y"
         },
         {
          "font": {
           "color": "#000000"
          },
          "showarrow": false,
          "text": "0.47",
          "x": "sunshine",
          "xref": "x",
          "y": "maxtemp",
          "yref": "y"
         },
         {
          "font": {
           "color": "#FFFFFF"
          },
          "showarrow": false,
          "text": "0.07",
          "x": "windgustspeed",
          "xref": "x",
          "y": "maxtemp",
          "yref": "y"
         },
         {
          "font": {
           "color": "#FFFFFF"
          },
          "showarrow": false,
          "text": "0.01",
          "x": "windspeed9am",
          "xref": "x",
          "y": "maxtemp",
          "yref": "y"
         },
         {
          "font": {
           "color": "#FFFFFF"
          },
          "showarrow": false,
          "text": "0.05",
          "x": "windspeed3pm",
          "xref": "x",
          "y": "maxtemp",
          "yref": "y"
         },
         {
          "font": {
           "color": "#FFFFFF"
          },
          "showarrow": false,
          "text": "-0.5",
          "x": "humidity9am",
          "xref": "x",
          "y": "maxtemp",
          "yref": "y"
         },
         {
          "font": {
           "color": "#FFFFFF"
          },
          "showarrow": false,
          "text": "-0.51",
          "x": "humidity3pm",
          "xref": "x",
          "y": "maxtemp",
          "yref": "y"
         },
         {
          "font": {
           "color": "#FFFFFF"
          },
          "showarrow": false,
          "text": "-0.33",
          "x": "pressure9am",
          "xref": "x",
          "y": "maxtemp",
          "yref": "y"
         },
         {
          "font": {
           "color": "#FFFFFF"
          },
          "showarrow": false,
          "text": "-0.43",
          "x": "pressure3pm",
          "xref": "x",
          "y": "maxtemp",
          "yref": "y"
         },
         {
          "font": {
           "color": "#FFFFFF"
          },
          "showarrow": false,
          "text": "-0.29",
          "x": "cloud9am",
          "xref": "x",
          "y": "maxtemp",
          "yref": "y"
         },
         {
          "font": {
           "color": "#FFFFFF"
          },
          "showarrow": false,
          "text": "-0.28",
          "x": "cloud3pm",
          "xref": "x",
          "y": "maxtemp",
          "yref": "y"
         },
         {
          "font": {
           "color": "#000000"
          },
          "showarrow": false,
          "text": "0.89",
          "x": "temp9am",
          "xref": "x",
          "y": "maxtemp",
          "yref": "y"
         },
         {
          "font": {
           "color": "#000000"
          },
          "showarrow": false,
          "text": "0.98",
          "x": "temp3pm",
          "xref": "x",
          "y": "maxtemp",
          "yref": "y"
         },
         {
          "font": {
           "color": "#FFFFFF"
          },
          "showarrow": false,
          "text": "-0.23",
          "x": "raintoday",
          "xref": "x",
          "y": "maxtemp",
          "yref": "y"
         },
         {
          "font": {
           "color": "#FFFFFF"
          },
          "showarrow": false,
          "text": "-0.16",
          "x": "raintomorrow",
          "xref": "x",
          "y": "maxtemp",
          "yref": "y"
         },
         {
          "font": {
           "color": "#FFFFFF"
          },
          "showarrow": false,
          "text": "0.1",
          "x": "mintemp",
          "xref": "x",
          "y": "rainfall",
          "yref": "y"
         },
         {
          "font": {
           "color": "#FFFFFF"
          },
          "showarrow": false,
          "text": "-0.07",
          "x": "maxtemp",
          "xref": "x",
          "y": "rainfall",
          "yref": "y"
         },
         {
          "font": {
           "color": "#000000"
          },
          "showarrow": false,
          "text": "1.0",
          "x": "rainfall",
          "xref": "x",
          "y": "rainfall",
          "yref": "y"
         },
         {
          "font": {
           "color": "#FFFFFF"
          },
          "showarrow": false,
          "text": "-0.06",
          "x": "evaporation",
          "xref": "x",
          "y": "rainfall",
          "yref": "y"
         },
         {
          "font": {
           "color": "#FFFFFF"
          },
          "showarrow": false,
          "text": "-0.23",
          "x": "sunshine",
          "xref": "x",
          "y": "rainfall",
          "yref": "y"
         },
         {
          "font": {
           "color": "#FFFFFF"
          },
          "showarrow": false,
          "text": "0.13",
          "x": "windgustspeed",
          "xref": "x",
          "y": "rainfall",
          "yref": "y"
         },
         {
          "font": {
           "color": "#FFFFFF"
          },
          "showarrow": false,
          "text": "0.09",
          "x": "windspeed9am",
          "xref": "x",
          "y": "rainfall",
          "yref": "y"
         },
         {
          "font": {
           "color": "#FFFFFF"
          },
          "showarrow": false,
          "text": "0.06",
          "x": "windspeed3pm",
          "xref": "x",
          "y": "rainfall",
          "yref": "y"
         },
         {
          "font": {
           "color": "#000000"
          },
          "showarrow": false,
          "text": "0.22",
          "x": "humidity9am",
          "xref": "x",
          "y": "rainfall",
          "yref": "y"
         },
         {
          "font": {
           "color": "#000000"
          },
          "showarrow": false,
          "text": "0.26",
          "x": "humidity3pm",
          "xref": "x",
          "y": "rainfall",
          "yref": "y"
         },
         {
          "font": {
           "color": "#FFFFFF"
          },
          "showarrow": false,
          "text": "-0.17",
          "x": "pressure9am",
          "xref": "x",
          "y": "rainfall",
          "yref": "y"
         },
         {
          "font": {
           "color": "#FFFFFF"
          },
          "showarrow": false,
          "text": "-0.13",
          "x": "pressure3pm",
          "xref": "x",
          "y": "rainfall",
          "yref": "y"
         },
         {
          "font": {
           "color": "#000000"
          },
          "showarrow": false,
          "text": "0.2",
          "x": "cloud9am",
          "xref": "x",
          "y": "rainfall",
          "yref": "y"
         },
         {
          "font": {
           "color": "#000000"
          },
          "showarrow": false,
          "text": "0.17",
          "x": "cloud3pm",
          "xref": "x",
          "y": "rainfall",
          "yref": "y"
         },
         {
          "font": {
           "color": "#FFFFFF"
          },
          "showarrow": false,
          "text": "0.01",
          "x": "temp9am",
          "xref": "x",
          "y": "rainfall",
          "yref": "y"
         },
         {
          "font": {
           "color": "#FFFFFF"
          },
          "showarrow": false,
          "text": "-0.08",
          "x": "temp3pm",
          "xref": "x",
          "y": "rainfall",
          "yref": "y"
         },
         {
          "font": {
           "color": "#000000"
          },
          "showarrow": false,
          "text": "0.5",
          "x": "raintoday",
          "xref": "x",
          "y": "rainfall",
          "yref": "y"
         },
         {
          "font": {
           "color": "#000000"
          },
          "showarrow": false,
          "text": "0.24",
          "x": "raintomorrow",
          "xref": "x",
          "y": "rainfall",
          "yref": "y"
         },
         {
          "font": {
           "color": "#000000"
          },
          "showarrow": false,
          "text": "0.47",
          "x": "mintemp",
          "xref": "x",
          "y": "evaporation",
          "yref": "y"
         },
         {
          "font": {
           "color": "#000000"
          },
          "showarrow": false,
          "text": "0.59",
          "x": "maxtemp",
          "xref": "x",
          "y": "evaporation",
          "yref": "y"
         },
         {
          "font": {
           "color": "#FFFFFF"
          },
          "showarrow": false,
          "text": "-0.06",
          "x": "rainfall",
          "xref": "x",
          "y": "evaporation",
          "yref": "y"
         },
         {
          "font": {
           "color": "#000000"
          },
          "showarrow": false,
          "text": "1.0",
          "x": "evaporation",
          "xref": "x",
          "y": "evaporation",
          "yref": "y"
         },
         {
          "font": {
           "color": "#000000"
          },
          "showarrow": false,
          "text": "0.37",
          "x": "sunshine",
          "xref": "x",
          "y": "evaporation",
          "yref": "y"
         },
         {
          "font": {
           "color": "#000000"
          },
          "showarrow": false,
          "text": "0.2",
          "x": "windgustspeed",
          "xref": "x",
          "y": "evaporation",
          "yref": "y"
         },
         {
          "font": {
           "color": "#000000"
          },
          "showarrow": false,
          "text": "0.19",
          "x": "windspeed9am",
          "xref": "x",
          "y": "evaporation",
          "yref": "y"
         },
         {
          "font": {
           "color": "#FFFFFF"
          },
          "showarrow": false,
          "text": "0.13",
          "x": "windspeed3pm",
          "xref": "x",
          "y": "evaporation",
          "yref": "y"
         },
         {
          "font": {
           "color": "#FFFFFF"
          },
          "showarrow": false,
          "text": "-0.5",
          "x": "humidity9am",
          "xref": "x",
          "y": "evaporation",
          "yref": "y"
         },
         {
          "font": {
           "color": "#FFFFFF"
          },
          "showarrow": false,
          "text": "-0.39",
          "x": "humidity3pm",
          "xref": "x",
          "y": "evaporation",
          "yref": "y"
         },
         {
          "font": {
           "color": "#FFFFFF"
          },
          "showarrow": false,
          "text": "-0.27",
          "x": "pressure9am",
          "xref": "x",
          "y": "evaporation",
          "yref": "y"
         },
         {
          "font": {
           "color": "#FFFFFF"
          },
          "showarrow": false,
          "text": "-0.29",
          "x": "pressure3pm",
          "xref": "x",
          "y": "evaporation",
          "yref": "y"
         },
         {
          "font": {
           "color": "#FFFFFF"
          },
          "showarrow": false,
          "text": "-0.18",
          "x": "cloud9am",
          "xref": "x",
          "y": "evaporation",
          "yref": "y"
         },
         {
          "font": {
           "color": "#FFFFFF"
          },
          "showarrow": false,
          "text": "-0.18",
          "x": "cloud3pm",
          "xref": "x",
          "y": "evaporation",
          "yref": "y"
         },
         {
          "font": {
           "color": "#000000"
          },
          "showarrow": false,
          "text": "0.55",
          "x": "temp9am",
          "xref": "x",
          "y": "evaporation",
          "yref": "y"
         },
         {
          "font": {
           "color": "#000000"
          },
          "showarrow": false,
          "text": "0.57",
          "x": "temp3pm",
          "xref": "x",
          "y": "evaporation",
          "yref": "y"
         },
         {
          "font": {
           "color": "#FFFFFF"
          },
          "showarrow": false,
          "text": "-0.19",
          "x": "raintoday",
          "xref": "x",
          "y": "evaporation",
          "yref": "y"
         },
         {
          "font": {
           "color": "#FFFFFF"
          },
          "showarrow": false,
          "text": "-0.12",
          "x": "raintomorrow",
          "xref": "x",
          "y": "evaporation",
          "yref": "y"
         },
         {
          "font": {
           "color": "#FFFFFF"
          },
          "showarrow": false,
          "text": "0.07",
          "x": "mintemp",
          "xref": "x",
          "y": "sunshine",
          "yref": "y"
         },
         {
          "font": {
           "color": "#000000"
          },
          "showarrow": false,
          "text": "0.47",
          "x": "maxtemp",
          "xref": "x",
          "y": "sunshine",
          "yref": "y"
         },
         {
          "font": {
           "color": "#FFFFFF"
          },
          "showarrow": false,
          "text": "-0.23",
          "x": "rainfall",
          "xref": "x",
          "y": "sunshine",
          "yref": "y"
         },
         {
          "font": {
           "color": "#000000"
          },
          "showarrow": false,
          "text": "0.37",
          "x": "evaporation",
          "xref": "x",
          "y": "sunshine",
          "yref": "y"
         },
         {
          "font": {
           "color": "#000000"
          },
          "showarrow": false,
          "text": "1.0",
          "x": "sunshine",
          "xref": "x",
          "y": "sunshine",
          "yref": "y"
         },
         {
          "font": {
           "color": "#FFFFFF"
          },
          "showarrow": false,
          "text": "-0.03",
          "x": "windgustspeed",
          "xref": "x",
          "y": "sunshine",
          "yref": "y"
         },
         {
          "font": {
           "color": "#FFFFFF"
          },
          "showarrow": false,
          "text": "0.01",
          "x": "windspeed9am",
          "xref": "x",
          "y": "sunshine",
          "yref": "y"
         },
         {
          "font": {
           "color": "#FFFFFF"
          },
          "showarrow": false,
          "text": "0.05",
          "x": "windspeed3pm",
          "xref": "x",
          "y": "sunshine",
          "yref": "y"
         },
         {
          "font": {
           "color": "#FFFFFF"
          },
          "showarrow": false,
          "text": "-0.49",
          "x": "humidity9am",
          "xref": "x",
          "y": "sunshine",
          "yref": "y"
         },
         {
          "font": {
           "color": "#FFFFFF"
          },
          "showarrow": false,
          "text": "-0.63",
          "x": "humidity3pm",
          "xref": "x",
          "y": "sunshine",
          "yref": "y"
         },
         {
          "font": {
           "color": "#FFFFFF"
          },
          "showarrow": false,
          "text": "0.04",
          "x": "pressure9am",
          "xref": "x",
          "y": "sunshine",
          "yref": "y"
         },
         {
          "font": {
           "color": "#FFFFFF"
          },
          "showarrow": false,
          "text": "-0.02",
          "x": "pressure3pm",
          "xref": "x",
          "y": "sunshine",
          "yref": "y"
         },
         {
          "font": {
           "color": "#FFFFFF"
          },
          "showarrow": false,
          "text": "-0.68",
          "x": "cloud9am",
          "xref": "x",
          "y": "sunshine",
          "yref": "y"
         },
         {
          "font": {
           "color": "#FFFFFF"
          },
          "showarrow": false,
          "text": "-0.7",
          "x": "cloud3pm",
          "xref": "x",
          "y": "sunshine",
          "yref": "y"
         },
         {
          "font": {
           "color": "#000000"
          },
          "showarrow": false,
          "text": "0.29",
          "x": "temp9am",
          "xref": "x",
          "y": "sunshine",
          "yref": "y"
         },
         {
          "font": {
           "color": "#000000"
          },
          "showarrow": false,
          "text": "0.49",
          "x": "temp3pm",
          "xref": "x",
          "y": "sunshine",
          "yref": "y"
         },
         {
          "font": {
           "color": "#FFFFFF"
          },
          "showarrow": false,
          "text": "-0.33",
          "x": "raintoday",
          "xref": "x",
          "y": "sunshine",
          "yref": "y"
         },
         {
          "font": {
           "color": "#FFFFFF"
          },
          "showarrow": false,
          "text": "-0.45",
          "x": "raintomorrow",
          "xref": "x",
          "y": "sunshine",
          "yref": "y"
         },
         {
          "font": {
           "color": "#000000"
          },
          "showarrow": false,
          "text": "0.18",
          "x": "mintemp",
          "xref": "x",
          "y": "windgustspeed",
          "yref": "y"
         },
         {
          "font": {
           "color": "#FFFFFF"
          },
          "showarrow": false,
          "text": "0.07",
          "x": "maxtemp",
          "xref": "x",
          "y": "windgustspeed",
          "yref": "y"
         },
         {
          "font": {
           "color": "#FFFFFF"
          },
          "showarrow": false,
          "text": "0.13",
          "x": "rainfall",
          "xref": "x",
          "y": "windgustspeed",
          "yref": "y"
         },
         {
          "font": {
           "color": "#000000"
          },
          "showarrow": false,
          "text": "0.2",
          "x": "evaporation",
          "xref": "x",
          "y": "windgustspeed",
          "yref": "y"
         },
         {
          "font": {
           "color": "#FFFFFF"
          },
          "showarrow": false,
          "text": "-0.03",
          "x": "sunshine",
          "xref": "x",
          "y": "windgustspeed",
          "yref": "y"
         },
         {
          "font": {
           "color": "#000000"
          },
          "showarrow": false,
          "text": "1.0",
          "x": "windgustspeed",
          "xref": "x",
          "y": "windgustspeed",
          "yref": "y"
         },
         {
          "font": {
           "color": "#000000"
          },
          "showarrow": false,
          "text": "0.61",
          "x": "windspeed9am",
          "xref": "x",
          "y": "windgustspeed",
          "yref": "y"
         },
         {
          "font": {
           "color": "#000000"
          },
          "showarrow": false,
          "text": "0.69",
          "x": "windspeed3pm",
          "xref": "x",
          "y": "windgustspeed",
          "yref": "y"
         },
         {
          "font": {
           "color": "#FFFFFF"
          },
          "showarrow": false,
          "text": "-0.22",
          "x": "humidity9am",
          "xref": "x",
          "y": "windgustspeed",
          "yref": "y"
         },
         {
          "font": {
           "color": "#FFFFFF"
          },
          "showarrow": false,
          "text": "-0.03",
          "x": "humidity3pm",
          "xref": "x",
          "y": "windgustspeed",
          "yref": "y"
         },
         {
          "font": {
           "color": "#FFFFFF"
          },
          "showarrow": false,
          "text": "-0.46",
          "x": "pressure9am",
          "xref": "x",
          "y": "windgustspeed",
          "yref": "y"
         },
         {
          "font": {
           "color": "#FFFFFF"
          },
          "showarrow": false,
          "text": "-0.41",
          "x": "pressure3pm",
          "xref": "x",
          "y": "windgustspeed",
          "yref": "y"
         },
         {
          "font": {
           "color": "#FFFFFF"
          },
          "showarrow": false,
          "text": "0.07",
          "x": "cloud9am",
          "xref": "x",
          "y": "windgustspeed",
          "yref": "y"
         },
         {
          "font": {
           "color": "#FFFFFF"
          },
          "showarrow": false,
          "text": "0.11",
          "x": "cloud3pm",
          "xref": "x",
          "y": "windgustspeed",
          "yref": "y"
         },
         {
          "font": {
           "color": "#000000"
          },
          "showarrow": false,
          "text": "0.15",
          "x": "temp9am",
          "xref": "x",
          "y": "windgustspeed",
          "yref": "y"
         },
         {
          "font": {
           "color": "#FFFFFF"
          },
          "showarrow": false,
          "text": "0.03",
          "x": "temp3pm",
          "xref": "x",
          "y": "windgustspeed",
          "yref": "y"
         },
         {
          "font": {
           "color": "#000000"
          },
          "showarrow": false,
          "text": "0.16",
          "x": "raintoday",
          "xref": "x",
          "y": "windgustspeed",
          "yref": "y"
         },
         {
          "font": {
           "color": "#000000"
          },
          "showarrow": false,
          "text": "0.23",
          "x": "raintomorrow",
          "xref": "x",
          "y": "windgustspeed",
          "yref": "y"
         },
         {
          "font": {
           "color": "#000000"
          },
          "showarrow": false,
          "text": "0.18",
          "x": "mintemp",
          "xref": "x",
          "y": "windspeed9am",
          "yref": "y"
         },
         {
          "font": {
           "color": "#FFFFFF"
          },
          "showarrow": false,
          "text": "0.01",
          "x": "maxtemp",
          "xref": "x",
          "y": "windspeed9am",
          "yref": "y"
         },
         {
          "font": {
           "color": "#FFFFFF"
          },
          "showarrow": false,
          "text": "0.09",
          "x": "rainfall",
          "xref": "x",
          "y": "windspeed9am",
          "yref": "y"
         },
         {
          "font": {
           "color": "#000000"
          },
          "showarrow": false,
          "text": "0.19",
          "x": "evaporation",
          "xref": "x",
          "y": "windspeed9am",
          "yref": "y"
         },
         {
          "font": {
           "color": "#FFFFFF"
          },
          "showarrow": false,
          "text": "0.01",
          "x": "sunshine",
          "xref": "x",
          "y": "windspeed9am",
          "yref": "y"
         },
         {
          "font": {
           "color": "#000000"
          },
          "showarrow": false,
          "text": "0.61",
          "x": "windgustspeed",
          "xref": "x",
          "y": "windspeed9am",
          "yref": "y"
         },
         {
          "font": {
           "color": "#000000"
          },
          "showarrow": false,
          "text": "1.0",
          "x": "windspeed9am",
          "xref": "x",
          "y": "windspeed9am",
          "yref": "y"
         },
         {
          "font": {
           "color": "#000000"
          },
          "showarrow": false,
          "text": "0.52",
          "x": "windspeed3pm",
          "xref": "x",
          "y": "windspeed9am",
          "yref": "y"
         },
         {
          "font": {
           "color": "#FFFFFF"
          },
          "showarrow": false,
          "text": "-0.27",
          "x": "humidity9am",
          "xref": "x",
          "y": "windspeed9am",
          "yref": "y"
         },
         {
          "font": {
           "color": "#FFFFFF"
          },
          "showarrow": false,
          "text": "-0.03",
          "x": "humidity3pm",
          "xref": "x",
          "y": "windspeed9am",
          "yref": "y"
         },
         {
          "font": {
           "color": "#FFFFFF"
          },
          "showarrow": false,
          "text": "-0.23",
          "x": "pressure9am",
          "xref": "x",
          "y": "windspeed9am",
          "yref": "y"
         },
         {
          "font": {
           "color": "#FFFFFF"
          },
          "showarrow": false,
          "text": "-0.18",
          "x": "pressure3pm",
          "xref": "x",
          "y": "windspeed9am",
          "yref": "y"
         },
         {
          "font": {
           "color": "#FFFFFF"
          },
          "showarrow": false,
          "text": "0.03",
          "x": "cloud9am",
          "xref": "x",
          "y": "windspeed9am",
          "yref": "y"
         },
         {
          "font": {
           "color": "#FFFFFF"
          },
          "showarrow": false,
          "text": "0.05",
          "x": "cloud3pm",
          "xref": "x",
          "y": "windspeed9am",
          "yref": "y"
         },
         {
          "font": {
           "color": "#FFFFFF"
          },
          "showarrow": false,
          "text": "0.13",
          "x": "temp9am",
          "xref": "x",
          "y": "windspeed9am",
          "yref": "y"
         },
         {
          "font": {
           "color": "#FFFFFF"
          },
          "showarrow": false,
          "text": "0.0",
          "x": "temp3pm",
          "xref": "x",
          "y": "windspeed9am",
          "yref": "y"
         },
         {
          "font": {
           "color": "#FFFFFF"
          },
          "showarrow": false,
          "text": "0.1",
          "x": "raintoday",
          "xref": "x",
          "y": "windspeed9am",
          "yref": "y"
         },
         {
          "font": {
           "color": "#FFFFFF"
          },
          "showarrow": false,
          "text": "0.09",
          "x": "raintomorrow",
          "xref": "x",
          "y": "windspeed9am",
          "yref": "y"
         },
         {
          "font": {
           "color": "#000000"
          },
          "showarrow": false,
          "text": "0.18",
          "x": "mintemp",
          "xref": "x",
          "y": "windspeed3pm",
          "yref": "y"
         },
         {
          "font": {
           "color": "#FFFFFF"
          },
          "showarrow": false,
          "text": "0.05",
          "x": "maxtemp",
          "xref": "x",
          "y": "windspeed3pm",
          "yref": "y"
         },
         {
          "font": {
           "color": "#FFFFFF"
          },
          "showarrow": false,
          "text": "0.06",
          "x": "rainfall",
          "xref": "x",
          "y": "windspeed3pm",
          "yref": "y"
         },
         {
          "font": {
           "color": "#FFFFFF"
          },
          "showarrow": false,
          "text": "0.13",
          "x": "evaporation",
          "xref": "x",
          "y": "windspeed3pm",
          "yref": "y"
         },
         {
          "font": {
           "color": "#FFFFFF"
          },
          "showarrow": false,
          "text": "0.05",
          "x": "sunshine",
          "xref": "x",
          "y": "windspeed3pm",
          "yref": "y"
         },
         {
          "font": {
           "color": "#000000"
          },
          "showarrow": false,
          "text": "0.69",
          "x": "windgustspeed",
          "xref": "x",
          "y": "windspeed3pm",
          "yref": "y"
         },
         {
          "font": {
           "color": "#000000"
          },
          "showarrow": false,
          "text": "0.52",
          "x": "windspeed9am",
          "xref": "x",
          "y": "windspeed3pm",
          "yref": "y"
         },
         {
          "font": {
           "color": "#000000"
          },
          "showarrow": false,
          "text": "1.0",
          "x": "windspeed3pm",
          "xref": "x",
          "y": "windspeed3pm",
          "yref": "y"
         },
         {
          "font": {
           "color": "#FFFFFF"
          },
          "showarrow": false,
          "text": "-0.15",
          "x": "humidity9am",
          "xref": "x",
          "y": "windspeed3pm",
          "yref": "y"
         },
         {
          "font": {
           "color": "#FFFFFF"
          },
          "showarrow": false,
          "text": "0.02",
          "x": "humidity3pm",
          "xref": "x",
          "y": "windspeed3pm",
          "yref": "y"
         },
         {
          "font": {
           "color": "#FFFFFF"
          },
          "showarrow": false,
          "text": "-0.3",
          "x": "pressure9am",
          "xref": "x",
          "y": "windspeed3pm",
          "yref": "y"
         },
         {
          "font": {
           "color": "#FFFFFF"
          },
          "showarrow": false,
          "text": "-0.26",
          "x": "pressure3pm",
          "xref": "x",
          "y": "windspeed3pm",
          "yref": "y"
         },
         {
          "font": {
           "color": "#FFFFFF"
          },
          "showarrow": false,
          "text": "0.05",
          "x": "cloud9am",
          "xref": "x",
          "y": "windspeed3pm",
          "yref": "y"
         },
         {
          "font": {
           "color": "#FFFFFF"
          },
          "showarrow": false,
          "text": "0.03",
          "x": "cloud3pm",
          "xref": "x",
          "y": "windspeed3pm",
          "yref": "y"
         },
         {
          "font": {
           "color": "#000000"
          },
          "showarrow": false,
          "text": "0.16",
          "x": "temp9am",
          "xref": "x",
          "y": "windspeed3pm",
          "yref": "y"
         },
         {
          "font": {
           "color": "#FFFFFF"
          },
          "showarrow": false,
          "text": "0.03",
          "x": "temp3pm",
          "xref": "x",
          "y": "windspeed3pm",
          "yref": "y"
         },
         {
          "font": {
           "color": "#FFFFFF"
          },
          "showarrow": false,
          "text": "0.08",
          "x": "raintoday",
          "xref": "x",
          "y": "windspeed3pm",
          "yref": "y"
         },
         {
          "font": {
           "color": "#FFFFFF"
          },
          "showarrow": false,
          "text": "0.09",
          "x": "raintomorrow",
          "xref": "x",
          "y": "windspeed3pm",
          "yref": "y"
         },
         {
          "font": {
           "color": "#FFFFFF"
          },
          "showarrow": false,
          "text": "-0.23",
          "x": "mintemp",
          "xref": "x",
          "y": "humidity9am",
          "yref": "y"
         },
         {
          "font": {
           "color": "#FFFFFF"
          },
          "showarrow": false,
          "text": "-0.5",
          "x": "maxtemp",
          "xref": "x",
          "y": "humidity9am",
          "yref": "y"
         },
         {
          "font": {
           "color": "#000000"
          },
          "showarrow": false,
          "text": "0.22",
          "x": "rainfall",
          "xref": "x",
          "y": "humidity9am",
          "yref": "y"
         },
         {
          "font": {
           "color": "#FFFFFF"
          },
          "showarrow": false,
          "text": "-0.5",
          "x": "evaporation",
          "xref": "x",
          "y": "humidity9am",
          "yref": "y"
         },
         {
          "font": {
           "color": "#FFFFFF"
          },
          "showarrow": false,
          "text": "-0.49",
          "x": "sunshine",
          "xref": "x",
          "y": "humidity9am",
          "yref": "y"
         },
         {
          "font": {
           "color": "#FFFFFF"
          },
          "showarrow": false,
          "text": "-0.22",
          "x": "windgustspeed",
          "xref": "x",
          "y": "humidity9am",
          "yref": "y"
         },
         {
          "font": {
           "color": "#FFFFFF"
          },
          "showarrow": false,
          "text": "-0.27",
          "x": "windspeed9am",
          "xref": "x",
          "y": "humidity9am",
          "yref": "y"
         },
         {
          "font": {
           "color": "#FFFFFF"
          },
          "showarrow": false,
          "text": "-0.15",
          "x": "windspeed3pm",
          "xref": "x",
          "y": "humidity9am",
          "yref": "y"
         },
         {
          "font": {
           "color": "#000000"
          },
          "showarrow": false,
          "text": "1.0",
          "x": "humidity9am",
          "xref": "x",
          "y": "humidity9am",
          "yref": "y"
         },
         {
          "font": {
           "color": "#000000"
          },
          "showarrow": false,
          "text": "0.67",
          "x": "humidity3pm",
          "xref": "x",
          "y": "humidity9am",
          "yref": "y"
         },
         {
          "font": {
           "color": "#FFFFFF"
          },
          "showarrow": false,
          "text": "0.14",
          "x": "pressure9am",
          "xref": "x",
          "y": "humidity9am",
          "yref": "y"
         },
         {
          "font": {
           "color": "#000000"
          },
          "showarrow": false,
          "text": "0.19",
          "x": "pressure3pm",
          "xref": "x",
          "y": "humidity9am",
          "yref": "y"
         },
         {
          "font": {
           "color": "#000000"
          },
          "showarrow": false,
          "text": "0.45",
          "x": "cloud9am",
          "xref": "x",
          "y": "humidity9am",
          "yref": "y"
         },
         {
          "font": {
           "color": "#000000"
          },
          "showarrow": false,
          "text": "0.36",
          "x": "cloud3pm",
          "xref": "x",
          "y": "humidity9am",
          "yref": "y"
         },
         {
          "font": {
           "color": "#FFFFFF"
          },
          "showarrow": false,
          "text": "-0.47",
          "x": "temp9am",
          "xref": "x",
          "y": "humidity9am",
          "yref": "y"
         },
         {
          "font": {
           "color": "#FFFFFF"
          },
          "showarrow": false,
          "text": "-0.5",
          "x": "temp3pm",
          "xref": "x",
          "y": "humidity9am",
          "yref": "y"
         },
         {
          "font": {
           "color": "#000000"
          },
          "showarrow": false,
          "text": "0.35",
          "x": "raintoday",
          "xref": "x",
          "y": "humidity9am",
          "yref": "y"
         },
         {
          "font": {
           "color": "#000000"
          },
          "showarrow": false,
          "text": "0.26",
          "x": "raintomorrow",
          "xref": "x",
          "y": "humidity9am",
          "yref": "y"
         },
         {
          "font": {
           "color": "#FFFFFF"
          },
          "showarrow": false,
          "text": "0.01",
          "x": "mintemp",
          "xref": "x",
          "y": "humidity3pm",
          "yref": "y"
         },
         {
          "font": {
           "color": "#FFFFFF"
          },
          "showarrow": false,
          "text": "-0.51",
          "x": "maxtemp",
          "xref": "x",
          "y": "humidity3pm",
          "yref": "y"
         },
         {
          "font": {
           "color": "#000000"
          },
          "showarrow": false,
          "text": "0.26",
          "x": "rainfall",
          "xref": "x",
          "y": "humidity3pm",
          "yref": "y"
         },
         {
          "font": {
           "color": "#FFFFFF"
          },
          "showarrow": false,
          "text": "-0.39",
          "x": "evaporation",
          "xref": "x",
          "y": "humidity3pm",
          "yref": "y"
         },
         {
          "font": {
           "color": "#FFFFFF"
          },
          "showarrow": false,
          "text": "-0.63",
          "x": "sunshine",
          "xref": "x",
          "y": "humidity3pm",
          "yref": "y"
         },
         {
          "font": {
           "color": "#FFFFFF"
          },
          "showarrow": false,
          "text": "-0.03",
          "x": "windgustspeed",
          "xref": "x",
          "y": "humidity3pm",
          "yref": "y"
         },
         {
          "font": {
           "color": "#FFFFFF"
          },
          "showarrow": false,
          "text": "-0.03",
          "x": "windspeed9am",
          "xref": "x",
          "y": "humidity3pm",
          "yref": "y"
         },
         {
          "font": {
           "color": "#FFFFFF"
          },
          "showarrow": false,
          "text": "0.02",
          "x": "windspeed3pm",
          "xref": "x",
          "y": "humidity3pm",
          "yref": "y"
         },
         {
          "font": {
           "color": "#000000"
          },
          "showarrow": false,
          "text": "0.67",
          "x": "humidity9am",
          "xref": "x",
          "y": "humidity3pm",
          "yref": "y"
         },
         {
          "font": {
           "color": "#000000"
          },
          "showarrow": false,
          "text": "1.0",
          "x": "humidity3pm",
          "xref": "x",
          "y": "humidity3pm",
          "yref": "y"
         },
         {
          "font": {
           "color": "#FFFFFF"
          },
          "showarrow": false,
          "text": "-0.03",
          "x": "pressure9am",
          "xref": "x",
          "y": "humidity3pm",
          "yref": "y"
         },
         {
          "font": {
           "color": "#FFFFFF"
          },
          "showarrow": false,
          "text": "0.05",
          "x": "pressure3pm",
          "xref": "x",
          "y": "humidity3pm",
          "yref": "y"
         },
         {
          "font": {
           "color": "#000000"
          },
          "showarrow": false,
          "text": "0.52",
          "x": "cloud9am",
          "xref": "x",
          "y": "humidity3pm",
          "yref": "y"
         },
         {
          "font": {
           "color": "#000000"
          },
          "showarrow": false,
          "text": "0.52",
          "x": "cloud3pm",
          "xref": "x",
          "y": "humidity3pm",
          "yref": "y"
         },
         {
          "font": {
           "color": "#FFFFFF"
          },
          "showarrow": false,
          "text": "-0.22",
          "x": "temp9am",
          "xref": "x",
          "y": "humidity3pm",
          "yref": "y"
         },
         {
          "font": {
           "color": "#FFFFFF"
          },
          "showarrow": false,
          "text": "-0.56",
          "x": "temp3pm",
          "xref": "x",
          "y": "humidity3pm",
          "yref": "y"
         },
         {
          "font": {
           "color": "#000000"
          },
          "showarrow": false,
          "text": "0.38",
          "x": "raintoday",
          "xref": "x",
          "y": "humidity3pm",
          "yref": "y"
         },
         {
          "font": {
           "color": "#000000"
          },
          "showarrow": false,
          "text": "0.45",
          "x": "raintomorrow",
          "xref": "x",
          "y": "humidity3pm",
          "yref": "y"
         },
         {
          "font": {
           "color": "#FFFFFF"
          },
          "showarrow": false,
          "text": "-0.45",
          "x": "mintemp",
          "xref": "x",
          "y": "pressure9am",
          "yref": "y"
         },
         {
          "font": {
           "color": "#FFFFFF"
          },
          "showarrow": false,
          "text": "-0.33",
          "x": "maxtemp",
          "xref": "x",
          "y": "pressure9am",
          "yref": "y"
         },
         {
          "font": {
           "color": "#FFFFFF"
          },
          "showarrow": false,
          "text": "-0.17",
          "x": "rainfall",
          "xref": "x",
          "y": "pressure9am",
          "yref": "y"
         },
         {
          "font": {
           "color": "#FFFFFF"
          },
          "showarrow": false,
          "text": "-0.27",
          "x": "evaporation",
          "xref": "x",
          "y": "pressure9am",
          "yref": "y"
         },
         {
          "font": {
           "color": "#FFFFFF"
          },
          "showarrow": false,
          "text": "0.04",
          "x": "sunshine",
          "xref": "x",
          "y": "pressure9am",
          "yref": "y"
         },
         {
          "font": {
           "color": "#FFFFFF"
          },
          "showarrow": false,
          "text": "-0.46",
          "x": "windgustspeed",
          "xref": "x",
          "y": "pressure9am",
          "yref": "y"
         },
         {
          "font": {
           "color": "#FFFFFF"
          },
          "showarrow": false,
          "text": "-0.23",
          "x": "windspeed9am",
          "xref": "x",
          "y": "pressure9am",
          "yref": "y"
         },
         {
          "font": {
           "color": "#FFFFFF"
          },
          "showarrow": false,
          "text": "-0.3",
          "x": "windspeed3pm",
          "xref": "x",
          "y": "pressure9am",
          "yref": "y"
         },
         {
          "font": {
           "color": "#FFFFFF"
          },
          "showarrow": false,
          "text": "0.14",
          "x": "humidity9am",
          "xref": "x",
          "y": "pressure9am",
          "yref": "y"
         },
         {
          "font": {
           "color": "#FFFFFF"
          },
          "showarrow": false,
          "text": "-0.03",
          "x": "humidity3pm",
          "xref": "x",
          "y": "pressure9am",
          "yref": "y"
         },
         {
          "font": {
           "color": "#000000"
          },
          "showarrow": false,
          "text": "1.0",
          "x": "pressure9am",
          "xref": "x",
          "y": "pressure9am",
          "yref": "y"
         },
         {
          "font": {
           "color": "#000000"
          },
          "showarrow": false,
          "text": "0.96",
          "x": "pressure3pm",
          "xref": "x",
          "y": "pressure9am",
          "yref": "y"
         },
         {
          "font": {
           "color": "#FFFFFF"
          },
          "showarrow": false,
          "text": "-0.13",
          "x": "cloud9am",
          "xref": "x",
          "y": "pressure9am",
          "yref": "y"
         },
         {
          "font": {
           "color": "#FFFFFF"
          },
          "showarrow": false,
          "text": "-0.15",
          "x": "cloud3pm",
          "xref": "x",
          "y": "pressure9am",
          "yref": "y"
         },
         {
          "font": {
           "color": "#FFFFFF"
          },
          "showarrow": false,
          "text": "-0.42",
          "x": "temp9am",
          "xref": "x",
          "y": "pressure9am",
          "yref": "y"
         },
         {
          "font": {
           "color": "#FFFFFF"
          },
          "showarrow": false,
          "text": "-0.29",
          "x": "temp3pm",
          "xref": "x",
          "y": "pressure9am",
          "yref": "y"
         },
         {
          "font": {
           "color": "#FFFFFF"
          },
          "showarrow": false,
          "text": "-0.19",
          "x": "raintoday",
          "xref": "x",
          "y": "pressure9am",
          "yref": "y"
         },
         {
          "font": {
           "color": "#FFFFFF"
          },
          "showarrow": false,
          "text": "-0.25",
          "x": "raintomorrow",
          "xref": "x",
          "y": "pressure9am",
          "yref": "y"
         },
         {
          "font": {
           "color": "#FFFFFF"
          },
          "showarrow": false,
          "text": "-0.46",
          "x": "mintemp",
          "xref": "x",
          "y": "pressure3pm",
          "yref": "y"
         },
         {
          "font": {
           "color": "#FFFFFF"
          },
          "showarrow": false,
          "text": "-0.43",
          "x": "maxtemp",
          "xref": "x",
          "y": "pressure3pm",
          "yref": "y"
         },
         {
          "font": {
           "color": "#FFFFFF"
          },
          "showarrow": false,
          "text": "-0.13",
          "x": "rainfall",
          "xref": "x",
          "y": "pressure3pm",
          "yref": "y"
         },
         {
          "font": {
           "color": "#FFFFFF"
          },
          "showarrow": false,
          "text": "-0.29",
          "x": "evaporation",
          "xref": "x",
          "y": "pressure3pm",
          "yref": "y"
         },
         {
          "font": {
           "color": "#FFFFFF"
          },
          "showarrow": false,
          "text": "-0.02",
          "x": "sunshine",
          "xref": "x",
          "y": "pressure3pm",
          "yref": "y"
         },
         {
          "font": {
           "color": "#FFFFFF"
          },
          "showarrow": false,
          "text": "-0.41",
          "x": "windgustspeed",
          "xref": "x",
          "y": "pressure3pm",
          "yref": "y"
         },
         {
          "font": {
           "color": "#FFFFFF"
          },
          "showarrow": false,
          "text": "-0.18",
          "x": "windspeed9am",
          "xref": "x",
          "y": "pressure3pm",
          "yref": "y"
         },
         {
          "font": {
           "color": "#FFFFFF"
          },
          "showarrow": false,
          "text": "-0.26",
          "x": "windspeed3pm",
          "xref": "x",
          "y": "pressure3pm",
          "yref": "y"
         },
         {
          "font": {
           "color": "#000000"
          },
          "showarrow": false,
          "text": "0.19",
          "x": "humidity9am",
          "xref": "x",
          "y": "pressure3pm",
          "yref": "y"
         },
         {
          "font": {
           "color": "#FFFFFF"
          },
          "showarrow": false,
          "text": "0.05",
          "x": "humidity3pm",
          "xref": "x",
          "y": "pressure3pm",
          "yref": "y"
         },
         {
          "font": {
           "color": "#000000"
          },
          "showarrow": false,
          "text": "0.96",
          "x": "pressure9am",
          "xref": "x",
          "y": "pressure3pm",
          "yref": "y"
         },
         {
          "font": {
           "color": "#000000"
          },
          "showarrow": false,
          "text": "1.0",
          "x": "pressure3pm",
          "xref": "x",
          "y": "pressure3pm",
          "yref": "y"
         },
         {
          "font": {
           "color": "#FFFFFF"
          },
          "showarrow": false,
          "text": "-0.06",
          "x": "cloud9am",
          "xref": "x",
          "y": "pressure3pm",
          "yref": "y"
         },
         {
          "font": {
           "color": "#FFFFFF"
          },
          "showarrow": false,
          "text": "-0.08",
          "x": "cloud3pm",
          "xref": "x",
          "y": "pressure3pm",
          "yref": "y"
         },
         {
          "font": {
           "color": "#FFFFFF"
          },
          "showarrow": false,
          "text": "-0.47",
          "x": "temp9am",
          "xref": "x",
          "y": "pressure3pm",
          "yref": "y"
         },
         {
          "font": {
           "color": "#FFFFFF"
          },
          "showarrow": false,
          "text": "-0.39",
          "x": "temp3pm",
          "xref": "x",
          "y": "pressure3pm",
          "yref": "y"
         },
         {
          "font": {
           "color": "#FFFFFF"
          },
          "showarrow": false,
          "text": "-0.11",
          "x": "raintoday",
          "xref": "x",
          "y": "pressure3pm",
          "yref": "y"
         },
         {
          "font": {
           "color": "#FFFFFF"
          },
          "showarrow": false,
          "text": "-0.23",
          "x": "raintomorrow",
          "xref": "x",
          "y": "pressure3pm",
          "yref": "y"
         },
         {
          "font": {
           "color": "#FFFFFF"
          },
          "showarrow": false,
          "text": "0.08",
          "x": "mintemp",
          "xref": "x",
          "y": "cloud9am",
          "yref": "y"
         },
         {
          "font": {
           "color": "#FFFFFF"
          },
          "showarrow": false,
          "text": "-0.29",
          "x": "maxtemp",
          "xref": "x",
          "y": "cloud9am",
          "yref": "y"
         },
         {
          "font": {
           "color": "#000000"
          },
          "showarrow": false,
          "text": "0.2",
          "x": "rainfall",
          "xref": "x",
          "y": "cloud9am",
          "yref": "y"
         },
         {
          "font": {
           "color": "#FFFFFF"
          },
          "showarrow": false,
          "text": "-0.18",
          "x": "evaporation",
          "xref": "x",
          "y": "cloud9am",
          "yref": "y"
         },
         {
          "font": {
           "color": "#FFFFFF"
          },
          "showarrow": false,
          "text": "-0.68",
          "x": "sunshine",
          "xref": "x",
          "y": "cloud9am",
          "yref": "y"
         },
         {
          "font": {
           "color": "#FFFFFF"
          },
          "showarrow": false,
          "text": "0.07",
          "x": "windgustspeed",
          "xref": "x",
          "y": "cloud9am",
          "yref": "y"
         },
         {
          "font": {
           "color": "#FFFFFF"
          },
          "showarrow": false,
          "text": "0.03",
          "x": "windspeed9am",
          "xref": "x",
          "y": "cloud9am",
          "yref": "y"
         },
         {
          "font": {
           "color": "#FFFFFF"
          },
          "showarrow": false,
          "text": "0.05",
          "x": "windspeed3pm",
          "xref": "x",
          "y": "cloud9am",
          "yref": "y"
         },
         {
          "font": {
           "color": "#000000"
          },
          "showarrow": false,
          "text": "0.45",
          "x": "humidity9am",
          "xref": "x",
          "y": "cloud9am",
          "yref": "y"
         },
         {
          "font": {
           "color": "#000000"
          },
          "showarrow": false,
          "text": "0.52",
          "x": "humidity3pm",
          "xref": "x",
          "y": "cloud9am",
          "yref": "y"
         },
         {
          "font": {
           "color": "#FFFFFF"
          },
          "showarrow": false,
          "text": "-0.13",
          "x": "pressure9am",
          "xref": "x",
          "y": "cloud9am",
          "yref": "y"
         },
         {
          "font": {
           "color": "#FFFFFF"
          },
          "showarrow": false,
          "text": "-0.06",
          "x": "pressure3pm",
          "xref": "x",
          "y": "cloud9am",
          "yref": "y"
         },
         {
          "font": {
           "color": "#000000"
          },
          "showarrow": false,
          "text": "1.0",
          "x": "cloud9am",
          "xref": "x",
          "y": "cloud9am",
          "yref": "y"
         },
         {
          "font": {
           "color": "#000000"
          },
          "showarrow": false,
          "text": "0.6",
          "x": "cloud3pm",
          "xref": "x",
          "y": "cloud9am",
          "yref": "y"
         },
         {
          "font": {
           "color": "#FFFFFF"
          },
          "showarrow": false,
          "text": "-0.14",
          "x": "temp9am",
          "xref": "x",
          "y": "cloud9am",
          "yref": "y"
         },
         {
          "font": {
           "color": "#FFFFFF"
          },
          "showarrow": false,
          "text": "-0.3",
          "x": "temp3pm",
          "xref": "x",
          "y": "cloud9am",
          "yref": "y"
         },
         {
          "font": {
           "color": "#000000"
          },
          "showarrow": false,
          "text": "0.31",
          "x": "raintoday",
          "xref": "x",
          "y": "cloud9am",
          "yref": "y"
         },
         {
          "font": {
           "color": "#000000"
          },
          "showarrow": false,
          "text": "0.32",
          "x": "raintomorrow",
          "xref": "x",
          "y": "cloud9am",
          "yref": "y"
         },
         {
          "font": {
           "color": "#FFFFFF"
          },
          "showarrow": false,
          "text": "0.02",
          "x": "mintemp",
          "xref": "x",
          "y": "cloud3pm",
          "yref": "y"
         },
         {
          "font": {
           "color": "#FFFFFF"
          },
          "showarrow": false,
          "text": "-0.28",
          "x": "maxtemp",
          "xref": "x",
          "y": "cloud3pm",
          "yref": "y"
         },
         {
          "font": {
           "color": "#000000"
          },
          "showarrow": false,
          "text": "0.17",
          "x": "rainfall",
          "xref": "x",
          "y": "cloud3pm",
          "yref": "y"
         },
         {
          "font": {
           "color": "#FFFFFF"
          },
          "showarrow": false,
          "text": "-0.18",
          "x": "evaporation",
          "xref": "x",
          "y": "cloud3pm",
          "yref": "y"
         },
         {
          "font": {
           "color": "#FFFFFF"
          },
          "showarrow": false,
          "text": "-0.7",
          "x": "sunshine",
          "xref": "x",
          "y": "cloud3pm",
          "yref": "y"
         },
         {
          "font": {
           "color": "#FFFFFF"
          },
          "showarrow": false,
          "text": "0.11",
          "x": "windgustspeed",
          "xref": "x",
          "y": "cloud3pm",
          "yref": "y"
         },
         {
          "font": {
           "color": "#FFFFFF"
          },
          "showarrow": false,
          "text": "0.05",
          "x": "windspeed9am",
          "xref": "x",
          "y": "cloud3pm",
          "yref": "y"
         },
         {
          "font": {
           "color": "#FFFFFF"
          },
          "showarrow": false,
          "text": "0.03",
          "x": "windspeed3pm",
          "xref": "x",
          "y": "cloud3pm",
          "yref": "y"
         },
         {
          "font": {
           "color": "#000000"
          },
          "showarrow": false,
          "text": "0.36",
          "x": "humidity9am",
          "xref": "x",
          "y": "cloud3pm",
          "yref": "y"
         },
         {
          "font": {
           "color": "#000000"
          },
          "showarrow": false,
          "text": "0.52",
          "x": "humidity3pm",
          "xref": "x",
          "y": "cloud3pm",
          "yref": "y"
         },
         {
          "font": {
           "color": "#FFFFFF"
          },
          "showarrow": false,
          "text": "-0.15",
          "x": "pressure9am",
          "xref": "x",
          "y": "cloud3pm",
          "yref": "y"
         },
         {
          "font": {
           "color": "#FFFFFF"
          },
          "showarrow": false,
          "text": "-0.08",
          "x": "pressure3pm",
          "xref": "x",
          "y": "cloud3pm",
          "yref": "y"
         },
         {
          "font": {
           "color": "#000000"
          },
          "showarrow": false,
          "text": "0.6",
          "x": "cloud9am",
          "xref": "x",
          "y": "cloud3pm",
          "yref": "y"
         },
         {
          "font": {
           "color": "#000000"
          },
          "showarrow": false,
          "text": "1.0",
          "x": "cloud3pm",
          "xref": "x",
          "y": "cloud3pm",
          "yref": "y"
         },
         {
          "font": {
           "color": "#FFFFFF"
          },
          "showarrow": false,
          "text": "-0.13",
          "x": "temp9am",
          "xref": "x",
          "y": "cloud3pm",
          "yref": "y"
         },
         {
          "font": {
           "color": "#FFFFFF"
          },
          "showarrow": false,
          "text": "-0.32",
          "x": "temp3pm",
          "xref": "x",
          "y": "cloud3pm",
          "yref": "y"
         },
         {
          "font": {
           "color": "#000000"
          },
          "showarrow": false,
          "text": "0.27",
          "x": "raintoday",
          "xref": "x",
          "y": "cloud3pm",
          "yref": "y"
         },
         {
          "font": {
           "color": "#000000"
          },
          "showarrow": false,
          "text": "0.38",
          "x": "raintomorrow",
          "xref": "x",
          "y": "cloud3pm",
          "yref": "y"
         },
         {
          "font": {
           "color": "#000000"
          },
          "showarrow": false,
          "text": "0.9",
          "x": "mintemp",
          "xref": "x",
          "y": "temp9am",
          "yref": "y"
         },
         {
          "font": {
           "color": "#000000"
          },
          "showarrow": false,
          "text": "0.89",
          "x": "maxtemp",
          "xref": "x",
          "y": "temp9am",
          "yref": "y"
         },
         {
          "font": {
           "color": "#FFFFFF"
          },
          "showarrow": false,
          "text": "0.01",
          "x": "rainfall",
          "xref": "x",
          "y": "temp9am",
          "yref": "y"
         },
         {
          "font": {
           "color": "#000000"
          },
          "showarrow": false,
          "text": "0.55",
          "x": "evaporation",
          "xref": "x",
          "y": "temp9am",
          "yref": "y"
         },
         {
          "font": {
           "color": "#000000"
          },
          "showarrow": false,
          "text": "0.29",
          "x": "sunshine",
          "xref": "x",
          "y": "temp9am",
          "yref": "y"
         },
         {
          "font": {
           "color": "#000000"
          },
          "showarrow": false,
          "text": "0.15",
          "x": "windgustspeed",
          "xref": "x",
          "y": "temp9am",
          "yref": "y"
         },
         {
          "font": {
           "color": "#FFFFFF"
          },
          "showarrow": false,
          "text": "0.13",
          "x": "windspeed9am",
          "xref": "x",
          "y": "temp9am",
          "yref": "y"
         },
         {
          "font": {
           "color": "#000000"
          },
          "showarrow": false,
          "text": "0.16",
          "x": "windspeed3pm",
          "xref": "x",
          "y": "temp9am",
          "yref": "y"
         },
         {
          "font": {
           "color": "#FFFFFF"
          },
          "showarrow": false,
          "text": "-0.47",
          "x": "humidity9am",
          "xref": "x",
          "y": "temp9am",
          "yref": "y"
         },
         {
          "font": {
           "color": "#FFFFFF"
          },
          "showarrow": false,
          "text": "-0.22",
          "x": "humidity3pm",
          "xref": "x",
          "y": "temp9am",
          "yref": "y"
         },
         {
          "font": {
           "color": "#FFFFFF"
          },
          "showarrow": false,
          "text": "-0.42",
          "x": "pressure9am",
          "xref": "x",
          "y": "temp9am",
          "yref": "y"
         },
         {
          "font": {
           "color": "#FFFFFF"
          },
          "showarrow": false,
          "text": "-0.47",
          "x": "pressure3pm",
          "xref": "x",
          "y": "temp9am",
          "yref": "y"
         },
         {
          "font": {
           "color": "#FFFFFF"
          },
          "showarrow": false,
          "text": "-0.14",
          "x": "cloud9am",
          "xref": "x",
          "y": "temp9am",
          "yref": "y"
         },
         {
          "font": {
           "color": "#FFFFFF"
          },
          "showarrow": false,
          "text": "-0.13",
          "x": "cloud3pm",
          "xref": "x",
          "y": "temp9am",
          "yref": "y"
         },
         {
          "font": {
           "color": "#000000"
          },
          "showarrow": false,
          "text": "1.0",
          "x": "temp9am",
          "xref": "x",
          "y": "temp9am",
          "yref": "y"
         },
         {
          "font": {
           "color": "#000000"
          },
          "showarrow": false,
          "text": "0.86",
          "x": "temp3pm",
          "xref": "x",
          "y": "temp9am",
          "yref": "y"
         },
         {
          "font": {
           "color": "#FFFFFF"
          },
          "showarrow": false,
          "text": "-0.1",
          "x": "raintoday",
          "xref": "x",
          "y": "temp9am",
          "yref": "y"
         },
         {
          "font": {
           "color": "#FFFFFF"
          },
          "showarrow": false,
          "text": "-0.03",
          "x": "raintomorrow",
          "xref": "x",
          "y": "temp9am",
          "yref": "y"
         },
         {
          "font": {
           "color": "#000000"
          },
          "showarrow": false,
          "text": "0.71",
          "x": "mintemp",
          "xref": "x",
          "y": "temp3pm",
          "yref": "y"
         },
         {
          "font": {
           "color": "#000000"
          },
          "showarrow": false,
          "text": "0.98",
          "x": "maxtemp",
          "xref": "x",
          "y": "temp3pm",
          "yref": "y"
         },
         {
          "font": {
           "color": "#FFFFFF"
          },
          "showarrow": false,
          "text": "-0.08",
          "x": "rainfall",
          "xref": "x",
          "y": "temp3pm",
          "yref": "y"
         },
         {
          "font": {
           "color": "#000000"
          },
          "showarrow": false,
          "text": "0.57",
          "x": "evaporation",
          "xref": "x",
          "y": "temp3pm",
          "yref": "y"
         },
         {
          "font": {
           "color": "#000000"
          },
          "showarrow": false,
          "text": "0.49",
          "x": "sunshine",
          "xref": "x",
          "y": "temp3pm",
          "yref": "y"
         },
         {
          "font": {
           "color": "#FFFFFF"
          },
          "showarrow": false,
          "text": "0.03",
          "x": "windgustspeed",
          "xref": "x",
          "y": "temp3pm",
          "yref": "y"
         },
         {
          "font": {
           "color": "#FFFFFF"
          },
          "showarrow": false,
          "text": "0.0",
          "x": "windspeed9am",
          "xref": "x",
          "y": "temp3pm",
          "yref": "y"
         },
         {
          "font": {
           "color": "#FFFFFF"
          },
          "showarrow": false,
          "text": "0.03",
          "x": "windspeed3pm",
          "xref": "x",
          "y": "temp3pm",
          "yref": "y"
         },
         {
          "font": {
           "color": "#FFFFFF"
          },
          "showarrow": false,
          "text": "-0.5",
          "x": "humidity9am",
          "xref": "x",
          "y": "temp3pm",
          "yref": "y"
         },
         {
          "font": {
           "color": "#FFFFFF"
          },
          "showarrow": false,
          "text": "-0.56",
          "x": "humidity3pm",
          "xref": "x",
          "y": "temp3pm",
          "yref": "y"
         },
         {
          "font": {
           "color": "#FFFFFF"
          },
          "showarrow": false,
          "text": "-0.29",
          "x": "pressure9am",
          "xref": "x",
          "y": "temp3pm",
          "yref": "y"
         },
         {
          "font": {
           "color": "#FFFFFF"
          },
          "showarrow": false,
          "text": "-0.39",
          "x": "pressure3pm",
          "xref": "x",
          "y": "temp3pm",
          "yref": "y"
         },
         {
          "font": {
           "color": "#FFFFFF"
          },
          "showarrow": false,
          "text": "-0.3",
          "x": "cloud9am",
          "xref": "x",
          "y": "temp3pm",
          "yref": "y"
         },
         {
          "font": {
           "color": "#FFFFFF"
          },
          "showarrow": false,
          "text": "-0.32",
          "x": "cloud3pm",
          "xref": "x",
          "y": "temp3pm",
          "yref": "y"
         },
         {
          "font": {
           "color": "#000000"
          },
          "showarrow": false,
          "text": "0.86",
          "x": "temp9am",
          "xref": "x",
          "y": "temp3pm",
          "yref": "y"
         },
         {
          "font": {
           "color": "#000000"
          },
          "showarrow": false,
          "text": "1.0",
          "x": "temp3pm",
          "xref": "x",
          "y": "temp3pm",
          "yref": "y"
         },
         {
          "font": {
           "color": "#FFFFFF"
          },
          "showarrow": false,
          "text": "-0.24",
          "x": "raintoday",
          "xref": "x",
          "y": "temp3pm",
          "yref": "y"
         },
         {
          "font": {
           "color": "#FFFFFF"
          },
          "showarrow": false,
          "text": "-0.19",
          "x": "raintomorrow",
          "xref": "x",
          "y": "temp3pm",
          "yref": "y"
         },
         {
          "font": {
           "color": "#FFFFFF"
          },
          "showarrow": false,
          "text": "0.06",
          "x": "mintemp",
          "xref": "x",
          "y": "raintoday",
          "yref": "y"
         },
         {
          "font": {
           "color": "#FFFFFF"
          },
          "showarrow": false,
          "text": "-0.23",
          "x": "maxtemp",
          "xref": "x",
          "y": "raintoday",
          "yref": "y"
         },
         {
          "font": {
           "color": "#000000"
          },
          "showarrow": false,
          "text": "0.5",
          "x": "rainfall",
          "xref": "x",
          "y": "raintoday",
          "yref": "y"
         },
         {
          "font": {
           "color": "#FFFFFF"
          },
          "showarrow": false,
          "text": "-0.19",
          "x": "evaporation",
          "xref": "x",
          "y": "raintoday",
          "yref": "y"
         },
         {
          "font": {
           "color": "#FFFFFF"
          },
          "showarrow": false,
          "text": "-0.33",
          "x": "sunshine",
          "xref": "x",
          "y": "raintoday",
          "yref": "y"
         },
         {
          "font": {
           "color": "#000000"
          },
          "showarrow": false,
          "text": "0.16",
          "x": "windgustspeed",
          "xref": "x",
          "y": "raintoday",
          "yref": "y"
         },
         {
          "font": {
           "color": "#FFFFFF"
          },
          "showarrow": false,
          "text": "0.1",
          "x": "windspeed9am",
          "xref": "x",
          "y": "raintoday",
          "yref": "y"
         },
         {
          "font": {
           "color": "#FFFFFF"
          },
          "showarrow": false,
          "text": "0.08",
          "x": "windspeed3pm",
          "xref": "x",
          "y": "raintoday",
          "yref": "y"
         },
         {
          "font": {
           "color": "#000000"
          },
          "showarrow": false,
          "text": "0.35",
          "x": "humidity9am",
          "xref": "x",
          "y": "raintoday",
          "yref": "y"
         },
         {
          "font": {
           "color": "#000000"
          },
          "showarrow": false,
          "text": "0.38",
          "x": "humidity3pm",
          "xref": "x",
          "y": "raintoday",
          "yref": "y"
         },
         {
          "font": {
           "color": "#FFFFFF"
          },
          "showarrow": false,
          "text": "-0.19",
          "x": "pressure9am",
          "xref": "x",
          "y": "raintoday",
          "yref": "y"
         },
         {
          "font": {
           "color": "#FFFFFF"
          },
          "showarrow": false,
          "text": "-0.11",
          "x": "pressure3pm",
          "xref": "x",
          "y": "raintoday",
          "yref": "y"
         },
         {
          "font": {
           "color": "#000000"
          },
          "showarrow": false,
          "text": "0.31",
          "x": "cloud9am",
          "xref": "x",
          "y": "raintoday",
          "yref": "y"
         },
         {
          "font": {
           "color": "#000000"
          },
          "showarrow": false,
          "text": "0.27",
          "x": "cloud3pm",
          "xref": "x",
          "y": "raintoday",
          "yref": "y"
         },
         {
          "font": {
           "color": "#FFFFFF"
          },
          "showarrow": false,
          "text": "-0.1",
          "x": "temp9am",
          "xref": "x",
          "y": "raintoday",
          "yref": "y"
         },
         {
          "font": {
           "color": "#FFFFFF"
          },
          "showarrow": false,
          "text": "-0.24",
          "x": "temp3pm",
          "xref": "x",
          "y": "raintoday",
          "yref": "y"
         },
         {
          "font": {
           "color": "#000000"
          },
          "showarrow": false,
          "text": "1.0",
          "x": "raintoday",
          "xref": "x",
          "y": "raintoday",
          "yref": "y"
         },
         {
          "font": {
           "color": "#000000"
          },
          "showarrow": false,
          "text": "0.31",
          "x": "raintomorrow",
          "xref": "x",
          "y": "raintoday",
          "yref": "y"
         },
         {
          "font": {
           "color": "#FFFFFF"
          },
          "showarrow": false,
          "text": "0.08",
          "x": "mintemp",
          "xref": "x",
          "y": "raintomorrow",
          "yref": "y"
         },
         {
          "font": {
           "color": "#FFFFFF"
          },
          "showarrow": false,
          "text": "-0.16",
          "x": "maxtemp",
          "xref": "x",
          "y": "raintomorrow",
          "yref": "y"
         },
         {
          "font": {
           "color": "#000000"
          },
          "showarrow": false,
          "text": "0.24",
          "x": "rainfall",
          "xref": "x",
          "y": "raintomorrow",
          "yref": "y"
         },
         {
          "font": {
           "color": "#FFFFFF"
          },
          "showarrow": false,
          "text": "-0.12",
          "x": "evaporation",
          "xref": "x",
          "y": "raintomorrow",
          "yref": "y"
         },
         {
          "font": {
           "color": "#FFFFFF"
          },
          "showarrow": false,
          "text": "-0.45",
          "x": "sunshine",
          "xref": "x",
          "y": "raintomorrow",
          "yref": "y"
         },
         {
          "font": {
           "color": "#000000"
          },
          "showarrow": false,
          "text": "0.23",
          "x": "windgustspeed",
          "xref": "x",
          "y": "raintomorrow",
          "yref": "y"
         },
         {
          "font": {
           "color": "#FFFFFF"
          },
          "showarrow": false,
          "text": "0.09",
          "x": "windspeed9am",
          "xref": "x",
          "y": "raintomorrow",
          "yref": "y"
         },
         {
          "font": {
           "color": "#FFFFFF"
          },
          "showarrow": false,
          "text": "0.09",
          "x": "windspeed3pm",
          "xref": "x",
          "y": "raintomorrow",
          "yref": "y"
         },
         {
          "font": {
           "color": "#000000"
          },
          "showarrow": false,
          "text": "0.26",
          "x": "humidity9am",
          "xref": "x",
          "y": "raintomorrow",
          "yref": "y"
         },
         {
          "font": {
           "color": "#000000"
          },
          "showarrow": false,
          "text": "0.45",
          "x": "humidity3pm",
          "xref": "x",
          "y": "raintomorrow",
          "yref": "y"
         },
         {
          "font": {
           "color": "#FFFFFF"
          },
          "showarrow": false,
          "text": "-0.25",
          "x": "pressure9am",
          "xref": "x",
          "y": "raintomorrow",
          "yref": "y"
         },
         {
          "font": {
           "color": "#FFFFFF"
          },
          "showarrow": false,
          "text": "-0.23",
          "x": "pressure3pm",
          "xref": "x",
          "y": "raintomorrow",
          "yref": "y"
         },
         {
          "font": {
           "color": "#000000"
          },
          "showarrow": false,
          "text": "0.32",
          "x": "cloud9am",
          "xref": "x",
          "y": "raintomorrow",
          "yref": "y"
         },
         {
          "font": {
           "color": "#000000"
          },
          "showarrow": false,
          "text": "0.38",
          "x": "cloud3pm",
          "xref": "x",
          "y": "raintomorrow",
          "yref": "y"
         },
         {
          "font": {
           "color": "#FFFFFF"
          },
          "showarrow": false,
          "text": "-0.03",
          "x": "temp9am",
          "xref": "x",
          "y": "raintomorrow",
          "yref": "y"
         },
         {
          "font": {
           "color": "#FFFFFF"
          },
          "showarrow": false,
          "text": "-0.19",
          "x": "temp3pm",
          "xref": "x",
          "y": "raintomorrow",
          "yref": "y"
         },
         {
          "font": {
           "color": "#000000"
          },
          "showarrow": false,
          "text": "0.31",
          "x": "raintoday",
          "xref": "x",
          "y": "raintomorrow",
          "yref": "y"
         },
         {
          "font": {
           "color": "#000000"
          },
          "showarrow": false,
          "text": "1.0",
          "x": "raintomorrow",
          "xref": "x",
          "y": "raintomorrow",
          "yref": "y"
         }
        ],
        "template": {
         "data": {
          "bar": [
           {
            "error_x": {
             "color": "#2a3f5f"
            },
            "error_y": {
             "color": "#2a3f5f"
            },
            "marker": {
             "line": {
              "color": "#E5ECF6",
              "width": 0.5
             },
             "pattern": {
              "fillmode": "overlay",
              "size": 10,
              "solidity": 0.2
             }
            },
            "type": "bar"
           }
          ],
          "barpolar": [
           {
            "marker": {
             "line": {
              "color": "#E5ECF6",
              "width": 0.5
             },
             "pattern": {
              "fillmode": "overlay",
              "size": 10,
              "solidity": 0.2
             }
            },
            "type": "barpolar"
           }
          ],
          "carpet": [
           {
            "aaxis": {
             "endlinecolor": "#2a3f5f",
             "gridcolor": "white",
             "linecolor": "white",
             "minorgridcolor": "white",
             "startlinecolor": "#2a3f5f"
            },
            "baxis": {
             "endlinecolor": "#2a3f5f",
             "gridcolor": "white",
             "linecolor": "white",
             "minorgridcolor": "white",
             "startlinecolor": "#2a3f5f"
            },
            "type": "carpet"
           }
          ],
          "choropleth": [
           {
            "colorbar": {
             "outlinewidth": 0,
             "ticks": ""
            },
            "type": "choropleth"
           }
          ],
          "contour": [
           {
            "colorbar": {
             "outlinewidth": 0,
             "ticks": ""
            },
            "colorscale": [
             [
              0,
              "#0d0887"
             ],
             [
              0.1111111111111111,
              "#46039f"
             ],
             [
              0.2222222222222222,
              "#7201a8"
             ],
             [
              0.3333333333333333,
              "#9c179e"
             ],
             [
              0.4444444444444444,
              "#bd3786"
             ],
             [
              0.5555555555555556,
              "#d8576b"
             ],
             [
              0.6666666666666666,
              "#ed7953"
             ],
             [
              0.7777777777777778,
              "#fb9f3a"
             ],
             [
              0.8888888888888888,
              "#fdca26"
             ],
             [
              1,
              "#f0f921"
             ]
            ],
            "type": "contour"
           }
          ],
          "contourcarpet": [
           {
            "colorbar": {
             "outlinewidth": 0,
             "ticks": ""
            },
            "type": "contourcarpet"
           }
          ],
          "heatmap": [
           {
            "colorbar": {
             "outlinewidth": 0,
             "ticks": ""
            },
            "colorscale": [
             [
              0,
              "#0d0887"
             ],
             [
              0.1111111111111111,
              "#46039f"
             ],
             [
              0.2222222222222222,
              "#7201a8"
             ],
             [
              0.3333333333333333,
              "#9c179e"
             ],
             [
              0.4444444444444444,
              "#bd3786"
             ],
             [
              0.5555555555555556,
              "#d8576b"
             ],
             [
              0.6666666666666666,
              "#ed7953"
             ],
             [
              0.7777777777777778,
              "#fb9f3a"
             ],
             [
              0.8888888888888888,
              "#fdca26"
             ],
             [
              1,
              "#f0f921"
             ]
            ],
            "type": "heatmap"
           }
          ],
          "heatmapgl": [
           {
            "colorbar": {
             "outlinewidth": 0,
             "ticks": ""
            },
            "colorscale": [
             [
              0,
              "#0d0887"
             ],
             [
              0.1111111111111111,
              "#46039f"
             ],
             [
              0.2222222222222222,
              "#7201a8"
             ],
             [
              0.3333333333333333,
              "#9c179e"
             ],
             [
              0.4444444444444444,
              "#bd3786"
             ],
             [
              0.5555555555555556,
              "#d8576b"
             ],
             [
              0.6666666666666666,
              "#ed7953"
             ],
             [
              0.7777777777777778,
              "#fb9f3a"
             ],
             [
              0.8888888888888888,
              "#fdca26"
             ],
             [
              1,
              "#f0f921"
             ]
            ],
            "type": "heatmapgl"
           }
          ],
          "histogram": [
           {
            "marker": {
             "pattern": {
              "fillmode": "overlay",
              "size": 10,
              "solidity": 0.2
             }
            },
            "type": "histogram"
           }
          ],
          "histogram2d": [
           {
            "colorbar": {
             "outlinewidth": 0,
             "ticks": ""
            },
            "colorscale": [
             [
              0,
              "#0d0887"
             ],
             [
              0.1111111111111111,
              "#46039f"
             ],
             [
              0.2222222222222222,
              "#7201a8"
             ],
             [
              0.3333333333333333,
              "#9c179e"
             ],
             [
              0.4444444444444444,
              "#bd3786"
             ],
             [
              0.5555555555555556,
              "#d8576b"
             ],
             [
              0.6666666666666666,
              "#ed7953"
             ],
             [
              0.7777777777777778,
              "#fb9f3a"
             ],
             [
              0.8888888888888888,
              "#fdca26"
             ],
             [
              1,
              "#f0f921"
             ]
            ],
            "type": "histogram2d"
           }
          ],
          "histogram2dcontour": [
           {
            "colorbar": {
             "outlinewidth": 0,
             "ticks": ""
            },
            "colorscale": [
             [
              0,
              "#0d0887"
             ],
             [
              0.1111111111111111,
              "#46039f"
             ],
             [
              0.2222222222222222,
              "#7201a8"
             ],
             [
              0.3333333333333333,
              "#9c179e"
             ],
             [
              0.4444444444444444,
              "#bd3786"
             ],
             [
              0.5555555555555556,
              "#d8576b"
             ],
             [
              0.6666666666666666,
              "#ed7953"
             ],
             [
              0.7777777777777778,
              "#fb9f3a"
             ],
             [
              0.8888888888888888,
              "#fdca26"
             ],
             [
              1,
              "#f0f921"
             ]
            ],
            "type": "histogram2dcontour"
           }
          ],
          "mesh3d": [
           {
            "colorbar": {
             "outlinewidth": 0,
             "ticks": ""
            },
            "type": "mesh3d"
           }
          ],
          "parcoords": [
           {
            "line": {
             "colorbar": {
              "outlinewidth": 0,
              "ticks": ""
             }
            },
            "type": "parcoords"
           }
          ],
          "pie": [
           {
            "automargin": true,
            "type": "pie"
           }
          ],
          "scatter": [
           {
            "marker": {
             "colorbar": {
              "outlinewidth": 0,
              "ticks": ""
             }
            },
            "type": "scatter"
           }
          ],
          "scatter3d": [
           {
            "line": {
             "colorbar": {
              "outlinewidth": 0,
              "ticks": ""
             }
            },
            "marker": {
             "colorbar": {
              "outlinewidth": 0,
              "ticks": ""
             }
            },
            "type": "scatter3d"
           }
          ],
          "scattercarpet": [
           {
            "marker": {
             "colorbar": {
              "outlinewidth": 0,
              "ticks": ""
             }
            },
            "type": "scattercarpet"
           }
          ],
          "scattergeo": [
           {
            "marker": {
             "colorbar": {
              "outlinewidth": 0,
              "ticks": ""
             }
            },
            "type": "scattergeo"
           }
          ],
          "scattergl": [
           {
            "marker": {
             "colorbar": {
              "outlinewidth": 0,
              "ticks": ""
             }
            },
            "type": "scattergl"
           }
          ],
          "scattermapbox": [
           {
            "marker": {
             "colorbar": {
              "outlinewidth": 0,
              "ticks": ""
             }
            },
            "type": "scattermapbox"
           }
          ],
          "scatterpolar": [
           {
            "marker": {
             "colorbar": {
              "outlinewidth": 0,
              "ticks": ""
             }
            },
            "type": "scatterpolar"
           }
          ],
          "scatterpolargl": [
           {
            "marker": {
             "colorbar": {
              "outlinewidth": 0,
              "ticks": ""
             }
            },
            "type": "scatterpolargl"
           }
          ],
          "scatterternary": [
           {
            "marker": {
             "colorbar": {
              "outlinewidth": 0,
              "ticks": ""
             }
            },
            "type": "scatterternary"
           }
          ],
          "surface": [
           {
            "colorbar": {
             "outlinewidth": 0,
             "ticks": ""
            },
            "colorscale": [
             [
              0,
              "#0d0887"
             ],
             [
              0.1111111111111111,
              "#46039f"
             ],
             [
              0.2222222222222222,
              "#7201a8"
             ],
             [
              0.3333333333333333,
              "#9c179e"
             ],
             [
              0.4444444444444444,
              "#bd3786"
             ],
             [
              0.5555555555555556,
              "#d8576b"
             ],
             [
              0.6666666666666666,
              "#ed7953"
             ],
             [
              0.7777777777777778,
              "#fb9f3a"
             ],
             [
              0.8888888888888888,
              "#fdca26"
             ],
             [
              1,
              "#f0f921"
             ]
            ],
            "type": "surface"
           }
          ],
          "table": [
           {
            "cells": {
             "fill": {
              "color": "#EBF0F8"
             },
             "line": {
              "color": "white"
             }
            },
            "header": {
             "fill": {
              "color": "#C8D4E3"
             },
             "line": {
              "color": "white"
             }
            },
            "type": "table"
           }
          ]
         },
         "layout": {
          "annotationdefaults": {
           "arrowcolor": "#2a3f5f",
           "arrowhead": 0,
           "arrowwidth": 1
          },
          "autotypenumbers": "strict",
          "coloraxis": {
           "colorbar": {
            "outlinewidth": 0,
            "ticks": ""
           }
          },
          "colorscale": {
           "diverging": [
            [
             0,
             "#8e0152"
            ],
            [
             0.1,
             "#c51b7d"
            ],
            [
             0.2,
             "#de77ae"
            ],
            [
             0.3,
             "#f1b6da"
            ],
            [
             0.4,
             "#fde0ef"
            ],
            [
             0.5,
             "#f7f7f7"
            ],
            [
             0.6,
             "#e6f5d0"
            ],
            [
             0.7,
             "#b8e186"
            ],
            [
             0.8,
             "#7fbc41"
            ],
            [
             0.9,
             "#4d9221"
            ],
            [
             1,
             "#276419"
            ]
           ],
           "sequential": [
            [
             0,
             "#0d0887"
            ],
            [
             0.1111111111111111,
             "#46039f"
            ],
            [
             0.2222222222222222,
             "#7201a8"
            ],
            [
             0.3333333333333333,
             "#9c179e"
            ],
            [
             0.4444444444444444,
             "#bd3786"
            ],
            [
             0.5555555555555556,
             "#d8576b"
            ],
            [
             0.6666666666666666,
             "#ed7953"
            ],
            [
             0.7777777777777778,
             "#fb9f3a"
            ],
            [
             0.8888888888888888,
             "#fdca26"
            ],
            [
             1,
             "#f0f921"
            ]
           ],
           "sequentialminus": [
            [
             0,
             "#0d0887"
            ],
            [
             0.1111111111111111,
             "#46039f"
            ],
            [
             0.2222222222222222,
             "#7201a8"
            ],
            [
             0.3333333333333333,
             "#9c179e"
            ],
            [
             0.4444444444444444,
             "#bd3786"
            ],
            [
             0.5555555555555556,
             "#d8576b"
            ],
            [
             0.6666666666666666,
             "#ed7953"
            ],
            [
             0.7777777777777778,
             "#fb9f3a"
            ],
            [
             0.8888888888888888,
             "#fdca26"
            ],
            [
             1,
             "#f0f921"
            ]
           ]
          },
          "colorway": [
           "#636efa",
           "#EF553B",
           "#00cc96",
           "#ab63fa",
           "#FFA15A",
           "#19d3f3",
           "#FF6692",
           "#B6E880",
           "#FF97FF",
           "#FECB52"
          ],
          "font": {
           "color": "#2a3f5f"
          },
          "geo": {
           "bgcolor": "white",
           "lakecolor": "white",
           "landcolor": "#E5ECF6",
           "showlakes": true,
           "showland": true,
           "subunitcolor": "white"
          },
          "hoverlabel": {
           "align": "left"
          },
          "hovermode": "closest",
          "mapbox": {
           "style": "light"
          },
          "paper_bgcolor": "white",
          "plot_bgcolor": "#E5ECF6",
          "polar": {
           "angularaxis": {
            "gridcolor": "white",
            "linecolor": "white",
            "ticks": ""
           },
           "bgcolor": "#E5ECF6",
           "radialaxis": {
            "gridcolor": "white",
            "linecolor": "white",
            "ticks": ""
           }
          },
          "scene": {
           "xaxis": {
            "backgroundcolor": "#E5ECF6",
            "gridcolor": "white",
            "gridwidth": 2,
            "linecolor": "white",
            "showbackground": true,
            "ticks": "",
            "zerolinecolor": "white"
           },
           "yaxis": {
            "backgroundcolor": "#E5ECF6",
            "gridcolor": "white",
            "gridwidth": 2,
            "linecolor": "white",
            "showbackground": true,
            "ticks": "",
            "zerolinecolor": "white"
           },
           "zaxis": {
            "backgroundcolor": "#E5ECF6",
            "gridcolor": "white",
            "gridwidth": 2,
            "linecolor": "white",
            "showbackground": true,
            "ticks": "",
            "zerolinecolor": "white"
           }
          },
          "shapedefaults": {
           "line": {
            "color": "#2a3f5f"
           }
          },
          "ternary": {
           "aaxis": {
            "gridcolor": "white",
            "linecolor": "white",
            "ticks": ""
           },
           "baxis": {
            "gridcolor": "white",
            "linecolor": "white",
            "ticks": ""
           },
           "bgcolor": "#E5ECF6",
           "caxis": {
            "gridcolor": "white",
            "linecolor": "white",
            "ticks": ""
           }
          },
          "title": {
           "x": 0.05
          },
          "xaxis": {
           "automargin": true,
           "gridcolor": "white",
           "linecolor": "white",
           "ticks": "",
           "title": {
            "standoff": 15
           },
           "zerolinecolor": "white",
           "zerolinewidth": 2
          },
          "yaxis": {
           "automargin": true,
           "gridcolor": "white",
           "linecolor": "white",
           "ticks": "",
           "title": {
            "standoff": 15
           },
           "zerolinecolor": "white",
           "zerolinewidth": 2
          }
         }
        },
        "xaxis": {
         "dtick": 1,
         "gridcolor": "rgb(0, 0, 0)",
         "side": "top",
         "ticks": ""
        },
        "yaxis": {
         "dtick": 1,
         "ticks": "",
         "ticksuffix": "  "
        }
       }
      },
      "text/html": [
       "<div>                            <div id=\"b30bf1f7-7023-41f0-acff-fbb577852ea9\" class=\"plotly-graph-div\" style=\"height:525px; width:100%;\"></div>            <script type=\"text/javascript\">                require([\"plotly\"], function(Plotly) {                    window.PLOTLYENV=window.PLOTLYENV || {};                                    if (document.getElementById(\"b30bf1f7-7023-41f0-acff-fbb577852ea9\")) {                    Plotly.newPlot(                        \"b30bf1f7-7023-41f0-acff-fbb577852ea9\",                        [{\"colorscale\":[[0.0,\"#0d0887\"],[0.1111111111111111,\"#46039f\"],[0.2222222222222222,\"#7201a8\"],[0.3333333333333333,\"#9c179e\"],[0.4444444444444444,\"#bd3786\"],[0.5555555555555556,\"#d8576b\"],[0.6666666666666666,\"#ed7953\"],[0.7777777777777778,\"#fb9f3a\"],[0.8888888888888888,\"#fdca26\"],[1.0,\"#f0f921\"]],\"reversescale\":false,\"showscale\":true,\"x\":[\"mintemp\",\"maxtemp\",\"rainfall\",\"evaporation\",\"sunshine\",\"windgustspeed\",\"windspeed9am\",\"windspeed3pm\",\"humidity9am\",\"humidity3pm\",\"pressure9am\",\"pressure3pm\",\"cloud9am\",\"cloud3pm\",\"temp9am\",\"temp3pm\",\"raintoday\",\"raintomorrow\"],\"y\":[\"mintemp\",\"maxtemp\",\"rainfall\",\"evaporation\",\"sunshine\",\"windgustspeed\",\"windspeed9am\",\"windspeed3pm\",\"humidity9am\",\"humidity3pm\",\"pressure9am\",\"pressure3pm\",\"cloud9am\",\"cloud3pm\",\"temp9am\",\"temp3pm\",\"raintoday\",\"raintomorrow\"],\"z\":[[1.0,0.736554879947358,0.10393795340859532,0.4669925569214256,0.07258586808397571,0.1774145260976753,0.17506364073869057,0.17517263108767825,-0.23289924559073164,0.006088664224423575,-0.4509699734544065,-0.46129172586164047,0.0787538283427066,0.021604685038888648,0.9018205621778996,0.7089055392798455,0.05583627714953934,0.08393581350156308],[0.736554879947358,1.0,-0.07499209497993575,0.5879322271019112,0.4701557064131683,0.06761477569098283,0.01444964588964599,0.050300397194580494,-0.5041098050273038,-0.5088554199984232,-0.33206130275331036,-0.4271668835749745,-0.2893701949239778,-0.27792100295511346,0.8872096927504229,0.9845028310904481,-0.22919201710479753,-0.15923666414933418],[0.10393795340859532,-0.07499209497993575,1.0,-0.06435117292604013,-0.22754857553745375,0.13365939753988504,0.08733769468151066,0.05788711972355656,0.22440497587716363,0.2557546575244556,-0.16815364149847833,-0.1265338436909568,0.19852828605297007,0.17240289926478258,0.011191601489034678,-0.0796570726164772,0.5015157607624547,0.23903180145061992],[0.4669925569214256,0.5879322271019112,-0.06435117292604013,1.0,0.36560215022270703,0.20302143800515285,0.19308448307770443,0.12940001633420806,-0.5040922527968444,-0.39024259071039363,-0.2703621404798875,-0.2935805340204502,-0.18379325900830737,-0.18261841213978056,0.5451152126470746,0.5728932109454876,-0.1869448712690504,-0.11928469674513818],[0.07258586808397571,0.4701557064131683,-0.22754857553745375,0.36560215022270703,1.0,-0.03475045685199232,0.005498574825312206,0.053834024723800285,-0.49081885139829456,-0.6291303599834128,0.041969831552005885,-0.019719031024735247,-0.6753233097055099,-0.7039296337088615,0.29118794175836554,0.4905006212075918,-0.3305219883340796,-0.45076806310612133],[0.1774145260976753,0.06761477569098283,0.13365939753988504,0.20302143800515285,-0.03475045685199232,1.0,0.6053032893809175,0.686306743470663,-0.21506968756795294,-0.026327121063789812,-0.45874421802344273,-0.41374904863463996,0.0717355819801594,0.1091675240686803,0.15015009761950066,0.03274777925600875,0.15576076092638677,0.2340097255174442],[0.17506364073869057,0.01444964588964599,0.08733769468151066,0.19308448307770443,0.005498574825312206,0.6053032893809175,1.0,0.519546834492561,-0.2708583880345406,-0.0316138259484374,-0.22874305315934174,-0.17581712628835547,0.02511225384648038,0.054638619717694493,0.12854466322246128,0.004568833457939502,0.10305709619777459,0.09099465016310507],[0.17517263108767825,0.050300397194580494,0.05788711972355656,0.12940001633420806,0.053834024723800285,0.686306743470663,0.519546834492561,1.0,-0.145525126140691,0.016432471350722434,-0.2963511676629694,-0.25543861805056034,0.05333665419063742,0.025395671222374603,0.16302996588669325,0.027777592344805757,0.0805913301004546,0.08781739865081425],[-0.23289924559073164,-0.5041098050273038,0.22440497587716363,-0.5040922527968444,-0.49081885139829456,-0.21506968756795294,-0.2708583880345406,-0.145525126140691,1.0,0.6669485686855433,0.13944214914517747,0.18685839923670616,0.45229699069983464,0.3573261614347828,-0.47135393998323405,-0.49839946252911915,0.35370817607393973,0.2571611603438004],[0.006088664224423575,-0.5088554199984232,0.2557546575244556,-0.39024259071039363,-0.6291303599834128,-0.026327121063789812,-0.0316138259484374,0.016432471350722434,0.6669485686855433,1.0,-0.02754442712799566,0.05199662593498018,0.517119947699489,0.5231199766631821,-0.22101938347112143,-0.5578410027715796,0.37902002883171093,0.4461603787913129],[-0.4509699734544065,-0.33206130275331036,-0.16815364149847833,-0.2703621404798875,0.041969831552005885,-0.45874421802344273,-0.22874305315934174,-0.2963511676629694,0.13944214914517747,-0.02754442712799566,1.0,0.961325721117448,-0.12979647803334157,-0.1478608219698691,-0.4225556605462815,-0.2867700414222888,-0.1897810025428808,-0.24637114625949152],[-0.46129172586164047,-0.4271668835749745,-0.1265338436909568,-0.2935805340204502,-0.019719031024735247,-0.41374904863463996,-0.17581712628835547,-0.25543861805056034,0.18685839923670616,0.05199662593498018,0.961325721117448,1.0,-0.06077150995691364,-0.08477834323465137,-0.4701868443814808,-0.38954834973721725,-0.10612988528356615,-0.22603114552542683],[0.0787538283427066,-0.2893701949239778,0.19852828605297007,-0.18379325900830737,-0.6753233097055099,0.0717355819801594,0.02511225384648038,0.05333665419063742,0.45229699069983464,0.517119947699489,-0.12979647803334157,-0.06077150995691364,1.0,0.6035637678576092,-0.13695868734311356,-0.3020600252203267,0.306201284355178,0.3173798297063481],[0.021604685038888648,-0.27792100295511346,0.17240289926478258,-0.18261841213978056,-0.7039296337088615,0.1091675240686803,0.054638619717694493,0.025395671222374603,0.3573261614347828,0.5231199766631821,-0.1478608219698691,-0.08477834323465137,0.6035637678576092,1.0,-0.12665882260768616,-0.31741962047769096,0.2722249558653982,0.3818704110470075],[0.9018205621778996,0.8872096927504229,0.011191601489034678,0.5451152126470746,0.29118794175836554,0.15015009761950066,0.12854466322246128,0.16302996588669325,-0.47135393998323405,-0.22101938347112143,-0.4225556605462815,-0.4701868443814808,-0.13695868734311356,-0.12665882260768616,1.0,0.86059123734335,-0.09686468757182057,-0.025690822604581644],[0.7089055392798455,0.9845028310904481,-0.0796570726164772,0.5728932109454876,0.4905006212075918,0.03274777925600875,0.004568833457939502,0.027777592344805757,-0.49839946252911915,-0.5578410027715796,-0.2867700414222888,-0.38954834973721725,-0.3020600252203267,-0.31741962047769096,0.86059123734335,1.0,-0.23534031052896895,-0.19242408670116043],[0.05583627714953934,-0.22919201710479753,0.5015157607624547,-0.1869448712690504,-0.3305219883340796,0.15576076092638677,0.10305709619777459,0.0805913301004546,0.35370817607393973,0.37902002883171093,-0.1897810025428808,-0.10612988528356615,0.306201284355178,0.2722249558653982,-0.09686468757182057,-0.23534031052896895,1.0,0.31309674550896077],[0.08393581350156308,-0.15923666414933418,0.23903180145061992,-0.11928469674513818,-0.45076806310612133,0.2340097255174442,0.09099465016310507,0.08781739865081425,0.2571611603438004,0.4461603787913129,-0.24637114625949152,-0.22603114552542683,0.3173798297063481,0.3818704110470075,-0.025690822604581644,-0.19242408670116043,0.31309674550896077,1.0]],\"type\":\"heatmap\"}],                        {\"annotations\":[{\"font\":{\"color\":\"#000000\"},\"showarrow\":false,\"text\":\"1.0\",\"x\":\"mintemp\",\"xref\":\"x\",\"y\":\"mintemp\",\"yref\":\"y\"},{\"font\":{\"color\":\"#000000\"},\"showarrow\":false,\"text\":\"0.74\",\"x\":\"maxtemp\",\"xref\":\"x\",\"y\":\"mintemp\",\"yref\":\"y\"},{\"font\":{\"color\":\"#FFFFFF\"},\"showarrow\":false,\"text\":\"0.1\",\"x\":\"rainfall\",\"xref\":\"x\",\"y\":\"mintemp\",\"yref\":\"y\"},{\"font\":{\"color\":\"#000000\"},\"showarrow\":false,\"text\":\"0.47\",\"x\":\"evaporation\",\"xref\":\"x\",\"y\":\"mintemp\",\"yref\":\"y\"},{\"font\":{\"color\":\"#FFFFFF\"},\"showarrow\":false,\"text\":\"0.07\",\"x\":\"sunshine\",\"xref\":\"x\",\"y\":\"mintemp\",\"yref\":\"y\"},{\"font\":{\"color\":\"#000000\"},\"showarrow\":false,\"text\":\"0.18\",\"x\":\"windgustspeed\",\"xref\":\"x\",\"y\":\"mintemp\",\"yref\":\"y\"},{\"font\":{\"color\":\"#000000\"},\"showarrow\":false,\"text\":\"0.18\",\"x\":\"windspeed9am\",\"xref\":\"x\",\"y\":\"mintemp\",\"yref\":\"y\"},{\"font\":{\"color\":\"#000000\"},\"showarrow\":false,\"text\":\"0.18\",\"x\":\"windspeed3pm\",\"xref\":\"x\",\"y\":\"mintemp\",\"yref\":\"y\"},{\"font\":{\"color\":\"#FFFFFF\"},\"showarrow\":false,\"text\":\"-0.23\",\"x\":\"humidity9am\",\"xref\":\"x\",\"y\":\"mintemp\",\"yref\":\"y\"},{\"font\":{\"color\":\"#FFFFFF\"},\"showarrow\":false,\"text\":\"0.01\",\"x\":\"humidity3pm\",\"xref\":\"x\",\"y\":\"mintemp\",\"yref\":\"y\"},{\"font\":{\"color\":\"#FFFFFF\"},\"showarrow\":false,\"text\":\"-0.45\",\"x\":\"pressure9am\",\"xref\":\"x\",\"y\":\"mintemp\",\"yref\":\"y\"},{\"font\":{\"color\":\"#FFFFFF\"},\"showarrow\":false,\"text\":\"-0.46\",\"x\":\"pressure3pm\",\"xref\":\"x\",\"y\":\"mintemp\",\"yref\":\"y\"},{\"font\":{\"color\":\"#FFFFFF\"},\"showarrow\":false,\"text\":\"0.08\",\"x\":\"cloud9am\",\"xref\":\"x\",\"y\":\"mintemp\",\"yref\":\"y\"},{\"font\":{\"color\":\"#FFFFFF\"},\"showarrow\":false,\"text\":\"0.02\",\"x\":\"cloud3pm\",\"xref\":\"x\",\"y\":\"mintemp\",\"yref\":\"y\"},{\"font\":{\"color\":\"#000000\"},\"showarrow\":false,\"text\":\"0.9\",\"x\":\"temp9am\",\"xref\":\"x\",\"y\":\"mintemp\",\"yref\":\"y\"},{\"font\":{\"color\":\"#000000\"},\"showarrow\":false,\"text\":\"0.71\",\"x\":\"temp3pm\",\"xref\":\"x\",\"y\":\"mintemp\",\"yref\":\"y\"},{\"font\":{\"color\":\"#FFFFFF\"},\"showarrow\":false,\"text\":\"0.06\",\"x\":\"raintoday\",\"xref\":\"x\",\"y\":\"mintemp\",\"yref\":\"y\"},{\"font\":{\"color\":\"#FFFFFF\"},\"showarrow\":false,\"text\":\"0.08\",\"x\":\"raintomorrow\",\"xref\":\"x\",\"y\":\"mintemp\",\"yref\":\"y\"},{\"font\":{\"color\":\"#000000\"},\"showarrow\":false,\"text\":\"0.74\",\"x\":\"mintemp\",\"xref\":\"x\",\"y\":\"maxtemp\",\"yref\":\"y\"},{\"font\":{\"color\":\"#000000\"},\"showarrow\":false,\"text\":\"1.0\",\"x\":\"maxtemp\",\"xref\":\"x\",\"y\":\"maxtemp\",\"yref\":\"y\"},{\"font\":{\"color\":\"#FFFFFF\"},\"showarrow\":false,\"text\":\"-0.07\",\"x\":\"rainfall\",\"xref\":\"x\",\"y\":\"maxtemp\",\"yref\":\"y\"},{\"font\":{\"color\":\"#000000\"},\"showarrow\":false,\"text\":\"0.59\",\"x\":\"evaporation\",\"xref\":\"x\",\"y\":\"maxtemp\",\"yref\":\"y\"},{\"font\":{\"color\":\"#000000\"},\"showarrow\":false,\"text\":\"0.47\",\"x\":\"sunshine\",\"xref\":\"x\",\"y\":\"maxtemp\",\"yref\":\"y\"},{\"font\":{\"color\":\"#FFFFFF\"},\"showarrow\":false,\"text\":\"0.07\",\"x\":\"windgustspeed\",\"xref\":\"x\",\"y\":\"maxtemp\",\"yref\":\"y\"},{\"font\":{\"color\":\"#FFFFFF\"},\"showarrow\":false,\"text\":\"0.01\",\"x\":\"windspeed9am\",\"xref\":\"x\",\"y\":\"maxtemp\",\"yref\":\"y\"},{\"font\":{\"color\":\"#FFFFFF\"},\"showarrow\":false,\"text\":\"0.05\",\"x\":\"windspeed3pm\",\"xref\":\"x\",\"y\":\"maxtemp\",\"yref\":\"y\"},{\"font\":{\"color\":\"#FFFFFF\"},\"showarrow\":false,\"text\":\"-0.5\",\"x\":\"humidity9am\",\"xref\":\"x\",\"y\":\"maxtemp\",\"yref\":\"y\"},{\"font\":{\"color\":\"#FFFFFF\"},\"showarrow\":false,\"text\":\"-0.51\",\"x\":\"humidity3pm\",\"xref\":\"x\",\"y\":\"maxtemp\",\"yref\":\"y\"},{\"font\":{\"color\":\"#FFFFFF\"},\"showarrow\":false,\"text\":\"-0.33\",\"x\":\"pressure9am\",\"xref\":\"x\",\"y\":\"maxtemp\",\"yref\":\"y\"},{\"font\":{\"color\":\"#FFFFFF\"},\"showarrow\":false,\"text\":\"-0.43\",\"x\":\"pressure3pm\",\"xref\":\"x\",\"y\":\"maxtemp\",\"yref\":\"y\"},{\"font\":{\"color\":\"#FFFFFF\"},\"showarrow\":false,\"text\":\"-0.29\",\"x\":\"cloud9am\",\"xref\":\"x\",\"y\":\"maxtemp\",\"yref\":\"y\"},{\"font\":{\"color\":\"#FFFFFF\"},\"showarrow\":false,\"text\":\"-0.28\",\"x\":\"cloud3pm\",\"xref\":\"x\",\"y\":\"maxtemp\",\"yref\":\"y\"},{\"font\":{\"color\":\"#000000\"},\"showarrow\":false,\"text\":\"0.89\",\"x\":\"temp9am\",\"xref\":\"x\",\"y\":\"maxtemp\",\"yref\":\"y\"},{\"font\":{\"color\":\"#000000\"},\"showarrow\":false,\"text\":\"0.98\",\"x\":\"temp3pm\",\"xref\":\"x\",\"y\":\"maxtemp\",\"yref\":\"y\"},{\"font\":{\"color\":\"#FFFFFF\"},\"showarrow\":false,\"text\":\"-0.23\",\"x\":\"raintoday\",\"xref\":\"x\",\"y\":\"maxtemp\",\"yref\":\"y\"},{\"font\":{\"color\":\"#FFFFFF\"},\"showarrow\":false,\"text\":\"-0.16\",\"x\":\"raintomorrow\",\"xref\":\"x\",\"y\":\"maxtemp\",\"yref\":\"y\"},{\"font\":{\"color\":\"#FFFFFF\"},\"showarrow\":false,\"text\":\"0.1\",\"x\":\"mintemp\",\"xref\":\"x\",\"y\":\"rainfall\",\"yref\":\"y\"},{\"font\":{\"color\":\"#FFFFFF\"},\"showarrow\":false,\"text\":\"-0.07\",\"x\":\"maxtemp\",\"xref\":\"x\",\"y\":\"rainfall\",\"yref\":\"y\"},{\"font\":{\"color\":\"#000000\"},\"showarrow\":false,\"text\":\"1.0\",\"x\":\"rainfall\",\"xref\":\"x\",\"y\":\"rainfall\",\"yref\":\"y\"},{\"font\":{\"color\":\"#FFFFFF\"},\"showarrow\":false,\"text\":\"-0.06\",\"x\":\"evaporation\",\"xref\":\"x\",\"y\":\"rainfall\",\"yref\":\"y\"},{\"font\":{\"color\":\"#FFFFFF\"},\"showarrow\":false,\"text\":\"-0.23\",\"x\":\"sunshine\",\"xref\":\"x\",\"y\":\"rainfall\",\"yref\":\"y\"},{\"font\":{\"color\":\"#FFFFFF\"},\"showarrow\":false,\"text\":\"0.13\",\"x\":\"windgustspeed\",\"xref\":\"x\",\"y\":\"rainfall\",\"yref\":\"y\"},{\"font\":{\"color\":\"#FFFFFF\"},\"showarrow\":false,\"text\":\"0.09\",\"x\":\"windspeed9am\",\"xref\":\"x\",\"y\":\"rainfall\",\"yref\":\"y\"},{\"font\":{\"color\":\"#FFFFFF\"},\"showarrow\":false,\"text\":\"0.06\",\"x\":\"windspeed3pm\",\"xref\":\"x\",\"y\":\"rainfall\",\"yref\":\"y\"},{\"font\":{\"color\":\"#000000\"},\"showarrow\":false,\"text\":\"0.22\",\"x\":\"humidity9am\",\"xref\":\"x\",\"y\":\"rainfall\",\"yref\":\"y\"},{\"font\":{\"color\":\"#000000\"},\"showarrow\":false,\"text\":\"0.26\",\"x\":\"humidity3pm\",\"xref\":\"x\",\"y\":\"rainfall\",\"yref\":\"y\"},{\"font\":{\"color\":\"#FFFFFF\"},\"showarrow\":false,\"text\":\"-0.17\",\"x\":\"pressure9am\",\"xref\":\"x\",\"y\":\"rainfall\",\"yref\":\"y\"},{\"font\":{\"color\":\"#FFFFFF\"},\"showarrow\":false,\"text\":\"-0.13\",\"x\":\"pressure3pm\",\"xref\":\"x\",\"y\":\"rainfall\",\"yref\":\"y\"},{\"font\":{\"color\":\"#000000\"},\"showarrow\":false,\"text\":\"0.2\",\"x\":\"cloud9am\",\"xref\":\"x\",\"y\":\"rainfall\",\"yref\":\"y\"},{\"font\":{\"color\":\"#000000\"},\"showarrow\":false,\"text\":\"0.17\",\"x\":\"cloud3pm\",\"xref\":\"x\",\"y\":\"rainfall\",\"yref\":\"y\"},{\"font\":{\"color\":\"#FFFFFF\"},\"showarrow\":false,\"text\":\"0.01\",\"x\":\"temp9am\",\"xref\":\"x\",\"y\":\"rainfall\",\"yref\":\"y\"},{\"font\":{\"color\":\"#FFFFFF\"},\"showarrow\":false,\"text\":\"-0.08\",\"x\":\"temp3pm\",\"xref\":\"x\",\"y\":\"rainfall\",\"yref\":\"y\"},{\"font\":{\"color\":\"#000000\"},\"showarrow\":false,\"text\":\"0.5\",\"x\":\"raintoday\",\"xref\":\"x\",\"y\":\"rainfall\",\"yref\":\"y\"},{\"font\":{\"color\":\"#000000\"},\"showarrow\":false,\"text\":\"0.24\",\"x\":\"raintomorrow\",\"xref\":\"x\",\"y\":\"rainfall\",\"yref\":\"y\"},{\"font\":{\"color\":\"#000000\"},\"showarrow\":false,\"text\":\"0.47\",\"x\":\"mintemp\",\"xref\":\"x\",\"y\":\"evaporation\",\"yref\":\"y\"},{\"font\":{\"color\":\"#000000\"},\"showarrow\":false,\"text\":\"0.59\",\"x\":\"maxtemp\",\"xref\":\"x\",\"y\":\"evaporation\",\"yref\":\"y\"},{\"font\":{\"color\":\"#FFFFFF\"},\"showarrow\":false,\"text\":\"-0.06\",\"x\":\"rainfall\",\"xref\":\"x\",\"y\":\"evaporation\",\"yref\":\"y\"},{\"font\":{\"color\":\"#000000\"},\"showarrow\":false,\"text\":\"1.0\",\"x\":\"evaporation\",\"xref\":\"x\",\"y\":\"evaporation\",\"yref\":\"y\"},{\"font\":{\"color\":\"#000000\"},\"showarrow\":false,\"text\":\"0.37\",\"x\":\"sunshine\",\"xref\":\"x\",\"y\":\"evaporation\",\"yref\":\"y\"},{\"font\":{\"color\":\"#000000\"},\"showarrow\":false,\"text\":\"0.2\",\"x\":\"windgustspeed\",\"xref\":\"x\",\"y\":\"evaporation\",\"yref\":\"y\"},{\"font\":{\"color\":\"#000000\"},\"showarrow\":false,\"text\":\"0.19\",\"x\":\"windspeed9am\",\"xref\":\"x\",\"y\":\"evaporation\",\"yref\":\"y\"},{\"font\":{\"color\":\"#FFFFFF\"},\"showarrow\":false,\"text\":\"0.13\",\"x\":\"windspeed3pm\",\"xref\":\"x\",\"y\":\"evaporation\",\"yref\":\"y\"},{\"font\":{\"color\":\"#FFFFFF\"},\"showarrow\":false,\"text\":\"-0.5\",\"x\":\"humidity9am\",\"xref\":\"x\",\"y\":\"evaporation\",\"yref\":\"y\"},{\"font\":{\"color\":\"#FFFFFF\"},\"showarrow\":false,\"text\":\"-0.39\",\"x\":\"humidity3pm\",\"xref\":\"x\",\"y\":\"evaporation\",\"yref\":\"y\"},{\"font\":{\"color\":\"#FFFFFF\"},\"showarrow\":false,\"text\":\"-0.27\",\"x\":\"pressure9am\",\"xref\":\"x\",\"y\":\"evaporation\",\"yref\":\"y\"},{\"font\":{\"color\":\"#FFFFFF\"},\"showarrow\":false,\"text\":\"-0.29\",\"x\":\"pressure3pm\",\"xref\":\"x\",\"y\":\"evaporation\",\"yref\":\"y\"},{\"font\":{\"color\":\"#FFFFFF\"},\"showarrow\":false,\"text\":\"-0.18\",\"x\":\"cloud9am\",\"xref\":\"x\",\"y\":\"evaporation\",\"yref\":\"y\"},{\"font\":{\"color\":\"#FFFFFF\"},\"showarrow\":false,\"text\":\"-0.18\",\"x\":\"cloud3pm\",\"xref\":\"x\",\"y\":\"evaporation\",\"yref\":\"y\"},{\"font\":{\"color\":\"#000000\"},\"showarrow\":false,\"text\":\"0.55\",\"x\":\"temp9am\",\"xref\":\"x\",\"y\":\"evaporation\",\"yref\":\"y\"},{\"font\":{\"color\":\"#000000\"},\"showarrow\":false,\"text\":\"0.57\",\"x\":\"temp3pm\",\"xref\":\"x\",\"y\":\"evaporation\",\"yref\":\"y\"},{\"font\":{\"color\":\"#FFFFFF\"},\"showarrow\":false,\"text\":\"-0.19\",\"x\":\"raintoday\",\"xref\":\"x\",\"y\":\"evaporation\",\"yref\":\"y\"},{\"font\":{\"color\":\"#FFFFFF\"},\"showarrow\":false,\"text\":\"-0.12\",\"x\":\"raintomorrow\",\"xref\":\"x\",\"y\":\"evaporation\",\"yref\":\"y\"},{\"font\":{\"color\":\"#FFFFFF\"},\"showarrow\":false,\"text\":\"0.07\",\"x\":\"mintemp\",\"xref\":\"x\",\"y\":\"sunshine\",\"yref\":\"y\"},{\"font\":{\"color\":\"#000000\"},\"showarrow\":false,\"text\":\"0.47\",\"x\":\"maxtemp\",\"xref\":\"x\",\"y\":\"sunshine\",\"yref\":\"y\"},{\"font\":{\"color\":\"#FFFFFF\"},\"showarrow\":false,\"text\":\"-0.23\",\"x\":\"rainfall\",\"xref\":\"x\",\"y\":\"sunshine\",\"yref\":\"y\"},{\"font\":{\"color\":\"#000000\"},\"showarrow\":false,\"text\":\"0.37\",\"x\":\"evaporation\",\"xref\":\"x\",\"y\":\"sunshine\",\"yref\":\"y\"},{\"font\":{\"color\":\"#000000\"},\"showarrow\":false,\"text\":\"1.0\",\"x\":\"sunshine\",\"xref\":\"x\",\"y\":\"sunshine\",\"yref\":\"y\"},{\"font\":{\"color\":\"#FFFFFF\"},\"showarrow\":false,\"text\":\"-0.03\",\"x\":\"windgustspeed\",\"xref\":\"x\",\"y\":\"sunshine\",\"yref\":\"y\"},{\"font\":{\"color\":\"#FFFFFF\"},\"showarrow\":false,\"text\":\"0.01\",\"x\":\"windspeed9am\",\"xref\":\"x\",\"y\":\"sunshine\",\"yref\":\"y\"},{\"font\":{\"color\":\"#FFFFFF\"},\"showarrow\":false,\"text\":\"0.05\",\"x\":\"windspeed3pm\",\"xref\":\"x\",\"y\":\"sunshine\",\"yref\":\"y\"},{\"font\":{\"color\":\"#FFFFFF\"},\"showarrow\":false,\"text\":\"-0.49\",\"x\":\"humidity9am\",\"xref\":\"x\",\"y\":\"sunshine\",\"yref\":\"y\"},{\"font\":{\"color\":\"#FFFFFF\"},\"showarrow\":false,\"text\":\"-0.63\",\"x\":\"humidity3pm\",\"xref\":\"x\",\"y\":\"sunshine\",\"yref\":\"y\"},{\"font\":{\"color\":\"#FFFFFF\"},\"showarrow\":false,\"text\":\"0.04\",\"x\":\"pressure9am\",\"xref\":\"x\",\"y\":\"sunshine\",\"yref\":\"y\"},{\"font\":{\"color\":\"#FFFFFF\"},\"showarrow\":false,\"text\":\"-0.02\",\"x\":\"pressure3pm\",\"xref\":\"x\",\"y\":\"sunshine\",\"yref\":\"y\"},{\"font\":{\"color\":\"#FFFFFF\"},\"showarrow\":false,\"text\":\"-0.68\",\"x\":\"cloud9am\",\"xref\":\"x\",\"y\":\"sunshine\",\"yref\":\"y\"},{\"font\":{\"color\":\"#FFFFFF\"},\"showarrow\":false,\"text\":\"-0.7\",\"x\":\"cloud3pm\",\"xref\":\"x\",\"y\":\"sunshine\",\"yref\":\"y\"},{\"font\":{\"color\":\"#000000\"},\"showarrow\":false,\"text\":\"0.29\",\"x\":\"temp9am\",\"xref\":\"x\",\"y\":\"sunshine\",\"yref\":\"y\"},{\"font\":{\"color\":\"#000000\"},\"showarrow\":false,\"text\":\"0.49\",\"x\":\"temp3pm\",\"xref\":\"x\",\"y\":\"sunshine\",\"yref\":\"y\"},{\"font\":{\"color\":\"#FFFFFF\"},\"showarrow\":false,\"text\":\"-0.33\",\"x\":\"raintoday\",\"xref\":\"x\",\"y\":\"sunshine\",\"yref\":\"y\"},{\"font\":{\"color\":\"#FFFFFF\"},\"showarrow\":false,\"text\":\"-0.45\",\"x\":\"raintomorrow\",\"xref\":\"x\",\"y\":\"sunshine\",\"yref\":\"y\"},{\"font\":{\"color\":\"#000000\"},\"showarrow\":false,\"text\":\"0.18\",\"x\":\"mintemp\",\"xref\":\"x\",\"y\":\"windgustspeed\",\"yref\":\"y\"},{\"font\":{\"color\":\"#FFFFFF\"},\"showarrow\":false,\"text\":\"0.07\",\"x\":\"maxtemp\",\"xref\":\"x\",\"y\":\"windgustspeed\",\"yref\":\"y\"},{\"font\":{\"color\":\"#FFFFFF\"},\"showarrow\":false,\"text\":\"0.13\",\"x\":\"rainfall\",\"xref\":\"x\",\"y\":\"windgustspeed\",\"yref\":\"y\"},{\"font\":{\"color\":\"#000000\"},\"showarrow\":false,\"text\":\"0.2\",\"x\":\"evaporation\",\"xref\":\"x\",\"y\":\"windgustspeed\",\"yref\":\"y\"},{\"font\":{\"color\":\"#FFFFFF\"},\"showarrow\":false,\"text\":\"-0.03\",\"x\":\"sunshine\",\"xref\":\"x\",\"y\":\"windgustspeed\",\"yref\":\"y\"},{\"font\":{\"color\":\"#000000\"},\"showarrow\":false,\"text\":\"1.0\",\"x\":\"windgustspeed\",\"xref\":\"x\",\"y\":\"windgustspeed\",\"yref\":\"y\"},{\"font\":{\"color\":\"#000000\"},\"showarrow\":false,\"text\":\"0.61\",\"x\":\"windspeed9am\",\"xref\":\"x\",\"y\":\"windgustspeed\",\"yref\":\"y\"},{\"font\":{\"color\":\"#000000\"},\"showarrow\":false,\"text\":\"0.69\",\"x\":\"windspeed3pm\",\"xref\":\"x\",\"y\":\"windgustspeed\",\"yref\":\"y\"},{\"font\":{\"color\":\"#FFFFFF\"},\"showarrow\":false,\"text\":\"-0.22\",\"x\":\"humidity9am\",\"xref\":\"x\",\"y\":\"windgustspeed\",\"yref\":\"y\"},{\"font\":{\"color\":\"#FFFFFF\"},\"showarrow\":false,\"text\":\"-0.03\",\"x\":\"humidity3pm\",\"xref\":\"x\",\"y\":\"windgustspeed\",\"yref\":\"y\"},{\"font\":{\"color\":\"#FFFFFF\"},\"showarrow\":false,\"text\":\"-0.46\",\"x\":\"pressure9am\",\"xref\":\"x\",\"y\":\"windgustspeed\",\"yref\":\"y\"},{\"font\":{\"color\":\"#FFFFFF\"},\"showarrow\":false,\"text\":\"-0.41\",\"x\":\"pressure3pm\",\"xref\":\"x\",\"y\":\"windgustspeed\",\"yref\":\"y\"},{\"font\":{\"color\":\"#FFFFFF\"},\"showarrow\":false,\"text\":\"0.07\",\"x\":\"cloud9am\",\"xref\":\"x\",\"y\":\"windgustspeed\",\"yref\":\"y\"},{\"font\":{\"color\":\"#FFFFFF\"},\"showarrow\":false,\"text\":\"0.11\",\"x\":\"cloud3pm\",\"xref\":\"x\",\"y\":\"windgustspeed\",\"yref\":\"y\"},{\"font\":{\"color\":\"#000000\"},\"showarrow\":false,\"text\":\"0.15\",\"x\":\"temp9am\",\"xref\":\"x\",\"y\":\"windgustspeed\",\"yref\":\"y\"},{\"font\":{\"color\":\"#FFFFFF\"},\"showarrow\":false,\"text\":\"0.03\",\"x\":\"temp3pm\",\"xref\":\"x\",\"y\":\"windgustspeed\",\"yref\":\"y\"},{\"font\":{\"color\":\"#000000\"},\"showarrow\":false,\"text\":\"0.16\",\"x\":\"raintoday\",\"xref\":\"x\",\"y\":\"windgustspeed\",\"yref\":\"y\"},{\"font\":{\"color\":\"#000000\"},\"showarrow\":false,\"text\":\"0.23\",\"x\":\"raintomorrow\",\"xref\":\"x\",\"y\":\"windgustspeed\",\"yref\":\"y\"},{\"font\":{\"color\":\"#000000\"},\"showarrow\":false,\"text\":\"0.18\",\"x\":\"mintemp\",\"xref\":\"x\",\"y\":\"windspeed9am\",\"yref\":\"y\"},{\"font\":{\"color\":\"#FFFFFF\"},\"showarrow\":false,\"text\":\"0.01\",\"x\":\"maxtemp\",\"xref\":\"x\",\"y\":\"windspeed9am\",\"yref\":\"y\"},{\"font\":{\"color\":\"#FFFFFF\"},\"showarrow\":false,\"text\":\"0.09\",\"x\":\"rainfall\",\"xref\":\"x\",\"y\":\"windspeed9am\",\"yref\":\"y\"},{\"font\":{\"color\":\"#000000\"},\"showarrow\":false,\"text\":\"0.19\",\"x\":\"evaporation\",\"xref\":\"x\",\"y\":\"windspeed9am\",\"yref\":\"y\"},{\"font\":{\"color\":\"#FFFFFF\"},\"showarrow\":false,\"text\":\"0.01\",\"x\":\"sunshine\",\"xref\":\"x\",\"y\":\"windspeed9am\",\"yref\":\"y\"},{\"font\":{\"color\":\"#000000\"},\"showarrow\":false,\"text\":\"0.61\",\"x\":\"windgustspeed\",\"xref\":\"x\",\"y\":\"windspeed9am\",\"yref\":\"y\"},{\"font\":{\"color\":\"#000000\"},\"showarrow\":false,\"text\":\"1.0\",\"x\":\"windspeed9am\",\"xref\":\"x\",\"y\":\"windspeed9am\",\"yref\":\"y\"},{\"font\":{\"color\":\"#000000\"},\"showarrow\":false,\"text\":\"0.52\",\"x\":\"windspeed3pm\",\"xref\":\"x\",\"y\":\"windspeed9am\",\"yref\":\"y\"},{\"font\":{\"color\":\"#FFFFFF\"},\"showarrow\":false,\"text\":\"-0.27\",\"x\":\"humidity9am\",\"xref\":\"x\",\"y\":\"windspeed9am\",\"yref\":\"y\"},{\"font\":{\"color\":\"#FFFFFF\"},\"showarrow\":false,\"text\":\"-0.03\",\"x\":\"humidity3pm\",\"xref\":\"x\",\"y\":\"windspeed9am\",\"yref\":\"y\"},{\"font\":{\"color\":\"#FFFFFF\"},\"showarrow\":false,\"text\":\"-0.23\",\"x\":\"pressure9am\",\"xref\":\"x\",\"y\":\"windspeed9am\",\"yref\":\"y\"},{\"font\":{\"color\":\"#FFFFFF\"},\"showarrow\":false,\"text\":\"-0.18\",\"x\":\"pressure3pm\",\"xref\":\"x\",\"y\":\"windspeed9am\",\"yref\":\"y\"},{\"font\":{\"color\":\"#FFFFFF\"},\"showarrow\":false,\"text\":\"0.03\",\"x\":\"cloud9am\",\"xref\":\"x\",\"y\":\"windspeed9am\",\"yref\":\"y\"},{\"font\":{\"color\":\"#FFFFFF\"},\"showarrow\":false,\"text\":\"0.05\",\"x\":\"cloud3pm\",\"xref\":\"x\",\"y\":\"windspeed9am\",\"yref\":\"y\"},{\"font\":{\"color\":\"#FFFFFF\"},\"showarrow\":false,\"text\":\"0.13\",\"x\":\"temp9am\",\"xref\":\"x\",\"y\":\"windspeed9am\",\"yref\":\"y\"},{\"font\":{\"color\":\"#FFFFFF\"},\"showarrow\":false,\"text\":\"0.0\",\"x\":\"temp3pm\",\"xref\":\"x\",\"y\":\"windspeed9am\",\"yref\":\"y\"},{\"font\":{\"color\":\"#FFFFFF\"},\"showarrow\":false,\"text\":\"0.1\",\"x\":\"raintoday\",\"xref\":\"x\",\"y\":\"windspeed9am\",\"yref\":\"y\"},{\"font\":{\"color\":\"#FFFFFF\"},\"showarrow\":false,\"text\":\"0.09\",\"x\":\"raintomorrow\",\"xref\":\"x\",\"y\":\"windspeed9am\",\"yref\":\"y\"},{\"font\":{\"color\":\"#000000\"},\"showarrow\":false,\"text\":\"0.18\",\"x\":\"mintemp\",\"xref\":\"x\",\"y\":\"windspeed3pm\",\"yref\":\"y\"},{\"font\":{\"color\":\"#FFFFFF\"},\"showarrow\":false,\"text\":\"0.05\",\"x\":\"maxtemp\",\"xref\":\"x\",\"y\":\"windspeed3pm\",\"yref\":\"y\"},{\"font\":{\"color\":\"#FFFFFF\"},\"showarrow\":false,\"text\":\"0.06\",\"x\":\"rainfall\",\"xref\":\"x\",\"y\":\"windspeed3pm\",\"yref\":\"y\"},{\"font\":{\"color\":\"#FFFFFF\"},\"showarrow\":false,\"text\":\"0.13\",\"x\":\"evaporation\",\"xref\":\"x\",\"y\":\"windspeed3pm\",\"yref\":\"y\"},{\"font\":{\"color\":\"#FFFFFF\"},\"showarrow\":false,\"text\":\"0.05\",\"x\":\"sunshine\",\"xref\":\"x\",\"y\":\"windspeed3pm\",\"yref\":\"y\"},{\"font\":{\"color\":\"#000000\"},\"showarrow\":false,\"text\":\"0.69\",\"x\":\"windgustspeed\",\"xref\":\"x\",\"y\":\"windspeed3pm\",\"yref\":\"y\"},{\"font\":{\"color\":\"#000000\"},\"showarrow\":false,\"text\":\"0.52\",\"x\":\"windspeed9am\",\"xref\":\"x\",\"y\":\"windspeed3pm\",\"yref\":\"y\"},{\"font\":{\"color\":\"#000000\"},\"showarrow\":false,\"text\":\"1.0\",\"x\":\"windspeed3pm\",\"xref\":\"x\",\"y\":\"windspeed3pm\",\"yref\":\"y\"},{\"font\":{\"color\":\"#FFFFFF\"},\"showarrow\":false,\"text\":\"-0.15\",\"x\":\"humidity9am\",\"xref\":\"x\",\"y\":\"windspeed3pm\",\"yref\":\"y\"},{\"font\":{\"color\":\"#FFFFFF\"},\"showarrow\":false,\"text\":\"0.02\",\"x\":\"humidity3pm\",\"xref\":\"x\",\"y\":\"windspeed3pm\",\"yref\":\"y\"},{\"font\":{\"color\":\"#FFFFFF\"},\"showarrow\":false,\"text\":\"-0.3\",\"x\":\"pressure9am\",\"xref\":\"x\",\"y\":\"windspeed3pm\",\"yref\":\"y\"},{\"font\":{\"color\":\"#FFFFFF\"},\"showarrow\":false,\"text\":\"-0.26\",\"x\":\"pressure3pm\",\"xref\":\"x\",\"y\":\"windspeed3pm\",\"yref\":\"y\"},{\"font\":{\"color\":\"#FFFFFF\"},\"showarrow\":false,\"text\":\"0.05\",\"x\":\"cloud9am\",\"xref\":\"x\",\"y\":\"windspeed3pm\",\"yref\":\"y\"},{\"font\":{\"color\":\"#FFFFFF\"},\"showarrow\":false,\"text\":\"0.03\",\"x\":\"cloud3pm\",\"xref\":\"x\",\"y\":\"windspeed3pm\",\"yref\":\"y\"},{\"font\":{\"color\":\"#000000\"},\"showarrow\":false,\"text\":\"0.16\",\"x\":\"temp9am\",\"xref\":\"x\",\"y\":\"windspeed3pm\",\"yref\":\"y\"},{\"font\":{\"color\":\"#FFFFFF\"},\"showarrow\":false,\"text\":\"0.03\",\"x\":\"temp3pm\",\"xref\":\"x\",\"y\":\"windspeed3pm\",\"yref\":\"y\"},{\"font\":{\"color\":\"#FFFFFF\"},\"showarrow\":false,\"text\":\"0.08\",\"x\":\"raintoday\",\"xref\":\"x\",\"y\":\"windspeed3pm\",\"yref\":\"y\"},{\"font\":{\"color\":\"#FFFFFF\"},\"showarrow\":false,\"text\":\"0.09\",\"x\":\"raintomorrow\",\"xref\":\"x\",\"y\":\"windspeed3pm\",\"yref\":\"y\"},{\"font\":{\"color\":\"#FFFFFF\"},\"showarrow\":false,\"text\":\"-0.23\",\"x\":\"mintemp\",\"xref\":\"x\",\"y\":\"humidity9am\",\"yref\":\"y\"},{\"font\":{\"color\":\"#FFFFFF\"},\"showarrow\":false,\"text\":\"-0.5\",\"x\":\"maxtemp\",\"xref\":\"x\",\"y\":\"humidity9am\",\"yref\":\"y\"},{\"font\":{\"color\":\"#000000\"},\"showarrow\":false,\"text\":\"0.22\",\"x\":\"rainfall\",\"xref\":\"x\",\"y\":\"humidity9am\",\"yref\":\"y\"},{\"font\":{\"color\":\"#FFFFFF\"},\"showarrow\":false,\"text\":\"-0.5\",\"x\":\"evaporation\",\"xref\":\"x\",\"y\":\"humidity9am\",\"yref\":\"y\"},{\"font\":{\"color\":\"#FFFFFF\"},\"showarrow\":false,\"text\":\"-0.49\",\"x\":\"sunshine\",\"xref\":\"x\",\"y\":\"humidity9am\",\"yref\":\"y\"},{\"font\":{\"color\":\"#FFFFFF\"},\"showarrow\":false,\"text\":\"-0.22\",\"x\":\"windgustspeed\",\"xref\":\"x\",\"y\":\"humidity9am\",\"yref\":\"y\"},{\"font\":{\"color\":\"#FFFFFF\"},\"showarrow\":false,\"text\":\"-0.27\",\"x\":\"windspeed9am\",\"xref\":\"x\",\"y\":\"humidity9am\",\"yref\":\"y\"},{\"font\":{\"color\":\"#FFFFFF\"},\"showarrow\":false,\"text\":\"-0.15\",\"x\":\"windspeed3pm\",\"xref\":\"x\",\"y\":\"humidity9am\",\"yref\":\"y\"},{\"font\":{\"color\":\"#000000\"},\"showarrow\":false,\"text\":\"1.0\",\"x\":\"humidity9am\",\"xref\":\"x\",\"y\":\"humidity9am\",\"yref\":\"y\"},{\"font\":{\"color\":\"#000000\"},\"showarrow\":false,\"text\":\"0.67\",\"x\":\"humidity3pm\",\"xref\":\"x\",\"y\":\"humidity9am\",\"yref\":\"y\"},{\"font\":{\"color\":\"#FFFFFF\"},\"showarrow\":false,\"text\":\"0.14\",\"x\":\"pressure9am\",\"xref\":\"x\",\"y\":\"humidity9am\",\"yref\":\"y\"},{\"font\":{\"color\":\"#000000\"},\"showarrow\":false,\"text\":\"0.19\",\"x\":\"pressure3pm\",\"xref\":\"x\",\"y\":\"humidity9am\",\"yref\":\"y\"},{\"font\":{\"color\":\"#000000\"},\"showarrow\":false,\"text\":\"0.45\",\"x\":\"cloud9am\",\"xref\":\"x\",\"y\":\"humidity9am\",\"yref\":\"y\"},{\"font\":{\"color\":\"#000000\"},\"showarrow\":false,\"text\":\"0.36\",\"x\":\"cloud3pm\",\"xref\":\"x\",\"y\":\"humidity9am\",\"yref\":\"y\"},{\"font\":{\"color\":\"#FFFFFF\"},\"showarrow\":false,\"text\":\"-0.47\",\"x\":\"temp9am\",\"xref\":\"x\",\"y\":\"humidity9am\",\"yref\":\"y\"},{\"font\":{\"color\":\"#FFFFFF\"},\"showarrow\":false,\"text\":\"-0.5\",\"x\":\"temp3pm\",\"xref\":\"x\",\"y\":\"humidity9am\",\"yref\":\"y\"},{\"font\":{\"color\":\"#000000\"},\"showarrow\":false,\"text\":\"0.35\",\"x\":\"raintoday\",\"xref\":\"x\",\"y\":\"humidity9am\",\"yref\":\"y\"},{\"font\":{\"color\":\"#000000\"},\"showarrow\":false,\"text\":\"0.26\",\"x\":\"raintomorrow\",\"xref\":\"x\",\"y\":\"humidity9am\",\"yref\":\"y\"},{\"font\":{\"color\":\"#FFFFFF\"},\"showarrow\":false,\"text\":\"0.01\",\"x\":\"mintemp\",\"xref\":\"x\",\"y\":\"humidity3pm\",\"yref\":\"y\"},{\"font\":{\"color\":\"#FFFFFF\"},\"showarrow\":false,\"text\":\"-0.51\",\"x\":\"maxtemp\",\"xref\":\"x\",\"y\":\"humidity3pm\",\"yref\":\"y\"},{\"font\":{\"color\":\"#000000\"},\"showarrow\":false,\"text\":\"0.26\",\"x\":\"rainfall\",\"xref\":\"x\",\"y\":\"humidity3pm\",\"yref\":\"y\"},{\"font\":{\"color\":\"#FFFFFF\"},\"showarrow\":false,\"text\":\"-0.39\",\"x\":\"evaporation\",\"xref\":\"x\",\"y\":\"humidity3pm\",\"yref\":\"y\"},{\"font\":{\"color\":\"#FFFFFF\"},\"showarrow\":false,\"text\":\"-0.63\",\"x\":\"sunshine\",\"xref\":\"x\",\"y\":\"humidity3pm\",\"yref\":\"y\"},{\"font\":{\"color\":\"#FFFFFF\"},\"showarrow\":false,\"text\":\"-0.03\",\"x\":\"windgustspeed\",\"xref\":\"x\",\"y\":\"humidity3pm\",\"yref\":\"y\"},{\"font\":{\"color\":\"#FFFFFF\"},\"showarrow\":false,\"text\":\"-0.03\",\"x\":\"windspeed9am\",\"xref\":\"x\",\"y\":\"humidity3pm\",\"yref\":\"y\"},{\"font\":{\"color\":\"#FFFFFF\"},\"showarrow\":false,\"text\":\"0.02\",\"x\":\"windspeed3pm\",\"xref\":\"x\",\"y\":\"humidity3pm\",\"yref\":\"y\"},{\"font\":{\"color\":\"#000000\"},\"showarrow\":false,\"text\":\"0.67\",\"x\":\"humidity9am\",\"xref\":\"x\",\"y\":\"humidity3pm\",\"yref\":\"y\"},{\"font\":{\"color\":\"#000000\"},\"showarrow\":false,\"text\":\"1.0\",\"x\":\"humidity3pm\",\"xref\":\"x\",\"y\":\"humidity3pm\",\"yref\":\"y\"},{\"font\":{\"color\":\"#FFFFFF\"},\"showarrow\":false,\"text\":\"-0.03\",\"x\":\"pressure9am\",\"xref\":\"x\",\"y\":\"humidity3pm\",\"yref\":\"y\"},{\"font\":{\"color\":\"#FFFFFF\"},\"showarrow\":false,\"text\":\"0.05\",\"x\":\"pressure3pm\",\"xref\":\"x\",\"y\":\"humidity3pm\",\"yref\":\"y\"},{\"font\":{\"color\":\"#000000\"},\"showarrow\":false,\"text\":\"0.52\",\"x\":\"cloud9am\",\"xref\":\"x\",\"y\":\"humidity3pm\",\"yref\":\"y\"},{\"font\":{\"color\":\"#000000\"},\"showarrow\":false,\"text\":\"0.52\",\"x\":\"cloud3pm\",\"xref\":\"x\",\"y\":\"humidity3pm\",\"yref\":\"y\"},{\"font\":{\"color\":\"#FFFFFF\"},\"showarrow\":false,\"text\":\"-0.22\",\"x\":\"temp9am\",\"xref\":\"x\",\"y\":\"humidity3pm\",\"yref\":\"y\"},{\"font\":{\"color\":\"#FFFFFF\"},\"showarrow\":false,\"text\":\"-0.56\",\"x\":\"temp3pm\",\"xref\":\"x\",\"y\":\"humidity3pm\",\"yref\":\"y\"},{\"font\":{\"color\":\"#000000\"},\"showarrow\":false,\"text\":\"0.38\",\"x\":\"raintoday\",\"xref\":\"x\",\"y\":\"humidity3pm\",\"yref\":\"y\"},{\"font\":{\"color\":\"#000000\"},\"showarrow\":false,\"text\":\"0.45\",\"x\":\"raintomorrow\",\"xref\":\"x\",\"y\":\"humidity3pm\",\"yref\":\"y\"},{\"font\":{\"color\":\"#FFFFFF\"},\"showarrow\":false,\"text\":\"-0.45\",\"x\":\"mintemp\",\"xref\":\"x\",\"y\":\"pressure9am\",\"yref\":\"y\"},{\"font\":{\"color\":\"#FFFFFF\"},\"showarrow\":false,\"text\":\"-0.33\",\"x\":\"maxtemp\",\"xref\":\"x\",\"y\":\"pressure9am\",\"yref\":\"y\"},{\"font\":{\"color\":\"#FFFFFF\"},\"showarrow\":false,\"text\":\"-0.17\",\"x\":\"rainfall\",\"xref\":\"x\",\"y\":\"pressure9am\",\"yref\":\"y\"},{\"font\":{\"color\":\"#FFFFFF\"},\"showarrow\":false,\"text\":\"-0.27\",\"x\":\"evaporation\",\"xref\":\"x\",\"y\":\"pressure9am\",\"yref\":\"y\"},{\"font\":{\"color\":\"#FFFFFF\"},\"showarrow\":false,\"text\":\"0.04\",\"x\":\"sunshine\",\"xref\":\"x\",\"y\":\"pressure9am\",\"yref\":\"y\"},{\"font\":{\"color\":\"#FFFFFF\"},\"showarrow\":false,\"text\":\"-0.46\",\"x\":\"windgustspeed\",\"xref\":\"x\",\"y\":\"pressure9am\",\"yref\":\"y\"},{\"font\":{\"color\":\"#FFFFFF\"},\"showarrow\":false,\"text\":\"-0.23\",\"x\":\"windspeed9am\",\"xref\":\"x\",\"y\":\"pressure9am\",\"yref\":\"y\"},{\"font\":{\"color\":\"#FFFFFF\"},\"showarrow\":false,\"text\":\"-0.3\",\"x\":\"windspeed3pm\",\"xref\":\"x\",\"y\":\"pressure9am\",\"yref\":\"y\"},{\"font\":{\"color\":\"#FFFFFF\"},\"showarrow\":false,\"text\":\"0.14\",\"x\":\"humidity9am\",\"xref\":\"x\",\"y\":\"pressure9am\",\"yref\":\"y\"},{\"font\":{\"color\":\"#FFFFFF\"},\"showarrow\":false,\"text\":\"-0.03\",\"x\":\"humidity3pm\",\"xref\":\"x\",\"y\":\"pressure9am\",\"yref\":\"y\"},{\"font\":{\"color\":\"#000000\"},\"showarrow\":false,\"text\":\"1.0\",\"x\":\"pressure9am\",\"xref\":\"x\",\"y\":\"pressure9am\",\"yref\":\"y\"},{\"font\":{\"color\":\"#000000\"},\"showarrow\":false,\"text\":\"0.96\",\"x\":\"pressure3pm\",\"xref\":\"x\",\"y\":\"pressure9am\",\"yref\":\"y\"},{\"font\":{\"color\":\"#FFFFFF\"},\"showarrow\":false,\"text\":\"-0.13\",\"x\":\"cloud9am\",\"xref\":\"x\",\"y\":\"pressure9am\",\"yref\":\"y\"},{\"font\":{\"color\":\"#FFFFFF\"},\"showarrow\":false,\"text\":\"-0.15\",\"x\":\"cloud3pm\",\"xref\":\"x\",\"y\":\"pressure9am\",\"yref\":\"y\"},{\"font\":{\"color\":\"#FFFFFF\"},\"showarrow\":false,\"text\":\"-0.42\",\"x\":\"temp9am\",\"xref\":\"x\",\"y\":\"pressure9am\",\"yref\":\"y\"},{\"font\":{\"color\":\"#FFFFFF\"},\"showarrow\":false,\"text\":\"-0.29\",\"x\":\"temp3pm\",\"xref\":\"x\",\"y\":\"pressure9am\",\"yref\":\"y\"},{\"font\":{\"color\":\"#FFFFFF\"},\"showarrow\":false,\"text\":\"-0.19\",\"x\":\"raintoday\",\"xref\":\"x\",\"y\":\"pressure9am\",\"yref\":\"y\"},{\"font\":{\"color\":\"#FFFFFF\"},\"showarrow\":false,\"text\":\"-0.25\",\"x\":\"raintomorrow\",\"xref\":\"x\",\"y\":\"pressure9am\",\"yref\":\"y\"},{\"font\":{\"color\":\"#FFFFFF\"},\"showarrow\":false,\"text\":\"-0.46\",\"x\":\"mintemp\",\"xref\":\"x\",\"y\":\"pressure3pm\",\"yref\":\"y\"},{\"font\":{\"color\":\"#FFFFFF\"},\"showarrow\":false,\"text\":\"-0.43\",\"x\":\"maxtemp\",\"xref\":\"x\",\"y\":\"pressure3pm\",\"yref\":\"y\"},{\"font\":{\"color\":\"#FFFFFF\"},\"showarrow\":false,\"text\":\"-0.13\",\"x\":\"rainfall\",\"xref\":\"x\",\"y\":\"pressure3pm\",\"yref\":\"y\"},{\"font\":{\"color\":\"#FFFFFF\"},\"showarrow\":false,\"text\":\"-0.29\",\"x\":\"evaporation\",\"xref\":\"x\",\"y\":\"pressure3pm\",\"yref\":\"y\"},{\"font\":{\"color\":\"#FFFFFF\"},\"showarrow\":false,\"text\":\"-0.02\",\"x\":\"sunshine\",\"xref\":\"x\",\"y\":\"pressure3pm\",\"yref\":\"y\"},{\"font\":{\"color\":\"#FFFFFF\"},\"showarrow\":false,\"text\":\"-0.41\",\"x\":\"windgustspeed\",\"xref\":\"x\",\"y\":\"pressure3pm\",\"yref\":\"y\"},{\"font\":{\"color\":\"#FFFFFF\"},\"showarrow\":false,\"text\":\"-0.18\",\"x\":\"windspeed9am\",\"xref\":\"x\",\"y\":\"pressure3pm\",\"yref\":\"y\"},{\"font\":{\"color\":\"#FFFFFF\"},\"showarrow\":false,\"text\":\"-0.26\",\"x\":\"windspeed3pm\",\"xref\":\"x\",\"y\":\"pressure3pm\",\"yref\":\"y\"},{\"font\":{\"color\":\"#000000\"},\"showarrow\":false,\"text\":\"0.19\",\"x\":\"humidity9am\",\"xref\":\"x\",\"y\":\"pressure3pm\",\"yref\":\"y\"},{\"font\":{\"color\":\"#FFFFFF\"},\"showarrow\":false,\"text\":\"0.05\",\"x\":\"humidity3pm\",\"xref\":\"x\",\"y\":\"pressure3pm\",\"yref\":\"y\"},{\"font\":{\"color\":\"#000000\"},\"showarrow\":false,\"text\":\"0.96\",\"x\":\"pressure9am\",\"xref\":\"x\",\"y\":\"pressure3pm\",\"yref\":\"y\"},{\"font\":{\"color\":\"#000000\"},\"showarrow\":false,\"text\":\"1.0\",\"x\":\"pressure3pm\",\"xref\":\"x\",\"y\":\"pressure3pm\",\"yref\":\"y\"},{\"font\":{\"color\":\"#FFFFFF\"},\"showarrow\":false,\"text\":\"-0.06\",\"x\":\"cloud9am\",\"xref\":\"x\",\"y\":\"pressure3pm\",\"yref\":\"y\"},{\"font\":{\"color\":\"#FFFFFF\"},\"showarrow\":false,\"text\":\"-0.08\",\"x\":\"cloud3pm\",\"xref\":\"x\",\"y\":\"pressure3pm\",\"yref\":\"y\"},{\"font\":{\"color\":\"#FFFFFF\"},\"showarrow\":false,\"text\":\"-0.47\",\"x\":\"temp9am\",\"xref\":\"x\",\"y\":\"pressure3pm\",\"yref\":\"y\"},{\"font\":{\"color\":\"#FFFFFF\"},\"showarrow\":false,\"text\":\"-0.39\",\"x\":\"temp3pm\",\"xref\":\"x\",\"y\":\"pressure3pm\",\"yref\":\"y\"},{\"font\":{\"color\":\"#FFFFFF\"},\"showarrow\":false,\"text\":\"-0.11\",\"x\":\"raintoday\",\"xref\":\"x\",\"y\":\"pressure3pm\",\"yref\":\"y\"},{\"font\":{\"color\":\"#FFFFFF\"},\"showarrow\":false,\"text\":\"-0.23\",\"x\":\"raintomorrow\",\"xref\":\"x\",\"y\":\"pressure3pm\",\"yref\":\"y\"},{\"font\":{\"color\":\"#FFFFFF\"},\"showarrow\":false,\"text\":\"0.08\",\"x\":\"mintemp\",\"xref\":\"x\",\"y\":\"cloud9am\",\"yref\":\"y\"},{\"font\":{\"color\":\"#FFFFFF\"},\"showarrow\":false,\"text\":\"-0.29\",\"x\":\"maxtemp\",\"xref\":\"x\",\"y\":\"cloud9am\",\"yref\":\"y\"},{\"font\":{\"color\":\"#000000\"},\"showarrow\":false,\"text\":\"0.2\",\"x\":\"rainfall\",\"xref\":\"x\",\"y\":\"cloud9am\",\"yref\":\"y\"},{\"font\":{\"color\":\"#FFFFFF\"},\"showarrow\":false,\"text\":\"-0.18\",\"x\":\"evaporation\",\"xref\":\"x\",\"y\":\"cloud9am\",\"yref\":\"y\"},{\"font\":{\"color\":\"#FFFFFF\"},\"showarrow\":false,\"text\":\"-0.68\",\"x\":\"sunshine\",\"xref\":\"x\",\"y\":\"cloud9am\",\"yref\":\"y\"},{\"font\":{\"color\":\"#FFFFFF\"},\"showarrow\":false,\"text\":\"0.07\",\"x\":\"windgustspeed\",\"xref\":\"x\",\"y\":\"cloud9am\",\"yref\":\"y\"},{\"font\":{\"color\":\"#FFFFFF\"},\"showarrow\":false,\"text\":\"0.03\",\"x\":\"windspeed9am\",\"xref\":\"x\",\"y\":\"cloud9am\",\"yref\":\"y\"},{\"font\":{\"color\":\"#FFFFFF\"},\"showarrow\":false,\"text\":\"0.05\",\"x\":\"windspeed3pm\",\"xref\":\"x\",\"y\":\"cloud9am\",\"yref\":\"y\"},{\"font\":{\"color\":\"#000000\"},\"showarrow\":false,\"text\":\"0.45\",\"x\":\"humidity9am\",\"xref\":\"x\",\"y\":\"cloud9am\",\"yref\":\"y\"},{\"font\":{\"color\":\"#000000\"},\"showarrow\":false,\"text\":\"0.52\",\"x\":\"humidity3pm\",\"xref\":\"x\",\"y\":\"cloud9am\",\"yref\":\"y\"},{\"font\":{\"color\":\"#FFFFFF\"},\"showarrow\":false,\"text\":\"-0.13\",\"x\":\"pressure9am\",\"xref\":\"x\",\"y\":\"cloud9am\",\"yref\":\"y\"},{\"font\":{\"color\":\"#FFFFFF\"},\"showarrow\":false,\"text\":\"-0.06\",\"x\":\"pressure3pm\",\"xref\":\"x\",\"y\":\"cloud9am\",\"yref\":\"y\"},{\"font\":{\"color\":\"#000000\"},\"showarrow\":false,\"text\":\"1.0\",\"x\":\"cloud9am\",\"xref\":\"x\",\"y\":\"cloud9am\",\"yref\":\"y\"},{\"font\":{\"color\":\"#000000\"},\"showarrow\":false,\"text\":\"0.6\",\"x\":\"cloud3pm\",\"xref\":\"x\",\"y\":\"cloud9am\",\"yref\":\"y\"},{\"font\":{\"color\":\"#FFFFFF\"},\"showarrow\":false,\"text\":\"-0.14\",\"x\":\"temp9am\",\"xref\":\"x\",\"y\":\"cloud9am\",\"yref\":\"y\"},{\"font\":{\"color\":\"#FFFFFF\"},\"showarrow\":false,\"text\":\"-0.3\",\"x\":\"temp3pm\",\"xref\":\"x\",\"y\":\"cloud9am\",\"yref\":\"y\"},{\"font\":{\"color\":\"#000000\"},\"showarrow\":false,\"text\":\"0.31\",\"x\":\"raintoday\",\"xref\":\"x\",\"y\":\"cloud9am\",\"yref\":\"y\"},{\"font\":{\"color\":\"#000000\"},\"showarrow\":false,\"text\":\"0.32\",\"x\":\"raintomorrow\",\"xref\":\"x\",\"y\":\"cloud9am\",\"yref\":\"y\"},{\"font\":{\"color\":\"#FFFFFF\"},\"showarrow\":false,\"text\":\"0.02\",\"x\":\"mintemp\",\"xref\":\"x\",\"y\":\"cloud3pm\",\"yref\":\"y\"},{\"font\":{\"color\":\"#FFFFFF\"},\"showarrow\":false,\"text\":\"-0.28\",\"x\":\"maxtemp\",\"xref\":\"x\",\"y\":\"cloud3pm\",\"yref\":\"y\"},{\"font\":{\"color\":\"#000000\"},\"showarrow\":false,\"text\":\"0.17\",\"x\":\"rainfall\",\"xref\":\"x\",\"y\":\"cloud3pm\",\"yref\":\"y\"},{\"font\":{\"color\":\"#FFFFFF\"},\"showarrow\":false,\"text\":\"-0.18\",\"x\":\"evaporation\",\"xref\":\"x\",\"y\":\"cloud3pm\",\"yref\":\"y\"},{\"font\":{\"color\":\"#FFFFFF\"},\"showarrow\":false,\"text\":\"-0.7\",\"x\":\"sunshine\",\"xref\":\"x\",\"y\":\"cloud3pm\",\"yref\":\"y\"},{\"font\":{\"color\":\"#FFFFFF\"},\"showarrow\":false,\"text\":\"0.11\",\"x\":\"windgustspeed\",\"xref\":\"x\",\"y\":\"cloud3pm\",\"yref\":\"y\"},{\"font\":{\"color\":\"#FFFFFF\"},\"showarrow\":false,\"text\":\"0.05\",\"x\":\"windspeed9am\",\"xref\":\"x\",\"y\":\"cloud3pm\",\"yref\":\"y\"},{\"font\":{\"color\":\"#FFFFFF\"},\"showarrow\":false,\"text\":\"0.03\",\"x\":\"windspeed3pm\",\"xref\":\"x\",\"y\":\"cloud3pm\",\"yref\":\"y\"},{\"font\":{\"color\":\"#000000\"},\"showarrow\":false,\"text\":\"0.36\",\"x\":\"humidity9am\",\"xref\":\"x\",\"y\":\"cloud3pm\",\"yref\":\"y\"},{\"font\":{\"color\":\"#000000\"},\"showarrow\":false,\"text\":\"0.52\",\"x\":\"humidity3pm\",\"xref\":\"x\",\"y\":\"cloud3pm\",\"yref\":\"y\"},{\"font\":{\"color\":\"#FFFFFF\"},\"showarrow\":false,\"text\":\"-0.15\",\"x\":\"pressure9am\",\"xref\":\"x\",\"y\":\"cloud3pm\",\"yref\":\"y\"},{\"font\":{\"color\":\"#FFFFFF\"},\"showarrow\":false,\"text\":\"-0.08\",\"x\":\"pressure3pm\",\"xref\":\"x\",\"y\":\"cloud3pm\",\"yref\":\"y\"},{\"font\":{\"color\":\"#000000\"},\"showarrow\":false,\"text\":\"0.6\",\"x\":\"cloud9am\",\"xref\":\"x\",\"y\":\"cloud3pm\",\"yref\":\"y\"},{\"font\":{\"color\":\"#000000\"},\"showarrow\":false,\"text\":\"1.0\",\"x\":\"cloud3pm\",\"xref\":\"x\",\"y\":\"cloud3pm\",\"yref\":\"y\"},{\"font\":{\"color\":\"#FFFFFF\"},\"showarrow\":false,\"text\":\"-0.13\",\"x\":\"temp9am\",\"xref\":\"x\",\"y\":\"cloud3pm\",\"yref\":\"y\"},{\"font\":{\"color\":\"#FFFFFF\"},\"showarrow\":false,\"text\":\"-0.32\",\"x\":\"temp3pm\",\"xref\":\"x\",\"y\":\"cloud3pm\",\"yref\":\"y\"},{\"font\":{\"color\":\"#000000\"},\"showarrow\":false,\"text\":\"0.27\",\"x\":\"raintoday\",\"xref\":\"x\",\"y\":\"cloud3pm\",\"yref\":\"y\"},{\"font\":{\"color\":\"#000000\"},\"showarrow\":false,\"text\":\"0.38\",\"x\":\"raintomorrow\",\"xref\":\"x\",\"y\":\"cloud3pm\",\"yref\":\"y\"},{\"font\":{\"color\":\"#000000\"},\"showarrow\":false,\"text\":\"0.9\",\"x\":\"mintemp\",\"xref\":\"x\",\"y\":\"temp9am\",\"yref\":\"y\"},{\"font\":{\"color\":\"#000000\"},\"showarrow\":false,\"text\":\"0.89\",\"x\":\"maxtemp\",\"xref\":\"x\",\"y\":\"temp9am\",\"yref\":\"y\"},{\"font\":{\"color\":\"#FFFFFF\"},\"showarrow\":false,\"text\":\"0.01\",\"x\":\"rainfall\",\"xref\":\"x\",\"y\":\"temp9am\",\"yref\":\"y\"},{\"font\":{\"color\":\"#000000\"},\"showarrow\":false,\"text\":\"0.55\",\"x\":\"evaporation\",\"xref\":\"x\",\"y\":\"temp9am\",\"yref\":\"y\"},{\"font\":{\"color\":\"#000000\"},\"showarrow\":false,\"text\":\"0.29\",\"x\":\"sunshine\",\"xref\":\"x\",\"y\":\"temp9am\",\"yref\":\"y\"},{\"font\":{\"color\":\"#000000\"},\"showarrow\":false,\"text\":\"0.15\",\"x\":\"windgustspeed\",\"xref\":\"x\",\"y\":\"temp9am\",\"yref\":\"y\"},{\"font\":{\"color\":\"#FFFFFF\"},\"showarrow\":false,\"text\":\"0.13\",\"x\":\"windspeed9am\",\"xref\":\"x\",\"y\":\"temp9am\",\"yref\":\"y\"},{\"font\":{\"color\":\"#000000\"},\"showarrow\":false,\"text\":\"0.16\",\"x\":\"windspeed3pm\",\"xref\":\"x\",\"y\":\"temp9am\",\"yref\":\"y\"},{\"font\":{\"color\":\"#FFFFFF\"},\"showarrow\":false,\"text\":\"-0.47\",\"x\":\"humidity9am\",\"xref\":\"x\",\"y\":\"temp9am\",\"yref\":\"y\"},{\"font\":{\"color\":\"#FFFFFF\"},\"showarrow\":false,\"text\":\"-0.22\",\"x\":\"humidity3pm\",\"xref\":\"x\",\"y\":\"temp9am\",\"yref\":\"y\"},{\"font\":{\"color\":\"#FFFFFF\"},\"showarrow\":false,\"text\":\"-0.42\",\"x\":\"pressure9am\",\"xref\":\"x\",\"y\":\"temp9am\",\"yref\":\"y\"},{\"font\":{\"color\":\"#FFFFFF\"},\"showarrow\":false,\"text\":\"-0.47\",\"x\":\"pressure3pm\",\"xref\":\"x\",\"y\":\"temp9am\",\"yref\":\"y\"},{\"font\":{\"color\":\"#FFFFFF\"},\"showarrow\":false,\"text\":\"-0.14\",\"x\":\"cloud9am\",\"xref\":\"x\",\"y\":\"temp9am\",\"yref\":\"y\"},{\"font\":{\"color\":\"#FFFFFF\"},\"showarrow\":false,\"text\":\"-0.13\",\"x\":\"cloud3pm\",\"xref\":\"x\",\"y\":\"temp9am\",\"yref\":\"y\"},{\"font\":{\"color\":\"#000000\"},\"showarrow\":false,\"text\":\"1.0\",\"x\":\"temp9am\",\"xref\":\"x\",\"y\":\"temp9am\",\"yref\":\"y\"},{\"font\":{\"color\":\"#000000\"},\"showarrow\":false,\"text\":\"0.86\",\"x\":\"temp3pm\",\"xref\":\"x\",\"y\":\"temp9am\",\"yref\":\"y\"},{\"font\":{\"color\":\"#FFFFFF\"},\"showarrow\":false,\"text\":\"-0.1\",\"x\":\"raintoday\",\"xref\":\"x\",\"y\":\"temp9am\",\"yref\":\"y\"},{\"font\":{\"color\":\"#FFFFFF\"},\"showarrow\":false,\"text\":\"-0.03\",\"x\":\"raintomorrow\",\"xref\":\"x\",\"y\":\"temp9am\",\"yref\":\"y\"},{\"font\":{\"color\":\"#000000\"},\"showarrow\":false,\"text\":\"0.71\",\"x\":\"mintemp\",\"xref\":\"x\",\"y\":\"temp3pm\",\"yref\":\"y\"},{\"font\":{\"color\":\"#000000\"},\"showarrow\":false,\"text\":\"0.98\",\"x\":\"maxtemp\",\"xref\":\"x\",\"y\":\"temp3pm\",\"yref\":\"y\"},{\"font\":{\"color\":\"#FFFFFF\"},\"showarrow\":false,\"text\":\"-0.08\",\"x\":\"rainfall\",\"xref\":\"x\",\"y\":\"temp3pm\",\"yref\":\"y\"},{\"font\":{\"color\":\"#000000\"},\"showarrow\":false,\"text\":\"0.57\",\"x\":\"evaporation\",\"xref\":\"x\",\"y\":\"temp3pm\",\"yref\":\"y\"},{\"font\":{\"color\":\"#000000\"},\"showarrow\":false,\"text\":\"0.49\",\"x\":\"sunshine\",\"xref\":\"x\",\"y\":\"temp3pm\",\"yref\":\"y\"},{\"font\":{\"color\":\"#FFFFFF\"},\"showarrow\":false,\"text\":\"0.03\",\"x\":\"windgustspeed\",\"xref\":\"x\",\"y\":\"temp3pm\",\"yref\":\"y\"},{\"font\":{\"color\":\"#FFFFFF\"},\"showarrow\":false,\"text\":\"0.0\",\"x\":\"windspeed9am\",\"xref\":\"x\",\"y\":\"temp3pm\",\"yref\":\"y\"},{\"font\":{\"color\":\"#FFFFFF\"},\"showarrow\":false,\"text\":\"0.03\",\"x\":\"windspeed3pm\",\"xref\":\"x\",\"y\":\"temp3pm\",\"yref\":\"y\"},{\"font\":{\"color\":\"#FFFFFF\"},\"showarrow\":false,\"text\":\"-0.5\",\"x\":\"humidity9am\",\"xref\":\"x\",\"y\":\"temp3pm\",\"yref\":\"y\"},{\"font\":{\"color\":\"#FFFFFF\"},\"showarrow\":false,\"text\":\"-0.56\",\"x\":\"humidity3pm\",\"xref\":\"x\",\"y\":\"temp3pm\",\"yref\":\"y\"},{\"font\":{\"color\":\"#FFFFFF\"},\"showarrow\":false,\"text\":\"-0.29\",\"x\":\"pressure9am\",\"xref\":\"x\",\"y\":\"temp3pm\",\"yref\":\"y\"},{\"font\":{\"color\":\"#FFFFFF\"},\"showarrow\":false,\"text\":\"-0.39\",\"x\":\"pressure3pm\",\"xref\":\"x\",\"y\":\"temp3pm\",\"yref\":\"y\"},{\"font\":{\"color\":\"#FFFFFF\"},\"showarrow\":false,\"text\":\"-0.3\",\"x\":\"cloud9am\",\"xref\":\"x\",\"y\":\"temp3pm\",\"yref\":\"y\"},{\"font\":{\"color\":\"#FFFFFF\"},\"showarrow\":false,\"text\":\"-0.32\",\"x\":\"cloud3pm\",\"xref\":\"x\",\"y\":\"temp3pm\",\"yref\":\"y\"},{\"font\":{\"color\":\"#000000\"},\"showarrow\":false,\"text\":\"0.86\",\"x\":\"temp9am\",\"xref\":\"x\",\"y\":\"temp3pm\",\"yref\":\"y\"},{\"font\":{\"color\":\"#000000\"},\"showarrow\":false,\"text\":\"1.0\",\"x\":\"temp3pm\",\"xref\":\"x\",\"y\":\"temp3pm\",\"yref\":\"y\"},{\"font\":{\"color\":\"#FFFFFF\"},\"showarrow\":false,\"text\":\"-0.24\",\"x\":\"raintoday\",\"xref\":\"x\",\"y\":\"temp3pm\",\"yref\":\"y\"},{\"font\":{\"color\":\"#FFFFFF\"},\"showarrow\":false,\"text\":\"-0.19\",\"x\":\"raintomorrow\",\"xref\":\"x\",\"y\":\"temp3pm\",\"yref\":\"y\"},{\"font\":{\"color\":\"#FFFFFF\"},\"showarrow\":false,\"text\":\"0.06\",\"x\":\"mintemp\",\"xref\":\"x\",\"y\":\"raintoday\",\"yref\":\"y\"},{\"font\":{\"color\":\"#FFFFFF\"},\"showarrow\":false,\"text\":\"-0.23\",\"x\":\"maxtemp\",\"xref\":\"x\",\"y\":\"raintoday\",\"yref\":\"y\"},{\"font\":{\"color\":\"#000000\"},\"showarrow\":false,\"text\":\"0.5\",\"x\":\"rainfall\",\"xref\":\"x\",\"y\":\"raintoday\",\"yref\":\"y\"},{\"font\":{\"color\":\"#FFFFFF\"},\"showarrow\":false,\"text\":\"-0.19\",\"x\":\"evaporation\",\"xref\":\"x\",\"y\":\"raintoday\",\"yref\":\"y\"},{\"font\":{\"color\":\"#FFFFFF\"},\"showarrow\":false,\"text\":\"-0.33\",\"x\":\"sunshine\",\"xref\":\"x\",\"y\":\"raintoday\",\"yref\":\"y\"},{\"font\":{\"color\":\"#000000\"},\"showarrow\":false,\"text\":\"0.16\",\"x\":\"windgustspeed\",\"xref\":\"x\",\"y\":\"raintoday\",\"yref\":\"y\"},{\"font\":{\"color\":\"#FFFFFF\"},\"showarrow\":false,\"text\":\"0.1\",\"x\":\"windspeed9am\",\"xref\":\"x\",\"y\":\"raintoday\",\"yref\":\"y\"},{\"font\":{\"color\":\"#FFFFFF\"},\"showarrow\":false,\"text\":\"0.08\",\"x\":\"windspeed3pm\",\"xref\":\"x\",\"y\":\"raintoday\",\"yref\":\"y\"},{\"font\":{\"color\":\"#000000\"},\"showarrow\":false,\"text\":\"0.35\",\"x\":\"humidity9am\",\"xref\":\"x\",\"y\":\"raintoday\",\"yref\":\"y\"},{\"font\":{\"color\":\"#000000\"},\"showarrow\":false,\"text\":\"0.38\",\"x\":\"humidity3pm\",\"xref\":\"x\",\"y\":\"raintoday\",\"yref\":\"y\"},{\"font\":{\"color\":\"#FFFFFF\"},\"showarrow\":false,\"text\":\"-0.19\",\"x\":\"pressure9am\",\"xref\":\"x\",\"y\":\"raintoday\",\"yref\":\"y\"},{\"font\":{\"color\":\"#FFFFFF\"},\"showarrow\":false,\"text\":\"-0.11\",\"x\":\"pressure3pm\",\"xref\":\"x\",\"y\":\"raintoday\",\"yref\":\"y\"},{\"font\":{\"color\":\"#000000\"},\"showarrow\":false,\"text\":\"0.31\",\"x\":\"cloud9am\",\"xref\":\"x\",\"y\":\"raintoday\",\"yref\":\"y\"},{\"font\":{\"color\":\"#000000\"},\"showarrow\":false,\"text\":\"0.27\",\"x\":\"cloud3pm\",\"xref\":\"x\",\"y\":\"raintoday\",\"yref\":\"y\"},{\"font\":{\"color\":\"#FFFFFF\"},\"showarrow\":false,\"text\":\"-0.1\",\"x\":\"temp9am\",\"xref\":\"x\",\"y\":\"raintoday\",\"yref\":\"y\"},{\"font\":{\"color\":\"#FFFFFF\"},\"showarrow\":false,\"text\":\"-0.24\",\"x\":\"temp3pm\",\"xref\":\"x\",\"y\":\"raintoday\",\"yref\":\"y\"},{\"font\":{\"color\":\"#000000\"},\"showarrow\":false,\"text\":\"1.0\",\"x\":\"raintoday\",\"xref\":\"x\",\"y\":\"raintoday\",\"yref\":\"y\"},{\"font\":{\"color\":\"#000000\"},\"showarrow\":false,\"text\":\"0.31\",\"x\":\"raintomorrow\",\"xref\":\"x\",\"y\":\"raintoday\",\"yref\":\"y\"},{\"font\":{\"color\":\"#FFFFFF\"},\"showarrow\":false,\"text\":\"0.08\",\"x\":\"mintemp\",\"xref\":\"x\",\"y\":\"raintomorrow\",\"yref\":\"y\"},{\"font\":{\"color\":\"#FFFFFF\"},\"showarrow\":false,\"text\":\"-0.16\",\"x\":\"maxtemp\",\"xref\":\"x\",\"y\":\"raintomorrow\",\"yref\":\"y\"},{\"font\":{\"color\":\"#000000\"},\"showarrow\":false,\"text\":\"0.24\",\"x\":\"rainfall\",\"xref\":\"x\",\"y\":\"raintomorrow\",\"yref\":\"y\"},{\"font\":{\"color\":\"#FFFFFF\"},\"showarrow\":false,\"text\":\"-0.12\",\"x\":\"evaporation\",\"xref\":\"x\",\"y\":\"raintomorrow\",\"yref\":\"y\"},{\"font\":{\"color\":\"#FFFFFF\"},\"showarrow\":false,\"text\":\"-0.45\",\"x\":\"sunshine\",\"xref\":\"x\",\"y\":\"raintomorrow\",\"yref\":\"y\"},{\"font\":{\"color\":\"#000000\"},\"showarrow\":false,\"text\":\"0.23\",\"x\":\"windgustspeed\",\"xref\":\"x\",\"y\":\"raintomorrow\",\"yref\":\"y\"},{\"font\":{\"color\":\"#FFFFFF\"},\"showarrow\":false,\"text\":\"0.09\",\"x\":\"windspeed9am\",\"xref\":\"x\",\"y\":\"raintomorrow\",\"yref\":\"y\"},{\"font\":{\"color\":\"#FFFFFF\"},\"showarrow\":false,\"text\":\"0.09\",\"x\":\"windspeed3pm\",\"xref\":\"x\",\"y\":\"raintomorrow\",\"yref\":\"y\"},{\"font\":{\"color\":\"#000000\"},\"showarrow\":false,\"text\":\"0.26\",\"x\":\"humidity9am\",\"xref\":\"x\",\"y\":\"raintomorrow\",\"yref\":\"y\"},{\"font\":{\"color\":\"#000000\"},\"showarrow\":false,\"text\":\"0.45\",\"x\":\"humidity3pm\",\"xref\":\"x\",\"y\":\"raintomorrow\",\"yref\":\"y\"},{\"font\":{\"color\":\"#FFFFFF\"},\"showarrow\":false,\"text\":\"-0.25\",\"x\":\"pressure9am\",\"xref\":\"x\",\"y\":\"raintomorrow\",\"yref\":\"y\"},{\"font\":{\"color\":\"#FFFFFF\"},\"showarrow\":false,\"text\":\"-0.23\",\"x\":\"pressure3pm\",\"xref\":\"x\",\"y\":\"raintomorrow\",\"yref\":\"y\"},{\"font\":{\"color\":\"#000000\"},\"showarrow\":false,\"text\":\"0.32\",\"x\":\"cloud9am\",\"xref\":\"x\",\"y\":\"raintomorrow\",\"yref\":\"y\"},{\"font\":{\"color\":\"#000000\"},\"showarrow\":false,\"text\":\"0.38\",\"x\":\"cloud3pm\",\"xref\":\"x\",\"y\":\"raintomorrow\",\"yref\":\"y\"},{\"font\":{\"color\":\"#FFFFFF\"},\"showarrow\":false,\"text\":\"-0.03\",\"x\":\"temp9am\",\"xref\":\"x\",\"y\":\"raintomorrow\",\"yref\":\"y\"},{\"font\":{\"color\":\"#FFFFFF\"},\"showarrow\":false,\"text\":\"-0.19\",\"x\":\"temp3pm\",\"xref\":\"x\",\"y\":\"raintomorrow\",\"yref\":\"y\"},{\"font\":{\"color\":\"#000000\"},\"showarrow\":false,\"text\":\"0.31\",\"x\":\"raintoday\",\"xref\":\"x\",\"y\":\"raintomorrow\",\"yref\":\"y\"},{\"font\":{\"color\":\"#000000\"},\"showarrow\":false,\"text\":\"1.0\",\"x\":\"raintomorrow\",\"xref\":\"x\",\"y\":\"raintomorrow\",\"yref\":\"y\"}],\"xaxis\":{\"dtick\":1,\"gridcolor\":\"rgb(0, 0, 0)\",\"side\":\"top\",\"ticks\":\"\"},\"yaxis\":{\"dtick\":1,\"ticks\":\"\",\"ticksuffix\":\"  \"},\"template\":{\"data\":{\"bar\":[{\"error_x\":{\"color\":\"#2a3f5f\"},\"error_y\":{\"color\":\"#2a3f5f\"},\"marker\":{\"line\":{\"color\":\"#E5ECF6\",\"width\":0.5},\"pattern\":{\"fillmode\":\"overlay\",\"size\":10,\"solidity\":0.2}},\"type\":\"bar\"}],\"barpolar\":[{\"marker\":{\"line\":{\"color\":\"#E5ECF6\",\"width\":0.5},\"pattern\":{\"fillmode\":\"overlay\",\"size\":10,\"solidity\":0.2}},\"type\":\"barpolar\"}],\"carpet\":[{\"aaxis\":{\"endlinecolor\":\"#2a3f5f\",\"gridcolor\":\"white\",\"linecolor\":\"white\",\"minorgridcolor\":\"white\",\"startlinecolor\":\"#2a3f5f\"},\"baxis\":{\"endlinecolor\":\"#2a3f5f\",\"gridcolor\":\"white\",\"linecolor\":\"white\",\"minorgridcolor\":\"white\",\"startlinecolor\":\"#2a3f5f\"},\"type\":\"carpet\"}],\"choropleth\":[{\"colorbar\":{\"outlinewidth\":0,\"ticks\":\"\"},\"type\":\"choropleth\"}],\"contour\":[{\"colorbar\":{\"outlinewidth\":0,\"ticks\":\"\"},\"colorscale\":[[0.0,\"#0d0887\"],[0.1111111111111111,\"#46039f\"],[0.2222222222222222,\"#7201a8\"],[0.3333333333333333,\"#9c179e\"],[0.4444444444444444,\"#bd3786\"],[0.5555555555555556,\"#d8576b\"],[0.6666666666666666,\"#ed7953\"],[0.7777777777777778,\"#fb9f3a\"],[0.8888888888888888,\"#fdca26\"],[1.0,\"#f0f921\"]],\"type\":\"contour\"}],\"contourcarpet\":[{\"colorbar\":{\"outlinewidth\":0,\"ticks\":\"\"},\"type\":\"contourcarpet\"}],\"heatmap\":[{\"colorbar\":{\"outlinewidth\":0,\"ticks\":\"\"},\"colorscale\":[[0.0,\"#0d0887\"],[0.1111111111111111,\"#46039f\"],[0.2222222222222222,\"#7201a8\"],[0.3333333333333333,\"#9c179e\"],[0.4444444444444444,\"#bd3786\"],[0.5555555555555556,\"#d8576b\"],[0.6666666666666666,\"#ed7953\"],[0.7777777777777778,\"#fb9f3a\"],[0.8888888888888888,\"#fdca26\"],[1.0,\"#f0f921\"]],\"type\":\"heatmap\"}],\"heatmapgl\":[{\"colorbar\":{\"outlinewidth\":0,\"ticks\":\"\"},\"colorscale\":[[0.0,\"#0d0887\"],[0.1111111111111111,\"#46039f\"],[0.2222222222222222,\"#7201a8\"],[0.3333333333333333,\"#9c179e\"],[0.4444444444444444,\"#bd3786\"],[0.5555555555555556,\"#d8576b\"],[0.6666666666666666,\"#ed7953\"],[0.7777777777777778,\"#fb9f3a\"],[0.8888888888888888,\"#fdca26\"],[1.0,\"#f0f921\"]],\"type\":\"heatmapgl\"}],\"histogram\":[{\"marker\":{\"pattern\":{\"fillmode\":\"overlay\",\"size\":10,\"solidity\":0.2}},\"type\":\"histogram\"}],\"histogram2d\":[{\"colorbar\":{\"outlinewidth\":0,\"ticks\":\"\"},\"colorscale\":[[0.0,\"#0d0887\"],[0.1111111111111111,\"#46039f\"],[0.2222222222222222,\"#7201a8\"],[0.3333333333333333,\"#9c179e\"],[0.4444444444444444,\"#bd3786\"],[0.5555555555555556,\"#d8576b\"],[0.6666666666666666,\"#ed7953\"],[0.7777777777777778,\"#fb9f3a\"],[0.8888888888888888,\"#fdca26\"],[1.0,\"#f0f921\"]],\"type\":\"histogram2d\"}],\"histogram2dcontour\":[{\"colorbar\":{\"outlinewidth\":0,\"ticks\":\"\"},\"colorscale\":[[0.0,\"#0d0887\"],[0.1111111111111111,\"#46039f\"],[0.2222222222222222,\"#7201a8\"],[0.3333333333333333,\"#9c179e\"],[0.4444444444444444,\"#bd3786\"],[0.5555555555555556,\"#d8576b\"],[0.6666666666666666,\"#ed7953\"],[0.7777777777777778,\"#fb9f3a\"],[0.8888888888888888,\"#fdca26\"],[1.0,\"#f0f921\"]],\"type\":\"histogram2dcontour\"}],\"mesh3d\":[{\"colorbar\":{\"outlinewidth\":0,\"ticks\":\"\"},\"type\":\"mesh3d\"}],\"parcoords\":[{\"line\":{\"colorbar\":{\"outlinewidth\":0,\"ticks\":\"\"}},\"type\":\"parcoords\"}],\"pie\":[{\"automargin\":true,\"type\":\"pie\"}],\"scatter\":[{\"marker\":{\"colorbar\":{\"outlinewidth\":0,\"ticks\":\"\"}},\"type\":\"scatter\"}],\"scatter3d\":[{\"line\":{\"colorbar\":{\"outlinewidth\":0,\"ticks\":\"\"}},\"marker\":{\"colorbar\":{\"outlinewidth\":0,\"ticks\":\"\"}},\"type\":\"scatter3d\"}],\"scattercarpet\":[{\"marker\":{\"colorbar\":{\"outlinewidth\":0,\"ticks\":\"\"}},\"type\":\"scattercarpet\"}],\"scattergeo\":[{\"marker\":{\"colorbar\":{\"outlinewidth\":0,\"ticks\":\"\"}},\"type\":\"scattergeo\"}],\"scattergl\":[{\"marker\":{\"colorbar\":{\"outlinewidth\":0,\"ticks\":\"\"}},\"type\":\"scattergl\"}],\"scattermapbox\":[{\"marker\":{\"colorbar\":{\"outlinewidth\":0,\"ticks\":\"\"}},\"type\":\"scattermapbox\"}],\"scatterpolar\":[{\"marker\":{\"colorbar\":{\"outlinewidth\":0,\"ticks\":\"\"}},\"type\":\"scatterpolar\"}],\"scatterpolargl\":[{\"marker\":{\"colorbar\":{\"outlinewidth\":0,\"ticks\":\"\"}},\"type\":\"scatterpolargl\"}],\"scatterternary\":[{\"marker\":{\"colorbar\":{\"outlinewidth\":0,\"ticks\":\"\"}},\"type\":\"scatterternary\"}],\"surface\":[{\"colorbar\":{\"outlinewidth\":0,\"ticks\":\"\"},\"colorscale\":[[0.0,\"#0d0887\"],[0.1111111111111111,\"#46039f\"],[0.2222222222222222,\"#7201a8\"],[0.3333333333333333,\"#9c179e\"],[0.4444444444444444,\"#bd3786\"],[0.5555555555555556,\"#d8576b\"],[0.6666666666666666,\"#ed7953\"],[0.7777777777777778,\"#fb9f3a\"],[0.8888888888888888,\"#fdca26\"],[1.0,\"#f0f921\"]],\"type\":\"surface\"}],\"table\":[{\"cells\":{\"fill\":{\"color\":\"#EBF0F8\"},\"line\":{\"color\":\"white\"}},\"header\":{\"fill\":{\"color\":\"#C8D4E3\"},\"line\":{\"color\":\"white\"}},\"type\":\"table\"}]},\"layout\":{\"annotationdefaults\":{\"arrowcolor\":\"#2a3f5f\",\"arrowhead\":0,\"arrowwidth\":1},\"autotypenumbers\":\"strict\",\"coloraxis\":{\"colorbar\":{\"outlinewidth\":0,\"ticks\":\"\"}},\"colorscale\":{\"diverging\":[[0,\"#8e0152\"],[0.1,\"#c51b7d\"],[0.2,\"#de77ae\"],[0.3,\"#f1b6da\"],[0.4,\"#fde0ef\"],[0.5,\"#f7f7f7\"],[0.6,\"#e6f5d0\"],[0.7,\"#b8e186\"],[0.8,\"#7fbc41\"],[0.9,\"#4d9221\"],[1,\"#276419\"]],\"sequential\":[[0.0,\"#0d0887\"],[0.1111111111111111,\"#46039f\"],[0.2222222222222222,\"#7201a8\"],[0.3333333333333333,\"#9c179e\"],[0.4444444444444444,\"#bd3786\"],[0.5555555555555556,\"#d8576b\"],[0.6666666666666666,\"#ed7953\"],[0.7777777777777778,\"#fb9f3a\"],[0.8888888888888888,\"#fdca26\"],[1.0,\"#f0f921\"]],\"sequentialminus\":[[0.0,\"#0d0887\"],[0.1111111111111111,\"#46039f\"],[0.2222222222222222,\"#7201a8\"],[0.3333333333333333,\"#9c179e\"],[0.4444444444444444,\"#bd3786\"],[0.5555555555555556,\"#d8576b\"],[0.6666666666666666,\"#ed7953\"],[0.7777777777777778,\"#fb9f3a\"],[0.8888888888888888,\"#fdca26\"],[1.0,\"#f0f921\"]]},\"colorway\":[\"#636efa\",\"#EF553B\",\"#00cc96\",\"#ab63fa\",\"#FFA15A\",\"#19d3f3\",\"#FF6692\",\"#B6E880\",\"#FF97FF\",\"#FECB52\"],\"font\":{\"color\":\"#2a3f5f\"},\"geo\":{\"bgcolor\":\"white\",\"lakecolor\":\"white\",\"landcolor\":\"#E5ECF6\",\"showlakes\":true,\"showland\":true,\"subunitcolor\":\"white\"},\"hoverlabel\":{\"align\":\"left\"},\"hovermode\":\"closest\",\"mapbox\":{\"style\":\"light\"},\"paper_bgcolor\":\"white\",\"plot_bgcolor\":\"#E5ECF6\",\"polar\":{\"angularaxis\":{\"gridcolor\":\"white\",\"linecolor\":\"white\",\"ticks\":\"\"},\"bgcolor\":\"#E5ECF6\",\"radialaxis\":{\"gridcolor\":\"white\",\"linecolor\":\"white\",\"ticks\":\"\"}},\"scene\":{\"xaxis\":{\"backgroundcolor\":\"#E5ECF6\",\"gridcolor\":\"white\",\"gridwidth\":2,\"linecolor\":\"white\",\"showbackground\":true,\"ticks\":\"\",\"zerolinecolor\":\"white\"},\"yaxis\":{\"backgroundcolor\":\"#E5ECF6\",\"gridcolor\":\"white\",\"gridwidth\":2,\"linecolor\":\"white\",\"showbackground\":true,\"ticks\":\"\",\"zerolinecolor\":\"white\"},\"zaxis\":{\"backgroundcolor\":\"#E5ECF6\",\"gridcolor\":\"white\",\"gridwidth\":2,\"linecolor\":\"white\",\"showbackground\":true,\"ticks\":\"\",\"zerolinecolor\":\"white\"}},\"shapedefaults\":{\"line\":{\"color\":\"#2a3f5f\"}},\"ternary\":{\"aaxis\":{\"gridcolor\":\"white\",\"linecolor\":\"white\",\"ticks\":\"\"},\"baxis\":{\"gridcolor\":\"white\",\"linecolor\":\"white\",\"ticks\":\"\"},\"bgcolor\":\"#E5ECF6\",\"caxis\":{\"gridcolor\":\"white\",\"linecolor\":\"white\",\"ticks\":\"\"}},\"title\":{\"x\":0.05},\"xaxis\":{\"automargin\":true,\"gridcolor\":\"white\",\"linecolor\":\"white\",\"ticks\":\"\",\"title\":{\"standoff\":15},\"zerolinecolor\":\"white\",\"zerolinewidth\":2},\"yaxis\":{\"automargin\":true,\"gridcolor\":\"white\",\"linecolor\":\"white\",\"ticks\":\"\",\"title\":{\"standoff\":15},\"zerolinecolor\":\"white\",\"zerolinewidth\":2}}}},                        {\"responsive\": true}                    ).then(function(){\n",
       "                            \n",
       "var gd = document.getElementById('b30bf1f7-7023-41f0-acff-fbb577852ea9');\n",
       "var x = new MutationObserver(function (mutations, observer) {{\n",
       "        var display = window.getComputedStyle(gd).display;\n",
       "        if (!display || display === 'none') {{\n",
       "            console.log([gd, 'removed!']);\n",
       "            Plotly.purge(gd);\n",
       "            observer.disconnect();\n",
       "        }}\n",
       "}});\n",
       "\n",
       "// Listen for the removal of the full notebook cells\n",
       "var notebookContainer = gd.closest('#notebook-container');\n",
       "if (notebookContainer) {{\n",
       "    x.observe(notebookContainer, {childList: true});\n",
       "}}\n",
       "\n",
       "// Listen for the clearing of the current output cell\n",
       "var outputEl = gd.closest('.output');\n",
       "if (outputEl) {{\n",
       "    x.observe(outputEl, {childList: true});\n",
       "}}\n",
       "\n",
       "                        })                };                });            </script>        </div>"
      ]
     },
     "metadata": {},
     "output_type": "display_data"
    }
   ],
   "source": [
    "data_for_corr = data.copy()\n",
    "data_for_corr['raintomorrow'] = data_for_corr['raintomorrow'].map({'Yes': 1, 'No': 0})\n",
    "data_for_corr['raintoday'] = data_for_corr['raintoday'].map({'Yes': 1, 'No': 0})\n",
    "corrs = data_for_corr.corr()\n",
    "ff.create_annotated_heatmap(\n",
    "    z=corrs.values,\n",
    "    x=list(corrs.columns),\n",
    "    y=list(corrs.index),\n",
    "    annotation_text=np.around(corrs.values, decimals=2),\n",
    "    showscale=True)"
   ]
  },
  {
   "cell_type": "markdown",
   "id": "18bc8e65",
   "metadata": {},
   "source": [
    "#### 2.1.1. raintomorrow"
   ]
  },
  {
   "cell_type": "markdown",
   "id": "bd0ec3d1",
   "metadata": {},
   "source": [
    "\"raintomorrow\" is a target variable, so replacing missing values is not allowed."
   ]
  },
  {
   "cell_type": "code",
   "execution_count": 689,
   "id": "301c6ff1",
   "metadata": {
    "ExecuteTime": {
     "end_time": "2022-07-01T09:37:48.395717Z",
     "start_time": "2022-07-01T09:37:48.377023Z"
    }
   },
   "outputs": [],
   "source": [
    "data = data[data.raintomorrow.notnull()]"
   ]
  },
  {
   "cell_type": "markdown",
   "id": "18bd502c",
   "metadata": {},
   "source": [
    "#### 2.1.2. raintoday"
   ]
  },
  {
   "cell_type": "code",
   "execution_count": 690,
   "id": "9ce7da62",
   "metadata": {
    "ExecuteTime": {
     "end_time": "2022-07-01T09:37:48.458648Z",
     "start_time": "2022-07-01T09:37:48.397029Z"
    }
   },
   "outputs": [
    {
     "data": {
      "text/plain": [
       "1406"
      ]
     },
     "execution_count": 690,
     "metadata": {},
     "output_type": "execute_result"
    }
   ],
   "source": [
    "data[(data.raintoday.isnull()) & (data.rainfall.isnull())].shape[0]"
   ]
  },
  {
   "cell_type": "code",
   "execution_count": 691,
   "id": "93f2c36a",
   "metadata": {
    "ExecuteTime": {
     "end_time": "2022-07-01T09:37:48.532469Z",
     "start_time": "2022-07-01T09:37:48.460245Z"
    }
   },
   "outputs": [
    {
     "data": {
      "text/plain": [
       "(1406, 1406)"
      ]
     },
     "execution_count": 691,
     "metadata": {},
     "output_type": "execute_result"
    }
   ],
   "source": [
    "data[data.raintoday.isnull()].shape[0], data[data.rainfall.isnull()].shape[0]"
   ]
  },
  {
   "cell_type": "markdown",
   "id": "98a134c1",
   "metadata": {},
   "source": [
    "If the values are missing in the \"raintoday\" column, then they are necessarily missing in the \"rainfall\" column. We do not have data to replace, so we will delete rows with missing values."
   ]
  },
  {
   "cell_type": "code",
   "execution_count": 692,
   "id": "595e5b29",
   "metadata": {
    "ExecuteTime": {
     "end_time": "2022-07-01T09:37:48.606311Z",
     "start_time": "2022-07-01T09:37:48.533866Z"
    }
   },
   "outputs": [],
   "source": [
    "data = data[(data.raintoday.notnull()) & (data.rainfall.notnull())]"
   ]
  },
  {
   "cell_type": "markdown",
   "id": "b23343f0",
   "metadata": {},
   "source": [
    "#### 2.1.3. mintemp, maxtemp, temp9am, temp3pm"
   ]
  },
  {
   "cell_type": "markdown",
   "id": "2f29479b",
   "metadata": {},
   "source": [
    "Let's create a pivot table containing information about the median temperature depending on the month and location. Then fill in the missing values using this table."
   ]
  },
  {
   "cell_type": "code",
   "execution_count": 693,
   "id": "752694c8",
   "metadata": {
    "ExecuteTime": {
     "end_time": "2022-07-01T09:37:48.701337Z",
     "start_time": "2022-07-01T09:37:48.607986Z"
    }
   },
   "outputs": [
    {
     "data": {
      "text/html": [
       "<div>\n",
       "<style scoped>\n",
       "    .dataframe tbody tr th:only-of-type {\n",
       "        vertical-align: middle;\n",
       "    }\n",
       "\n",
       "    .dataframe tbody tr th {\n",
       "        vertical-align: top;\n",
       "    }\n",
       "\n",
       "    .dataframe thead th {\n",
       "        text-align: right;\n",
       "    }\n",
       "</style>\n",
       "<table border=\"1\" class=\"dataframe\">\n",
       "  <thead>\n",
       "    <tr style=\"text-align: right;\">\n",
       "      <th></th>\n",
       "      <th></th>\n",
       "      <th>maxtemp</th>\n",
       "      <th>mintemp</th>\n",
       "      <th>temp3pm</th>\n",
       "      <th>temp9am</th>\n",
       "    </tr>\n",
       "    <tr>\n",
       "      <th>date</th>\n",
       "      <th>location</th>\n",
       "      <th></th>\n",
       "      <th></th>\n",
       "      <th></th>\n",
       "      <th></th>\n",
       "    </tr>\n",
       "  </thead>\n",
       "  <tbody>\n",
       "    <tr>\n",
       "      <th rowspan=\"5\" valign=\"top\">1</th>\n",
       "      <th>Adelaide</th>\n",
       "      <td>30.4</td>\n",
       "      <td>17.1</td>\n",
       "      <td>28.90</td>\n",
       "      <td>21.70</td>\n",
       "    </tr>\n",
       "    <tr>\n",
       "      <th>Albany</th>\n",
       "      <td>22.8</td>\n",
       "      <td>17.0</td>\n",
       "      <td>21.10</td>\n",
       "      <td>20.05</td>\n",
       "    </tr>\n",
       "    <tr>\n",
       "      <th>Albury</th>\n",
       "      <td>33.0</td>\n",
       "      <td>17.0</td>\n",
       "      <td>31.20</td>\n",
       "      <td>23.00</td>\n",
       "    </tr>\n",
       "    <tr>\n",
       "      <th>AliceSprings</th>\n",
       "      <td>36.7</td>\n",
       "      <td>21.9</td>\n",
       "      <td>35.40</td>\n",
       "      <td>29.70</td>\n",
       "    </tr>\n",
       "    <tr>\n",
       "      <th>BadgerysCreek</th>\n",
       "      <td>30.1</td>\n",
       "      <td>17.8</td>\n",
       "      <td>28.20</td>\n",
       "      <td>22.30</td>\n",
       "    </tr>\n",
       "    <tr>\n",
       "      <th>...</th>\n",
       "      <th>...</th>\n",
       "      <td>...</td>\n",
       "      <td>...</td>\n",
       "      <td>...</td>\n",
       "      <td>...</td>\n",
       "    </tr>\n",
       "    <tr>\n",
       "      <th rowspan=\"5\" valign=\"top\">12</th>\n",
       "      <th>Watsonia</th>\n",
       "      <td>25.2</td>\n",
       "      <td>12.9</td>\n",
       "      <td>23.00</td>\n",
       "      <td>16.60</td>\n",
       "    </tr>\n",
       "    <tr>\n",
       "      <th>Williamtown</th>\n",
       "      <td>26.8</td>\n",
       "      <td>17.2</td>\n",
       "      <td>25.00</td>\n",
       "      <td>22.50</td>\n",
       "    </tr>\n",
       "    <tr>\n",
       "      <th>Witchcliffe</th>\n",
       "      <td>23.9</td>\n",
       "      <td>12.5</td>\n",
       "      <td>21.80</td>\n",
       "      <td>19.50</td>\n",
       "    </tr>\n",
       "    <tr>\n",
       "      <th>Wollongong</th>\n",
       "      <td>23.5</td>\n",
       "      <td>17.6</td>\n",
       "      <td>21.90</td>\n",
       "      <td>20.70</td>\n",
       "    </tr>\n",
       "    <tr>\n",
       "      <th>Woomera</th>\n",
       "      <td>33.1</td>\n",
       "      <td>17.5</td>\n",
       "      <td>30.65</td>\n",
       "      <td>22.60</td>\n",
       "    </tr>\n",
       "  </tbody>\n",
       "</table>\n",
       "<p>588 rows × 4 columns</p>\n",
       "</div>"
      ],
      "text/plain": [
       "                    maxtemp  mintemp  temp3pm  temp9am\n",
       "date location                                         \n",
       "1    Adelaide          30.4     17.1    28.90    21.70\n",
       "     Albany            22.8     17.0    21.10    20.05\n",
       "     Albury            33.0     17.0    31.20    23.00\n",
       "     AliceSprings      36.7     21.9    35.40    29.70\n",
       "     BadgerysCreek     30.1     17.8    28.20    22.30\n",
       "...                     ...      ...      ...      ...\n",
       "12   Watsonia          25.2     12.9    23.00    16.60\n",
       "     Williamtown       26.8     17.2    25.00    22.50\n",
       "     Witchcliffe       23.9     12.5    21.80    19.50\n",
       "     Wollongong        23.5     17.6    21.90    20.70\n",
       "     Woomera           33.1     17.5    30.65    22.60\n",
       "\n",
       "[588 rows x 4 columns]"
      ]
     },
     "execution_count": 693,
     "metadata": {},
     "output_type": "execute_result"
    }
   ],
   "source": [
    "temp_date = pd.pivot_table(data, index=[data['date'].dt.month, 'location'], \n",
    "               values=['mintemp', 'maxtemp', 'temp9am', 'temp3pm'], aggfunc='median')\n",
    "temp_date"
   ]
  },
  {
   "cell_type": "code",
   "execution_count": 694,
   "id": "ffaa6c61",
   "metadata": {
    "ExecuteTime": {
     "end_time": "2022-07-01T09:37:54.214205Z",
     "start_time": "2022-07-01T09:37:48.702675Z"
    }
   },
   "outputs": [],
   "source": [
    "def fill_temp3pm(row):\n",
    "    temp = row['temp3pm']\n",
    "    if pd.isnull(temp):\n",
    "        month = row['date'].month\n",
    "        location = row['location']\n",
    "        return temp_date.loc[month, location]['temp3pm']\n",
    "    return temp\n",
    "\n",
    "def fill_temp9pm(row):\n",
    "    temp = row['temp9am']\n",
    "    if pd.isnull(temp):\n",
    "        month = row['date'].month\n",
    "        location = row['location']\n",
    "        return temp_date.loc[month, location]['temp9am']\n",
    "    return temp\n",
    "\n",
    "def fill_mintemp(row):\n",
    "    temp = row['mintemp']\n",
    "    if pd.isnull(temp):\n",
    "        month = row['date'].month\n",
    "        location = row['location']\n",
    "        return temp_date.loc[month, location]['mintemp']\n",
    "    return temp\n",
    "\n",
    "def fill_maxtemp(row):\n",
    "    temp = row['maxtemp']\n",
    "    if pd.isnull(temp):\n",
    "        month = row['date'].month\n",
    "        location = row['location']\n",
    "        return temp_date.loc[month, location]['maxtemp']\n",
    "    return temp\n",
    "\n",
    "data['temp3pm'] = data.apply(fill_temp3pm, axis=1)\n",
    "data['temp9am'] = data.apply(fill_temp9pm, axis=1)\n",
    "data['mintemp'] = data.apply(fill_mintemp, axis=1)\n",
    "data['maxtemp'] = data.apply(fill_maxtemp, axis=1)"
   ]
  },
  {
   "cell_type": "markdown",
   "id": "4dbdf1e3",
   "metadata": {},
   "source": [
    "#### 2.1.4.  pressure9am, pressure3pm"
   ]
  },
  {
   "cell_type": "code",
   "execution_count": 695,
   "id": "8d41a596",
   "metadata": {
    "ExecuteTime": {
     "end_time": "2022-07-01T09:37:54.231050Z",
     "start_time": "2022-07-01T09:37:54.215996Z"
    }
   },
   "outputs": [
    {
     "data": {
      "text/plain": [
       "13583"
      ]
     },
     "execution_count": 695,
     "metadata": {},
     "output_type": "execute_result"
    }
   ],
   "source": [
    "data[(data.pressure3pm.isnull()) & (data.pressure9am.isnull() )].shape[0]"
   ]
  },
  {
   "cell_type": "markdown",
   "id": "7f12fa72",
   "metadata": {},
   "source": [
    "If the values are missing in the \"pressure3pm\" column, then they are almost always missing in the \"pressure9am\" column. <br>\n",
    "Let's create a pivot table containing information about the median pressure depending on the month and location. Then fill in the missing values using this table."
   ]
  },
  {
   "cell_type": "code",
   "execution_count": 696,
   "id": "90eabb50",
   "metadata": {
    "ExecuteTime": {
     "end_time": "2022-07-01T09:37:54.403508Z",
     "start_time": "2022-07-01T09:37:54.232503Z"
    }
   },
   "outputs": [
    {
     "data": {
      "text/html": [
       "<div>\n",
       "<style scoped>\n",
       "    .dataframe tbody tr th:only-of-type {\n",
       "        vertical-align: middle;\n",
       "    }\n",
       "\n",
       "    .dataframe tbody tr th {\n",
       "        vertical-align: top;\n",
       "    }\n",
       "\n",
       "    .dataframe thead th {\n",
       "        text-align: right;\n",
       "    }\n",
       "</style>\n",
       "<table border=\"1\" class=\"dataframe\">\n",
       "  <thead>\n",
       "    <tr style=\"text-align: right;\">\n",
       "      <th></th>\n",
       "      <th></th>\n",
       "      <th>pressure3pm</th>\n",
       "      <th>pressure9am</th>\n",
       "    </tr>\n",
       "    <tr>\n",
       "      <th>date</th>\n",
       "      <th>location</th>\n",
       "      <th></th>\n",
       "      <th></th>\n",
       "    </tr>\n",
       "  </thead>\n",
       "  <tbody>\n",
       "    <tr>\n",
       "      <th rowspan=\"5\" valign=\"top\">1</th>\n",
       "      <th>Adelaide</th>\n",
       "      <td>1012.05</td>\n",
       "      <td>1013.80</td>\n",
       "    </tr>\n",
       "    <tr>\n",
       "      <th>Albany</th>\n",
       "      <td>1013.85</td>\n",
       "      <td>1015.60</td>\n",
       "    </tr>\n",
       "    <tr>\n",
       "      <th>Albury</th>\n",
       "      <td>1009.80</td>\n",
       "      <td>1012.60</td>\n",
       "    </tr>\n",
       "    <tr>\n",
       "      <th>AliceSprings</th>\n",
       "      <td>1004.70</td>\n",
       "      <td>1008.15</td>\n",
       "    </tr>\n",
       "    <tr>\n",
       "      <th>BadgerysCreek</th>\n",
       "      <td>1011.90</td>\n",
       "      <td>1014.30</td>\n",
       "    </tr>\n",
       "    <tr>\n",
       "      <th>...</th>\n",
       "      <th>...</th>\n",
       "      <td>...</td>\n",
       "      <td>...</td>\n",
       "    </tr>\n",
       "    <tr>\n",
       "      <th rowspan=\"5\" valign=\"top\">12</th>\n",
       "      <th>Watsonia</th>\n",
       "      <td>1012.10</td>\n",
       "      <td>1014.40</td>\n",
       "    </tr>\n",
       "    <tr>\n",
       "      <th>Williamtown</th>\n",
       "      <td>1012.90</td>\n",
       "      <td>1014.90</td>\n",
       "    </tr>\n",
       "    <tr>\n",
       "      <th>Witchcliffe</th>\n",
       "      <td>1014.10</td>\n",
       "      <td>1015.40</td>\n",
       "    </tr>\n",
       "    <tr>\n",
       "      <th>Wollongong</th>\n",
       "      <td>1013.20</td>\n",
       "      <td>1014.85</td>\n",
       "    </tr>\n",
       "    <tr>\n",
       "      <th>Woomera</th>\n",
       "      <td>1010.60</td>\n",
       "      <td>1013.10</td>\n",
       "    </tr>\n",
       "  </tbody>\n",
       "</table>\n",
       "<p>588 rows × 2 columns</p>\n",
       "</div>"
      ],
      "text/plain": [
       "                    pressure3pm  pressure9am\n",
       "date location                               \n",
       "1    Adelaide           1012.05      1013.80\n",
       "     Albany             1013.85      1015.60\n",
       "     Albury             1009.80      1012.60\n",
       "     AliceSprings       1004.70      1008.15\n",
       "     BadgerysCreek      1011.90      1014.30\n",
       "...                         ...          ...\n",
       "12   Watsonia           1012.10      1014.40\n",
       "     Williamtown        1012.90      1014.90\n",
       "     Witchcliffe        1014.10      1015.40\n",
       "     Wollongong         1013.20      1014.85\n",
       "     Woomera            1010.60      1013.10\n",
       "\n",
       "[588 rows x 2 columns]"
      ]
     },
     "execution_count": 696,
     "metadata": {},
     "output_type": "execute_result"
    }
   ],
   "source": [
    "pressure_date = pd.pivot_table(data, index=[data['date'].dt.month, 'location'], \n",
    "               values=['pressure9am', 'pressure3pm'], aggfunc='median', dropna=False)\n",
    "pressure_date"
   ]
  },
  {
   "cell_type": "code",
   "execution_count": 697,
   "id": "c0ad4be1",
   "metadata": {
    "ExecuteTime": {
     "end_time": "2022-07-01T09:38:07.150081Z",
     "start_time": "2022-07-01T09:37:54.405378Z"
    },
    "scrolled": false
   },
   "outputs": [],
   "source": [
    "def fill_pressure9am(row):\n",
    "    pressure = row['pressure9am']\n",
    "    if pd.isnull(pressure):\n",
    "        month = row['date'].month\n",
    "        location = row['location']\n",
    "        new_pressure = pressure_date.loc[month, location]['pressure9am']\n",
    "        if pd.isnull(new_pressure):\n",
    "            return pressure_date.loc[month]['pressure9am'].median()\n",
    "        return new_pressure\n",
    "    return pressure\n",
    "\n",
    "def fill_pressure3pm(row):\n",
    "    pressure = row['pressure3pm']\n",
    "    if pd.isnull(pressure):\n",
    "        month = row['date'].month\n",
    "        location = row['location']\n",
    "        new_pressure = pressure_date.loc[month, location]['pressure3pm']\n",
    "        if pd.isnull(new_pressure):\n",
    "            return pressure_date.loc[month]['pressure3pm'].median()\n",
    "        return new_pressure\n",
    "    return pressure\n",
    "\n",
    "data['pressure9am'] = data.apply(fill_pressure9am, axis=1)\n",
    "data['pressure3pm'] = data.apply(fill_pressure3pm, axis=1)"
   ]
  },
  {
   "cell_type": "markdown",
   "id": "92624790",
   "metadata": {},
   "source": [
    "#### 2.1.5.  windspeed9am, windspeed3pm, windgustspeed"
   ]
  },
  {
   "cell_type": "markdown",
   "id": "a4ce31e8",
   "metadata": {},
   "source": [
    "The missing values will be replaced in the same way as temperature and pressure."
   ]
  },
  {
   "cell_type": "code",
   "execution_count": 698,
   "id": "75f92c29",
   "metadata": {
    "ExecuteTime": {
     "end_time": "2022-07-01T09:38:07.200148Z",
     "start_time": "2022-07-01T09:38:07.151376Z"
    }
   },
   "outputs": [
    {
     "data": {
      "text/html": [
       "<div>\n",
       "<style scoped>\n",
       "    .dataframe tbody tr th:only-of-type {\n",
       "        vertical-align: middle;\n",
       "    }\n",
       "\n",
       "    .dataframe tbody tr th {\n",
       "        vertical-align: top;\n",
       "    }\n",
       "\n",
       "    .dataframe thead th {\n",
       "        text-align: right;\n",
       "    }\n",
       "</style>\n",
       "<table border=\"1\" class=\"dataframe\">\n",
       "  <thead>\n",
       "    <tr style=\"text-align: right;\">\n",
       "      <th></th>\n",
       "      <th></th>\n",
       "      <th>windgustspeed</th>\n",
       "      <th>windspeed3pm</th>\n",
       "      <th>windspeed9am</th>\n",
       "    </tr>\n",
       "    <tr>\n",
       "      <th>date</th>\n",
       "      <th>location</th>\n",
       "      <th></th>\n",
       "      <th></th>\n",
       "      <th></th>\n",
       "    </tr>\n",
       "  </thead>\n",
       "  <tbody>\n",
       "    <tr>\n",
       "      <th rowspan=\"5\" valign=\"top\">1</th>\n",
       "      <th>Adelaide</th>\n",
       "      <td>37.0</td>\n",
       "      <td>15.0</td>\n",
       "      <td>9.0</td>\n",
       "    </tr>\n",
       "    <tr>\n",
       "      <th>Albany</th>\n",
       "      <td>NaN</td>\n",
       "      <td>24.0</td>\n",
       "      <td>15.0</td>\n",
       "    </tr>\n",
       "    <tr>\n",
       "      <th>Albury</th>\n",
       "      <td>37.0</td>\n",
       "      <td>15.0</td>\n",
       "      <td>9.0</td>\n",
       "    </tr>\n",
       "    <tr>\n",
       "      <th>AliceSprings</th>\n",
       "      <td>44.0</td>\n",
       "      <td>19.0</td>\n",
       "      <td>17.0</td>\n",
       "    </tr>\n",
       "    <tr>\n",
       "      <th>BadgerysCreek</th>\n",
       "      <td>35.0</td>\n",
       "      <td>15.0</td>\n",
       "      <td>6.0</td>\n",
       "    </tr>\n",
       "    <tr>\n",
       "      <th>...</th>\n",
       "      <th>...</th>\n",
       "      <td>...</td>\n",
       "      <td>...</td>\n",
       "      <td>...</td>\n",
       "    </tr>\n",
       "    <tr>\n",
       "      <th rowspan=\"5\" valign=\"top\">12</th>\n",
       "      <th>Watsonia</th>\n",
       "      <td>37.0</td>\n",
       "      <td>17.0</td>\n",
       "      <td>9.0</td>\n",
       "    </tr>\n",
       "    <tr>\n",
       "      <th>Williamtown</th>\n",
       "      <td>41.0</td>\n",
       "      <td>24.0</td>\n",
       "      <td>14.0</td>\n",
       "    </tr>\n",
       "    <tr>\n",
       "      <th>Witchcliffe</th>\n",
       "      <td>43.0</td>\n",
       "      <td>24.0</td>\n",
       "      <td>19.0</td>\n",
       "    </tr>\n",
       "    <tr>\n",
       "      <th>Wollongong</th>\n",
       "      <td>45.0</td>\n",
       "      <td>21.0</td>\n",
       "      <td>17.0</td>\n",
       "    </tr>\n",
       "    <tr>\n",
       "      <th>Woomera</th>\n",
       "      <td>46.0</td>\n",
       "      <td>19.5</td>\n",
       "      <td>22.0</td>\n",
       "    </tr>\n",
       "  </tbody>\n",
       "</table>\n",
       "<p>588 rows × 3 columns</p>\n",
       "</div>"
      ],
      "text/plain": [
       "                    windgustspeed  windspeed3pm  windspeed9am\n",
       "date location                                                \n",
       "1    Adelaide                37.0          15.0           9.0\n",
       "     Albany                   NaN          24.0          15.0\n",
       "     Albury                  37.0          15.0           9.0\n",
       "     AliceSprings            44.0          19.0          17.0\n",
       "     BadgerysCreek           35.0          15.0           6.0\n",
       "...                           ...           ...           ...\n",
       "12   Watsonia                37.0          17.0           9.0\n",
       "     Williamtown             41.0          24.0          14.0\n",
       "     Witchcliffe             43.0          24.0          19.0\n",
       "     Wollongong              45.0          21.0          17.0\n",
       "     Woomera                 46.0          19.5          22.0\n",
       "\n",
       "[588 rows x 3 columns]"
      ]
     },
     "execution_count": 698,
     "metadata": {},
     "output_type": "execute_result"
    }
   ],
   "source": [
    "wind_speed_date = pd.pivot_table(data, index=[data['date'].dt.month, 'location'], \n",
    "               values=['windspeed9am', 'windspeed3pm', 'windgustspeed'], aggfunc='median', dropna=False)\n",
    "wind_speed_date"
   ]
  },
  {
   "cell_type": "code",
   "execution_count": 699,
   "id": "3ff81ac7",
   "metadata": {
    "ExecuteTime": {
     "end_time": "2022-07-01T09:38:14.196943Z",
     "start_time": "2022-07-01T09:38:07.201495Z"
    }
   },
   "outputs": [
    {
     "name": "stdout",
     "output_type": "stream",
     "text": [
      "<class 'pandas.core.frame.DataFrame'>\n",
      "Int64Index: 140787 entries, 0 to 145458\n",
      "Data columns (total 23 columns):\n",
      " #   Column         Non-Null Count   Dtype         \n",
      "---  ------         --------------   -----         \n",
      " 0   date           140787 non-null  datetime64[ns]\n",
      " 1   location       140787 non-null  object        \n",
      " 2   mintemp        140787 non-null  float64       \n",
      " 3   maxtemp        140787 non-null  float64       \n",
      " 4   rainfall       140787 non-null  float64       \n",
      " 5   evaporation    81093 non-null   float64       \n",
      " 6   sunshine       73982 non-null   float64       \n",
      " 7   windgustdir    131624 non-null  object        \n",
      " 8   windgustspeed  140787 non-null  float64       \n",
      " 9   winddir9am     131127 non-null  object        \n",
      " 10  winddir3pm     137117 non-null  object        \n",
      " 11  windspeed9am   140787 non-null  float64       \n",
      " 12  windspeed3pm   140787 non-null  float64       \n",
      " 13  humidity9am    139270 non-null  float64       \n",
      " 14  humidity3pm    137286 non-null  float64       \n",
      " 15  pressure9am    140787 non-null  float64       \n",
      " 16  pressure3pm    140787 non-null  float64       \n",
      " 17  cloud9am       88162 non-null   float64       \n",
      " 18  cloud3pm       84693 non-null   float64       \n",
      " 19  temp9am        140787 non-null  float64       \n",
      " 20  temp3pm        140787 non-null  float64       \n",
      " 21  raintoday      140787 non-null  object        \n",
      " 22  raintomorrow   140787 non-null  object        \n",
      "dtypes: datetime64[ns](1), float64(16), object(6)\n",
      "memory usage: 25.8+ MB\n"
     ]
    }
   ],
   "source": [
    "def fill_windspeed9am(row):\n",
    "    windspeed = row['windspeed9am']\n",
    "    if pd.isnull(windspeed):\n",
    "        month = row['date'].month\n",
    "        location = row['location']\n",
    "        new_windspeed = wind_speed_date.loc[month, location]['windspeed9am']\n",
    "        if pd.isnull(new_windspeed):\n",
    "            return wind_speed_date.loc[month]['windspeed9am'].median()\n",
    "        return new_windspeed\n",
    "    return windspeed\n",
    "\n",
    "def fill_windspeed3pm(row):\n",
    "    windspeed = row['windspeed3pm']\n",
    "    if pd.isnull(windspeed):\n",
    "        month = row['date'].month\n",
    "        location = row['location']\n",
    "        new_windspeed = wind_speed_date.loc[month, location]['windspeed3pm']\n",
    "        if pd.isnull(new_windspeed):\n",
    "            return wind_speed_date.loc[month]['windspeed3pm'].median()\n",
    "        return new_windspeed\n",
    "    return windspeed\n",
    "\n",
    "def fill_windgustspeed(row):\n",
    "    windspeed = row['windgustspeed']\n",
    "    if pd.isnull(windspeed):\n",
    "        month = row['date'].month\n",
    "        location = row['location']\n",
    "        new_windspeed = wind_speed_date.loc[month, location]['windgustspeed']\n",
    "        if pd.isnull(new_windspeed):\n",
    "            return wind_speed_date.loc[month]['windgustspeed'].median()\n",
    "        return new_windspeed\n",
    "    return windspeed\n",
    "\n",
    "data['windspeed9am'] = data.apply(fill_windspeed9am, axis=1)\n",
    "data['windspeed3pm'] = data.apply(fill_windspeed3pm, axis=1)\n",
    "data['windgustspeed'] = data.apply(fill_windgustspeed, axis=1)\n",
    "data.info()"
   ]
  },
  {
   "cell_type": "markdown",
   "id": "b48b1c36",
   "metadata": {},
   "source": [
    "#### 2.1.6.  windgustdir, winddir9am, winddir3pm"
   ]
  },
  {
   "cell_type": "markdown",
   "id": "0c9f6f06",
   "metadata": {},
   "source": [
    "The missing values will be replaced with the mode."
   ]
  },
  {
   "cell_type": "code",
   "execution_count": 700,
   "id": "4482cb3a",
   "metadata": {
    "ExecuteTime": {
     "end_time": "2022-07-01T09:38:14.240857Z",
     "start_time": "2022-07-01T09:38:14.198429Z"
    }
   },
   "outputs": [],
   "source": [
    "data['windgustdir'].fillna(data['windgustdir'].mode()[0], inplace=True)\n",
    "data['winddir9am'].fillna(data['winddir9am'].mode()[0], inplace=True)\n",
    "data['winddir3pm'].fillna(data['winddir3pm'].mode()[0], inplace=True)"
   ]
  },
  {
   "cell_type": "markdown",
   "id": "92971307",
   "metadata": {},
   "source": [
    "#### 2.1.7.  humidity9am, humidity3pm"
   ]
  },
  {
   "cell_type": "markdown",
   "id": "f8be0c39",
   "metadata": {},
   "source": [
    "The missing values will be replaced with median values, taking into account the month and location."
   ]
  },
  {
   "cell_type": "code",
   "execution_count": 701,
   "id": "5f4bd2e1",
   "metadata": {
    "ExecuteTime": {
     "end_time": "2022-07-01T09:38:14.345564Z",
     "start_time": "2022-07-01T09:38:14.243388Z"
    }
   },
   "outputs": [
    {
     "data": {
      "text/html": [
       "<div>\n",
       "<style scoped>\n",
       "    .dataframe tbody tr th:only-of-type {\n",
       "        vertical-align: middle;\n",
       "    }\n",
       "\n",
       "    .dataframe tbody tr th {\n",
       "        vertical-align: top;\n",
       "    }\n",
       "\n",
       "    .dataframe thead th {\n",
       "        text-align: right;\n",
       "    }\n",
       "</style>\n",
       "<table border=\"1\" class=\"dataframe\">\n",
       "  <thead>\n",
       "    <tr style=\"text-align: right;\">\n",
       "      <th></th>\n",
       "      <th></th>\n",
       "      <th>humidity3pm</th>\n",
       "      <th>humidity9am</th>\n",
       "    </tr>\n",
       "    <tr>\n",
       "      <th>date</th>\n",
       "      <th>location</th>\n",
       "      <th></th>\n",
       "      <th></th>\n",
       "    </tr>\n",
       "  </thead>\n",
       "  <tbody>\n",
       "    <tr>\n",
       "      <th rowspan=\"5\" valign=\"top\">1</th>\n",
       "      <th>Adelaide</th>\n",
       "      <td>31.0</td>\n",
       "      <td>48.0</td>\n",
       "    </tr>\n",
       "    <tr>\n",
       "      <th>Albany</th>\n",
       "      <td>69.0</td>\n",
       "      <td>70.0</td>\n",
       "    </tr>\n",
       "    <tr>\n",
       "      <th>Albury</th>\n",
       "      <td>27.0</td>\n",
       "      <td>51.0</td>\n",
       "    </tr>\n",
       "    <tr>\n",
       "      <th>AliceSprings</th>\n",
       "      <td>20.0</td>\n",
       "      <td>32.0</td>\n",
       "    </tr>\n",
       "    <tr>\n",
       "      <th>BadgerysCreek</th>\n",
       "      <td>49.0</td>\n",
       "      <td>72.5</td>\n",
       "    </tr>\n",
       "    <tr>\n",
       "      <th>...</th>\n",
       "      <th>...</th>\n",
       "      <td>...</td>\n",
       "      <td>...</td>\n",
       "    </tr>\n",
       "    <tr>\n",
       "      <th rowspan=\"5\" valign=\"top\">12</th>\n",
       "      <th>Watsonia</th>\n",
       "      <td>46.0</td>\n",
       "      <td>67.0</td>\n",
       "    </tr>\n",
       "    <tr>\n",
       "      <th>Williamtown</th>\n",
       "      <td>55.0</td>\n",
       "      <td>68.0</td>\n",
       "    </tr>\n",
       "    <tr>\n",
       "      <th>Witchcliffe</th>\n",
       "      <td>49.0</td>\n",
       "      <td>54.0</td>\n",
       "    </tr>\n",
       "    <tr>\n",
       "      <th>Wollongong</th>\n",
       "      <td>73.0</td>\n",
       "      <td>75.0</td>\n",
       "    </tr>\n",
       "    <tr>\n",
       "      <th>Woomera</th>\n",
       "      <td>16.0</td>\n",
       "      <td>38.0</td>\n",
       "    </tr>\n",
       "  </tbody>\n",
       "</table>\n",
       "<p>588 rows × 2 columns</p>\n",
       "</div>"
      ],
      "text/plain": [
       "                    humidity3pm  humidity9am\n",
       "date location                               \n",
       "1    Adelaide              31.0         48.0\n",
       "     Albany                69.0         70.0\n",
       "     Albury                27.0         51.0\n",
       "     AliceSprings          20.0         32.0\n",
       "     BadgerysCreek         49.0         72.5\n",
       "...                         ...          ...\n",
       "12   Watsonia              46.0         67.0\n",
       "     Williamtown           55.0         68.0\n",
       "     Witchcliffe           49.0         54.0\n",
       "     Wollongong            73.0         75.0\n",
       "     Woomera               16.0         38.0\n",
       "\n",
       "[588 rows x 2 columns]"
      ]
     },
     "execution_count": 701,
     "metadata": {},
     "output_type": "execute_result"
    }
   ],
   "source": [
    "humidity_date = pd.pivot_table(data, index=[data['date'].dt.month, 'location'], \n",
    "               values=['humidity9am', 'humidity3pm'], aggfunc='median', dropna=False)\n",
    "humidity_date"
   ]
  },
  {
   "cell_type": "code",
   "execution_count": 702,
   "id": "5e1deacc",
   "metadata": {
    "ExecuteTime": {
     "end_time": "2022-07-01T09:38:18.188640Z",
     "start_time": "2022-07-01T09:38:14.346903Z"
    }
   },
   "outputs": [],
   "source": [
    "def fill_humidity9am(row):\n",
    "    humidity = row['humidity9am']\n",
    "    if pd.isnull(humidity):\n",
    "        month = row['date'].month\n",
    "        location = row['location']\n",
    "        new_humidity = humidity_date.loc[month, location]['humidity9am']\n",
    "        if pd.isnull(new_humidity):\n",
    "            return humidity_date.loc[month]['humidity9am'].median()\n",
    "        return new_humidity\n",
    "    return humidity\n",
    "\n",
    "def fill_humidity3pm(row):\n",
    "    humidity = row['humidity3pm']\n",
    "    if pd.isnull(humidity):\n",
    "        month = row['date'].month\n",
    "        location = row['location']\n",
    "        new_humidity = humidity_date.loc[month, location]['humidity3pm']\n",
    "        if pd.isnull(new_humidity):\n",
    "            return humidity_date.loc[month]['humidity3pm'].median()\n",
    "        return new_humidity\n",
    "    return humidity\n",
    "\n",
    "data['humidity9am'] = data.apply(fill_humidity9am, axis=1)\n",
    "data['humidity3pm'] = data.apply(fill_humidity3pm, axis=1)"
   ]
  },
  {
   "cell_type": "markdown",
   "id": "6014c931",
   "metadata": {},
   "source": [
    "#### 2.1.8.  evaporation, sunshine, cloud9am, cloud3pm"
   ]
  },
  {
   "cell_type": "markdown",
   "id": "ae879665",
   "metadata": {},
   "source": [
    "In these columns, approximately 40% of the data is missing. This is too much for us to replace them with a median or some other statistic. We will leave the omissions for now without processing."
   ]
  },
  {
   "cell_type": "code",
   "execution_count": 703,
   "id": "5e2cde66",
   "metadata": {
    "ExecuteTime": {
     "end_time": "2022-07-01T09:38:18.288561Z",
     "start_time": "2022-07-01T09:38:18.190394Z"
    }
   },
   "outputs": [
    {
     "name": "stdout",
     "output_type": "stream",
     "text": [
      "<class 'pandas.core.frame.DataFrame'>\n",
      "RangeIndex: 140787 entries, 0 to 140786\n",
      "Data columns (total 23 columns):\n",
      " #   Column         Non-Null Count   Dtype         \n",
      "---  ------         --------------   -----         \n",
      " 0   date           140787 non-null  datetime64[ns]\n",
      " 1   location       140787 non-null  object        \n",
      " 2   mintemp        140787 non-null  float64       \n",
      " 3   maxtemp        140787 non-null  float64       \n",
      " 4   rainfall       140787 non-null  float64       \n",
      " 5   evaporation    81093 non-null   float64       \n",
      " 6   sunshine       73982 non-null   float64       \n",
      " 7   windgustdir    140787 non-null  object        \n",
      " 8   windgustspeed  140787 non-null  float64       \n",
      " 9   winddir9am     140787 non-null  object        \n",
      " 10  winddir3pm     140787 non-null  object        \n",
      " 11  windspeed9am   140787 non-null  float64       \n",
      " 12  windspeed3pm   140787 non-null  float64       \n",
      " 13  humidity9am    140787 non-null  float64       \n",
      " 14  humidity3pm    140787 non-null  float64       \n",
      " 15  pressure9am    140787 non-null  float64       \n",
      " 16  pressure3pm    140787 non-null  float64       \n",
      " 17  cloud9am       88162 non-null   float64       \n",
      " 18  cloud3pm       84693 non-null   float64       \n",
      " 19  temp9am        140787 non-null  float64       \n",
      " 20  temp3pm        140787 non-null  float64       \n",
      " 21  raintoday      140787 non-null  object        \n",
      " 22  raintomorrow   140787 non-null  object        \n",
      "dtypes: datetime64[ns](1), float64(16), object(6)\n",
      "memory usage: 24.7+ MB\n"
     ]
    }
   ],
   "source": [
    "data.reset_index(drop=True, inplace=True)\n",
    "data.info()"
   ]
  },
  {
   "cell_type": "markdown",
   "id": "e1ed9440",
   "metadata": {},
   "source": [
    "### 2.2. Search for outliers and anomalies"
   ]
  },
  {
   "cell_type": "markdown",
   "id": "32861b07",
   "metadata": {},
   "source": [
    "To search for anomalies and outliers, we will need to estimate the distribution of each feature."
   ]
  },
  {
   "cell_type": "code",
   "execution_count": 704,
   "id": "d36ad6a4",
   "metadata": {
    "ExecuteTime": {
     "end_time": "2022-07-01T09:38:18.348946Z",
     "start_time": "2022-07-01T09:38:18.290201Z"
    }
   },
   "outputs": [],
   "source": [
    "categorical = [feature for feature in data.columns if data[feature].dtype=='O']\n",
    "numerical = [feature for feature in data.columns if data[feature].dtype=='float64']"
   ]
  },
  {
   "cell_type": "markdown",
   "id": "29810071",
   "metadata": {},
   "source": [
    "#### 2.2.1. Numerical features"
   ]
  },
  {
   "cell_type": "code",
   "execution_count": 705,
   "id": "a2debb24",
   "metadata": {
    "ExecuteTime": {
     "end_time": "2022-07-01T09:38:18.418627Z",
     "start_time": "2022-07-01T09:38:18.350432Z"
    }
   },
   "outputs": [],
   "source": [
    "def plot_numerical(columns=[]):\n",
    "    fig = plt.figure(figsize=(16, 14))\n",
    "    for i in range(4):\n",
    "        fig.add_subplot(2, 2, i+1)\n",
    "        sns.boxenplot(data=data, x=columns[i])\n",
    "        plt.xlabel(columns[i], fontdict={'size': 18})\n",
    "        plt.xticks(fontsize=14)\n",
    "    plt.show()"
   ]
  },
  {
   "cell_type": "code",
   "execution_count": 706,
   "id": "3661211c",
   "metadata": {
    "ExecuteTime": {
     "end_time": "2022-07-01T09:38:18.976235Z",
     "start_time": "2022-07-01T09:38:18.424921Z"
    },
    "scrolled": false
   },
   "outputs": [
    {
     "data": {
      "image/png": "[encoded data removed]",
      "text/plain": [
       "<Figure size 1152x1008 with 4 Axes>"
      ]
     },
     "metadata": {},
     "output_type": "display_data"
    }
   ],
   "source": [
    "plot_numerical(columns=['mintemp', 'maxtemp', 'rainfall', 'evaporation'])"
   ]
  },
  {
   "cell_type": "code",
   "execution_count": 707,
   "id": "b71e8186",
   "metadata": {
    "ExecuteTime": {
     "end_time": "2022-07-01T09:38:19.494659Z",
     "start_time": "2022-07-01T09:38:18.981560Z"
    }
   },
   "outputs": [
    {
     "data": {
      "image/png": "[encoded data removed]",
      "text/plain": [
       "<Figure size 1152x1008 with 4 Axes>"
      ]
     },
     "metadata": {},
     "output_type": "display_data"
    }
   ],
   "source": [
    "plot_numerical(columns=['sunshine', 'windgustspeed', 'windspeed9am', 'windspeed3pm'])"
   ]
  },
  {
   "cell_type": "code",
   "execution_count": 708,
   "id": "db4a5260",
   "metadata": {
    "ExecuteTime": {
     "end_time": "2022-07-01T09:38:19.981669Z",
     "start_time": "2022-07-01T09:38:19.496139Z"
    }
   },
   "outputs": [
    {
     "data": {
      "image/png": "[encoded data removed]",
      "text/plain": [
       "<Figure size 1152x1008 with 4 Axes>"
      ]
     },
     "metadata": {},
     "output_type": "display_data"
    }
   ],
   "source": [
    "plot_numerical(columns=['humidity9am', 'humidity3pm', 'pressure9am', 'pressure3pm'])"
   ]
  },
  {
   "cell_type": "code",
   "execution_count": 709,
   "id": "a7fb1d8f",
   "metadata": {
    "ExecuteTime": {
     "end_time": "2022-07-01T09:38:20.420751Z",
     "start_time": "2022-07-01T09:38:19.983022Z"
    }
   },
   "outputs": [
    {
     "data": {
      "image/png": "[encoded data removed]",
      "text/plain": [
       "<Figure size 1152x1008 with 4 Axes>"
      ]
     },
     "metadata": {},
     "output_type": "display_data"
    }
   ],
   "source": [
    "plot_numerical(columns=['cloud9am', 'cloud3pm', 'temp9am', 'temp3pm'])"
   ]
  },
  {
   "cell_type": "markdown",
   "id": "96dc43ce",
   "metadata": {},
   "source": [
    "Cloud cover is measured in \"oktas\" in the range from 0 to 8. In our data there are objects with a cloud cover of 9 oct. Delete these rows."
   ]
  },
  {
   "cell_type": "code",
   "execution_count": 710,
   "id": "e4291d76",
   "metadata": {
    "ExecuteTime": {
     "end_time": "2022-07-01T09:38:20.443133Z",
     "start_time": "2022-07-01T09:38:20.422971Z"
    }
   },
   "outputs": [],
   "source": [
    "index = data[(data.cloud3pm == 9) | (data.cloud9am == 9)].index\n",
    "data = data.drop(index)"
   ]
  },
  {
   "cell_type": "markdown",
   "id": "ec8c046d",
   "metadata": {},
   "source": [
    "#### 2.2.2. Categorial features"
   ]
  },
  {
   "cell_type": "code",
   "execution_count": 712,
   "id": "f4ce01dc",
   "metadata": {
    "ExecuteTime": {
     "end_time": "2022-07-01T09:38:21.035982Z",
     "start_time": "2022-07-01T09:38:20.531506Z"
    }
   },
   "outputs": [
    {
     "data": {
      "image/png": "[encoded data removed]",
      "text/plain": [
       "<Figure size 1152x1008 with 2 Axes>"
      ]
     },
     "metadata": {},
     "output_type": "display_data"
    }
   ],
   "source": [
    "fig, ax = plt.subplots(2, 1, figsize=(16, 14))\n",
    "sns.countplot(data=data, x='winddir9am', ax=ax[0])\n",
    "sns.countplot(data=data, x='winddir3pm', ax=ax[1])\n",
    "\n",
    "ax[0].set_xlabel('winddir9am', fontsize=14)\n",
    "ax[1].set_xlabel('winddir3pm', fontsize=14)\n",
    "\n",
    "plt.show()"
   ]
  },
  {
   "cell_type": "code",
   "execution_count": 713,
   "id": "90519b0c",
   "metadata": {
    "ExecuteTime": {
     "end_time": "2022-07-01T09:38:21.605188Z",
     "start_time": "2022-07-01T09:38:21.038093Z"
    }
   },
   "outputs": [
    {
     "data": {
      "image/png": "[encoded data removed]",
      "text/plain": [
       "<Figure size 1152x1008 with 2 Axes>"
      ]
     },
     "metadata": {},
     "output_type": "display_data"
    }
   ],
   "source": [
    "fig, ax = plt.subplots(2, 1, figsize=(16, 14))\n",
    "sns.countplot(data=data, x='windgustdir', ax=ax[0])\n",
    "sns.countplot(data=data, x='location', ax=ax[1])\n",
    "\n",
    "ax[0].set_xlabel('windgustdir', fontsize=14)\n",
    "ax[1].set_xlabel('location', fontsize=14)\n",
    "\n",
    "ax[1].set_xticklabels('')\n",
    "\n",
    "plt.show()"
   ]
  },
  {
   "cell_type": "code",
   "execution_count": 736,
   "id": "275667fd",
   "metadata": {
    "ExecuteTime": {
     "end_time": "2022-07-01T10:22:10.842929Z",
     "start_time": "2022-07-01T10:22:10.806120Z"
    }
   },
   "outputs": [
    {
     "data": {
      "application/vnd.plotly.v1+json": {
       "config": {
        "plotlyServerURL": "https://plot.ly"
       },
       "data": [
        {
         "domain": {
          "x": [
           0,
           0.45
          ],
          "y": [
           0,
           1
          ]
         },
         "hole": 0.4,
         "hoverinfo": "label+percent+name",
         "labels": [
          "Yes",
          "No"
         ],
         "name": "raintoday",
         "type": "pie",
         "values": [
          31454,
          109330
         ]
        },
        {
         "domain": {
          "x": [
           0.55,
           1
          ],
          "y": [
           0,
           1
          ]
         },
         "hole": 0.4,
         "hoverinfo": "label+percent+name",
         "labels": [
          "Yes",
          "No"
         ],
         "name": "raintomorrow",
         "type": "pie",
         "values": [
          31201,
          109583
         ]
        }
       ],
       "layout": {
        "annotations": [
         {
          "font": {
           "size": 20
          },
          "showarrow": false,
          "text": "raintoday",
          "x": 0.18,
          "y": 0.5
         },
         {
          "font": {
           "size": 20
          },
          "showarrow": false,
          "text": "raintomorrow",
          "x": 0.85,
          "y": 0.5
         }
        ],
        "template": {
         "data": {
          "bar": [
           {
            "error_x": {
             "color": "rgb(51,51,51)"
            },
            "error_y": {
             "color": "rgb(51,51,51)"
            },
            "marker": {
             "line": {
              "color": "rgb(237,237,237)",
              "width": 0.5
             },
             "pattern": {
              "fillmode": "overlay",
              "size": 10,
              "solidity": 0.2
             }
            },
            "type": "bar"
           }
          ],
          "barpolar": [
           {
            "marker": {
             "line": {
              "color": "rgb(237,237,237)",
              "width": 0.5
             },
             "pattern": {
              "fillmode": "overlay",
              "size": 10,
              "solidity": 0.2
             }
            },
            "type": "barpolar"
           }
          ],
          "carpet": [
           {
            "aaxis": {
             "endlinecolor": "rgb(51,51,51)",
             "gridcolor": "white",
             "linecolor": "white",
             "minorgridcolor": "white",
             "startlinecolor": "rgb(51,51,51)"
            },
            "baxis": {
             "endlinecolor": "rgb(51,51,51)",
             "gridcolor": "white",
             "linecolor": "white",
             "minorgridcolor": "white",
             "startlinecolor": "rgb(51,51,51)"
            },
            "type": "carpet"
           }
          ],
          "choropleth": [
           {
            "colorbar": {
             "outlinewidth": 0,
             "tickcolor": "rgb(237,237,237)",
             "ticklen": 6,
             "ticks": "inside"
            },
            "type": "choropleth"
           }
          ],
          "contour": [
           {
            "colorbar": {
             "outlinewidth": 0,
             "tickcolor": "rgb(237,237,237)",
             "ticklen": 6,
             "ticks": "inside"
            },
            "colorscale": [
             [
              0,
              "rgb(20,44,66)"
             ],
             [
              1,
              "rgb(90,179,244)"
             ]
            ],
            "type": "contour"
           }
          ],
          "contourcarpet": [
           {
            "colorbar": {
             "outlinewidth": 0,
             "tickcolor": "rgb(237,237,237)",
             "ticklen": 6,
             "ticks": "inside"
            },
            "type": "contourcarpet"
           }
          ],
          "heatmap": [
           {
            "colorbar": {
             "outlinewidth": 0,
             "tickcolor": "rgb(237,237,237)",
             "ticklen": 6,
             "ticks": "inside"
            },
            "colorscale": [
             [
              0,
              "rgb(20,44,66)"
             ],
             [
              1,
              "rgb(90,179,244)"
             ]
            ],
            "type": "heatmap"
           }
          ],
          "heatmapgl": [
           {
            "colorbar": {
             "outlinewidth": 0,
             "tickcolor": "rgb(237,237,237)",
             "ticklen": 6,
             "ticks": "inside"
            },
            "colorscale": [
             [
              0,
              "rgb(20,44,66)"
             ],
             [
              1,
              "rgb(90,179,244)"
             ]
            ],
            "type": "heatmapgl"
           }
          ],
          "histogram": [
           {
            "marker": {
             "pattern": {
              "fillmode": "overlay",
              "size": 10,
              "solidity": 0.2
             }
            },
            "type": "histogram"
           }
          ],
          "histogram2d": [
           {
            "colorbar": {
             "outlinewidth": 0,
             "tickcolor": "rgb(237,237,237)",
             "ticklen": 6,
             "ticks": "inside"
            },
            "colorscale": [
             [
              0,
              "rgb(20,44,66)"
             ],
             [
              1,
              "rgb(90,179,244)"
             ]
            ],
            "type": "histogram2d"
           }
          ],
          "histogram2dcontour": [
           {
            "colorbar": {
             "outlinewidth": 0,
             "tickcolor": "rgb(237,237,237)",
             "ticklen": 6,
             "ticks": "inside"
            },
            "colorscale": [
             [
              0,
              "rgb(20,44,66)"
             ],
             [
              1,
              "rgb(90,179,244)"
             ]
            ],
            "type": "histogram2dcontour"
           }
          ],
          "mesh3d": [
           {
            "colorbar": {
             "outlinewidth": 0,
             "tickcolor": "rgb(237,237,237)",
             "ticklen": 6,
             "ticks": "inside"
            },
            "type": "mesh3d"
           }
          ],
          "parcoords": [
           {
            "line": {
             "colorbar": {
              "outlinewidth": 0,
              "tickcolor": "rgb(237,237,237)",
              "ticklen": 6,
              "ticks": "inside"
             }
            },
            "type": "parcoords"
           }
          ],
          "pie": [
           {
            "automargin": true,
            "type": "pie"
           }
          ],
          "scatter": [
           {
            "marker": {
             "colorbar": {
              "outlinewidth": 0,
              "tickcolor": "rgb(237,237,237)",
              "ticklen": 6,
              "ticks": "inside"
             }
            },
            "type": "scatter"
           }
          ],
          "scatter3d": [
           {
            "line": {
             "colorbar": {
              "outlinewidth": 0,
              "tickcolor": "rgb(237,237,237)",
              "ticklen": 6,
              "ticks": "inside"
             }
            },
            "marker": {
             "colorbar": {
              "outlinewidth": 0,
              "tickcolor": "rgb(237,237,237)",
              "ticklen": 6,
              "ticks": "inside"
             }
            },
            "type": "scatter3d"
           }
          ],
          "scattercarpet": [
           {
            "marker": {
             "colorbar": {
              "outlinewidth": 0,
              "tickcolor": "rgb(237,237,237)",
              "ticklen": 6,
              "ticks": "inside"
             }
            },
            "type": "scattercarpet"
           }
          ],
          "scattergeo": [
           {
            "marker": {
             "colorbar": {
              "outlinewidth": 0,
              "tickcolor": "rgb(237,237,237)",
              "ticklen": 6,
              "ticks": "inside"
             }
            },
            "type": "scattergeo"
           }
          ],
          "scattergl": [
           {
            "marker": {
             "colorbar": {
              "outlinewidth": 0,
              "tickcolor": "rgb(237,237,237)",
              "ticklen": 6,
              "ticks": "inside"
             }
            },
            "type": "scattergl"
           }
          ],
          "scattermapbox": [
           {
            "marker": {
             "colorbar": {
              "outlinewidth": 0,
              "tickcolor": "rgb(237,237,237)",
              "ticklen": 6,
              "ticks": "inside"
             }
            },
            "type": "scattermapbox"
           }
          ],
          "scatterpolar": [
           {
            "marker": {
             "colorbar": {
              "outlinewidth": 0,
              "tickcolor": "rgb(237,237,237)",
              "ticklen": 6,
              "ticks": "inside"
             }
            },
            "type": "scatterpolar"
           }
          ],
          "scatterpolargl": [
           {
            "marker": {
             "colorbar": {
              "outlinewidth": 0,
              "tickcolor": "rgb(237,237,237)",
              "ticklen": 6,
              "ticks": "inside"
             }
            },
            "type": "scatterpolargl"
           }
          ],
          "scatterternary": [
           {
            "marker": {
             "colorbar": {
              "outlinewidth": 0,
              "tickcolor": "rgb(237,237,237)",
              "ticklen": 6,
              "ticks": "inside"
             }
            },
            "type": "scatterternary"
           }
          ],
          "surface": [
           {
            "colorbar": {
             "outlinewidth": 0,
             "tickcolor": "rgb(237,237,237)",
             "ticklen": 6,
             "ticks": "inside"
            },
            "colorscale": [
             [
              0,
              "rgb(20,44,66)"
             ],
             [
              1,
              "rgb(90,179,244)"
             ]
            ],
            "type": "surface"
           }
          ],
          "table": [
           {
            "cells": {
             "fill": {
              "color": "rgb(237,237,237)"
             },
             "line": {
              "color": "white"
             }
            },
            "header": {
             "fill": {
              "color": "rgb(217,217,217)"
             },
             "line": {
              "color": "white"
             }
            },
            "type": "table"
           }
          ]
         },
         "layout": {
          "annotationdefaults": {
           "arrowhead": 0,
           "arrowwidth": 1
          },
          "autotypenumbers": "strict",
          "coloraxis": {
           "colorbar": {
            "outlinewidth": 0,
            "tickcolor": "rgb(237,237,237)",
            "ticklen": 6,
            "ticks": "inside"
           }
          },
          "colorscale": {
           "sequential": [
            [
             0,
             "rgb(20,44,66)"
            ],
            [
             1,
             "rgb(90,179,244)"
            ]
           ],
           "sequentialminus": [
            [
             0,
             "rgb(20,44,66)"
            ],
            [
             1,
             "rgb(90,179,244)"
            ]
           ]
          },
          "colorway": [
           "#F8766D",
           "#A3A500",
           "#00BF7D",
           "#00B0F6",
           "#E76BF3"
          ],
          "font": {
           "color": "rgb(51,51,51)"
          },
          "geo": {
           "bgcolor": "white",
           "lakecolor": "white",
           "landcolor": "rgb(237,237,237)",
           "showlakes": true,
           "showland": true,
           "subunitcolor": "white"
          },
          "hoverlabel": {
           "align": "left"
          },
          "hovermode": "closest",
          "paper_bgcolor": "white",
          "plot_bgcolor": "rgb(237,237,237)",
          "polar": {
           "angularaxis": {
            "gridcolor": "white",
            "linecolor": "white",
            "showgrid": true,
            "tickcolor": "rgb(51,51,51)",
            "ticks": "outside"
           },
           "bgcolor": "rgb(237,237,237)",
           "radialaxis": {
            "gridcolor": "white",
            "linecolor": "white",
            "showgrid": true,
            "tickcolor": "rgb(51,51,51)",
            "ticks": "outside"
           }
          },
          "scene": {
           "xaxis": {
            "backgroundcolor": "rgb(237,237,237)",
            "gridcolor": "white",
            "gridwidth": 2,
            "linecolor": "white",
            "showbackground": true,
            "showgrid": true,
            "tickcolor": "rgb(51,51,51)",
            "ticks": "outside",
            "zerolinecolor": "white"
           },
           "yaxis": {
            "backgroundcolor": "rgb(237,237,237)",
            "gridcolor": "white",
            "gridwidth": 2,
            "linecolor": "white",
            "showbackground": true,
            "showgrid": true,
            "tickcolor": "rgb(51,51,51)",
            "ticks": "outside",
            "zerolinecolor": "white"
           },
           "zaxis": {
            "backgroundcolor": "rgb(237,237,237)",
            "gridcolor": "white",
            "gridwidth": 2,
            "linecolor": "white",
            "showbackground": true,
            "showgrid": true,
            "tickcolor": "rgb(51,51,51)",
            "ticks": "outside",
            "zerolinecolor": "white"
           }
          },
          "shapedefaults": {
           "fillcolor": "black",
           "line": {
            "width": 0
           },
           "opacity": 0.3
          },
          "ternary": {
           "aaxis": {
            "gridcolor": "white",
            "linecolor": "white",
            "showgrid": true,
            "tickcolor": "rgb(51,51,51)",
            "ticks": "outside"
           },
           "baxis": {
            "gridcolor": "white",
            "linecolor": "white",
            "showgrid": true,
            "tickcolor": "rgb(51,51,51)",
            "ticks": "outside"
           },
           "bgcolor": "rgb(237,237,237)",
           "caxis": {
            "gridcolor": "white",
            "linecolor": "white",
            "showgrid": true,
            "tickcolor": "rgb(51,51,51)",
            "ticks": "outside"
           }
          },
          "xaxis": {
           "automargin": true,
           "gridcolor": "white",
           "linecolor": "white",
           "showgrid": true,
           "tickcolor": "rgb(51,51,51)",
           "ticks": "outside",
           "title": {
            "standoff": 15
           },
           "zerolinecolor": "white"
          },
          "yaxis": {
           "automargin": true,
           "gridcolor": "white",
           "linecolor": "white",
           "showgrid": true,
           "tickcolor": "rgb(51,51,51)",
           "ticks": "outside",
           "title": {
            "standoff": 15
           },
           "zerolinecolor": "white"
          }
         }
        }
       }
      },
      "text/html": [
       "<div>                            <div id=\"6677fc56-92f3-497b-beb5-7c9ba9165be7\" class=\"plotly-graph-div\" style=\"height:525px; width:100%;\"></div>            <script type=\"text/javascript\">                require([\"plotly\"], function(Plotly) {                    window.PLOTLYENV=window.PLOTLYENV || {};                                    if (document.getElementById(\"6677fc56-92f3-497b-beb5-7c9ba9165be7\")) {                    Plotly.newPlot(                        \"6677fc56-92f3-497b-beb5-7c9ba9165be7\",                        [{\"labels\":[\"Yes\",\"No\"],\"name\":\"raintoday\",\"values\":[31454,109330],\"type\":\"pie\",\"domain\":{\"x\":[0.0,0.45],\"y\":[0.0,1.0]},\"hole\":0.4,\"hoverinfo\":\"label+percent+name\"},{\"labels\":[\"Yes\",\"No\"],\"name\":\"raintomorrow\",\"values\":[31201,109583],\"type\":\"pie\",\"domain\":{\"x\":[0.55,1.0],\"y\":[0.0,1.0]},\"hole\":0.4,\"hoverinfo\":\"label+percent+name\"}],                        {\"template\":{\"data\":{\"barpolar\":[{\"marker\":{\"line\":{\"color\":\"rgb(237,237,237)\",\"width\":0.5},\"pattern\":{\"fillmode\":\"overlay\",\"size\":10,\"solidity\":0.2}},\"type\":\"barpolar\"}],\"bar\":[{\"error_x\":{\"color\":\"rgb(51,51,51)\"},\"error_y\":{\"color\":\"rgb(51,51,51)\"},\"marker\":{\"line\":{\"color\":\"rgb(237,237,237)\",\"width\":0.5},\"pattern\":{\"fillmode\":\"overlay\",\"size\":10,\"solidity\":0.2}},\"type\":\"bar\"}],\"carpet\":[{\"aaxis\":{\"endlinecolor\":\"rgb(51,51,51)\",\"gridcolor\":\"white\",\"linecolor\":\"white\",\"minorgridcolor\":\"white\",\"startlinecolor\":\"rgb(51,51,51)\"},\"baxis\":{\"endlinecolor\":\"rgb(51,51,51)\",\"gridcolor\":\"white\",\"linecolor\":\"white\",\"minorgridcolor\":\"white\",\"startlinecolor\":\"rgb(51,51,51)\"},\"type\":\"carpet\"}],\"choropleth\":[{\"colorbar\":{\"outlinewidth\":0,\"tickcolor\":\"rgb(237,237,237)\",\"ticklen\":6,\"ticks\":\"inside\"},\"type\":\"choropleth\"}],\"contourcarpet\":[{\"colorbar\":{\"outlinewidth\":0,\"tickcolor\":\"rgb(237,237,237)\",\"ticklen\":6,\"ticks\":\"inside\"},\"type\":\"contourcarpet\"}],\"contour\":[{\"colorbar\":{\"outlinewidth\":0,\"tickcolor\":\"rgb(237,237,237)\",\"ticklen\":6,\"ticks\":\"inside\"},\"colorscale\":[[0,\"rgb(20,44,66)\"],[1,\"rgb(90,179,244)\"]],\"type\":\"contour\"}],\"heatmapgl\":[{\"colorbar\":{\"outlinewidth\":0,\"tickcolor\":\"rgb(237,237,237)\",\"ticklen\":6,\"ticks\":\"inside\"},\"colorscale\":[[0,\"rgb(20,44,66)\"],[1,\"rgb(90,179,244)\"]],\"type\":\"heatmapgl\"}],\"heatmap\":[{\"colorbar\":{\"outlinewidth\":0,\"tickcolor\":\"rgb(237,237,237)\",\"ticklen\":6,\"ticks\":\"inside\"},\"colorscale\":[[0,\"rgb(20,44,66)\"],[1,\"rgb(90,179,244)\"]],\"type\":\"heatmap\"}],\"histogram2dcontour\":[{\"colorbar\":{\"outlinewidth\":0,\"tickcolor\":\"rgb(237,237,237)\",\"ticklen\":6,\"ticks\":\"inside\"},\"colorscale\":[[0,\"rgb(20,44,66)\"],[1,\"rgb(90,179,244)\"]],\"type\":\"histogram2dcontour\"}],\"histogram2d\":[{\"colorbar\":{\"outlinewidth\":0,\"tickcolor\":\"rgb(237,237,237)\",\"ticklen\":6,\"ticks\":\"inside\"},\"colorscale\":[[0,\"rgb(20,44,66)\"],[1,\"rgb(90,179,244)\"]],\"type\":\"histogram2d\"}],\"histogram\":[{\"marker\":{\"pattern\":{\"fillmode\":\"overlay\",\"size\":10,\"solidity\":0.2}},\"type\":\"histogram\"}],\"mesh3d\":[{\"colorbar\":{\"outlinewidth\":0,\"tickcolor\":\"rgb(237,237,237)\",\"ticklen\":6,\"ticks\":\"inside\"},\"type\":\"mesh3d\"}],\"parcoords\":[{\"line\":{\"colorbar\":{\"outlinewidth\":0,\"tickcolor\":\"rgb(237,237,237)\",\"ticklen\":6,\"ticks\":\"inside\"}},\"type\":\"parcoords\"}],\"pie\":[{\"automargin\":true,\"type\":\"pie\"}],\"scatter3d\":[{\"line\":{\"colorbar\":{\"outlinewidth\":0,\"tickcolor\":\"rgb(237,237,237)\",\"ticklen\":6,\"ticks\":\"inside\"}},\"marker\":{\"colorbar\":{\"outlinewidth\":0,\"tickcolor\":\"rgb(237,237,237)\",\"ticklen\":6,\"ticks\":\"inside\"}},\"type\":\"scatter3d\"}],\"scattercarpet\":[{\"marker\":{\"colorbar\":{\"outlinewidth\":0,\"tickcolor\":\"rgb(237,237,237)\",\"ticklen\":6,\"ticks\":\"inside\"}},\"type\":\"scattercarpet\"}],\"scattergeo\":[{\"marker\":{\"colorbar\":{\"outlinewidth\":0,\"tickcolor\":\"rgb(237,237,237)\",\"ticklen\":6,\"ticks\":\"inside\"}},\"type\":\"scattergeo\"}],\"scattergl\":[{\"marker\":{\"colorbar\":{\"outlinewidth\":0,\"tickcolor\":\"rgb(237,237,237)\",\"ticklen\":6,\"ticks\":\"inside\"}},\"type\":\"scattergl\"}],\"scattermapbox\":[{\"marker\":{\"colorbar\":{\"outlinewidth\":0,\"tickcolor\":\"rgb(237,237,237)\",\"ticklen\":6,\"ticks\":\"inside\"}},\"type\":\"scattermapbox\"}],\"scatterpolargl\":[{\"marker\":{\"colorbar\":{\"outlinewidth\":0,\"tickcolor\":\"rgb(237,237,237)\",\"ticklen\":6,\"ticks\":\"inside\"}},\"type\":\"scatterpolargl\"}],\"scatterpolar\":[{\"marker\":{\"colorbar\":{\"outlinewidth\":0,\"tickcolor\":\"rgb(237,237,237)\",\"ticklen\":6,\"ticks\":\"inside\"}},\"type\":\"scatterpolar\"}],\"scatter\":[{\"marker\":{\"colorbar\":{\"outlinewidth\":0,\"tickcolor\":\"rgb(237,237,237)\",\"ticklen\":6,\"ticks\":\"inside\"}},\"type\":\"scatter\"}],\"scatterternary\":[{\"marker\":{\"colorbar\":{\"outlinewidth\":0,\"tickcolor\":\"rgb(237,237,237)\",\"ticklen\":6,\"ticks\":\"inside\"}},\"type\":\"scatterternary\"}],\"surface\":[{\"colorbar\":{\"outlinewidth\":0,\"tickcolor\":\"rgb(237,237,237)\",\"ticklen\":6,\"ticks\":\"inside\"},\"colorscale\":[[0,\"rgb(20,44,66)\"],[1,\"rgb(90,179,244)\"]],\"type\":\"surface\"}],\"table\":[{\"cells\":{\"fill\":{\"color\":\"rgb(237,237,237)\"},\"line\":{\"color\":\"white\"}},\"header\":{\"fill\":{\"color\":\"rgb(217,217,217)\"},\"line\":{\"color\":\"white\"}},\"type\":\"table\"}]},\"layout\":{\"annotationdefaults\":{\"arrowhead\":0,\"arrowwidth\":1},\"autotypenumbers\":\"strict\",\"coloraxis\":{\"colorbar\":{\"outlinewidth\":0,\"tickcolor\":\"rgb(237,237,237)\",\"ticklen\":6,\"ticks\":\"inside\"}},\"colorscale\":{\"sequential\":[[0,\"rgb(20,44,66)\"],[1,\"rgb(90,179,244)\"]],\"sequentialminus\":[[0,\"rgb(20,44,66)\"],[1,\"rgb(90,179,244)\"]]},\"colorway\":[\"#F8766D\",\"#A3A500\",\"#00BF7D\",\"#00B0F6\",\"#E76BF3\"],\"font\":{\"color\":\"rgb(51,51,51)\"},\"geo\":{\"bgcolor\":\"white\",\"lakecolor\":\"white\",\"landcolor\":\"rgb(237,237,237)\",\"showlakes\":true,\"showland\":true,\"subunitcolor\":\"white\"},\"hoverlabel\":{\"align\":\"left\"},\"hovermode\":\"closest\",\"paper_bgcolor\":\"white\",\"plot_bgcolor\":\"rgb(237,237,237)\",\"polar\":{\"angularaxis\":{\"gridcolor\":\"white\",\"linecolor\":\"white\",\"showgrid\":true,\"tickcolor\":\"rgb(51,51,51)\",\"ticks\":\"outside\"},\"bgcolor\":\"rgb(237,237,237)\",\"radialaxis\":{\"gridcolor\":\"white\",\"linecolor\":\"white\",\"showgrid\":true,\"tickcolor\":\"rgb(51,51,51)\",\"ticks\":\"outside\"}},\"scene\":{\"xaxis\":{\"backgroundcolor\":\"rgb(237,237,237)\",\"gridcolor\":\"white\",\"gridwidth\":2,\"linecolor\":\"white\",\"showbackground\":true,\"showgrid\":true,\"tickcolor\":\"rgb(51,51,51)\",\"ticks\":\"outside\",\"zerolinecolor\":\"white\"},\"yaxis\":{\"backgroundcolor\":\"rgb(237,237,237)\",\"gridcolor\":\"white\",\"gridwidth\":2,\"linecolor\":\"white\",\"showbackground\":true,\"showgrid\":true,\"tickcolor\":\"rgb(51,51,51)\",\"ticks\":\"outside\",\"zerolinecolor\":\"white\"},\"zaxis\":{\"backgroundcolor\":\"rgb(237,237,237)\",\"gridcolor\":\"white\",\"gridwidth\":2,\"linecolor\":\"white\",\"showbackground\":true,\"showgrid\":true,\"tickcolor\":\"rgb(51,51,51)\",\"ticks\":\"outside\",\"zerolinecolor\":\"white\"}},\"shapedefaults\":{\"fillcolor\":\"black\",\"line\":{\"width\":0},\"opacity\":0.3},\"ternary\":{\"aaxis\":{\"gridcolor\":\"white\",\"linecolor\":\"white\",\"showgrid\":true,\"tickcolor\":\"rgb(51,51,51)\",\"ticks\":\"outside\"},\"baxis\":{\"gridcolor\":\"white\",\"linecolor\":\"white\",\"showgrid\":true,\"tickcolor\":\"rgb(51,51,51)\",\"ticks\":\"outside\"},\"bgcolor\":\"rgb(237,237,237)\",\"caxis\":{\"gridcolor\":\"white\",\"linecolor\":\"white\",\"showgrid\":true,\"tickcolor\":\"rgb(51,51,51)\",\"ticks\":\"outside\"}},\"xaxis\":{\"automargin\":true,\"gridcolor\":\"white\",\"linecolor\":\"white\",\"showgrid\":true,\"tickcolor\":\"rgb(51,51,51)\",\"ticks\":\"outside\",\"title\":{\"standoff\":15},\"zerolinecolor\":\"white\"},\"yaxis\":{\"automargin\":true,\"gridcolor\":\"white\",\"linecolor\":\"white\",\"showgrid\":true,\"tickcolor\":\"rgb(51,51,51)\",\"ticks\":\"outside\",\"title\":{\"standoff\":15},\"zerolinecolor\":\"white\"}}},\"annotations\":[{\"showarrow\":false,\"text\":\"raintoday\",\"x\":0.18,\"y\":0.5,\"font\":{\"size\":20}},{\"showarrow\":false,\"text\":\"raintomorrow\",\"x\":0.85,\"y\":0.5,\"font\":{\"size\":20}}]},                        {\"responsive\": true}                    ).then(function(){\n",
       "                            \n",
       "var gd = document.getElementById('6677fc56-92f3-497b-beb5-7c9ba9165be7');\n",
       "var x = new MutationObserver(function (mutations, observer) {{\n",
       "        var display = window.getComputedStyle(gd).display;\n",
       "        if (!display || display === 'none') {{\n",
       "            console.log([gd, 'removed!']);\n",
       "            Plotly.purge(gd);\n",
       "            observer.disconnect();\n",
       "        }}\n",
       "}});\n",
       "\n",
       "// Listen for the removal of the full notebook cells\n",
       "var notebookContainer = gd.closest('#notebook-container');\n",
       "if (notebookContainer) {{\n",
       "    x.observe(notebookContainer, {childList: true});\n",
       "}}\n",
       "\n",
       "// Listen for the clearing of the current output cell\n",
       "var outputEl = gd.closest('.output');\n",
       "if (outputEl) {{\n",
       "    x.observe(outputEl, {childList: true});\n",
       "}}\n",
       "\n",
       "                        })                };                });            </script>        </div>"
      ]
     },
     "metadata": {},
     "output_type": "display_data"
    }
   ],
   "source": [
    "fig = make_subplots(rows=1, cols=2, specs=[[{'type':'domain'}, {'type':'domain'}]])\n",
    "\n",
    "labels = ['Yes', 'No']\n",
    "\n",
    "fig.add_trace(go.Pie(labels=labels, values=[31454, 109330], name=\"raintoday\"), 1, 1)\n",
    "fig.add_trace(go.Pie(labels=labels, values=[31201, 109583], name=\"raintomorrow\"), 1, 2)\n",
    "\n",
    "fig.update_traces(hole=.4, hoverinfo=\"label+percent+name\")\n",
    "fig.update_layout(annotations=[dict(text='raintoday', x=0.18, y=0.5, font_size=20, showarrow=False),\n",
    "                               dict(text='raintomorrow', x=0.85, y=0.5, font_size=20, showarrow=False)], \n",
    "                               template='ggplot2')\n",
    "\n",
    "fig.show()"
   ]
  },
  {
   "cell_type": "markdown",
   "id": "c8a28d22",
   "metadata": {},
   "source": [
    "<a id=\"id3\"></a>\n",
    "## 3. Exploratory data analysis"
   ]
  },
  {
   "cell_type": "code",
   "execution_count": 737,
   "id": "39b5bedd",
   "metadata": {
    "ExecuteTime": {
     "end_time": "2022-07-01T10:23:36.627106Z",
     "start_time": "2022-07-01T10:23:36.370506Z"
    }
   },
   "outputs": [
    {
     "data": {
      "application/vnd.plotly.v1+json": {
       "config": {
        "plotlyServerURL": "https://plot.ly"
       },
       "data": [
        {
         "colorscale": [
          [
           0,
           "#0d0887"
          ],
          [
           0.1111111111111111,
           "#46039f"
          ],
          [
           0.2222222222222222,
           "#7201a8"
          ],
          [
           0.3333333333333333,
           "#9c179e"
          ],
          [
           0.4444444444444444,
           "#bd3786"
          ],
          [
           0.5555555555555556,
           "#d8576b"
          ],
          [
           0.6666666666666666,
           "#ed7953"
          ],
          [
           0.7777777777777778,
           "#fb9f3a"
          ],
          [
           0.8888888888888888,
           "#fdca26"
          ],
          [
           1,
           "#f0f921"
          ]
         ],
         "reversescale": false,
         "showscale": true,
         "type": "heatmap",
         "x": [
          "mintemp",
          "maxtemp",
          "rainfall",
          "evaporation",
          "sunshine",
          "windgustspeed",
          "windspeed9am",
          "windspeed3pm",
          "humidity9am",
          "humidity3pm",
          "pressure9am",
          "pressure3pm",
          "cloud9am",
          "cloud3pm",
          "temp9am",
          "temp3pm",
          "raintoday",
          "raintomorrow"
         ],
         "y": [
          "mintemp",
          "maxtemp",
          "rainfall",
          "evaporation",
          "sunshine",
          "windgustspeed",
          "windspeed9am",
          "windspeed3pm",
          "humidity9am",
          "humidity3pm",
          "pressure9am",
          "pressure3pm",
          "cloud9am",
          "cloud3pm",
          "temp9am",
          "temp3pm",
          "raintoday",
          "raintomorrow"
         ],
         "z": [
          [
           1,
           0.7362296442381483,
           0.10363206228425188,
           0.467249535116464,
           0.07328438150673412,
           0.1778881778579193,
           0.1745581553423355,
           0.17303985358670057,
           -0.2383142100451945,
           -0.0013644245521134907,
           -0.44585761434006593,
           -0.45512854310186623,
           0.07741260689315839,
           0.020215401393339244,
           0.9019000809393397,
           0.7121040383342253,
           0.055629078495011475,
           0.08368853703106902
          ],
          [
           0.7362296442381483,
           1,
           -0.07442761127483737,
           0.5888528412184731,
           0.4702806475585346,
           0.07266391016588636,
           0.014238812155080188,
           0.051115828608019255,
           -0.5082542204709396,
           -0.5112596045816002,
           -0.33285835380080275,
           -0.4203344981492593,
           -0.2895494746778114,
           -0.2789570879421287,
           0.8873402725273731,
           0.9829242657100036,
           -0.2287339961551279,
           -0.1594640050732691
          ],
          [
           0.10363206228425188,
           -0.07442761127483737,
           1,
           -0.06455203121696658,
           -0.22752347340154638,
           0.1268777562312712,
           0.08651874635408591,
           0.0557539519143062,
           0.2227482279050915,
           0.2514033796427107,
           -0.15959600110991398,
           -0.12052697465063819,
           0.198203901255445,
           0.17200281590490565,
           0.009806854733428657,
           -0.0758577404860979,
           0.5009995808789619,
           0.2390315996231579
          ],
          [
           0.467249535116464,
           0.5888528412184731,
           -0.06455203121696658,
           1,
           0.3666485742204689,
           0.20434860616451805,
           0.19210761955931197,
           0.12943961514661187,
           -0.5058620577559654,
           -0.3925375472741512,
           -0.27023705472056125,
           -0.2935666045645041,
           -0.18526623845123694,
           -0.1844321497108703,
           0.5455477319499644,
           0.5710842976487519,
           -0.18800620909411186,
           -0.11911799182000377
          ],
          [
           0.07328438150673412,
           0.4702806475585346,
           -0.22752347340154638,
           0.3666485742204689,
           1,
           -0.026653919769333807,
           0.009364710789348156,
           0.05670292747107662,
           -0.49374673245890294,
           -0.6285507071357496,
           0.04083759930456318,
           -0.020500145657103,
           -0.6758945308309292,
           -0.7046709564304416,
           0.29180930101976243,
           0.48983989544988565,
           -0.33064065800753834,
           -0.45181698878598214
          ],
          [
           0.1778881778579193,
           0.07266391016588636,
           0.1268777562312712,
           0.20434860616451805,
           -0.026653919769333807,
           1,
           0.5805711058796619,
           0.6607154744536755,
           -0.21301780194026687,
           -0.027626970462448015,
           -0.4317145239625112,
           -0.39099343744521825,
           0.06833318501939528,
           0.10390893599480948,
           0.15077072401875546,
           0.034958514612960276,
           0.14766859365457233,
           0.22328906739283702
          ],
          [
           0.1745581553423355,
           0.014238812155080188,
           0.08651874635408591,
           0.19210761955931197,
           0.009364710789348156,
           0.5805711058796619,
           1,
           0.5162020064163516,
           -0.2700268171444535,
           -0.03160471255599042,
           -0.2176027893186062,
           -0.16852069642862164,
           0.02407608130915124,
           0.053187611646754486,
           0.1273749854256438,
           0.0008056354806125647,
           0.10221185108444931,
           0.08951556920120904
          ],
          [
           0.17303985358670057,
           0.051115828608019255,
           0.0557539519143062,
           0.12943961514661187,
           0.05670292747107662,
           0.6607154744536755,
           0.5162020064163516,
           1,
           -0.14859563027333852,
           0.014064699788526546,
           -0.2842361963045031,
           -0.24782575680623342,
           0.05272824388925886,
           0.02472177395778233,
           0.16298399619206508,
           0.026512687344254496,
           0.07786723396900506,
           0.0845988365277651
          ],
          [
           -0.2383142100451945,
           -0.5082542204709396,
           0.2227482279050915,
           -0.5058620577559654,
           -0.49374673245890294,
           -0.21301780194026687,
           -0.2700268171444535,
           -0.14859563027333852,
           1,
           0.6672836546106365,
           0.1431794260832363,
           0.18844263426807073,
           0.45137956749346586,
           0.35798773451924926,
           -0.4760094039976266,
           -0.49883276473643645,
           0.3522304259356222,
           0.257579013037697
          ],
          [
           -0.0013644245521134907,
           -0.5112596045816002,
           0.2514033796427107,
           -0.3925375472741512,
           -0.6285507071357496,
           -0.027626970462448015,
           -0.03160471255599042,
           0.014064699788526546,
           0.6672836546106365,
           1,
           -0.013360304899455503,
           0.062335891010897614,
           0.5141414345376782,
           0.522902907857587,
           -0.22991074794027075,
           -0.5601817362867979,
           0.3757365181331721,
           0.443403399008694
          ],
          [
           -0.44585761434006593,
           -0.33285835380080275,
           -0.15959600110991398,
           -0.27023705472056125,
           0.04083759930456318,
           -0.4317145239625112,
           -0.2176027893186062,
           -0.2842361963045031,
           0.1431794260832363,
           -0.013360304899455503,
           1,
           0.9609120089873616,
           -0.1291039989595224,
           -0.14626966168799355,
           -0.4187267492524272,
           -0.2934545939232159,
           -0.17820525824833083,
           -0.23342820809550366
          ],
          [
           -0.45512854310186623,
           -0.4203344981492593,
           -0.12052697465063819,
           -0.2935666045645041,
           -0.020500145657103,
           -0.39099343744521825,
           -0.16852069642862164,
           -0.24782575680623342,
           0.18844263426807073,
           0.062335891010897614,
           0.9609120089873616,
           1,
           -0.06185098986528307,
           -0.08436194160863777,
           -0.4626621665851721,
           -0.3888073955411941,
           -0.09958894964368194,
           -0.2144763466070996
          ],
          [
           0.07741260689315839,
           -0.2895494746778114,
           0.198203901255445,
           -0.18526623845123694,
           -0.6758945308309292,
           0.06833318501939528,
           0.02407608130915124,
           0.05272824388925886,
           0.45137956749346586,
           0.5141414345376782,
           -0.1291039989595224,
           -0.06185098986528307,
           1,
           0.6046637177230132,
           -0.13850528047676125,
           -0.3017839498406029,
           0.3059465852272222,
           0.31662663167825317
          ],
          [
           0.020215401393339244,
           -0.2789570879421287,
           0.17200281590490565,
           -0.1844321497108703,
           -0.7046709564304416,
           0.10390893599480948,
           0.053187611646754486,
           0.02472177395778233,
           0.35798773451924926,
           0.522902907857587,
           -0.14626966168799355,
           -0.08436194160863777,
           0.6046637177230132,
           1,
           -0.12836658316607197,
           -0.31839066404348426,
           0.272182492085142,
           0.3824332461541417
          ],
          [
           0.9019000809393397,
           0.8873402725273731,
           0.009806854733428657,
           0.5455477319499644,
           0.29180930101976243,
           0.15077072401875546,
           0.1273749854256438,
           0.16298399619206508,
           -0.4760094039976266,
           -0.22991074794027075,
           -0.4187267492524272,
           -0.4626621665851721,
           -0.13850528047676125,
           -0.12836658316607197,
           1,
           0.8623988752408572,
           -0.09836474413648151,
           -0.027321954421630212
          ],
          [
           0.7121040383342253,
           0.9829242657100036,
           -0.0758577404860979,
           0.5710842976487519,
           0.48983989544988565,
           0.034958514612960276,
           0.0008056354806125647,
           0.026512687344254496,
           -0.49883276473643645,
           -0.5601817362867979,
           -0.2934545939232159,
           -0.3888073955411941,
           -0.3017839498406029,
           -0.31839066404348426,
           0.8623988752408572,
           1,
           -0.23223153155428422,
           -0.19135010937454908
          ],
          [
           0.055629078495011475,
           -0.2287339961551279,
           0.5009995808789619,
           -0.18800620909411186,
           -0.33064065800753834,
           0.14766859365457233,
           0.10221185108444931,
           0.07786723396900506,
           0.3522304259356222,
           0.3757365181331721,
           -0.17820525824833083,
           -0.09958894964368194,
           0.3059465852272222,
           0.272182492085142,
           -0.09836474413648151,
           -0.23223153155428422,
           1,
           0.31310520050417356
          ],
          [
           0.08368853703106902,
           -0.1594640050732691,
           0.2390315996231579,
           -0.11911799182000377,
           -0.45181698878598214,
           0.22328906739283702,
           0.08951556920120904,
           0.0845988365277651,
           0.257579013037697,
           0.443403399008694,
           -0.23342820809550366,
           -0.2144763466070996,
           0.31662663167825317,
           0.3824332461541417,
           -0.027321954421630212,
           -0.19135010937454908,
           0.31310520050417356,
           1
          ]
         ]
        }
       ],
       "layout": {
        "annotations": [
         {
          "font": {
           "color": "#000000"
          },
          "showarrow": false,
          "text": "1.0",
          "x": "mintemp",
          "xref": "x",
          "y": "mintemp",
          "yref": "y"
         },
         {
          "font": {
           "color": "#000000"
          },
          "showarrow": false,
          "text": "0.74",
          "x": "maxtemp",
          "xref": "x",
          "y": "mintemp",
          "yref": "y"
         },
         {
          "font": {
           "color": "#FFFFFF"
          },
          "showarrow": false,
          "text": "0.1",
          "x": "rainfall",
          "xref": "x",
          "y": "mintemp",
          "yref": "y"
         },
         {
          "font": {
           "color": "#000000"
          },
          "showarrow": false,
          "text": "0.47",
          "x": "evaporation",
          "xref": "x",
          "y": "mintemp",
          "yref": "y"
         },
         {
          "font": {
           "color": "#FFFFFF"
          },
          "showarrow": false,
          "text": "0.07",
          "x": "sunshine",
          "xref": "x",
          "y": "mintemp",
          "yref": "y"
         },
         {
          "font": {
           "color": "#000000"
          },
          "showarrow": false,
          "text": "0.18",
          "x": "windgustspeed",
          "xref": "x",
          "y": "mintemp",
          "yref": "y"
         },
         {
          "font": {
           "color": "#000000"
          },
          "showarrow": false,
          "text": "0.17",
          "x": "windspeed9am",
          "xref": "x",
          "y": "mintemp",
          "yref": "y"
         },
         {
          "font": {
           "color": "#000000"
          },
          "showarrow": false,
          "text": "0.17",
          "x": "windspeed3pm",
          "xref": "x",
          "y": "mintemp",
          "yref": "y"
         },
         {
          "font": {
           "color": "#FFFFFF"
          },
          "showarrow": false,
          "text": "-0.24",
          "x": "humidity9am",
          "xref": "x",
          "y": "mintemp",
          "yref": "y"
         },
         {
          "font": {
           "color": "#FFFFFF"
          },
          "showarrow": false,
          "text": "-0.0",
          "x": "humidity3pm",
          "xref": "x",
          "y": "mintemp",
          "yref": "y"
         },
         {
          "font": {
           "color": "#FFFFFF"
          },
          "showarrow": false,
          "text": "-0.45",
          "x": "pressure9am",
          "xref": "x",
          "y": "mintemp",
          "yref": "y"
         },
         {
          "font": {
           "color": "#FFFFFF"
          },
          "showarrow": false,
          "text": "-0.46",
          "x": "pressure3pm",
          "xref": "x",
          "y": "mintemp",
          "yref": "y"
         },
         {
          "font": {
           "color": "#FFFFFF"
          },
          "showarrow": false,
          "text": "0.08",
          "x": "cloud9am",
          "xref": "x",
          "y": "mintemp",
          "yref": "y"
         },
         {
          "font": {
           "color": "#FFFFFF"
          },
          "showarrow": false,
          "text": "0.02",
          "x": "cloud3pm",
          "xref": "x",
          "y": "mintemp",
          "yref": "y"
         },
         {
          "font": {
           "color": "#000000"
          },
          "showarrow": false,
          "text": "0.9",
          "x": "temp9am",
          "xref": "x",
          "y": "mintemp",
          "yref": "y"
         },
         {
          "font": {
           "color": "#000000"
          },
          "showarrow": false,
          "text": "0.71",
          "x": "temp3pm",
          "xref": "x",
          "y": "mintemp",
          "yref": "y"
         },
         {
          "font": {
           "color": "#FFFFFF"
          },
          "showarrow": false,
          "text": "0.06",
          "x": "raintoday",
          "xref": "x",
          "y": "mintemp",
          "yref": "y"
         },
         {
          "font": {
           "color": "#FFFFFF"
          },
          "showarrow": false,
          "text": "0.08",
          "x": "raintomorrow",
          "xref": "x",
          "y": "mintemp",
          "yref": "y"
         },
         {
          "font": {
           "color": "#000000"
          },
          "showarrow": false,
          "text": "0.74",
          "x": "mintemp",
          "xref": "x",
          "y": "maxtemp",
          "yref": "y"
         },
         {
          "font": {
           "color": "#000000"
          },
          "showarrow": false,
          "text": "1.0",
          "x": "maxtemp",
          "xref": "x",
          "y": "maxtemp",
          "yref": "y"
         },
         {
          "font": {
           "color": "#FFFFFF"
          },
          "showarrow": false,
          "text": "-0.07",
          "x": "rainfall",
          "xref": "x",
          "y": "maxtemp",
          "yref": "y"
         },
         {
          "font": {
           "color": "#000000"
          },
          "showarrow": false,
          "text": "0.59",
          "x": "evaporation",
          "xref": "x",
          "y": "maxtemp",
          "yref": "y"
         },
         {
          "font": {
           "color": "#000000"
          },
          "showarrow": false,
          "text": "0.47",
          "x": "sunshine",
          "xref": "x",
          "y": "maxtemp",
          "yref": "y"
         },
         {
          "font": {
           "color": "#FFFFFF"
          },
          "showarrow": false,
          "text": "0.07",
          "x": "windgustspeed",
          "xref": "x",
          "y": "maxtemp",
          "yref": "y"
         },
         {
          "font": {
           "color": "#FFFFFF"
          },
          "showarrow": false,
          "text": "0.01",
          "x": "windspeed9am",
          "xref": "x",
          "y": "maxtemp",
          "yref": "y"
         },
         {
          "font": {
           "color": "#FFFFFF"
          },
          "showarrow": false,
          "text": "0.05",
          "x": "windspeed3pm",
          "xref": "x",
          "y": "maxtemp",
          "yref": "y"
         },
         {
          "font": {
           "color": "#FFFFFF"
          },
          "showarrow": false,
          "text": "-0.51",
          "x": "humidity9am",
          "xref": "x",
          "y": "maxtemp",
          "yref": "y"
         },
         {
          "font": {
           "color": "#FFFFFF"
          },
          "showarrow": false,
          "text": "-0.51",
          "x": "humidity3pm",
          "xref": "x",
          "y": "maxtemp",
          "yref": "y"
         },
         {
          "font": {
           "color": "#FFFFFF"
          },
          "showarrow": false,
          "text": "-0.33",
          "x": "pressure9am",
          "xref": "x",
          "y": "maxtemp",
          "yref": "y"
         },
         {
          "font": {
           "color": "#FFFFFF"
          },
          "showarrow": false,
          "text": "-0.42",
          "x": "pressure3pm",
          "xref": "x",
          "y": "maxtemp",
          "yref": "y"
         },
         {
          "font": {
           "color": "#FFFFFF"
          },
          "showarrow": false,
          "text": "-0.29",
          "x": "cloud9am",
          "xref": "x",
          "y": "maxtemp",
          "yref": "y"
         },
         {
          "font": {
           "color": "#FFFFFF"
          },
          "showarrow": false,
          "text": "-0.28",
          "x": "cloud3pm",
          "xref": "x",
          "y": "maxtemp",
          "yref": "y"
         },
         {
          "font": {
           "color": "#000000"
          },
          "showarrow": false,
          "text": "0.89",
          "x": "temp9am",
          "xref": "x",
          "y": "maxtemp",
          "yref": "y"
         },
         {
          "font": {
           "color": "#000000"
          },
          "showarrow": false,
          "text": "0.98",
          "x": "temp3pm",
          "xref": "x",
          "y": "maxtemp",
          "yref": "y"
         },
         {
          "font": {
           "color": "#FFFFFF"
          },
          "showarrow": false,
          "text": "-0.23",
          "x": "raintoday",
          "xref": "x",
          "y": "maxtemp",
          "yref": "y"
         },
         {
          "font": {
           "color": "#FFFFFF"
          },
          "showarrow": false,
          "text": "-0.16",
          "x": "raintomorrow",
          "xref": "x",
          "y": "maxtemp",
          "yref": "y"
         },
         {
          "font": {
           "color": "#FFFFFF"
          },
          "showarrow": false,
          "text": "0.1",
          "x": "mintemp",
          "xref": "x",
          "y": "rainfall",
          "yref": "y"
         },
         {
          "font": {
           "color": "#FFFFFF"
          },
          "showarrow": false,
          "text": "-0.07",
          "x": "maxtemp",
          "xref": "x",
          "y": "rainfall",
          "yref": "y"
         },
         {
          "font": {
           "color": "#000000"
          },
          "showarrow": false,
          "text": "1.0",
          "x": "rainfall",
          "xref": "x",
          "y": "rainfall",
          "yref": "y"
         },
         {
          "font": {
           "color": "#FFFFFF"
          },
          "showarrow": false,
          "text": "-0.06",
          "x": "evaporation",
          "xref": "x",
          "y": "rainfall",
          "yref": "y"
         },
         {
          "font": {
           "color": "#FFFFFF"
          },
          "showarrow": false,
          "text": "-0.23",
          "x": "sunshine",
          "xref": "x",
          "y": "rainfall",
          "yref": "y"
         },
         {
          "font": {
           "color": "#FFFFFF"
          },
          "showarrow": false,
          "text": "0.13",
          "x": "windgustspeed",
          "xref": "x",
          "y": "rainfall",
          "yref": "y"
         },
         {
          "font": {
           "color": "#FFFFFF"
          },
          "showarrow": false,
          "text": "0.09",
          "x": "windspeed9am",
          "xref": "x",
          "y": "rainfall",
          "yref": "y"
         },
         {
          "font": {
           "color": "#FFFFFF"
          },
          "showarrow": false,
          "text": "0.06",
          "x": "windspeed3pm",
          "xref": "x",
          "y": "rainfall",
          "yref": "y"
         },
         {
          "font": {
           "color": "#000000"
          },
          "showarrow": false,
          "text": "0.22",
          "x": "humidity9am",
          "xref": "x",
          "y": "rainfall",
          "yref": "y"
         },
         {
          "font": {
           "color": "#000000"
          },
          "showarrow": false,
          "text": "0.25",
          "x": "humidity3pm",
          "xref": "x",
          "y": "rainfall",
          "yref": "y"
         },
         {
          "font": {
           "color": "#FFFFFF"
          },
          "showarrow": false,
          "text": "-0.16",
          "x": "pressure9am",
          "xref": "x",
          "y": "rainfall",
          "yref": "y"
         },
         {
          "font": {
           "color": "#FFFFFF"
          },
          "showarrow": false,
          "text": "-0.12",
          "x": "pressure3pm",
          "xref": "x",
          "y": "rainfall",
          "yref": "y"
         },
         {
          "font": {
           "color": "#000000"
          },
          "showarrow": false,
          "text": "0.2",
          "x": "cloud9am",
          "xref": "x",
          "y": "rainfall",
          "yref": "y"
         },
         {
          "font": {
           "color": "#000000"
          },
          "showarrow": false,
          "text": "0.17",
          "x": "cloud3pm",
          "xref": "x",
          "y": "rainfall",
          "yref": "y"
         },
         {
          "font": {
           "color": "#FFFFFF"
          },
          "showarrow": false,
          "text": "0.01",
          "x": "temp9am",
          "xref": "x",
          "y": "rainfall",
          "yref": "y"
         },
         {
          "font": {
           "color": "#FFFFFF"
          },
          "showarrow": false,
          "text": "-0.08",
          "x": "temp3pm",
          "xref": "x",
          "y": "rainfall",
          "yref": "y"
         },
         {
          "font": {
           "color": "#000000"
          },
          "showarrow": false,
          "text": "0.5",
          "x": "raintoday",
          "xref": "x",
          "y": "rainfall",
          "yref": "y"
         },
         {
          "font": {
           "color": "#000000"
          },
          "showarrow": false,
          "text": "0.24",
          "x": "raintomorrow",
          "xref": "x",
          "y": "rainfall",
          "yref": "y"
         },
         {
          "font": {
           "color": "#000000"
          },
          "showarrow": false,
          "text": "0.47",
          "x": "mintemp",
          "xref": "x",
          "y": "evaporation",
          "yref": "y"
         },
         {
          "font": {
           "color": "#000000"
          },
          "showarrow": false,
          "text": "0.59",
          "x": "maxtemp",
          "xref": "x",
          "y": "evaporation",
          "yref": "y"
         },
         {
          "font": {
           "color": "#FFFFFF"
          },
          "showarrow": false,
          "text": "-0.06",
          "x": "rainfall",
          "xref": "x",
          "y": "evaporation",
          "yref": "y"
         },
         {
          "font": {
           "color": "#000000"
          },
          "showarrow": false,
          "text": "1.0",
          "x": "evaporation",
          "xref": "x",
          "y": "evaporation",
          "yref": "y"
         },
         {
          "font": {
           "color": "#000000"
          },
          "showarrow": false,
          "text": "0.37",
          "x": "sunshine",
          "xref": "x",
          "y": "evaporation",
          "yref": "y"
         },
         {
          "font": {
           "color": "#000000"
          },
          "showarrow": false,
          "text": "0.2",
          "x": "windgustspeed",
          "xref": "x",
          "y": "evaporation",
          "yref": "y"
         },
         {
          "font": {
           "color": "#000000"
          },
          "showarrow": false,
          "text": "0.19",
          "x": "windspeed9am",
          "xref": "x",
          "y": "evaporation",
          "yref": "y"
         },
         {
          "font": {
           "color": "#FFFFFF"
          },
          "showarrow": false,
          "text": "0.13",
          "x": "windspeed3pm",
          "xref": "x",
          "y": "evaporation",
          "yref": "y"
         },
         {
          "font": {
           "color": "#FFFFFF"
          },
          "showarrow": false,
          "text": "-0.51",
          "x": "humidity9am",
          "xref": "x",
          "y": "evaporation",
          "yref": "y"
         },
         {
          "font": {
           "color": "#FFFFFF"
          },
          "showarrow": false,
          "text": "-0.39",
          "x": "humidity3pm",
          "xref": "x",
          "y": "evaporation",
          "yref": "y"
         },
         {
          "font": {
           "color": "#FFFFFF"
          },
          "showarrow": false,
          "text": "-0.27",
          "x": "pressure9am",
          "xref": "x",
          "y": "evaporation",
          "yref": "y"
         },
         {
          "font": {
           "color": "#FFFFFF"
          },
          "showarrow": false,
          "text": "-0.29",
          "x": "pressure3pm",
          "xref": "x",
          "y": "evaporation",
          "yref": "y"
         },
         {
          "font": {
           "color": "#FFFFFF"
          },
          "showarrow": false,
          "text": "-0.19",
          "x": "cloud9am",
          "xref": "x",
          "y": "evaporation",
          "yref": "y"
         },
         {
          "font": {
           "color": "#FFFFFF"
          },
          "showarrow": false,
          "text": "-0.18",
          "x": "cloud3pm",
          "xref": "x",
          "y": "evaporation",
          "yref": "y"
         },
         {
          "font": {
           "color": "#000000"
          },
          "showarrow": false,
          "text": "0.55",
          "x": "temp9am",
          "xref": "x",
          "y": "evaporation",
          "yref": "y"
         },
         {
          "font": {
           "color": "#000000"
          },
          "showarrow": false,
          "text": "0.57",
          "x": "temp3pm",
          "xref": "x",
          "y": "evaporation",
          "yref": "y"
         },
         {
          "font": {
           "color": "#FFFFFF"
          },
          "showarrow": false,
          "text": "-0.19",
          "x": "raintoday",
          "xref": "x",
          "y": "evaporation",
          "yref": "y"
         },
         {
          "font": {
           "color": "#FFFFFF"
          },
          "showarrow": false,
          "text": "-0.12",
          "x": "raintomorrow",
          "xref": "x",
          "y": "evaporation",
          "yref": "y"
         },
         {
          "font": {
           "color": "#FFFFFF"
          },
          "showarrow": false,
          "text": "0.07",
          "x": "mintemp",
          "xref": "x",
          "y": "sunshine",
          "yref": "y"
         },
         {
          "font": {
           "color": "#000000"
          },
          "showarrow": false,
          "text": "0.47",
          "x": "maxtemp",
          "xref": "x",
          "y": "sunshine",
          "yref": "y"
         },
         {
          "font": {
           "color": "#FFFFFF"
          },
          "showarrow": false,
          "text": "-0.23",
          "x": "rainfall",
          "xref": "x",
          "y": "sunshine",
          "yref": "y"
         },
         {
          "font": {
           "color": "#000000"
          },
          "showarrow": false,
          "text": "0.37",
          "x": "evaporation",
          "xref": "x",
          "y": "sunshine",
          "yref": "y"
         },
         {
          "font": {
           "color": "#000000"
          },
          "showarrow": false,
          "text": "1.0",
          "x": "sunshine",
          "xref": "x",
          "y": "sunshine",
          "yref": "y"
         },
         {
          "font": {
           "color": "#FFFFFF"
          },
          "showarrow": false,
          "text": "-0.03",
          "x": "windgustspeed",
          "xref": "x",
          "y": "sunshine",
          "yref": "y"
         },
         {
          "font": {
           "color": "#FFFFFF"
          },
          "showarrow": false,
          "text": "0.01",
          "x": "windspeed9am",
          "xref": "x",
          "y": "sunshine",
          "yref": "y"
         },
         {
          "font": {
           "color": "#FFFFFF"
          },
          "showarrow": false,
          "text": "0.06",
          "x": "windspeed3pm",
          "xref": "x",
          "y": "sunshine",
          "yref": "y"
         },
         {
          "font": {
           "color": "#FFFFFF"
          },
          "showarrow": false,
          "text": "-0.49",
          "x": "humidity9am",
          "xref": "x",
          "y": "sunshine",
          "yref": "y"
         },
         {
          "font": {
           "color": "#FFFFFF"
          },
          "showarrow": false,
          "text": "-0.63",
          "x": "humidity3pm",
          "xref": "x",
          "y": "sunshine",
          "yref": "y"
         },
         {
          "font": {
           "color": "#FFFFFF"
          },
          "showarrow": false,
          "text": "0.04",
          "x": "pressure9am",
          "xref": "x",
          "y": "sunshine",
          "yref": "y"
         },
         {
          "font": {
           "color": "#FFFFFF"
          },
          "showarrow": false,
          "text": "-0.02",
          "x": "pressure3pm",
          "xref": "x",
          "y": "sunshine",
          "yref": "y"
         },
         {
          "font": {
           "color": "#FFFFFF"
          },
          "showarrow": false,
          "text": "-0.68",
          "x": "cloud9am",
          "xref": "x",
          "y": "sunshine",
          "yref": "y"
         },
         {
          "font": {
           "color": "#FFFFFF"
          },
          "showarrow": false,
          "text": "-0.7",
          "x": "cloud3pm",
          "xref": "x",
          "y": "sunshine",
          "yref": "y"
         },
         {
          "font": {
           "color": "#000000"
          },
          "showarrow": false,
          "text": "0.29",
          "x": "temp9am",
          "xref": "x",
          "y": "sunshine",
          "yref": "y"
         },
         {
          "font": {
           "color": "#000000"
          },
          "showarrow": false,
          "text": "0.49",
          "x": "temp3pm",
          "xref": "x",
          "y": "sunshine",
          "yref": "y"
         },
         {
          "font": {
           "color": "#FFFFFF"
          },
          "showarrow": false,
          "text": "-0.33",
          "x": "raintoday",
          "xref": "x",
          "y": "sunshine",
          "yref": "y"
         },
         {
          "font": {
           "color": "#FFFFFF"
          },
          "showarrow": false,
          "text": "-0.45",
          "x": "raintomorrow",
          "xref": "x",
          "y": "sunshine",
          "yref": "y"
         },
         {
          "font": {
           "color": "#000000"
          },
          "showarrow": false,
          "text": "0.18",
          "x": "mintemp",
          "xref": "x",
          "y": "windgustspeed",
          "yref": "y"
         },
         {
          "font": {
           "color": "#FFFFFF"
          },
          "showarrow": false,
          "text": "0.07",
          "x": "maxtemp",
          "xref": "x",
          "y": "windgustspeed",
          "yref": "y"
         },
         {
          "font": {
           "color": "#FFFFFF"
          },
          "showarrow": false,
          "text": "0.13",
          "x": "rainfall",
          "xref": "x",
          "y": "windgustspeed",
          "yref": "y"
         },
         {
          "font": {
           "color": "#000000"
          },
          "showarrow": false,
          "text": "0.2",
          "x": "evaporation",
          "xref": "x",
          "y": "windgustspeed",
          "yref": "y"
         },
         {
          "font": {
           "color": "#FFFFFF"
          },
          "showarrow": false,
          "text": "-0.03",
          "x": "sunshine",
          "xref": "x",
          "y": "windgustspeed",
          "yref": "y"
         },
         {
          "font": {
           "color": "#000000"
          },
          "showarrow": false,
          "text": "1.0",
          "x": "windgustspeed",
          "xref": "x",
          "y": "windgustspeed",
          "yref": "y"
         },
         {
          "font": {
           "color": "#000000"
          },
          "showarrow": false,
          "text": "0.58",
          "x": "windspeed9am",
          "xref": "x",
          "y": "windgustspeed",
          "yref": "y"
         },
         {
          "font": {
           "color": "#000000"
          },
          "showarrow": false,
          "text": "0.66",
          "x": "windspeed3pm",
          "xref": "x",
          "y": "windgustspeed",
          "yref": "y"
         },
         {
          "font": {
           "color": "#FFFFFF"
          },
          "showarrow": false,
          "text": "-0.21",
          "x": "humidity9am",
          "xref": "x",
          "y": "windgustspeed",
          "yref": "y"
         },
         {
          "font": {
           "color": "#FFFFFF"
          },
          "showarrow": false,
          "text": "-0.03",
          "x": "humidity3pm",
          "xref": "x",
          "y": "windgustspeed",
          "yref": "y"
         },
         {
          "font": {
           "color": "#FFFFFF"
          },
          "showarrow": false,
          "text": "-0.43",
          "x": "pressure9am",
          "xref": "x",
          "y": "windgustspeed",
          "yref": "y"
         },
         {
          "font": {
           "color": "#FFFFFF"
          },
          "showarrow": false,
          "text": "-0.39",
          "x": "pressure3pm",
          "xref": "x",
          "y": "windgustspeed",
          "yref": "y"
         },
         {
          "font": {
           "color": "#FFFFFF"
          },
          "showarrow": false,
          "text": "0.07",
          "x": "cloud9am",
          "xref": "x",
          "y": "windgustspeed",
          "yref": "y"
         },
         {
          "font": {
           "color": "#FFFFFF"
          },
          "showarrow": false,
          "text": "0.1",
          "x": "cloud3pm",
          "xref": "x",
          "y": "windgustspeed",
          "yref": "y"
         },
         {
          "font": {
           "color": "#000000"
          },
          "showarrow": false,
          "text": "0.15",
          "x": "temp9am",
          "xref": "x",
          "y": "windgustspeed",
          "yref": "y"
         },
         {
          "font": {
           "color": "#FFFFFF"
          },
          "showarrow": false,
          "text": "0.03",
          "x": "temp3pm",
          "xref": "x",
          "y": "windgustspeed",
          "yref": "y"
         },
         {
          "font": {
           "color": "#000000"
          },
          "showarrow": false,
          "text": "0.15",
          "x": "raintoday",
          "xref": "x",
          "y": "windgustspeed",
          "yref": "y"
         },
         {
          "font": {
           "color": "#000000"
          },
          "showarrow": false,
          "text": "0.22",
          "x": "raintomorrow",
          "xref": "x",
          "y": "windgustspeed",
          "yref": "y"
         },
         {
          "font": {
           "color": "#000000"
          },
          "showarrow": false,
          "text": "0.17",
          "x": "mintemp",
          "xref": "x",
          "y": "windspeed9am",
          "yref": "y"
         },
         {
          "font": {
           "color": "#FFFFFF"
          },
          "showarrow": false,
          "text": "0.01",
          "x": "maxtemp",
          "xref": "x",
          "y": "windspeed9am",
          "yref": "y"
         },
         {
          "font": {
           "color": "#FFFFFF"
          },
          "showarrow": false,
          "text": "0.09",
          "x": "rainfall",
          "xref": "x",
          "y": "windspeed9am",
          "yref": "y"
         },
         {
          "font": {
           "color": "#000000"
          },
          "showarrow": false,
          "text": "0.19",
          "x": "evaporation",
          "xref": "x",
          "y": "windspeed9am",
          "yref": "y"
         },
         {
          "font": {
           "color": "#FFFFFF"
          },
          "showarrow": false,
          "text": "0.01",
          "x": "sunshine",
          "xref": "x",
          "y": "windspeed9am",
          "yref": "y"
         },
         {
          "font": {
           "color": "#000000"
          },
          "showarrow": false,
          "text": "0.58",
          "x": "windgustspeed",
          "xref": "x",
          "y": "windspeed9am",
          "yref": "y"
         },
         {
          "font": {
           "color": "#000000"
          },
          "showarrow": false,
          "text": "1.0",
          "x": "windspeed9am",
          "xref": "x",
          "y": "windspeed9am",
          "yref": "y"
         },
         {
          "font": {
           "color": "#000000"
          },
          "showarrow": false,
          "text": "0.52",
          "x": "windspeed3pm",
          "xref": "x",
          "y": "windspeed9am",
          "yref": "y"
         },
         {
          "font": {
           "color": "#FFFFFF"
          },
          "showarrow": false,
          "text": "-0.27",
          "x": "humidity9am",
          "xref": "x",
          "y": "windspeed9am",
          "yref": "y"
         },
         {
          "font": {
           "color": "#FFFFFF"
          },
          "showarrow": false,
          "text": "-0.03",
          "x": "humidity3pm",
          "xref": "x",
          "y": "windspeed9am",
          "yref": "y"
         },
         {
          "font": {
           "color": "#FFFFFF"
          },
          "showarrow": false,
          "text": "-0.22",
          "x": "pressure9am",
          "xref": "x",
          "y": "windspeed9am",
          "yref": "y"
         },
         {
          "font": {
           "color": "#FFFFFF"
          },
          "showarrow": false,
          "text": "-0.17",
          "x": "pressure3pm",
          "xref": "x",
          "y": "windspeed9am",
          "yref": "y"
         },
         {
          "font": {
           "color": "#FFFFFF"
          },
          "showarrow": false,
          "text": "0.02",
          "x": "cloud9am",
          "xref": "x",
          "y": "windspeed9am",
          "yref": "y"
         },
         {
          "font": {
           "color": "#FFFFFF"
          },
          "showarrow": false,
          "text": "0.05",
          "x": "cloud3pm",
          "xref": "x",
          "y": "windspeed9am",
          "yref": "y"
         },
         {
          "font": {
           "color": "#FFFFFF"
          },
          "showarrow": false,
          "text": "0.13",
          "x": "temp9am",
          "xref": "x",
          "y": "windspeed9am",
          "yref": "y"
         },
         {
          "font": {
           "color": "#FFFFFF"
          },
          "showarrow": false,
          "text": "0.0",
          "x": "temp3pm",
          "xref": "x",
          "y": "windspeed9am",
          "yref": "y"
         },
         {
          "font": {
           "color": "#FFFFFF"
          },
          "showarrow": false,
          "text": "0.1",
          "x": "raintoday",
          "xref": "x",
          "y": "windspeed9am",
          "yref": "y"
         },
         {
          "font": {
           "color": "#FFFFFF"
          },
          "showarrow": false,
          "text": "0.09",
          "x": "raintomorrow",
          "xref": "x",
          "y": "windspeed9am",
          "yref": "y"
         },
         {
          "font": {
           "color": "#000000"
          },
          "showarrow": false,
          "text": "0.17",
          "x": "mintemp",
          "xref": "x",
          "y": "windspeed3pm",
          "yref": "y"
         },
         {
          "font": {
           "color": "#FFFFFF"
          },
          "showarrow": false,
          "text": "0.05",
          "x": "maxtemp",
          "xref": "x",
          "y": "windspeed3pm",
          "yref": "y"
         },
         {
          "font": {
           "color": "#FFFFFF"
          },
          "showarrow": false,
          "text": "0.06",
          "x": "rainfall",
          "xref": "x",
          "y": "windspeed3pm",
          "yref": "y"
         },
         {
          "font": {
           "color": "#FFFFFF"
          },
          "showarrow": false,
          "text": "0.13",
          "x": "evaporation",
          "xref": "x",
          "y": "windspeed3pm",
          "yref": "y"
         },
         {
          "font": {
           "color": "#FFFFFF"
          },
          "showarrow": false,
          "text": "0.06",
          "x": "sunshine",
          "xref": "x",
          "y": "windspeed3pm",
          "yref": "y"
         },
         {
          "font": {
           "color": "#000000"
          },
          "showarrow": false,
          "text": "0.66",
          "x": "windgustspeed",
          "xref": "x",
          "y": "windspeed3pm",
          "yref": "y"
         },
         {
          "font": {
           "color": "#000000"
          },
          "showarrow": false,
          "text": "0.52",
          "x": "windspeed9am",
          "xref": "x",
          "y": "windspeed3pm",
          "yref": "y"
         },
         {
          "font": {
           "color": "#000000"
          },
          "showarrow": false,
          "text": "1.0",
          "x": "windspeed3pm",
          "xref": "x",
          "y": "windspeed3pm",
          "yref": "y"
         },
         {
          "font": {
           "color": "#FFFFFF"
          },
          "showarrow": false,
          "text": "-0.15",
          "x": "humidity9am",
          "xref": "x",
          "y": "windspeed3pm",
          "yref": "y"
         },
         {
          "font": {
           "color": "#FFFFFF"
          },
          "showarrow": false,
          "text": "0.01",
          "x": "humidity3pm",
          "xref": "x",
          "y": "windspeed3pm",
          "yref": "y"
         },
         {
          "font": {
           "color": "#FFFFFF"
          },
          "showarrow": false,
          "text": "-0.28",
          "x": "pressure9am",
          "xref": "x",
          "y": "windspeed3pm",
          "yref": "y"
         },
         {
          "font": {
           "color": "#FFFFFF"
          },
          "showarrow": false,
          "text": "-0.25",
          "x": "pressure3pm",
          "xref": "x",
          "y": "windspeed3pm",
          "yref": "y"
         },
         {
          "font": {
           "color": "#FFFFFF"
          },
          "showarrow": false,
          "text": "0.05",
          "x": "cloud9am",
          "xref": "x",
          "y": "windspeed3pm",
          "yref": "y"
         },
         {
          "font": {
           "color": "#FFFFFF"
          },
          "showarrow": false,
          "text": "0.02",
          "x": "cloud3pm",
          "xref": "x",
          "y": "windspeed3pm",
          "yref": "y"
         },
         {
          "font": {
           "color": "#000000"
          },
          "showarrow": false,
          "text": "0.16",
          "x": "temp9am",
          "xref": "x",
          "y": "windspeed3pm",
          "yref": "y"
         },
         {
          "font": {
           "color": "#FFFFFF"
          },
          "showarrow": false,
          "text": "0.03",
          "x": "temp3pm",
          "xref": "x",
          "y": "windspeed3pm",
          "yref": "y"
         },
         {
          "font": {
           "color": "#FFFFFF"
          },
          "showarrow": false,
          "text": "0.08",
          "x": "raintoday",
          "xref": "x",
          "y": "windspeed3pm",
          "yref": "y"
         },
         {
          "font": {
           "color": "#FFFFFF"
          },
          "showarrow": false,
          "text": "0.08",
          "x": "raintomorrow",
          "xref": "x",
          "y": "windspeed3pm",
          "yref": "y"
         },
         {
          "font": {
           "color": "#FFFFFF"
          },
          "showarrow": false,
          "text": "-0.24",
          "x": "mintemp",
          "xref": "x",
          "y": "humidity9am",
          "yref": "y"
         },
         {
          "font": {
           "color": "#FFFFFF"
          },
          "showarrow": false,
          "text": "-0.51",
          "x": "maxtemp",
          "xref": "x",
          "y": "humidity9am",
          "yref": "y"
         },
         {
          "font": {
           "color": "#000000"
          },
          "showarrow": false,
          "text": "0.22",
          "x": "rainfall",
          "xref": "x",
          "y": "humidity9am",
          "yref": "y"
         },
         {
          "font": {
           "color": "#FFFFFF"
          },
          "showarrow": false,
          "text": "-0.51",
          "x": "evaporation",
          "xref": "x",
          "y": "humidity9am",
          "yref": "y"
         },
         {
          "font": {
           "color": "#FFFFFF"
          },
          "showarrow": false,
          "text": "-0.49",
          "x": "sunshine",
          "xref": "x",
          "y": "humidity9am",
          "yref": "y"
         },
         {
          "font": {
           "color": "#FFFFFF"
          },
          "showarrow": false,
          "text": "-0.21",
          "x": "windgustspeed",
          "xref": "x",
          "y": "humidity9am",
          "yref": "y"
         },
         {
          "font": {
           "color": "#FFFFFF"
          },
          "showarrow": false,
          "text": "-0.27",
          "x": "windspeed9am",
          "xref": "x",
          "y": "humidity9am",
          "yref": "y"
         },
         {
          "font": {
           "color": "#FFFFFF"
          },
          "showarrow": false,
          "text": "-0.15",
          "x": "windspeed3pm",
          "xref": "x",
          "y": "humidity9am",
          "yref": "y"
         },
         {
          "font": {
           "color": "#000000"
          },
          "showarrow": false,
          "text": "1.0",
          "x": "humidity9am",
          "xref": "x",
          "y": "humidity9am",
          "yref": "y"
         },
         {
          "font": {
           "color": "#000000"
          },
          "showarrow": false,
          "text": "0.67",
          "x": "humidity3pm",
          "xref": "x",
          "y": "humidity9am",
          "yref": "y"
         },
         {
          "font": {
           "color": "#FFFFFF"
          },
          "showarrow": false,
          "text": "0.14",
          "x": "pressure9am",
          "xref": "x",
          "y": "humidity9am",
          "yref": "y"
         },
         {
          "font": {
           "color": "#000000"
          },
          "showarrow": false,
          "text": "0.19",
          "x": "pressure3pm",
          "xref": "x",
          "y": "humidity9am",
          "yref": "y"
         },
         {
          "font": {
           "color": "#000000"
          },
          "showarrow": false,
          "text": "0.45",
          "x": "cloud9am",
          "xref": "x",
          "y": "humidity9am",
          "yref": "y"
         },
         {
          "font": {
           "color": "#000000"
          },
          "showarrow": false,
          "text": "0.36",
          "x": "cloud3pm",
          "xref": "x",
          "y": "humidity9am",
          "yref": "y"
         },
         {
          "font": {
           "color": "#FFFFFF"
          },
          "showarrow": false,
          "text": "-0.48",
          "x": "temp9am",
          "xref": "x",
          "y": "humidity9am",
          "yref": "y"
         },
         {
          "font": {
           "color": "#FFFFFF"
          },
          "showarrow": false,
          "text": "-0.5",
          "x": "temp3pm",
          "xref": "x",
          "y": "humidity9am",
          "yref": "y"
         },
         {
          "font": {
           "color": "#000000"
          },
          "showarrow": false,
          "text": "0.35",
          "x": "raintoday",
          "xref": "x",
          "y": "humidity9am",
          "yref": "y"
         },
         {
          "font": {
           "color": "#000000"
          },
          "showarrow": false,
          "text": "0.26",
          "x": "raintomorrow",
          "xref": "x",
          "y": "humidity9am",
          "yref": "y"
         },
         {
          "font": {
           "color": "#FFFFFF"
          },
          "showarrow": false,
          "text": "-0.0",
          "x": "mintemp",
          "xref": "x",
          "y": "humidity3pm",
          "yref": "y"
         },
         {
          "font": {
           "color": "#FFFFFF"
          },
          "showarrow": false,
          "text": "-0.51",
          "x": "maxtemp",
          "xref": "x",
          "y": "humidity3pm",
          "yref": "y"
         },
         {
          "font": {
           "color": "#000000"
          },
          "showarrow": false,
          "text": "0.25",
          "x": "rainfall",
          "xref": "x",
          "y": "humidity3pm",
          "yref": "y"
         },
         {
          "font": {
           "color": "#FFFFFF"
          },
          "showarrow": false,
          "text": "-0.39",
          "x": "evaporation",
          "xref": "x",
          "y": "humidity3pm",
          "yref": "y"
         },
         {
          "font": {
           "color": "#FFFFFF"
          },
          "showarrow": false,
          "text": "-0.63",
          "x": "sunshine",
          "xref": "x",
          "y": "humidity3pm",
          "yref": "y"
         },
         {
          "font": {
           "color": "#FFFFFF"
          },
          "showarrow": false,
          "text": "-0.03",
          "x": "windgustspeed",
          "xref": "x",
          "y": "humidity3pm",
          "yref": "y"
         },
         {
          "font": {
           "color": "#FFFFFF"
          },
          "showarrow": false,
          "text": "-0.03",
          "x": "windspeed9am",
          "xref": "x",
          "y": "humidity3pm",
          "yref": "y"
         },
         {
          "font": {
           "color": "#FFFFFF"
          },
          "showarrow": false,
          "text": "0.01",
          "x": "windspeed3pm",
          "xref": "x",
          "y": "humidity3pm",
          "yref": "y"
         },
         {
          "font": {
           "color": "#000000"
          },
          "showarrow": false,
          "text": "0.67",
          "x": "humidity9am",
          "xref": "x",
          "y": "humidity3pm",
          "yref": "y"
         },
         {
          "font": {
           "color": "#000000"
          },
          "showarrow": false,
          "text": "1.0",
          "x": "humidity3pm",
          "xref": "x",
          "y": "humidity3pm",
          "yref": "y"
         },
         {
          "font": {
           "color": "#FFFFFF"
          },
          "showarrow": false,
          "text": "-0.01",
          "x": "pressure9am",
          "xref": "x",
          "y": "humidity3pm",
          "yref": "y"
         },
         {
          "font": {
           "color": "#FFFFFF"
          },
          "showarrow": false,
          "text": "0.06",
          "x": "pressure3pm",
          "xref": "x",
          "y": "humidity3pm",
          "yref": "y"
         },
         {
          "font": {
           "color": "#000000"
          },
          "showarrow": false,
          "text": "0.51",
          "x": "cloud9am",
          "xref": "x",
          "y": "humidity3pm",
          "yref": "y"
         },
         {
          "font": {
           "color": "#000000"
          },
          "showarrow": false,
          "text": "0.52",
          "x": "cloud3pm",
          "xref": "x",
          "y": "humidity3pm",
          "yref": "y"
         },
         {
          "font": {
           "color": "#FFFFFF"
          },
          "showarrow": false,
          "text": "-0.23",
          "x": "temp9am",
          "xref": "x",
          "y": "humidity3pm",
          "yref": "y"
         },
         {
          "font": {
           "color": "#FFFFFF"
          },
          "showarrow": false,
          "text": "-0.56",
          "x": "temp3pm",
          "xref": "x",
          "y": "humidity3pm",
          "yref": "y"
         },
         {
          "font": {
           "color": "#000000"
          },
          "showarrow": false,
          "text": "0.38",
          "x": "raintoday",
          "xref": "x",
          "y": "humidity3pm",
          "yref": "y"
         },
         {
          "font": {
           "color": "#000000"
          },
          "showarrow": false,
          "text": "0.44",
          "x": "raintomorrow",
          "xref": "x",
          "y": "humidity3pm",
          "yref": "y"
         },
         {
          "font": {
           "color": "#FFFFFF"
          },
          "showarrow": false,
          "text": "-0.45",
          "x": "mintemp",
          "xref": "x",
          "y": "pressure9am",
          "yref": "y"
         },
         {
          "font": {
           "color": "#FFFFFF"
          },
          "showarrow": false,
          "text": "-0.33",
          "x": "maxtemp",
          "xref": "x",
          "y": "pressure9am",
          "yref": "y"
         },
         {
          "font": {
           "color": "#FFFFFF"
          },
          "showarrow": false,
          "text": "-0.16",
          "x": "rainfall",
          "xref": "x",
          "y": "pressure9am",
          "yref": "y"
         },
         {
          "font": {
           "color": "#FFFFFF"
          },
          "showarrow": false,
          "text": "-0.27",
          "x": "evaporation",
          "xref": "x",
          "y": "pressure9am",
          "yref": "y"
         },
         {
          "font": {
           "color": "#FFFFFF"
          },
          "showarrow": false,
          "text": "0.04",
          "x": "sunshine",
          "xref": "x",
          "y": "pressure9am",
          "yref": "y"
         },
         {
          "font": {
           "color": "#FFFFFF"
          },
          "showarrow": false,
          "text": "-0.43",
          "x": "windgustspeed",
          "xref": "x",
          "y": "pressure9am",
          "yref": "y"
         },
         {
          "font": {
           "color": "#FFFFFF"
          },
          "showarrow": false,
          "text": "-0.22",
          "x": "windspeed9am",
          "xref": "x",
          "y": "pressure9am",
          "yref": "y"
         },
         {
          "font": {
           "color": "#FFFFFF"
          },
          "showarrow": false,
          "text": "-0.28",
          "x": "windspeed3pm",
          "xref": "x",
          "y": "pressure9am",
          "yref": "y"
         },
         {
          "font": {
           "color": "#FFFFFF"
          },
          "showarrow": false,
          "text": "0.14",
          "x": "humidity9am",
          "xref": "x",
          "y": "pressure9am",
          "yref": "y"
         },
         {
          "font": {
           "color": "#FFFFFF"
          },
          "showarrow": false,
          "text": "-0.01",
          "x": "humidity3pm",
          "xref": "x",
          "y": "pressure9am",
          "yref": "y"
         },
         {
          "font": {
           "color": "#000000"
          },
          "showarrow": false,
          "text": "1.0",
          "x": "pressure9am",
          "xref": "x",
          "y": "pressure9am",
          "yref": "y"
         },
         {
          "font": {
           "color": "#000000"
          },
          "showarrow": false,
          "text": "0.96",
          "x": "pressure3pm",
          "xref": "x",
          "y": "pressure9am",
          "yref": "y"
         },
         {
          "font": {
           "color": "#FFFFFF"
          },
          "showarrow": false,
          "text": "-0.13",
          "x": "cloud9am",
          "xref": "x",
          "y": "pressure9am",
          "yref": "y"
         },
         {
          "font": {
           "color": "#FFFFFF"
          },
          "showarrow": false,
          "text": "-0.15",
          "x": "cloud3pm",
          "xref": "x",
          "y": "pressure9am",
          "yref": "y"
         },
         {
          "font": {
           "color": "#FFFFFF"
          },
          "showarrow": false,
          "text": "-0.42",
          "x": "temp9am",
          "xref": "x",
          "y": "pressure9am",
          "yref": "y"
         },
         {
          "font": {
           "color": "#FFFFFF"
          },
          "showarrow": false,
          "text": "-0.29",
          "x": "temp3pm",
          "xref": "x",
          "y": "pressure9am",
          "yref": "y"
         },
         {
          "font": {
           "color": "#FFFFFF"
          },
          "showarrow": false,
          "text": "-0.18",
          "x": "raintoday",
          "xref": "x",
          "y": "pressure9am",
          "yref": "y"
         },
         {
          "font": {
           "color": "#FFFFFF"
          },
          "showarrow": false,
          "text": "-0.23",
          "x": "raintomorrow",
          "xref": "x",
          "y": "pressure9am",
          "yref": "y"
         },
         {
          "font": {
           "color": "#FFFFFF"
          },
          "showarrow": false,
          "text": "-0.46",
          "x": "mintemp",
          "xref": "x",
          "y": "pressure3pm",
          "yref": "y"
         },
         {
          "font": {
           "color": "#FFFFFF"
          },
          "showarrow": false,
          "text": "-0.42",
          "x": "maxtemp",
          "xref": "x",
          "y": "pressure3pm",
          "yref": "y"
         },
         {
          "font": {
           "color": "#FFFFFF"
          },
          "showarrow": false,
          "text": "-0.12",
          "x": "rainfall",
          "xref": "x",
          "y": "pressure3pm",
          "yref": "y"
         },
         {
          "font": {
           "color": "#FFFFFF"
          },
          "showarrow": false,
          "text": "-0.29",
          "x": "evaporation",
          "xref": "x",
          "y": "pressure3pm",
          "yref": "y"
         },
         {
          "font": {
           "color": "#FFFFFF"
          },
          "showarrow": false,
          "text": "-0.02",
          "x": "sunshine",
          "xref": "x",
          "y": "pressure3pm",
          "yref": "y"
         },
         {
          "font": {
           "color": "#FFFFFF"
          },
          "showarrow": false,
          "text": "-0.39",
          "x": "windgustspeed",
          "xref": "x",
          "y": "pressure3pm",
          "yref": "y"
         },
         {
          "font": {
           "color": "#FFFFFF"
          },
          "showarrow": false,
          "text": "-0.17",
          "x": "windspeed9am",
          "xref": "x",
          "y": "pressure3pm",
          "yref": "y"
         },
         {
          "font": {
           "color": "#FFFFFF"
          },
          "showarrow": false,
          "text": "-0.25",
          "x": "windspeed3pm",
          "xref": "x",
          "y": "pressure3pm",
          "yref": "y"
         },
         {
          "font": {
           "color": "#000000"
          },
          "showarrow": false,
          "text": "0.19",
          "x": "humidity9am",
          "xref": "x",
          "y": "pressure3pm",
          "yref": "y"
         },
         {
          "font": {
           "color": "#FFFFFF"
          },
          "showarrow": false,
          "text": "0.06",
          "x": "humidity3pm",
          "xref": "x",
          "y": "pressure3pm",
          "yref": "y"
         },
         {
          "font": {
           "color": "#000000"
          },
          "showarrow": false,
          "text": "0.96",
          "x": "pressure9am",
          "xref": "x",
          "y": "pressure3pm",
          "yref": "y"
         },
         {
          "font": {
           "color": "#000000"
          },
          "showarrow": false,
          "text": "1.0",
          "x": "pressure3pm",
          "xref": "x",
          "y": "pressure3pm",
          "yref": "y"
         },
         {
          "font": {
           "color": "#FFFFFF"
          },
          "showarrow": false,
          "text": "-0.06",
          "x": "cloud9am",
          "xref": "x",
          "y": "pressure3pm",
          "yref": "y"
         },
         {
          "font": {
           "color": "#FFFFFF"
          },
          "showarrow": false,
          "text": "-0.08",
          "x": "cloud3pm",
          "xref": "x",
          "y": "pressure3pm",
          "yref": "y"
         },
         {
          "font": {
           "color": "#FFFFFF"
          },
          "showarrow": false,
          "text": "-0.46",
          "x": "temp9am",
          "xref": "x",
          "y": "pressure3pm",
          "yref": "y"
         },
         {
          "font": {
           "color": "#FFFFFF"
          },
          "showarrow": false,
          "text": "-0.39",
          "x": "temp3pm",
          "xref": "x",
          "y": "pressure3pm",
          "yref": "y"
         },
         {
          "font": {
           "color": "#FFFFFF"
          },
          "showarrow": false,
          "text": "-0.1",
          "x": "raintoday",
          "xref": "x",
          "y": "pressure3pm",
          "yref": "y"
         },
         {
          "font": {
           "color": "#FFFFFF"
          },
          "showarrow": false,
          "text": "-0.21",
          "x": "raintomorrow",
          "xref": "x",
          "y": "pressure3pm",
          "yref": "y"
         },
         {
          "font": {
           "color": "#FFFFFF"
          },
          "showarrow": false,
          "text": "0.08",
          "x": "mintemp",
          "xref": "x",
          "y": "cloud9am",
          "yref": "y"
         },
         {
          "font": {
           "color": "#FFFFFF"
          },
          "showarrow": false,
          "text": "-0.29",
          "x": "maxtemp",
          "xref": "x",
          "y": "cloud9am",
          "yref": "y"
         },
         {
          "font": {
           "color": "#000000"
          },
          "showarrow": false,
          "text": "0.2",
          "x": "rainfall",
          "xref": "x",
          "y": "cloud9am",
          "yref": "y"
         },
         {
          "font": {
           "color": "#FFFFFF"
          },
          "showarrow": false,
          "text": "-0.19",
          "x": "evaporation",
          "xref": "x",
          "y": "cloud9am",
          "yref": "y"
         },
         {
          "font": {
           "color": "#FFFFFF"
          },
          "showarrow": false,
          "text": "-0.68",
          "x": "sunshine",
          "xref": "x",
          "y": "cloud9am",
          "yref": "y"
         },
         {
          "font": {
           "color": "#FFFFFF"
          },
          "showarrow": false,
          "text": "0.07",
          "x": "windgustspeed",
          "xref": "x",
          "y": "cloud9am",
          "yref": "y"
         },
         {
          "font": {
           "color": "#FFFFFF"
          },
          "showarrow": false,
          "text": "0.02",
          "x": "windspeed9am",
          "xref": "x",
          "y": "cloud9am",
          "yref": "y"
         },
         {
          "font": {
           "color": "#FFFFFF"
          },
          "showarrow": false,
          "text": "0.05",
          "x": "windspeed3pm",
          "xref": "x",
          "y": "cloud9am",
          "yref": "y"
         },
         {
          "font": {
           "color": "#000000"
          },
          "showarrow": false,
          "text": "0.45",
          "x": "humidity9am",
          "xref": "x",
          "y": "cloud9am",
          "yref": "y"
         },
         {
          "font": {
           "color": "#000000"
          },
          "showarrow": false,
          "text": "0.51",
          "x": "humidity3pm",
          "xref": "x",
          "y": "cloud9am",
          "yref": "y"
         },
         {
          "font": {
           "color": "#FFFFFF"
          },
          "showarrow": false,
          "text": "-0.13",
          "x": "pressure9am",
          "xref": "x",
          "y": "cloud9am",
          "yref": "y"
         },
         {
          "font": {
           "color": "#FFFFFF"
          },
          "showarrow": false,
          "text": "-0.06",
          "x": "pressure3pm",
          "xref": "x",
          "y": "cloud9am",
          "yref": "y"
         },
         {
          "font": {
           "color": "#000000"
          },
          "showarrow": false,
          "text": "1.0",
          "x": "cloud9am",
          "xref": "x",
          "y": "cloud9am",
          "yref": "y"
         },
         {
          "font": {
           "color": "#000000"
          },
          "showarrow": false,
          "text": "0.6",
          "x": "cloud3pm",
          "xref": "x",
          "y": "cloud9am",
          "yref": "y"
         },
         {
          "font": {
           "color": "#FFFFFF"
          },
          "showarrow": false,
          "text": "-0.14",
          "x": "temp9am",
          "xref": "x",
          "y": "cloud9am",
          "yref": "y"
         },
         {
          "font": {
           "color": "#FFFFFF"
          },
          "showarrow": false,
          "text": "-0.3",
          "x": "temp3pm",
          "xref": "x",
          "y": "cloud9am",
          "yref": "y"
         },
         {
          "font": {
           "color": "#000000"
          },
          "showarrow": false,
          "text": "0.31",
          "x": "raintoday",
          "xref": "x",
          "y": "cloud9am",
          "yref": "y"
         },
         {
          "font": {
           "color": "#000000"
          },
          "showarrow": false,
          "text": "0.32",
          "x": "raintomorrow",
          "xref": "x",
          "y": "cloud9am",
          "yref": "y"
         },
         {
          "font": {
           "color": "#FFFFFF"
          },
          "showarrow": false,
          "text": "0.02",
          "x": "mintemp",
          "xref": "x",
          "y": "cloud3pm",
          "yref": "y"
         },
         {
          "font": {
           "color": "#FFFFFF"
          },
          "showarrow": false,
          "text": "-0.28",
          "x": "maxtemp",
          "xref": "x",
          "y": "cloud3pm",
          "yref": "y"
         },
         {
          "font": {
           "color": "#000000"
          },
          "showarrow": false,
          "text": "0.17",
          "x": "rainfall",
          "xref": "x",
          "y": "cloud3pm",
          "yref": "y"
         },
         {
          "font": {
           "color": "#FFFFFF"
          },
          "showarrow": false,
          "text": "-0.18",
          "x": "evaporation",
          "xref": "x",
          "y": "cloud3pm",
          "yref": "y"
         },
         {
          "font": {
           "color": "#FFFFFF"
          },
          "showarrow": false,
          "text": "-0.7",
          "x": "sunshine",
          "xref": "x",
          "y": "cloud3pm",
          "yref": "y"
         },
         {
          "font": {
           "color": "#FFFFFF"
          },
          "showarrow": false,
          "text": "0.1",
          "x": "windgustspeed",
          "xref": "x",
          "y": "cloud3pm",
          "yref": "y"
         },
         {
          "font": {
           "color": "#FFFFFF"
          },
          "showarrow": false,
          "text": "0.05",
          "x": "windspeed9am",
          "xref": "x",
          "y": "cloud3pm",
          "yref": "y"
         },
         {
          "font": {
           "color": "#FFFFFF"
          },
          "showarrow": false,
          "text": "0.02",
          "x": "windspeed3pm",
          "xref": "x",
          "y": "cloud3pm",
          "yref": "y"
         },
         {
          "font": {
           "color": "#000000"
          },
          "showarrow": false,
          "text": "0.36",
          "x": "humidity9am",
          "xref": "x",
          "y": "cloud3pm",
          "yref": "y"
         },
         {
          "font": {
           "color": "#000000"
          },
          "showarrow": false,
          "text": "0.52",
          "x": "humidity3pm",
          "xref": "x",
          "y": "cloud3pm",
          "yref": "y"
         },
         {
          "font": {
           "color": "#FFFFFF"
          },
          "showarrow": false,
          "text": "-0.15",
          "x": "pressure9am",
          "xref": "x",
          "y": "cloud3pm",
          "yref": "y"
         },
         {
          "font": {
           "color": "#FFFFFF"
          },
          "showarrow": false,
          "text": "-0.08",
          "x": "pressure3pm",
          "xref": "x",
          "y": "cloud3pm",
          "yref": "y"
         },
         {
          "font": {
           "color": "#000000"
          },
          "showarrow": false,
          "text": "0.6",
          "x": "cloud9am",
          "xref": "x",
          "y": "cloud3pm",
          "yref": "y"
         },
         {
          "font": {
           "color": "#000000"
          },
          "showarrow": false,
          "text": "1.0",
          "x": "cloud3pm",
          "xref": "x",
          "y": "cloud3pm",
          "yref": "y"
         },
         {
          "font": {
           "color": "#FFFFFF"
          },
          "showarrow": false,
          "text": "-0.13",
          "x": "temp9am",
          "xref": "x",
          "y": "cloud3pm",
          "yref": "y"
         },
         {
          "font": {
           "color": "#FFFFFF"
          },
          "showarrow": false,
          "text": "-0.32",
          "x": "temp3pm",
          "xref": "x",
          "y": "cloud3pm",
          "yref": "y"
         },
         {
          "font": {
           "color": "#000000"
          },
          "showarrow": false,
          "text": "0.27",
          "x": "raintoday",
          "xref": "x",
          "y": "cloud3pm",
          "yref": "y"
         },
         {
          "font": {
           "color": "#000000"
          },
          "showarrow": false,
          "text": "0.38",
          "x": "raintomorrow",
          "xref": "x",
          "y": "cloud3pm",
          "yref": "y"
         },
         {
          "font": {
           "color": "#000000"
          },
          "showarrow": false,
          "text": "0.9",
          "x": "mintemp",
          "xref": "x",
          "y": "temp9am",
          "yref": "y"
         },
         {
          "font": {
           "color": "#000000"
          },
          "showarrow": false,
          "text": "0.89",
          "x": "maxtemp",
          "xref": "x",
          "y": "temp9am",
          "yref": "y"
         },
         {
          "font": {
           "color": "#FFFFFF"
          },
          "showarrow": false,
          "text": "0.01",
          "x": "rainfall",
          "xref": "x",
          "y": "temp9am",
          "yref": "y"
         },
         {
          "font": {
           "color": "#000000"
          },
          "showarrow": false,
          "text": "0.55",
          "x": "evaporation",
          "xref": "x",
          "y": "temp9am",
          "yref": "y"
         },
         {
          "font": {
           "color": "#000000"
          },
          "showarrow": false,
          "text": "0.29",
          "x": "sunshine",
          "xref": "x",
          "y": "temp9am",
          "yref": "y"
         },
         {
          "font": {
           "color": "#000000"
          },
          "showarrow": false,
          "text": "0.15",
          "x": "windgustspeed",
          "xref": "x",
          "y": "temp9am",
          "yref": "y"
         },
         {
          "font": {
           "color": "#FFFFFF"
          },
          "showarrow": false,
          "text": "0.13",
          "x": "windspeed9am",
          "xref": "x",
          "y": "temp9am",
          "yref": "y"
         },
         {
          "font": {
           "color": "#000000"
          },
          "showarrow": false,
          "text": "0.16",
          "x": "windspeed3pm",
          "xref": "x",
          "y": "temp9am",
          "yref": "y"
         },
         {
          "font": {
           "color": "#FFFFFF"
          },
          "showarrow": false,
          "text": "-0.48",
          "x": "humidity9am",
          "xref": "x",
          "y": "temp9am",
          "yref": "y"
         },
         {
          "font": {
           "color": "#FFFFFF"
          },
          "showarrow": false,
          "text": "-0.23",
          "x": "humidity3pm",
          "xref": "x",
          "y": "temp9am",
          "yref": "y"
         },
         {
          "font": {
           "color": "#FFFFFF"
          },
          "showarrow": false,
          "text": "-0.42",
          "x": "pressure9am",
          "xref": "x",
          "y": "temp9am",
          "yref": "y"
         },
         {
          "font": {
           "color": "#FFFFFF"
          },
          "showarrow": false,
          "text": "-0.46",
          "x": "pressure3pm",
          "xref": "x",
          "y": "temp9am",
          "yref": "y"
         },
         {
          "font": {
           "color": "#FFFFFF"
          },
          "showarrow": false,
          "text": "-0.14",
          "x": "cloud9am",
          "xref": "x",
          "y": "temp9am",
          "yref": "y"
         },
         {
          "font": {
           "color": "#FFFFFF"
          },
          "showarrow": false,
          "text": "-0.13",
          "x": "cloud3pm",
          "xref": "x",
          "y": "temp9am",
          "yref": "y"
         },
         {
          "font": {
           "color": "#000000"
          },
          "showarrow": false,
          "text": "1.0",
          "x": "temp9am",
          "xref": "x",
          "y": "temp9am",
          "yref": "y"
         },
         {
          "font": {
           "color": "#000000"
          },
          "showarrow": false,
          "text": "0.86",
          "x": "temp3pm",
          "xref": "x",
          "y": "temp9am",
          "yref": "y"
         },
         {
          "font": {
           "color": "#FFFFFF"
          },
          "showarrow": false,
          "text": "-0.1",
          "x": "raintoday",
          "xref": "x",
          "y": "temp9am",
          "yref": "y"
         },
         {
          "font": {
           "color": "#FFFFFF"
          },
          "showarrow": false,
          "text": "-0.03",
          "x": "raintomorrow",
          "xref": "x",
          "y": "temp9am",
          "yref": "y"
         },
         {
          "font": {
           "color": "#000000"
          },
          "showarrow": false,
          "text": "0.71",
          "x": "mintemp",
          "xref": "x",
          "y": "temp3pm",
          "yref": "y"
         },
         {
          "font": {
           "color": "#000000"
          },
          "showarrow": false,
          "text": "0.98",
          "x": "maxtemp",
          "xref": "x",
          "y": "temp3pm",
          "yref": "y"
         },
         {
          "font": {
           "color": "#FFFFFF"
          },
          "showarrow": false,
          "text": "-0.08",
          "x": "rainfall",
          "xref": "x",
          "y": "temp3pm",
          "yref": "y"
         },
         {
          "font": {
           "color": "#000000"
          },
          "showarrow": false,
          "text": "0.57",
          "x": "evaporation",
          "xref": "x",
          "y": "temp3pm",
          "yref": "y"
         },
         {
          "font": {
           "color": "#000000"
          },
          "showarrow": false,
          "text": "0.49",
          "x": "sunshine",
          "xref": "x",
          "y": "temp3pm",
          "yref": "y"
         },
         {
          "font": {
           "color": "#FFFFFF"
          },
          "showarrow": false,
          "text": "0.03",
          "x": "windgustspeed",
          "xref": "x",
          "y": "temp3pm",
          "yref": "y"
         },
         {
          "font": {
           "color": "#FFFFFF"
          },
          "showarrow": false,
          "text": "0.0",
          "x": "windspeed9am",
          "xref": "x",
          "y": "temp3pm",
          "yref": "y"
         },
         {
          "font": {
           "color": "#FFFFFF"
          },
          "showarrow": false,
          "text": "0.03",
          "x": "windspeed3pm",
          "xref": "x",
          "y": "temp3pm",
          "yref": "y"
         },
         {
          "font": {
           "color": "#FFFFFF"
          },
          "showarrow": false,
          "text": "-0.5",
          "x": "humidity9am",
          "xref": "x",
          "y": "temp3pm",
          "yref": "y"
         },
         {
          "font": {
           "color": "#FFFFFF"
          },
          "showarrow": false,
          "text": "-0.56",
          "x": "humidity3pm",
          "xref": "x",
          "y": "temp3pm",
          "yref": "y"
         },
         {
          "font": {
           "color": "#FFFFFF"
          },
          "showarrow": false,
          "text": "-0.29",
          "x": "pressure9am",
          "xref": "x",
          "y": "temp3pm",
          "yref": "y"
         },
         {
          "font": {
           "color": "#FFFFFF"
          },
          "showarrow": false,
          "text": "-0.39",
          "x": "pressure3pm",
          "xref": "x",
          "y": "temp3pm",
          "yref": "y"
         },
         {
          "font": {
           "color": "#FFFFFF"
          },
          "showarrow": false,
          "text": "-0.3",
          "x": "cloud9am",
          "xref": "x",
          "y": "temp3pm",
          "yref": "y"
         },
         {
          "font": {
           "color": "#FFFFFF"
          },
          "showarrow": false,
          "text": "-0.32",
          "x": "cloud3pm",
          "xref": "x",
          "y": "temp3pm",
          "yref": "y"
         },
         {
          "font": {
           "color": "#000000"
          },
          "showarrow": false,
          "text": "0.86",
          "x": "temp9am",
          "xref": "x",
          "y": "temp3pm",
          "yref": "y"
         },
         {
          "font": {
           "color": "#000000"
          },
          "showarrow": false,
          "text": "1.0",
          "x": "temp3pm",
          "xref": "x",
          "y": "temp3pm",
          "yref": "y"
         },
         {
          "font": {
           "color": "#FFFFFF"
          },
          "showarrow": false,
          "text": "-0.23",
          "x": "raintoday",
          "xref": "x",
          "y": "temp3pm",
          "yref": "y"
         },
         {
          "font": {
           "color": "#FFFFFF"
          },
          "showarrow": false,
          "text": "-0.19",
          "x": "raintomorrow",
          "xref": "x",
          "y": "temp3pm",
          "yref": "y"
         },
         {
          "font": {
           "color": "#FFFFFF"
          },
          "showarrow": false,
          "text": "0.06",
          "x": "mintemp",
          "xref": "x",
          "y": "raintoday",
          "yref": "y"
         },
         {
          "font": {
           "color": "#FFFFFF"
          },
          "showarrow": false,
          "text": "-0.23",
          "x": "maxtemp",
          "xref": "x",
          "y": "raintoday",
          "yref": "y"
         },
         {
          "font": {
           "color": "#000000"
          },
          "showarrow": false,
          "text": "0.5",
          "x": "rainfall",
          "xref": "x",
          "y": "raintoday",
          "yref": "y"
         },
         {
          "font": {
           "color": "#FFFFFF"
          },
          "showarrow": false,
          "text": "-0.19",
          "x": "evaporation",
          "xref": "x",
          "y": "raintoday",
          "yref": "y"
         },
         {
          "font": {
           "color": "#FFFFFF"
          },
          "showarrow": false,
          "text": "-0.33",
          "x": "sunshine",
          "xref": "x",
          "y": "raintoday",
          "yref": "y"
         },
         {
          "font": {
           "color": "#000000"
          },
          "showarrow": false,
          "text": "0.15",
          "x": "windgustspeed",
          "xref": "x",
          "y": "raintoday",
          "yref": "y"
         },
         {
          "font": {
           "color": "#FFFFFF"
          },
          "showarrow": false,
          "text": "0.1",
          "x": "windspeed9am",
          "xref": "x",
          "y": "raintoday",
          "yref": "y"
         },
         {
          "font": {
           "color": "#FFFFFF"
          },
          "showarrow": false,
          "text": "0.08",
          "x": "windspeed3pm",
          "xref": "x",
          "y": "raintoday",
          "yref": "y"
         },
         {
          "font": {
           "color": "#000000"
          },
          "showarrow": false,
          "text": "0.35",
          "x": "humidity9am",
          "xref": "x",
          "y": "raintoday",
          "yref": "y"
         },
         {
          "font": {
           "color": "#000000"
          },
          "showarrow": false,
          "text": "0.38",
          "x": "humidity3pm",
          "xref": "x",
          "y": "raintoday",
          "yref": "y"
         },
         {
          "font": {
           "color": "#FFFFFF"
          },
          "showarrow": false,
          "text": "-0.18",
          "x": "pressure9am",
          "xref": "x",
          "y": "raintoday",
          "yref": "y"
         },
         {
          "font": {
           "color": "#FFFFFF"
          },
          "showarrow": false,
          "text": "-0.1",
          "x": "pressure3pm",
          "xref": "x",
          "y": "raintoday",
          "yref": "y"
         },
         {
          "font": {
           "color": "#000000"
          },
          "showarrow": false,
          "text": "0.31",
          "x": "cloud9am",
          "xref": "x",
          "y": "raintoday",
          "yref": "y"
         },
         {
          "font": {
           "color": "#000000"
          },
          "showarrow": false,
          "text": "0.27",
          "x": "cloud3pm",
          "xref": "x",
          "y": "raintoday",
          "yref": "y"
         },
         {
          "font": {
           "color": "#FFFFFF"
          },
          "showarrow": false,
          "text": "-0.1",
          "x": "temp9am",
          "xref": "x",
          "y": "raintoday",
          "yref": "y"
         },
         {
          "font": {
           "color": "#FFFFFF"
          },
          "showarrow": false,
          "text": "-0.23",
          "x": "temp3pm",
          "xref": "x",
          "y": "raintoday",
          "yref": "y"
         },
         {
          "font": {
           "color": "#000000"
          },
          "showarrow": false,
          "text": "1.0",
          "x": "raintoday",
          "xref": "x",
          "y": "raintoday",
          "yref": "y"
         },
         {
          "font": {
           "color": "#000000"
          },
          "showarrow": false,
          "text": "0.31",
          "x": "raintomorrow",
          "xref": "x",
          "y": "raintoday",
          "yref": "y"
         },
         {
          "font": {
           "color": "#FFFFFF"
          },
          "showarrow": false,
          "text": "0.08",
          "x": "mintemp",
          "xref": "x",
          "y": "raintomorrow",
          "yref": "y"
         },
         {
          "font": {
           "color": "#FFFFFF"
          },
          "showarrow": false,
          "text": "-0.16",
          "x": "maxtemp",
          "xref": "x",
          "y": "raintomorrow",
          "yref": "y"
         },
         {
          "font": {
           "color": "#000000"
          },
          "showarrow": false,
          "text": "0.24",
          "x": "rainfall",
          "xref": "x",
          "y": "raintomorrow",
          "yref": "y"
         },
         {
          "font": {
           "color": "#FFFFFF"
          },
          "showarrow": false,
          "text": "-0.12",
          "x": "evaporation",
          "xref": "x",
          "y": "raintomorrow",
          "yref": "y"
         },
         {
          "font": {
           "color": "#FFFFFF"
          },
          "showarrow": false,
          "text": "-0.45",
          "x": "sunshine",
          "xref": "x",
          "y": "raintomorrow",
          "yref": "y"
         },
         {
          "font": {
           "color": "#000000"
          },
          "showarrow": false,
          "text": "0.22",
          "x": "windgustspeed",
          "xref": "x",
          "y": "raintomorrow",
          "yref": "y"
         },
         {
          "font": {
           "color": "#FFFFFF"
          },
          "showarrow": false,
          "text": "0.09",
          "x": "windspeed9am",
          "xref": "x",
          "y": "raintomorrow",
          "yref": "y"
         },
         {
          "font": {
           "color": "#FFFFFF"
          },
          "showarrow": false,
          "text": "0.08",
          "x": "windspeed3pm",
          "xref": "x",
          "y": "raintomorrow",
          "yref": "y"
         },
         {
          "font": {
           "color": "#000000"
          },
          "showarrow": false,
          "text": "0.26",
          "x": "humidity9am",
          "xref": "x",
          "y": "raintomorrow",
          "yref": "y"
         },
         {
          "font": {
           "color": "#000000"
          },
          "showarrow": false,
          "text": "0.44",
          "x": "humidity3pm",
          "xref": "x",
          "y": "raintomorrow",
          "yref": "y"
         },
         {
          "font": {
           "color": "#FFFFFF"
          },
          "showarrow": false,
          "text": "-0.23",
          "x": "pressure9am",
          "xref": "x",
          "y": "raintomorrow",
          "yref": "y"
         },
         {
          "font": {
           "color": "#FFFFFF"
          },
          "showarrow": false,
          "text": "-0.21",
          "x": "pressure3pm",
          "xref": "x",
          "y": "raintomorrow",
          "yref": "y"
         },
         {
          "font": {
           "color": "#000000"
          },
          "showarrow": false,
          "text": "0.32",
          "x": "cloud9am",
          "xref": "x",
          "y": "raintomorrow",
          "yref": "y"
         },
         {
          "font": {
           "color": "#000000"
          },
          "showarrow": false,
          "text": "0.38",
          "x": "cloud3pm",
          "xref": "x",
          "y": "raintomorrow",
          "yref": "y"
         },
         {
          "font": {
           "color": "#FFFFFF"
          },
          "showarrow": false,
          "text": "-0.03",
          "x": "temp9am",
          "xref": "x",
          "y": "raintomorrow",
          "yref": "y"
         },
         {
          "font": {
           "color": "#FFFFFF"
          },
          "showarrow": false,
          "text": "-0.19",
          "x": "temp3pm",
          "xref": "x",
          "y": "raintomorrow",
          "yref": "y"
         },
         {
          "font": {
           "color": "#000000"
          },
          "showarrow": false,
          "text": "0.31",
          "x": "raintoday",
          "xref": "x",
          "y": "raintomorrow",
          "yref": "y"
         },
         {
          "font": {
           "color": "#000000"
          },
          "showarrow": false,
          "text": "1.0",
          "x": "raintomorrow",
          "xref": "x",
          "y": "raintomorrow",
          "yref": "y"
         }
        ],
        "template": {
         "data": {
          "bar": [
           {
            "error_x": {
             "color": "#2a3f5f"
            },
            "error_y": {
             "color": "#2a3f5f"
            },
            "marker": {
             "line": {
              "color": "#E5ECF6",
              "width": 0.5
             },
             "pattern": {
              "fillmode": "overlay",
              "size": 10,
              "solidity": 0.2
             }
            },
            "type": "bar"
           }
          ],
          "barpolar": [
           {
            "marker": {
             "line": {
              "color": "#E5ECF6",
              "width": 0.5
             },
             "pattern": {
              "fillmode": "overlay",
              "size": 10,
              "solidity": 0.2
             }
            },
            "type": "barpolar"
           }
          ],
          "carpet": [
           {
            "aaxis": {
             "endlinecolor": "#2a3f5f",
             "gridcolor": "white",
             "linecolor": "white",
             "minorgridcolor": "white",
             "startlinecolor": "#2a3f5f"
            },
            "baxis": {
             "endlinecolor": "#2a3f5f",
             "gridcolor": "white",
             "linecolor": "white",
             "minorgridcolor": "white",
             "startlinecolor": "#2a3f5f"
            },
            "type": "carpet"
           }
          ],
          "choropleth": [
           {
            "colorbar": {
             "outlinewidth": 0,
             "ticks": ""
            },
            "type": "choropleth"
           }
          ],
          "contour": [
           {
            "colorbar": {
             "outlinewidth": 0,
             "ticks": ""
            },
            "colorscale": [
             [
              0,
              "#0d0887"
             ],
             [
              0.1111111111111111,
              "#46039f"
             ],
             [
              0.2222222222222222,
              "#7201a8"
             ],
             [
              0.3333333333333333,
              "#9c179e"
             ],
             [
              0.4444444444444444,
              "#bd3786"
             ],
             [
              0.5555555555555556,
              "#d8576b"
             ],
             [
              0.6666666666666666,
              "#ed7953"
             ],
             [
              0.7777777777777778,
              "#fb9f3a"
             ],
             [
              0.8888888888888888,
              "#fdca26"
             ],
             [
              1,
              "#f0f921"
             ]
            ],
            "type": "contour"
           }
          ],
          "contourcarpet": [
           {
            "colorbar": {
             "outlinewidth": 0,
             "ticks": ""
            },
            "type": "contourcarpet"
           }
          ],
          "heatmap": [
           {
            "colorbar": {
             "outlinewidth": 0,
             "ticks": ""
            },
            "colorscale": [
             [
              0,
              "#0d0887"
             ],
             [
              0.1111111111111111,
              "#46039f"
             ],
             [
              0.2222222222222222,
              "#7201a8"
             ],
             [
              0.3333333333333333,
              "#9c179e"
             ],
             [
              0.4444444444444444,
              "#bd3786"
             ],
             [
              0.5555555555555556,
              "#d8576b"
             ],
             [
              0.6666666666666666,
              "#ed7953"
             ],
             [
              0.7777777777777778,
              "#fb9f3a"
             ],
             [
              0.8888888888888888,
              "#fdca26"
             ],
             [
              1,
              "#f0f921"
             ]
            ],
            "type": "heatmap"
           }
          ],
          "heatmapgl": [
           {
            "colorbar": {
             "outlinewidth": 0,
             "ticks": ""
            },
            "colorscale": [
             [
              0,
              "#0d0887"
             ],
             [
              0.1111111111111111,
              "#46039f"
             ],
             [
              0.2222222222222222,
              "#7201a8"
             ],
             [
              0.3333333333333333,
              "#9c179e"
             ],
             [
              0.4444444444444444,
              "#bd3786"
             ],
             [
              0.5555555555555556,
              "#d8576b"
             ],
             [
              0.6666666666666666,
              "#ed7953"
             ],
             [
              0.7777777777777778,
              "#fb9f3a"
             ],
             [
              0.8888888888888888,
              "#fdca26"
             ],
             [
              1,
              "#f0f921"
             ]
            ],
            "type": "heatmapgl"
           }
          ],
          "histogram": [
           {
            "marker": {
             "pattern": {
              "fillmode": "overlay",
              "size": 10,
              "solidity": 0.2
             }
            },
            "type": "histogram"
           }
          ],
          "histogram2d": [
           {
            "colorbar": {
             "outlinewidth": 0,
             "ticks": ""
            },
            "colorscale": [
             [
              0,
              "#0d0887"
             ],
             [
              0.1111111111111111,
              "#46039f"
             ],
             [
              0.2222222222222222,
              "#7201a8"
             ],
             [
              0.3333333333333333,
              "#9c179e"
             ],
             [
              0.4444444444444444,
              "#bd3786"
             ],
             [
              0.5555555555555556,
              "#d8576b"
             ],
             [
              0.6666666666666666,
              "#ed7953"
             ],
             [
              0.7777777777777778,
              "#fb9f3a"
             ],
             [
              0.8888888888888888,
              "#fdca26"
             ],
             [
              1,
              "#f0f921"
             ]
            ],
            "type": "histogram2d"
           }
          ],
          "histogram2dcontour": [
           {
            "colorbar": {
             "outlinewidth": 0,
             "ticks": ""
            },
            "colorscale": [
             [
              0,
              "#0d0887"
             ],
             [
              0.1111111111111111,
              "#46039f"
             ],
             [
              0.2222222222222222,
              "#7201a8"
             ],
             [
              0.3333333333333333,
              "#9c179e"
             ],
             [
              0.4444444444444444,
              "#bd3786"
             ],
             [
              0.5555555555555556,
              "#d8576b"
             ],
             [
              0.6666666666666666,
              "#ed7953"
             ],
             [
              0.7777777777777778,
              "#fb9f3a"
             ],
             [
              0.8888888888888888,
              "#fdca26"
             ],
             [
              1,
              "#f0f921"
             ]
            ],
            "type": "histogram2dcontour"
           }
          ],
          "mesh3d": [
           {
            "colorbar": {
             "outlinewidth": 0,
             "ticks": ""
            },
            "type": "mesh3d"
           }
          ],
          "parcoords": [
           {
            "line": {
             "colorbar": {
              "outlinewidth": 0,
              "ticks": ""
             }
            },
            "type": "parcoords"
           }
          ],
          "pie": [
           {
            "automargin": true,
            "type": "pie"
           }
          ],
          "scatter": [
           {
            "marker": {
             "colorbar": {
              "outlinewidth": 0,
              "ticks": ""
             }
            },
            "type": "scatter"
           }
          ],
          "scatter3d": [
           {
            "line": {
             "colorbar": {
              "outlinewidth": 0,
              "ticks": ""
             }
            },
            "marker": {
             "colorbar": {
              "outlinewidth": 0,
              "ticks": ""
             }
            },
            "type": "scatter3d"
           }
          ],
          "scattercarpet": [
           {
            "marker": {
             "colorbar": {
              "outlinewidth": 0,
              "ticks": ""
             }
            },
            "type": "scattercarpet"
           }
          ],
          "scattergeo": [
           {
            "marker": {
             "colorbar": {
              "outlinewidth": 0,
              "ticks": ""
             }
            },
            "type": "scattergeo"
           }
          ],
          "scattergl": [
           {
            "marker": {
             "colorbar": {
              "outlinewidth": 0,
              "ticks": ""
             }
            },
            "type": "scattergl"
           }
          ],
          "scattermapbox": [
           {
            "marker": {
             "colorbar": {
              "outlinewidth": 0,
              "ticks": ""
             }
            },
            "type": "scattermapbox"
           }
          ],
          "scatterpolar": [
           {
            "marker": {
             "colorbar": {
              "outlinewidth": 0,
              "ticks": ""
             }
            },
            "type": "scatterpolar"
           }
          ],
          "scatterpolargl": [
           {
            "marker": {
             "colorbar": {
              "outlinewidth": 0,
              "ticks": ""
             }
            },
            "type": "scatterpolargl"
           }
          ],
          "scatterternary": [
           {
            "marker": {
             "colorbar": {
              "outlinewidth": 0,
              "ticks": ""
             }
            },
            "type": "scatterternary"
           }
          ],
          "surface": [
           {
            "colorbar": {
             "outlinewidth": 0,
             "ticks": ""
            },
            "colorscale": [
             [
              0,
              "#0d0887"
             ],
             [
              0.1111111111111111,
              "#46039f"
             ],
             [
              0.2222222222222222,
              "#7201a8"
             ],
             [
              0.3333333333333333,
              "#9c179e"
             ],
             [
              0.4444444444444444,
              "#bd3786"
             ],
             [
              0.5555555555555556,
              "#d8576b"
             ],
             [
              0.6666666666666666,
              "#ed7953"
             ],
             [
              0.7777777777777778,
              "#fb9f3a"
             ],
             [
              0.8888888888888888,
              "#fdca26"
             ],
             [
              1,
              "#f0f921"
             ]
            ],
            "type": "surface"
           }
          ],
          "table": [
           {
            "cells": {
             "fill": {
              "color": "#EBF0F8"
             },
             "line": {
              "color": "white"
             }
            },
            "header": {
             "fill": {
              "color": "#C8D4E3"
             },
             "line": {
              "color": "white"
             }
            },
            "type": "table"
           }
          ]
         },
         "layout": {
          "annotationdefaults": {
           "arrowcolor": "#2a3f5f",
           "arrowhead": 0,
           "arrowwidth": 1
          },
          "autotypenumbers": "strict",
          "coloraxis": {
           "colorbar": {
            "outlinewidth": 0,
            "ticks": ""
           }
          },
          "colorscale": {
           "diverging": [
            [
             0,
             "#8e0152"
            ],
            [
             0.1,
             "#c51b7d"
            ],
            [
             0.2,
             "#de77ae"
            ],
            [
             0.3,
             "#f1b6da"
            ],
            [
             0.4,
             "#fde0ef"
            ],
            [
             0.5,
             "#f7f7f7"
            ],
            [
             0.6,
             "#e6f5d0"
            ],
            [
             0.7,
             "#b8e186"
            ],
            [
             0.8,
             "#7fbc41"
            ],
            [
             0.9,
             "#4d9221"
            ],
            [
             1,
             "#276419"
            ]
           ],
           "sequential": [
            [
             0,
             "#0d0887"
            ],
            [
             0.1111111111111111,
             "#46039f"
            ],
            [
             0.2222222222222222,
             "#7201a8"
            ],
            [
             0.3333333333333333,
             "#9c179e"
            ],
            [
             0.4444444444444444,
             "#bd3786"
            ],
            [
             0.5555555555555556,
             "#d8576b"
            ],
            [
             0.6666666666666666,
             "#ed7953"
            ],
            [
             0.7777777777777778,
             "#fb9f3a"
            ],
            [
             0.8888888888888888,
             "#fdca26"
            ],
            [
             1,
             "#f0f921"
            ]
           ],
           "sequentialminus": [
            [
             0,
             "#0d0887"
            ],
            [
             0.1111111111111111,
             "#46039f"
            ],
            [
             0.2222222222222222,
             "#7201a8"
            ],
            [
             0.3333333333333333,
             "#9c179e"
            ],
            [
             0.4444444444444444,
             "#bd3786"
            ],
            [
             0.5555555555555556,
             "#d8576b"
            ],
            [
             0.6666666666666666,
             "#ed7953"
            ],
            [
             0.7777777777777778,
             "#fb9f3a"
            ],
            [
             0.8888888888888888,
             "#fdca26"
            ],
            [
             1,
             "#f0f921"
            ]
           ]
          },
          "colorway": [
           "#636efa",
           "#EF553B",
           "#00cc96",
           "#ab63fa",
           "#FFA15A",
           "#19d3f3",
           "#FF6692",
           "#B6E880",
           "#FF97FF",
           "#FECB52"
          ],
          "font": {
           "color": "#2a3f5f"
          },
          "geo": {
           "bgcolor": "white",
           "lakecolor": "white",
           "landcolor": "#E5ECF6",
           "showlakes": true,
           "showland": true,
           "subunitcolor": "white"
          },
          "hoverlabel": {
           "align": "left"
          },
          "hovermode": "closest",
          "mapbox": {
           "style": "light"
          },
          "paper_bgcolor": "white",
          "plot_bgcolor": "#E5ECF6",
          "polar": {
           "angularaxis": {
            "gridcolor": "white",
            "linecolor": "white",
            "ticks": ""
           },
           "bgcolor": "#E5ECF6",
           "radialaxis": {
            "gridcolor": "white",
            "linecolor": "white",
            "ticks": ""
           }
          },
          "scene": {
           "xaxis": {
            "backgroundcolor": "#E5ECF6",
            "gridcolor": "white",
            "gridwidth": 2,
            "linecolor": "white",
            "showbackground": true,
            "ticks": "",
            "zerolinecolor": "white"
           },
           "yaxis": {
            "backgroundcolor": "#E5ECF6",
            "gridcolor": "white",
            "gridwidth": 2,
            "linecolor": "white",
            "showbackground": true,
            "ticks": "",
            "zerolinecolor": "white"
           },
           "zaxis": {
            "backgroundcolor": "#E5ECF6",
            "gridcolor": "white",
            "gridwidth": 2,
            "linecolor": "white",
            "showbackground": true,
            "ticks": "",
            "zerolinecolor": "white"
           }
          },
          "shapedefaults": {
           "line": {
            "color": "#2a3f5f"
           }
          },
          "ternary": {
           "aaxis": {
            "gridcolor": "white",
            "linecolor": "white",
            "ticks": ""
           },
           "baxis": {
            "gridcolor": "white",
            "linecolor": "white",
            "ticks": ""
           },
           "bgcolor": "#E5ECF6",
           "caxis": {
            "gridcolor": "white",
            "linecolor": "white",
            "ticks": ""
           }
          },
          "title": {
           "x": 0.05
          },
          "xaxis": {
           "automargin": true,
           "gridcolor": "white",
           "linecolor": "white",
           "ticks": "",
           "title": {
            "standoff": 15
           },
           "zerolinecolor": "white",
           "zerolinewidth": 2
          },
          "yaxis": {
           "automargin": true,
           "gridcolor": "white",
           "linecolor": "white",
           "ticks": "",
           "title": {
            "standoff": 15
           },
           "zerolinecolor": "white",
           "zerolinewidth": 2
          }
         }
        },
        "xaxis": {
         "dtick": 1,
         "gridcolor": "rgb(0, 0, 0)",
         "side": "top",
         "ticks": ""
        },
        "yaxis": {
         "dtick": 1,
         "ticks": "",
         "ticksuffix": "  "
        }
       }
      },
      "text/html": [
       "<div>                            <div id=\"dd73200f-6576-4a14-aa06-491c35a09ace\" class=\"plotly-graph-div\" style=\"height:525px; width:100%;\"></div>            <script type=\"text/javascript\">                require([\"plotly\"], function(Plotly) {                    window.PLOTLYENV=window.PLOTLYENV || {};                                    if (document.getElementById(\"dd73200f-6576-4a14-aa06-491c35a09ace\")) {                    Plotly.newPlot(                        \"dd73200f-6576-4a14-aa06-491c35a09ace\",                        [{\"colorscale\":[[0.0,\"#0d0887\"],[0.1111111111111111,\"#46039f\"],[0.2222222222222222,\"#7201a8\"],[0.3333333333333333,\"#9c179e\"],[0.4444444444444444,\"#bd3786\"],[0.5555555555555556,\"#d8576b\"],[0.6666666666666666,\"#ed7953\"],[0.7777777777777778,\"#fb9f3a\"],[0.8888888888888888,\"#fdca26\"],[1.0,\"#f0f921\"]],\"reversescale\":false,\"showscale\":true,\"x\":[\"mintemp\",\"maxtemp\",\"rainfall\",\"evaporation\",\"sunshine\",\"windgustspeed\",\"windspeed9am\",\"windspeed3pm\",\"humidity9am\",\"humidity3pm\",\"pressure9am\",\"pressure3pm\",\"cloud9am\",\"cloud3pm\",\"temp9am\",\"temp3pm\",\"raintoday\",\"raintomorrow\"],\"y\":[\"mintemp\",\"maxtemp\",\"rainfall\",\"evaporation\",\"sunshine\",\"windgustspeed\",\"windspeed9am\",\"windspeed3pm\",\"humidity9am\",\"humidity3pm\",\"pressure9am\",\"pressure3pm\",\"cloud9am\",\"cloud3pm\",\"temp9am\",\"temp3pm\",\"raintoday\",\"raintomorrow\"],\"z\":[[1.0,0.7362296442381483,0.10363206228425188,0.467249535116464,0.07328438150673412,0.1778881778579193,0.1745581553423355,0.17303985358670057,-0.2383142100451945,-0.0013644245521134907,-0.44585761434006593,-0.45512854310186623,0.07741260689315839,0.020215401393339244,0.9019000809393397,0.7121040383342253,0.055629078495011475,0.08368853703106902],[0.7362296442381483,1.0,-0.07442761127483737,0.5888528412184731,0.4702806475585346,0.07266391016588636,0.014238812155080188,0.051115828608019255,-0.5082542204709396,-0.5112596045816002,-0.33285835380080275,-0.4203344981492593,-0.2895494746778114,-0.2789570879421287,0.8873402725273731,0.9829242657100036,-0.2287339961551279,-0.1594640050732691],[0.10363206228425188,-0.07442761127483737,1.0,-0.06455203121696658,-0.22752347340154638,0.1268777562312712,0.08651874635408591,0.0557539519143062,0.2227482279050915,0.2514033796427107,-0.15959600110991398,-0.12052697465063819,0.198203901255445,0.17200281590490565,0.009806854733428657,-0.0758577404860979,0.5009995808789619,0.2390315996231579],[0.467249535116464,0.5888528412184731,-0.06455203121696658,1.0,0.3666485742204689,0.20434860616451805,0.19210761955931197,0.12943961514661187,-0.5058620577559654,-0.3925375472741512,-0.27023705472056125,-0.2935666045645041,-0.18526623845123694,-0.1844321497108703,0.5455477319499644,0.5710842976487519,-0.18800620909411186,-0.11911799182000377],[0.07328438150673412,0.4702806475585346,-0.22752347340154638,0.3666485742204689,1.0,-0.026653919769333807,0.009364710789348156,0.05670292747107662,-0.49374673245890294,-0.6285507071357496,0.04083759930456318,-0.020500145657103,-0.6758945308309292,-0.7046709564304416,0.29180930101976243,0.48983989544988565,-0.33064065800753834,-0.45181698878598214],[0.1778881778579193,0.07266391016588636,0.1268777562312712,0.20434860616451805,-0.026653919769333807,1.0,0.5805711058796619,0.6607154744536755,-0.21301780194026687,-0.027626970462448015,-0.4317145239625112,-0.39099343744521825,0.06833318501939528,0.10390893599480948,0.15077072401875546,0.034958514612960276,0.14766859365457233,0.22328906739283702],[0.1745581553423355,0.014238812155080188,0.08651874635408591,0.19210761955931197,0.009364710789348156,0.5805711058796619,1.0,0.5162020064163516,-0.2700268171444535,-0.03160471255599042,-0.2176027893186062,-0.16852069642862164,0.02407608130915124,0.053187611646754486,0.1273749854256438,0.0008056354806125647,0.10221185108444931,0.08951556920120904],[0.17303985358670057,0.051115828608019255,0.0557539519143062,0.12943961514661187,0.05670292747107662,0.6607154744536755,0.5162020064163516,1.0,-0.14859563027333852,0.014064699788526546,-0.2842361963045031,-0.24782575680623342,0.05272824388925886,0.02472177395778233,0.16298399619206508,0.026512687344254496,0.07786723396900506,0.0845988365277651],[-0.2383142100451945,-0.5082542204709396,0.2227482279050915,-0.5058620577559654,-0.49374673245890294,-0.21301780194026687,-0.2700268171444535,-0.14859563027333852,1.0,0.6672836546106365,0.1431794260832363,0.18844263426807073,0.45137956749346586,0.35798773451924926,-0.4760094039976266,-0.49883276473643645,0.3522304259356222,0.257579013037697],[-0.0013644245521134907,-0.5112596045816002,0.2514033796427107,-0.3925375472741512,-0.6285507071357496,-0.027626970462448015,-0.03160471255599042,0.014064699788526546,0.6672836546106365,1.0,-0.013360304899455503,0.062335891010897614,0.5141414345376782,0.522902907857587,-0.22991074794027075,-0.5601817362867979,0.3757365181331721,0.443403399008694],[-0.44585761434006593,-0.33285835380080275,-0.15959600110991398,-0.27023705472056125,0.04083759930456318,-0.4317145239625112,-0.2176027893186062,-0.2842361963045031,0.1431794260832363,-0.013360304899455503,1.0,0.9609120089873616,-0.1291039989595224,-0.14626966168799355,-0.4187267492524272,-0.2934545939232159,-0.17820525824833083,-0.23342820809550366],[-0.45512854310186623,-0.4203344981492593,-0.12052697465063819,-0.2935666045645041,-0.020500145657103,-0.39099343744521825,-0.16852069642862164,-0.24782575680623342,0.18844263426807073,0.062335891010897614,0.9609120089873616,1.0,-0.06185098986528307,-0.08436194160863777,-0.4626621665851721,-0.3888073955411941,-0.09958894964368194,-0.2144763466070996],[0.07741260689315839,-0.2895494746778114,0.198203901255445,-0.18526623845123694,-0.6758945308309292,0.06833318501939528,0.02407608130915124,0.05272824388925886,0.45137956749346586,0.5141414345376782,-0.1291039989595224,-0.06185098986528307,1.0,0.6046637177230132,-0.13850528047676125,-0.3017839498406029,0.3059465852272222,0.31662663167825317],[0.020215401393339244,-0.2789570879421287,0.17200281590490565,-0.1844321497108703,-0.7046709564304416,0.10390893599480948,0.053187611646754486,0.02472177395778233,0.35798773451924926,0.522902907857587,-0.14626966168799355,-0.08436194160863777,0.6046637177230132,1.0,-0.12836658316607197,-0.31839066404348426,0.272182492085142,0.3824332461541417],[0.9019000809393397,0.8873402725273731,0.009806854733428657,0.5455477319499644,0.29180930101976243,0.15077072401875546,0.1273749854256438,0.16298399619206508,-0.4760094039976266,-0.22991074794027075,-0.4187267492524272,-0.4626621665851721,-0.13850528047676125,-0.12836658316607197,1.0,0.8623988752408572,-0.09836474413648151,-0.027321954421630212],[0.7121040383342253,0.9829242657100036,-0.0758577404860979,0.5710842976487519,0.48983989544988565,0.034958514612960276,0.0008056354806125647,0.026512687344254496,-0.49883276473643645,-0.5601817362867979,-0.2934545939232159,-0.3888073955411941,-0.3017839498406029,-0.31839066404348426,0.8623988752408572,1.0,-0.23223153155428422,-0.19135010937454908],[0.055629078495011475,-0.2287339961551279,0.5009995808789619,-0.18800620909411186,-0.33064065800753834,0.14766859365457233,0.10221185108444931,0.07786723396900506,0.3522304259356222,0.3757365181331721,-0.17820525824833083,-0.09958894964368194,0.3059465852272222,0.272182492085142,-0.09836474413648151,-0.23223153155428422,1.0,0.31310520050417356],[0.08368853703106902,-0.1594640050732691,0.2390315996231579,-0.11911799182000377,-0.45181698878598214,0.22328906739283702,0.08951556920120904,0.0845988365277651,0.257579013037697,0.443403399008694,-0.23342820809550366,-0.2144763466070996,0.31662663167825317,0.3824332461541417,-0.027321954421630212,-0.19135010937454908,0.31310520050417356,1.0]],\"type\":\"heatmap\"}],                        {\"annotations\":[{\"font\":{\"color\":\"#000000\"},\"showarrow\":false,\"text\":\"1.0\",\"x\":\"mintemp\",\"xref\":\"x\",\"y\":\"mintemp\",\"yref\":\"y\"},{\"font\":{\"color\":\"#000000\"},\"showarrow\":false,\"text\":\"0.74\",\"x\":\"maxtemp\",\"xref\":\"x\",\"y\":\"mintemp\",\"yref\":\"y\"},{\"font\":{\"color\":\"#FFFFFF\"},\"showarrow\":false,\"text\":\"0.1\",\"x\":\"rainfall\",\"xref\":\"x\",\"y\":\"mintemp\",\"yref\":\"y\"},{\"font\":{\"color\":\"#000000\"},\"showarrow\":false,\"text\":\"0.47\",\"x\":\"evaporation\",\"xref\":\"x\",\"y\":\"mintemp\",\"yref\":\"y\"},{\"font\":{\"color\":\"#FFFFFF\"},\"showarrow\":false,\"text\":\"0.07\",\"x\":\"sunshine\",\"xref\":\"x\",\"y\":\"mintemp\",\"yref\":\"y\"},{\"font\":{\"color\":\"#000000\"},\"showarrow\":false,\"text\":\"0.18\",\"x\":\"windgustspeed\",\"xref\":\"x\",\"y\":\"mintemp\",\"yref\":\"y\"},{\"font\":{\"color\":\"#000000\"},\"showarrow\":false,\"text\":\"0.17\",\"x\":\"windspeed9am\",\"xref\":\"x\",\"y\":\"mintemp\",\"yref\":\"y\"},{\"font\":{\"color\":\"#000000\"},\"showarrow\":false,\"text\":\"0.17\",\"x\":\"windspeed3pm\",\"xref\":\"x\",\"y\":\"mintemp\",\"yref\":\"y\"},{\"font\":{\"color\":\"#FFFFFF\"},\"showarrow\":false,\"text\":\"-0.24\",\"x\":\"humidity9am\",\"xref\":\"x\",\"y\":\"mintemp\",\"yref\":\"y\"},{\"font\":{\"color\":\"#FFFFFF\"},\"showarrow\":false,\"text\":\"-0.0\",\"x\":\"humidity3pm\",\"xref\":\"x\",\"y\":\"mintemp\",\"yref\":\"y\"},{\"font\":{\"color\":\"#FFFFFF\"},\"showarrow\":false,\"text\":\"-0.45\",\"x\":\"pressure9am\",\"xref\":\"x\",\"y\":\"mintemp\",\"yref\":\"y\"},{\"font\":{\"color\":\"#FFFFFF\"},\"showarrow\":false,\"text\":\"-0.46\",\"x\":\"pressure3pm\",\"xref\":\"x\",\"y\":\"mintemp\",\"yref\":\"y\"},{\"font\":{\"color\":\"#FFFFFF\"},\"showarrow\":false,\"text\":\"0.08\",\"x\":\"cloud9am\",\"xref\":\"x\",\"y\":\"mintemp\",\"yref\":\"y\"},{\"font\":{\"color\":\"#FFFFFF\"},\"showarrow\":false,\"text\":\"0.02\",\"x\":\"cloud3pm\",\"xref\":\"x\",\"y\":\"mintemp\",\"yref\":\"y\"},{\"font\":{\"color\":\"#000000\"},\"showarrow\":false,\"text\":\"0.9\",\"x\":\"temp9am\",\"xref\":\"x\",\"y\":\"mintemp\",\"yref\":\"y\"},{\"font\":{\"color\":\"#000000\"},\"showarrow\":false,\"text\":\"0.71\",\"x\":\"temp3pm\",\"xref\":\"x\",\"y\":\"mintemp\",\"yref\":\"y\"},{\"font\":{\"color\":\"#FFFFFF\"},\"showarrow\":false,\"text\":\"0.06\",\"x\":\"raintoday\",\"xref\":\"x\",\"y\":\"mintemp\",\"yref\":\"y\"},{\"font\":{\"color\":\"#FFFFFF\"},\"showarrow\":false,\"text\":\"0.08\",\"x\":\"raintomorrow\",\"xref\":\"x\",\"y\":\"mintemp\",\"yref\":\"y\"},{\"font\":{\"color\":\"#000000\"},\"showarrow\":false,\"text\":\"0.74\",\"x\":\"mintemp\",\"xref\":\"x\",\"y\":\"maxtemp\",\"yref\":\"y\"},{\"font\":{\"color\":\"#000000\"},\"showarrow\":false,\"text\":\"1.0\",\"x\":\"maxtemp\",\"xref\":\"x\",\"y\":\"maxtemp\",\"yref\":\"y\"},{\"font\":{\"color\":\"#FFFFFF\"},\"showarrow\":false,\"text\":\"-0.07\",\"x\":\"rainfall\",\"xref\":\"x\",\"y\":\"maxtemp\",\"yref\":\"y\"},{\"font\":{\"color\":\"#000000\"},\"showarrow\":false,\"text\":\"0.59\",\"x\":\"evaporation\",\"xref\":\"x\",\"y\":\"maxtemp\",\"yref\":\"y\"},{\"font\":{\"color\":\"#000000\"},\"showarrow\":false,\"text\":\"0.47\",\"x\":\"sunshine\",\"xref\":\"x\",\"y\":\"maxtemp\",\"yref\":\"y\"},{\"font\":{\"color\":\"#FFFFFF\"},\"showarrow\":false,\"text\":\"0.07\",\"x\":\"windgustspeed\",\"xref\":\"x\",\"y\":\"maxtemp\",\"yref\":\"y\"},{\"font\":{\"color\":\"#FFFFFF\"},\"showarrow\":false,\"text\":\"0.01\",\"x\":\"windspeed9am\",\"xref\":\"x\",\"y\":\"maxtemp\",\"yref\":\"y\"},{\"font\":{\"color\":\"#FFFFFF\"},\"showarrow\":false,\"text\":\"0.05\",\"x\":\"windspeed3pm\",\"xref\":\"x\",\"y\":\"maxtemp\",\"yref\":\"y\"},{\"font\":{\"color\":\"#FFFFFF\"},\"showarrow\":false,\"text\":\"-0.51\",\"x\":\"humidity9am\",\"xref\":\"x\",\"y\":\"maxtemp\",\"yref\":\"y\"},{\"font\":{\"color\":\"#FFFFFF\"},\"showarrow\":false,\"text\":\"-0.51\",\"x\":\"humidity3pm\",\"xref\":\"x\",\"y\":\"maxtemp\",\"yref\":\"y\"},{\"font\":{\"color\":\"#FFFFFF\"},\"showarrow\":false,\"text\":\"-0.33\",\"x\":\"pressure9am\",\"xref\":\"x\",\"y\":\"maxtemp\",\"yref\":\"y\"},{\"font\":{\"color\":\"#FFFFFF\"},\"showarrow\":false,\"text\":\"-0.42\",\"x\":\"pressure3pm\",\"xref\":\"x\",\"y\":\"maxtemp\",\"yref\":\"y\"},{\"font\":{\"color\":\"#FFFFFF\"},\"showarrow\":false,\"text\":\"-0.29\",\"x\":\"cloud9am\",\"xref\":\"x\",\"y\":\"maxtemp\",\"yref\":\"y\"},{\"font\":{\"color\":\"#FFFFFF\"},\"showarrow\":false,\"text\":\"-0.28\",\"x\":\"cloud3pm\",\"xref\":\"x\",\"y\":\"maxtemp\",\"yref\":\"y\"},{\"font\":{\"color\":\"#000000\"},\"showarrow\":false,\"text\":\"0.89\",\"x\":\"temp9am\",\"xref\":\"x\",\"y\":\"maxtemp\",\"yref\":\"y\"},{\"font\":{\"color\":\"#000000\"},\"showarrow\":false,\"text\":\"0.98\",\"x\":\"temp3pm\",\"xref\":\"x\",\"y\":\"maxtemp\",\"yref\":\"y\"},{\"font\":{\"color\":\"#FFFFFF\"},\"showarrow\":false,\"text\":\"-0.23\",\"x\":\"raintoday\",\"xref\":\"x\",\"y\":\"maxtemp\",\"yref\":\"y\"},{\"font\":{\"color\":\"#FFFFFF\"},\"showarrow\":false,\"text\":\"-0.16\",\"x\":\"raintomorrow\",\"xref\":\"x\",\"y\":\"maxtemp\",\"yref\":\"y\"},{\"font\":{\"color\":\"#FFFFFF\"},\"showarrow\":false,\"text\":\"0.1\",\"x\":\"mintemp\",\"xref\":\"x\",\"y\":\"rainfall\",\"yref\":\"y\"},{\"font\":{\"color\":\"#FFFFFF\"},\"showarrow\":false,\"text\":\"-0.07\",\"x\":\"maxtemp\",\"xref\":\"x\",\"y\":\"rainfall\",\"yref\":\"y\"},{\"font\":{\"color\":\"#000000\"},\"showarrow\":false,\"text\":\"1.0\",\"x\":\"rainfall\",\"xref\":\"x\",\"y\":\"rainfall\",\"yref\":\"y\"},{\"font\":{\"color\":\"#FFFFFF\"},\"showarrow\":false,\"text\":\"-0.06\",\"x\":\"evaporation\",\"xref\":\"x\",\"y\":\"rainfall\",\"yref\":\"y\"},{\"font\":{\"color\":\"#FFFFFF\"},\"showarrow\":false,\"text\":\"-0.23\",\"x\":\"sunshine\",\"xref\":\"x\",\"y\":\"rainfall\",\"yref\":\"y\"},{\"font\":{\"color\":\"#FFFFFF\"},\"showarrow\":false,\"text\":\"0.13\",\"x\":\"windgustspeed\",\"xref\":\"x\",\"y\":\"rainfall\",\"yref\":\"y\"},{\"font\":{\"color\":\"#FFFFFF\"},\"showarrow\":false,\"text\":\"0.09\",\"x\":\"windspeed9am\",\"xref\":\"x\",\"y\":\"rainfall\",\"yref\":\"y\"},{\"font\":{\"color\":\"#FFFFFF\"},\"showarrow\":false,\"text\":\"0.06\",\"x\":\"windspeed3pm\",\"xref\":\"x\",\"y\":\"rainfall\",\"yref\":\"y\"},{\"font\":{\"color\":\"#000000\"},\"showarrow\":false,\"text\":\"0.22\",\"x\":\"humidity9am\",\"xref\":\"x\",\"y\":\"rainfall\",\"yref\":\"y\"},{\"font\":{\"color\":\"#000000\"},\"showarrow\":false,\"text\":\"0.25\",\"x\":\"humidity3pm\",\"xref\":\"x\",\"y\":\"rainfall\",\"yref\":\"y\"},{\"font\":{\"color\":\"#FFFFFF\"},\"showarrow\":false,\"text\":\"-0.16\",\"x\":\"pressure9am\",\"xref\":\"x\",\"y\":\"rainfall\",\"yref\":\"y\"},{\"font\":{\"color\":\"#FFFFFF\"},\"showarrow\":false,\"text\":\"-0.12\",\"x\":\"pressure3pm\",\"xref\":\"x\",\"y\":\"rainfall\",\"yref\":\"y\"},{\"font\":{\"color\":\"#000000\"},\"showarrow\":false,\"text\":\"0.2\",\"x\":\"cloud9am\",\"xref\":\"x\",\"y\":\"rainfall\",\"yref\":\"y\"},{\"font\":{\"color\":\"#000000\"},\"showarrow\":false,\"text\":\"0.17\",\"x\":\"cloud3pm\",\"xref\":\"x\",\"y\":\"rainfall\",\"yref\":\"y\"},{\"font\":{\"color\":\"#FFFFFF\"},\"showarrow\":false,\"text\":\"0.01\",\"x\":\"temp9am\",\"xref\":\"x\",\"y\":\"rainfall\",\"yref\":\"y\"},{\"font\":{\"color\":\"#FFFFFF\"},\"showarrow\":false,\"text\":\"-0.08\",\"x\":\"temp3pm\",\"xref\":\"x\",\"y\":\"rainfall\",\"yref\":\"y\"},{\"font\":{\"color\":\"#000000\"},\"showarrow\":false,\"text\":\"0.5\",\"x\":\"raintoday\",\"xref\":\"x\",\"y\":\"rainfall\",\"yref\":\"y\"},{\"font\":{\"color\":\"#000000\"},\"showarrow\":false,\"text\":\"0.24\",\"x\":\"raintomorrow\",\"xref\":\"x\",\"y\":\"rainfall\",\"yref\":\"y\"},{\"font\":{\"color\":\"#000000\"},\"showarrow\":false,\"text\":\"0.47\",\"x\":\"mintemp\",\"xref\":\"x\",\"y\":\"evaporation\",\"yref\":\"y\"},{\"font\":{\"color\":\"#000000\"},\"showarrow\":false,\"text\":\"0.59\",\"x\":\"maxtemp\",\"xref\":\"x\",\"y\":\"evaporation\",\"yref\":\"y\"},{\"font\":{\"color\":\"#FFFFFF\"},\"showarrow\":false,\"text\":\"-0.06\",\"x\":\"rainfall\",\"xref\":\"x\",\"y\":\"evaporation\",\"yref\":\"y\"},{\"font\":{\"color\":\"#000000\"},\"showarrow\":false,\"text\":\"1.0\",\"x\":\"evaporation\",\"xref\":\"x\",\"y\":\"evaporation\",\"yref\":\"y\"},{\"font\":{\"color\":\"#000000\"},\"showarrow\":false,\"text\":\"0.37\",\"x\":\"sunshine\",\"xref\":\"x\",\"y\":\"evaporation\",\"yref\":\"y\"},{\"font\":{\"color\":\"#000000\"},\"showarrow\":false,\"text\":\"0.2\",\"x\":\"windgustspeed\",\"xref\":\"x\",\"y\":\"evaporation\",\"yref\":\"y\"},{\"font\":{\"color\":\"#000000\"},\"showarrow\":false,\"text\":\"0.19\",\"x\":\"windspeed9am\",\"xref\":\"x\",\"y\":\"evaporation\",\"yref\":\"y\"},{\"font\":{\"color\":\"#FFFFFF\"},\"showarrow\":false,\"text\":\"0.13\",\"x\":\"windspeed3pm\",\"xref\":\"x\",\"y\":\"evaporation\",\"yref\":\"y\"},{\"font\":{\"color\":\"#FFFFFF\"},\"showarrow\":false,\"text\":\"-0.51\",\"x\":\"humidity9am\",\"xref\":\"x\",\"y\":\"evaporation\",\"yref\":\"y\"},{\"font\":{\"color\":\"#FFFFFF\"},\"showarrow\":false,\"text\":\"-0.39\",\"x\":\"humidity3pm\",\"xref\":\"x\",\"y\":\"evaporation\",\"yref\":\"y\"},{\"font\":{\"color\":\"#FFFFFF\"},\"showarrow\":false,\"text\":\"-0.27\",\"x\":\"pressure9am\",\"xref\":\"x\",\"y\":\"evaporation\",\"yref\":\"y\"},{\"font\":{\"color\":\"#FFFFFF\"},\"showarrow\":false,\"text\":\"-0.29\",\"x\":\"pressure3pm\",\"xref\":\"x\",\"y\":\"evaporation\",\"yref\":\"y\"},{\"font\":{\"color\":\"#FFFFFF\"},\"showarrow\":false,\"text\":\"-0.19\",\"x\":\"cloud9am\",\"xref\":\"x\",\"y\":\"evaporation\",\"yref\":\"y\"},{\"font\":{\"color\":\"#FFFFFF\"},\"showarrow\":false,\"text\":\"-0.18\",\"x\":\"cloud3pm\",\"xref\":\"x\",\"y\":\"evaporation\",\"yref\":\"y\"},{\"font\":{\"color\":\"#000000\"},\"showarrow\":false,\"text\":\"0.55\",\"x\":\"temp9am\",\"xref\":\"x\",\"y\":\"evaporation\",\"yref\":\"y\"},{\"font\":{\"color\":\"#000000\"},\"showarrow\":false,\"text\":\"0.57\",\"x\":\"temp3pm\",\"xref\":\"x\",\"y\":\"evaporation\",\"yref\":\"y\"},{\"font\":{\"color\":\"#FFFFFF\"},\"showarrow\":false,\"text\":\"-0.19\",\"x\":\"raintoday\",\"xref\":\"x\",\"y\":\"evaporation\",\"yref\":\"y\"},{\"font\":{\"color\":\"#FFFFFF\"},\"showarrow\":false,\"text\":\"-0.12\",\"x\":\"raintomorrow\",\"xref\":\"x\",\"y\":\"evaporation\",\"yref\":\"y\"},{\"font\":{\"color\":\"#FFFFFF\"},\"showarrow\":false,\"text\":\"0.07\",\"x\":\"mintemp\",\"xref\":\"x\",\"y\":\"sunshine\",\"yref\":\"y\"},{\"font\":{\"color\":\"#000000\"},\"showarrow\":false,\"text\":\"0.47\",\"x\":\"maxtemp\",\"xref\":\"x\",\"y\":\"sunshine\",\"yref\":\"y\"},{\"font\":{\"color\":\"#FFFFFF\"},\"showarrow\":false,\"text\":\"-0.23\",\"x\":\"rainfall\",\"xref\":\"x\",\"y\":\"sunshine\",\"yref\":\"y\"},{\"font\":{\"color\":\"#000000\"},\"showarrow\":false,\"text\":\"0.37\",\"x\":\"evaporation\",\"xref\":\"x\",\"y\":\"sunshine\",\"yref\":\"y\"},{\"font\":{\"color\":\"#000000\"},\"showarrow\":false,\"text\":\"1.0\",\"x\":\"sunshine\",\"xref\":\"x\",\"y\":\"sunshine\",\"yref\":\"y\"},{\"font\":{\"color\":\"#FFFFFF\"},\"showarrow\":false,\"text\":\"-0.03\",\"x\":\"windgustspeed\",\"xref\":\"x\",\"y\":\"sunshine\",\"yref\":\"y\"},{\"font\":{\"color\":\"#FFFFFF\"},\"showarrow\":false,\"text\":\"0.01\",\"x\":\"windspeed9am\",\"xref\":\"x\",\"y\":\"sunshine\",\"yref\":\"y\"},{\"font\":{\"color\":\"#FFFFFF\"},\"showarrow\":false,\"text\":\"0.06\",\"x\":\"windspeed3pm\",\"xref\":\"x\",\"y\":\"sunshine\",\"yref\":\"y\"},{\"font\":{\"color\":\"#FFFFFF\"},\"showarrow\":false,\"text\":\"-0.49\",\"x\":\"humidity9am\",\"xref\":\"x\",\"y\":\"sunshine\",\"yref\":\"y\"},{\"font\":{\"color\":\"#FFFFFF\"},\"showarrow\":false,\"text\":\"-0.63\",\"x\":\"humidity3pm\",\"xref\":\"x\",\"y\":\"sunshine\",\"yref\":\"y\"},{\"font\":{\"color\":\"#FFFFFF\"},\"showarrow\":false,\"text\":\"0.04\",\"x\":\"pressure9am\",\"xref\":\"x\",\"y\":\"sunshine\",\"yref\":\"y\"},{\"font\":{\"color\":\"#FFFFFF\"},\"showarrow\":false,\"text\":\"-0.02\",\"x\":\"pressure3pm\",\"xref\":\"x\",\"y\":\"sunshine\",\"yref\":\"y\"},{\"font\":{\"color\":\"#FFFFFF\"},\"showarrow\":false,\"text\":\"-0.68\",\"x\":\"cloud9am\",\"xref\":\"x\",\"y\":\"sunshine\",\"yref\":\"y\"},{\"font\":{\"color\":\"#FFFFFF\"},\"showarrow\":false,\"text\":\"-0.7\",\"x\":\"cloud3pm\",\"xref\":\"x\",\"y\":\"sunshine\",\"yref\":\"y\"},{\"font\":{\"color\":\"#000000\"},\"showarrow\":false,\"text\":\"0.29\",\"x\":\"temp9am\",\"xref\":\"x\",\"y\":\"sunshine\",\"yref\":\"y\"},{\"font\":{\"color\":\"#000000\"},\"showarrow\":false,\"text\":\"0.49\",\"x\":\"temp3pm\",\"xref\":\"x\",\"y\":\"sunshine\",\"yref\":\"y\"},{\"font\":{\"color\":\"#FFFFFF\"},\"showarrow\":false,\"text\":\"-0.33\",\"x\":\"raintoday\",\"xref\":\"x\",\"y\":\"sunshine\",\"yref\":\"y\"},{\"font\":{\"color\":\"#FFFFFF\"},\"showarrow\":false,\"text\":\"-0.45\",\"x\":\"raintomorrow\",\"xref\":\"x\",\"y\":\"sunshine\",\"yref\":\"y\"},{\"font\":{\"color\":\"#000000\"},\"showarrow\":false,\"text\":\"0.18\",\"x\":\"mintemp\",\"xref\":\"x\",\"y\":\"windgustspeed\",\"yref\":\"y\"},{\"font\":{\"color\":\"#FFFFFF\"},\"showarrow\":false,\"text\":\"0.07\",\"x\":\"maxtemp\",\"xref\":\"x\",\"y\":\"windgustspeed\",\"yref\":\"y\"},{\"font\":{\"color\":\"#FFFFFF\"},\"showarrow\":false,\"text\":\"0.13\",\"x\":\"rainfall\",\"xref\":\"x\",\"y\":\"windgustspeed\",\"yref\":\"y\"},{\"font\":{\"color\":\"#000000\"},\"showarrow\":false,\"text\":\"0.2\",\"x\":\"evaporation\",\"xref\":\"x\",\"y\":\"windgustspeed\",\"yref\":\"y\"},{\"font\":{\"color\":\"#FFFFFF\"},\"showarrow\":false,\"text\":\"-0.03\",\"x\":\"sunshine\",\"xref\":\"x\",\"y\":\"windgustspeed\",\"yref\":\"y\"},{\"font\":{\"color\":\"#000000\"},\"showarrow\":false,\"text\":\"1.0\",\"x\":\"windgustspeed\",\"xref\":\"x\",\"y\":\"windgustspeed\",\"yref\":\"y\"},{\"font\":{\"color\":\"#000000\"},\"showarrow\":false,\"text\":\"0.58\",\"x\":\"windspeed9am\",\"xref\":\"x\",\"y\":\"windgustspeed\",\"yref\":\"y\"},{\"font\":{\"color\":\"#000000\"},\"showarrow\":false,\"text\":\"0.66\",\"x\":\"windspeed3pm\",\"xref\":\"x\",\"y\":\"windgustspeed\",\"yref\":\"y\"},{\"font\":{\"color\":\"#FFFFFF\"},\"showarrow\":false,\"text\":\"-0.21\",\"x\":\"humidity9am\",\"xref\":\"x\",\"y\":\"windgustspeed\",\"yref\":\"y\"},{\"font\":{\"color\":\"#FFFFFF\"},\"showarrow\":false,\"text\":\"-0.03\",\"x\":\"humidity3pm\",\"xref\":\"x\",\"y\":\"windgustspeed\",\"yref\":\"y\"},{\"font\":{\"color\":\"#FFFFFF\"},\"showarrow\":false,\"text\":\"-0.43\",\"x\":\"pressure9am\",\"xref\":\"x\",\"y\":\"windgustspeed\",\"yref\":\"y\"},{\"font\":{\"color\":\"#FFFFFF\"},\"showarrow\":false,\"text\":\"-0.39\",\"x\":\"pressure3pm\",\"xref\":\"x\",\"y\":\"windgustspeed\",\"yref\":\"y\"},{\"font\":{\"color\":\"#FFFFFF\"},\"showarrow\":false,\"text\":\"0.07\",\"x\":\"cloud9am\",\"xref\":\"x\",\"y\":\"windgustspeed\",\"yref\":\"y\"},{\"font\":{\"color\":\"#FFFFFF\"},\"showarrow\":false,\"text\":\"0.1\",\"x\":\"cloud3pm\",\"xref\":\"x\",\"y\":\"windgustspeed\",\"yref\":\"y\"},{\"font\":{\"color\":\"#000000\"},\"showarrow\":false,\"text\":\"0.15\",\"x\":\"temp9am\",\"xref\":\"x\",\"y\":\"windgustspeed\",\"yref\":\"y\"},{\"font\":{\"color\":\"#FFFFFF\"},\"showarrow\":false,\"text\":\"0.03\",\"x\":\"temp3pm\",\"xref\":\"x\",\"y\":\"windgustspeed\",\"yref\":\"y\"},{\"font\":{\"color\":\"#000000\"},\"showarrow\":false,\"text\":\"0.15\",\"x\":\"raintoday\",\"xref\":\"x\",\"y\":\"windgustspeed\",\"yref\":\"y\"},{\"font\":{\"color\":\"#000000\"},\"showarrow\":false,\"text\":\"0.22\",\"x\":\"raintomorrow\",\"xref\":\"x\",\"y\":\"windgustspeed\",\"yref\":\"y\"},{\"font\":{\"color\":\"#000000\"},\"showarrow\":false,\"text\":\"0.17\",\"x\":\"mintemp\",\"xref\":\"x\",\"y\":\"windspeed9am\",\"yref\":\"y\"},{\"font\":{\"color\":\"#FFFFFF\"},\"showarrow\":false,\"text\":\"0.01\",\"x\":\"maxtemp\",\"xref\":\"x\",\"y\":\"windspeed9am\",\"yref\":\"y\"},{\"font\":{\"color\":\"#FFFFFF\"},\"showarrow\":false,\"text\":\"0.09\",\"x\":\"rainfall\",\"xref\":\"x\",\"y\":\"windspeed9am\",\"yref\":\"y\"},{\"font\":{\"color\":\"#000000\"},\"showarrow\":false,\"text\":\"0.19\",\"x\":\"evaporation\",\"xref\":\"x\",\"y\":\"windspeed9am\",\"yref\":\"y\"},{\"font\":{\"color\":\"#FFFFFF\"},\"showarrow\":false,\"text\":\"0.01\",\"x\":\"sunshine\",\"xref\":\"x\",\"y\":\"windspeed9am\",\"yref\":\"y\"},{\"font\":{\"color\":\"#000000\"},\"showarrow\":false,\"text\":\"0.58\",\"x\":\"windgustspeed\",\"xref\":\"x\",\"y\":\"windspeed9am\",\"yref\":\"y\"},{\"font\":{\"color\":\"#000000\"},\"showarrow\":false,\"text\":\"1.0\",\"x\":\"windspeed9am\",\"xref\":\"x\",\"y\":\"windspeed9am\",\"yref\":\"y\"},{\"font\":{\"color\":\"#000000\"},\"showarrow\":false,\"text\":\"0.52\",\"x\":\"windspeed3pm\",\"xref\":\"x\",\"y\":\"windspeed9am\",\"yref\":\"y\"},{\"font\":{\"color\":\"#FFFFFF\"},\"showarrow\":false,\"text\":\"-0.27\",\"x\":\"humidity9am\",\"xref\":\"x\",\"y\":\"windspeed9am\",\"yref\":\"y\"},{\"font\":{\"color\":\"#FFFFFF\"},\"showarrow\":false,\"text\":\"-0.03\",\"x\":\"humidity3pm\",\"xref\":\"x\",\"y\":\"windspeed9am\",\"yref\":\"y\"},{\"font\":{\"color\":\"#FFFFFF\"},\"showarrow\":false,\"text\":\"-0.22\",\"x\":\"pressure9am\",\"xref\":\"x\",\"y\":\"windspeed9am\",\"yref\":\"y\"},{\"font\":{\"color\":\"#FFFFFF\"},\"showarrow\":false,\"text\":\"-0.17\",\"x\":\"pressure3pm\",\"xref\":\"x\",\"y\":\"windspeed9am\",\"yref\":\"y\"},{\"font\":{\"color\":\"#FFFFFF\"},\"showarrow\":false,\"text\":\"0.02\",\"x\":\"cloud9am\",\"xref\":\"x\",\"y\":\"windspeed9am\",\"yref\":\"y\"},{\"font\":{\"color\":\"#FFFFFF\"},\"showarrow\":false,\"text\":\"0.05\",\"x\":\"cloud3pm\",\"xref\":\"x\",\"y\":\"windspeed9am\",\"yref\":\"y\"},{\"font\":{\"color\":\"#FFFFFF\"},\"showarrow\":false,\"text\":\"0.13\",\"x\":\"temp9am\",\"xref\":\"x\",\"y\":\"windspeed9am\",\"yref\":\"y\"},{\"font\":{\"color\":\"#FFFFFF\"},\"showarrow\":false,\"text\":\"0.0\",\"x\":\"temp3pm\",\"xref\":\"x\",\"y\":\"windspeed9am\",\"yref\":\"y\"},{\"font\":{\"color\":\"#FFFFFF\"},\"showarrow\":false,\"text\":\"0.1\",\"x\":\"raintoday\",\"xref\":\"x\",\"y\":\"windspeed9am\",\"yref\":\"y\"},{\"font\":{\"color\":\"#FFFFFF\"},\"showarrow\":false,\"text\":\"0.09\",\"x\":\"raintomorrow\",\"xref\":\"x\",\"y\":\"windspeed9am\",\"yref\":\"y\"},{\"font\":{\"color\":\"#000000\"},\"showarrow\":false,\"text\":\"0.17\",\"x\":\"mintemp\",\"xref\":\"x\",\"y\":\"windspeed3pm\",\"yref\":\"y\"},{\"font\":{\"color\":\"#FFFFFF\"},\"showarrow\":false,\"text\":\"0.05\",\"x\":\"maxtemp\",\"xref\":\"x\",\"y\":\"windspeed3pm\",\"yref\":\"y\"},{\"font\":{\"color\":\"#FFFFFF\"},\"showarrow\":false,\"text\":\"0.06\",\"x\":\"rainfall\",\"xref\":\"x\",\"y\":\"windspeed3pm\",\"yref\":\"y\"},{\"font\":{\"color\":\"#FFFFFF\"},\"showarrow\":false,\"text\":\"0.13\",\"x\":\"evaporation\",\"xref\":\"x\",\"y\":\"windspeed3pm\",\"yref\":\"y\"},{\"font\":{\"color\":\"#FFFFFF\"},\"showarrow\":false,\"text\":\"0.06\",\"x\":\"sunshine\",\"xref\":\"x\",\"y\":\"windspeed3pm\",\"yref\":\"y\"},{\"font\":{\"color\":\"#000000\"},\"showarrow\":false,\"text\":\"0.66\",\"x\":\"windgustspeed\",\"xref\":\"x\",\"y\":\"windspeed3pm\",\"yref\":\"y\"},{\"font\":{\"color\":\"#000000\"},\"showarrow\":false,\"text\":\"0.52\",\"x\":\"windspeed9am\",\"xref\":\"x\",\"y\":\"windspeed3pm\",\"yref\":\"y\"},{\"font\":{\"color\":\"#000000\"},\"showarrow\":false,\"text\":\"1.0\",\"x\":\"windspeed3pm\",\"xref\":\"x\",\"y\":\"windspeed3pm\",\"yref\":\"y\"},{\"font\":{\"color\":\"#FFFFFF\"},\"showarrow\":false,\"text\":\"-0.15\",\"x\":\"humidity9am\",\"xref\":\"x\",\"y\":\"windspeed3pm\",\"yref\":\"y\"},{\"font\":{\"color\":\"#FFFFFF\"},\"showarrow\":false,\"text\":\"0.01\",\"x\":\"humidity3pm\",\"xref\":\"x\",\"y\":\"windspeed3pm\",\"yref\":\"y\"},{\"font\":{\"color\":\"#FFFFFF\"},\"showarrow\":false,\"text\":\"-0.28\",\"x\":\"pressure9am\",\"xref\":\"x\",\"y\":\"windspeed3pm\",\"yref\":\"y\"},{\"font\":{\"color\":\"#FFFFFF\"},\"showarrow\":false,\"text\":\"-0.25\",\"x\":\"pressure3pm\",\"xref\":\"x\",\"y\":\"windspeed3pm\",\"yref\":\"y\"},{\"font\":{\"color\":\"#FFFFFF\"},\"showarrow\":false,\"text\":\"0.05\",\"x\":\"cloud9am\",\"xref\":\"x\",\"y\":\"windspeed3pm\",\"yref\":\"y\"},{\"font\":{\"color\":\"#FFFFFF\"},\"showarrow\":false,\"text\":\"0.02\",\"x\":\"cloud3pm\",\"xref\":\"x\",\"y\":\"windspeed3pm\",\"yref\":\"y\"},{\"font\":{\"color\":\"#000000\"},\"showarrow\":false,\"text\":\"0.16\",\"x\":\"temp9am\",\"xref\":\"x\",\"y\":\"windspeed3pm\",\"yref\":\"y\"},{\"font\":{\"color\":\"#FFFFFF\"},\"showarrow\":false,\"text\":\"0.03\",\"x\":\"temp3pm\",\"xref\":\"x\",\"y\":\"windspeed3pm\",\"yref\":\"y\"},{\"font\":{\"color\":\"#FFFFFF\"},\"showarrow\":false,\"text\":\"0.08\",\"x\":\"raintoday\",\"xref\":\"x\",\"y\":\"windspeed3pm\",\"yref\":\"y\"},{\"font\":{\"color\":\"#FFFFFF\"},\"showarrow\":false,\"text\":\"0.08\",\"x\":\"raintomorrow\",\"xref\":\"x\",\"y\":\"windspeed3pm\",\"yref\":\"y\"},{\"font\":{\"color\":\"#FFFFFF\"},\"showarrow\":false,\"text\":\"-0.24\",\"x\":\"mintemp\",\"xref\":\"x\",\"y\":\"humidity9am\",\"yref\":\"y\"},{\"font\":{\"color\":\"#FFFFFF\"},\"showarrow\":false,\"text\":\"-0.51\",\"x\":\"maxtemp\",\"xref\":\"x\",\"y\":\"humidity9am\",\"yref\":\"y\"},{\"font\":{\"color\":\"#000000\"},\"showarrow\":false,\"text\":\"0.22\",\"x\":\"rainfall\",\"xref\":\"x\",\"y\":\"humidity9am\",\"yref\":\"y\"},{\"font\":{\"color\":\"#FFFFFF\"},\"showarrow\":false,\"text\":\"-0.51\",\"x\":\"evaporation\",\"xref\":\"x\",\"y\":\"humidity9am\",\"yref\":\"y\"},{\"font\":{\"color\":\"#FFFFFF\"},\"showarrow\":false,\"text\":\"-0.49\",\"x\":\"sunshine\",\"xref\":\"x\",\"y\":\"humidity9am\",\"yref\":\"y\"},{\"font\":{\"color\":\"#FFFFFF\"},\"showarrow\":false,\"text\":\"-0.21\",\"x\":\"windgustspeed\",\"xref\":\"x\",\"y\":\"humidity9am\",\"yref\":\"y\"},{\"font\":{\"color\":\"#FFFFFF\"},\"showarrow\":false,\"text\":\"-0.27\",\"x\":\"windspeed9am\",\"xref\":\"x\",\"y\":\"humidity9am\",\"yref\":\"y\"},{\"font\":{\"color\":\"#FFFFFF\"},\"showarrow\":false,\"text\":\"-0.15\",\"x\":\"windspeed3pm\",\"xref\":\"x\",\"y\":\"humidity9am\",\"yref\":\"y\"},{\"font\":{\"color\":\"#000000\"},\"showarrow\":false,\"text\":\"1.0\",\"x\":\"humidity9am\",\"xref\":\"x\",\"y\":\"humidity9am\",\"yref\":\"y\"},{\"font\":{\"color\":\"#000000\"},\"showarrow\":false,\"text\":\"0.67\",\"x\":\"humidity3pm\",\"xref\":\"x\",\"y\":\"humidity9am\",\"yref\":\"y\"},{\"font\":{\"color\":\"#FFFFFF\"},\"showarrow\":false,\"text\":\"0.14\",\"x\":\"pressure9am\",\"xref\":\"x\",\"y\":\"humidity9am\",\"yref\":\"y\"},{\"font\":{\"color\":\"#000000\"},\"showarrow\":false,\"text\":\"0.19\",\"x\":\"pressure3pm\",\"xref\":\"x\",\"y\":\"humidity9am\",\"yref\":\"y\"},{\"font\":{\"color\":\"#000000\"},\"showarrow\":false,\"text\":\"0.45\",\"x\":\"cloud9am\",\"xref\":\"x\",\"y\":\"humidity9am\",\"yref\":\"y\"},{\"font\":{\"color\":\"#000000\"},\"showarrow\":false,\"text\":\"0.36\",\"x\":\"cloud3pm\",\"xref\":\"x\",\"y\":\"humidity9am\",\"yref\":\"y\"},{\"font\":{\"color\":\"#FFFFFF\"},\"showarrow\":false,\"text\":\"-0.48\",\"x\":\"temp9am\",\"xref\":\"x\",\"y\":\"humidity9am\",\"yref\":\"y\"},{\"font\":{\"color\":\"#FFFFFF\"},\"showarrow\":false,\"text\":\"-0.5\",\"x\":\"temp3pm\",\"xref\":\"x\",\"y\":\"humidity9am\",\"yref\":\"y\"},{\"font\":{\"color\":\"#000000\"},\"showarrow\":false,\"text\":\"0.35\",\"x\":\"raintoday\",\"xref\":\"x\",\"y\":\"humidity9am\",\"yref\":\"y\"},{\"font\":{\"color\":\"#000000\"},\"showarrow\":false,\"text\":\"0.26\",\"x\":\"raintomorrow\",\"xref\":\"x\",\"y\":\"humidity9am\",\"yref\":\"y\"},{\"font\":{\"color\":\"#FFFFFF\"},\"showarrow\":false,\"text\":\"-0.0\",\"x\":\"mintemp\",\"xref\":\"x\",\"y\":\"humidity3pm\",\"yref\":\"y\"},{\"font\":{\"color\":\"#FFFFFF\"},\"showarrow\":false,\"text\":\"-0.51\",\"x\":\"maxtemp\",\"xref\":\"x\",\"y\":\"humidity3pm\",\"yref\":\"y\"},{\"font\":{\"color\":\"#000000\"},\"showarrow\":false,\"text\":\"0.25\",\"x\":\"rainfall\",\"xref\":\"x\",\"y\":\"humidity3pm\",\"yref\":\"y\"},{\"font\":{\"color\":\"#FFFFFF\"},\"showarrow\":false,\"text\":\"-0.39\",\"x\":\"evaporation\",\"xref\":\"x\",\"y\":\"humidity3pm\",\"yref\":\"y\"},{\"font\":{\"color\":\"#FFFFFF\"},\"showarrow\":false,\"text\":\"-0.63\",\"x\":\"sunshine\",\"xref\":\"x\",\"y\":\"humidity3pm\",\"yref\":\"y\"},{\"font\":{\"color\":\"#FFFFFF\"},\"showarrow\":false,\"text\":\"-0.03\",\"x\":\"windgustspeed\",\"xref\":\"x\",\"y\":\"humidity3pm\",\"yref\":\"y\"},{\"font\":{\"color\":\"#FFFFFF\"},\"showarrow\":false,\"text\":\"-0.03\",\"x\":\"windspeed9am\",\"xref\":\"x\",\"y\":\"humidity3pm\",\"yref\":\"y\"},{\"font\":{\"color\":\"#FFFFFF\"},\"showarrow\":false,\"text\":\"0.01\",\"x\":\"windspeed3pm\",\"xref\":\"x\",\"y\":\"humidity3pm\",\"yref\":\"y\"},{\"font\":{\"color\":\"#000000\"},\"showarrow\":false,\"text\":\"0.67\",\"x\":\"humidity9am\",\"xref\":\"x\",\"y\":\"humidity3pm\",\"yref\":\"y\"},{\"font\":{\"color\":\"#000000\"},\"showarrow\":false,\"text\":\"1.0\",\"x\":\"humidity3pm\",\"xref\":\"x\",\"y\":\"humidity3pm\",\"yref\":\"y\"},{\"font\":{\"color\":\"#FFFFFF\"},\"showarrow\":false,\"text\":\"-0.01\",\"x\":\"pressure9am\",\"xref\":\"x\",\"y\":\"humidity3pm\",\"yref\":\"y\"},{\"font\":{\"color\":\"#FFFFFF\"},\"showarrow\":false,\"text\":\"0.06\",\"x\":\"pressure3pm\",\"xref\":\"x\",\"y\":\"humidity3pm\",\"yref\":\"y\"},{\"font\":{\"color\":\"#000000\"},\"showarrow\":false,\"text\":\"0.51\",\"x\":\"cloud9am\",\"xref\":\"x\",\"y\":\"humidity3pm\",\"yref\":\"y\"},{\"font\":{\"color\":\"#000000\"},\"showarrow\":false,\"text\":\"0.52\",\"x\":\"cloud3pm\",\"xref\":\"x\",\"y\":\"humidity3pm\",\"yref\":\"y\"},{\"font\":{\"color\":\"#FFFFFF\"},\"showarrow\":false,\"text\":\"-0.23\",\"x\":\"temp9am\",\"xref\":\"x\",\"y\":\"humidity3pm\",\"yref\":\"y\"},{\"font\":{\"color\":\"#FFFFFF\"},\"showarrow\":false,\"text\":\"-0.56\",\"x\":\"temp3pm\",\"xref\":\"x\",\"y\":\"humidity3pm\",\"yref\":\"y\"},{\"font\":{\"color\":\"#000000\"},\"showarrow\":false,\"text\":\"0.38\",\"x\":\"raintoday\",\"xref\":\"x\",\"y\":\"humidity3pm\",\"yref\":\"y\"},{\"font\":{\"color\":\"#000000\"},\"showarrow\":false,\"text\":\"0.44\",\"x\":\"raintomorrow\",\"xref\":\"x\",\"y\":\"humidity3pm\",\"yref\":\"y\"},{\"font\":{\"color\":\"#FFFFFF\"},\"showarrow\":false,\"text\":\"-0.45\",\"x\":\"mintemp\",\"xref\":\"x\",\"y\":\"pressure9am\",\"yref\":\"y\"},{\"font\":{\"color\":\"#FFFFFF\"},\"showarrow\":false,\"text\":\"-0.33\",\"x\":\"maxtemp\",\"xref\":\"x\",\"y\":\"pressure9am\",\"yref\":\"y\"},{\"font\":{\"color\":\"#FFFFFF\"},\"showarrow\":false,\"text\":\"-0.16\",\"x\":\"rainfall\",\"xref\":\"x\",\"y\":\"pressure9am\",\"yref\":\"y\"},{\"font\":{\"color\":\"#FFFFFF\"},\"showarrow\":false,\"text\":\"-0.27\",\"x\":\"evaporation\",\"xref\":\"x\",\"y\":\"pressure9am\",\"yref\":\"y\"},{\"font\":{\"color\":\"#FFFFFF\"},\"showarrow\":false,\"text\":\"0.04\",\"x\":\"sunshine\",\"xref\":\"x\",\"y\":\"pressure9am\",\"yref\":\"y\"},{\"font\":{\"color\":\"#FFFFFF\"},\"showarrow\":false,\"text\":\"-0.43\",\"x\":\"windgustspeed\",\"xref\":\"x\",\"y\":\"pressure9am\",\"yref\":\"y\"},{\"font\":{\"color\":\"#FFFFFF\"},\"showarrow\":false,\"text\":\"-0.22\",\"x\":\"windspeed9am\",\"xref\":\"x\",\"y\":\"pressure9am\",\"yref\":\"y\"},{\"font\":{\"color\":\"#FFFFFF\"},\"showarrow\":false,\"text\":\"-0.28\",\"x\":\"windspeed3pm\",\"xref\":\"x\",\"y\":\"pressure9am\",\"yref\":\"y\"},{\"font\":{\"color\":\"#FFFFFF\"},\"showarrow\":false,\"text\":\"0.14\",\"x\":\"humidity9am\",\"xref\":\"x\",\"y\":\"pressure9am\",\"yref\":\"y\"},{\"font\":{\"color\":\"#FFFFFF\"},\"showarrow\":false,\"text\":\"-0.01\",\"x\":\"humidity3pm\",\"xref\":\"x\",\"y\":\"pressure9am\",\"yref\":\"y\"},{\"font\":{\"color\":\"#000000\"},\"showarrow\":false,\"text\":\"1.0\",\"x\":\"pressure9am\",\"xref\":\"x\",\"y\":\"pressure9am\",\"yref\":\"y\"},{\"font\":{\"color\":\"#000000\"},\"showarrow\":false,\"text\":\"0.96\",\"x\":\"pressure3pm\",\"xref\":\"x\",\"y\":\"pressure9am\",\"yref\":\"y\"},{\"font\":{\"color\":\"#FFFFFF\"},\"showarrow\":false,\"text\":\"-0.13\",\"x\":\"cloud9am\",\"xref\":\"x\",\"y\":\"pressure9am\",\"yref\":\"y\"},{\"font\":{\"color\":\"#FFFFFF\"},\"showarrow\":false,\"text\":\"-0.15\",\"x\":\"cloud3pm\",\"xref\":\"x\",\"y\":\"pressure9am\",\"yref\":\"y\"},{\"font\":{\"color\":\"#FFFFFF\"},\"showarrow\":false,\"text\":\"-0.42\",\"x\":\"temp9am\",\"xref\":\"x\",\"y\":\"pressure9am\",\"yref\":\"y\"},{\"font\":{\"color\":\"#FFFFFF\"},\"showarrow\":false,\"text\":\"-0.29\",\"x\":\"temp3pm\",\"xref\":\"x\",\"y\":\"pressure9am\",\"yref\":\"y\"},{\"font\":{\"color\":\"#FFFFFF\"},\"showarrow\":false,\"text\":\"-0.18\",\"x\":\"raintoday\",\"xref\":\"x\",\"y\":\"pressure9am\",\"yref\":\"y\"},{\"font\":{\"color\":\"#FFFFFF\"},\"showarrow\":false,\"text\":\"-0.23\",\"x\":\"raintomorrow\",\"xref\":\"x\",\"y\":\"pressure9am\",\"yref\":\"y\"},{\"font\":{\"color\":\"#FFFFFF\"},\"showarrow\":false,\"text\":\"-0.46\",\"x\":\"mintemp\",\"xref\":\"x\",\"y\":\"pressure3pm\",\"yref\":\"y\"},{\"font\":{\"color\":\"#FFFFFF\"},\"showarrow\":false,\"text\":\"-0.42\",\"x\":\"maxtemp\",\"xref\":\"x\",\"y\":\"pressure3pm\",\"yref\":\"y\"},{\"font\":{\"color\":\"#FFFFFF\"},\"showarrow\":false,\"text\":\"-0.12\",\"x\":\"rainfall\",\"xref\":\"x\",\"y\":\"pressure3pm\",\"yref\":\"y\"},{\"font\":{\"color\":\"#FFFFFF\"},\"showarrow\":false,\"text\":\"-0.29\",\"x\":\"evaporation\",\"xref\":\"x\",\"y\":\"pressure3pm\",\"yref\":\"y\"},{\"font\":{\"color\":\"#FFFFFF\"},\"showarrow\":false,\"text\":\"-0.02\",\"x\":\"sunshine\",\"xref\":\"x\",\"y\":\"pressure3pm\",\"yref\":\"y\"},{\"font\":{\"color\":\"#FFFFFF\"},\"showarrow\":false,\"text\":\"-0.39\",\"x\":\"windgustspeed\",\"xref\":\"x\",\"y\":\"pressure3pm\",\"yref\":\"y\"},{\"font\":{\"color\":\"#FFFFFF\"},\"showarrow\":false,\"text\":\"-0.17\",\"x\":\"windspeed9am\",\"xref\":\"x\",\"y\":\"pressure3pm\",\"yref\":\"y\"},{\"font\":{\"color\":\"#FFFFFF\"},\"showarrow\":false,\"text\":\"-0.25\",\"x\":\"windspeed3pm\",\"xref\":\"x\",\"y\":\"pressure3pm\",\"yref\":\"y\"},{\"font\":{\"color\":\"#000000\"},\"showarrow\":false,\"text\":\"0.19\",\"x\":\"humidity9am\",\"xref\":\"x\",\"y\":\"pressure3pm\",\"yref\":\"y\"},{\"font\":{\"color\":\"#FFFFFF\"},\"showarrow\":false,\"text\":\"0.06\",\"x\":\"humidity3pm\",\"xref\":\"x\",\"y\":\"pressure3pm\",\"yref\":\"y\"},{\"font\":{\"color\":\"#000000\"},\"showarrow\":false,\"text\":\"0.96\",\"x\":\"pressure9am\",\"xref\":\"x\",\"y\":\"pressure3pm\",\"yref\":\"y\"},{\"font\":{\"color\":\"#000000\"},\"showarrow\":false,\"text\":\"1.0\",\"x\":\"pressure3pm\",\"xref\":\"x\",\"y\":\"pressure3pm\",\"yref\":\"y\"},{\"font\":{\"color\":\"#FFFFFF\"},\"showarrow\":false,\"text\":\"-0.06\",\"x\":\"cloud9am\",\"xref\":\"x\",\"y\":\"pressure3pm\",\"yref\":\"y\"},{\"font\":{\"color\":\"#FFFFFF\"},\"showarrow\":false,\"text\":\"-0.08\",\"x\":\"cloud3pm\",\"xref\":\"x\",\"y\":\"pressure3pm\",\"yref\":\"y\"},{\"font\":{\"color\":\"#FFFFFF\"},\"showarrow\":false,\"text\":\"-0.46\",\"x\":\"temp9am\",\"xref\":\"x\",\"y\":\"pressure3pm\",\"yref\":\"y\"},{\"font\":{\"color\":\"#FFFFFF\"},\"showarrow\":false,\"text\":\"-0.39\",\"x\":\"temp3pm\",\"xref\":\"x\",\"y\":\"pressure3pm\",\"yref\":\"y\"},{\"font\":{\"color\":\"#FFFFFF\"},\"showarrow\":false,\"text\":\"-0.1\",\"x\":\"raintoday\",\"xref\":\"x\",\"y\":\"pressure3pm\",\"yref\":\"y\"},{\"font\":{\"color\":\"#FFFFFF\"},\"showarrow\":false,\"text\":\"-0.21\",\"x\":\"raintomorrow\",\"xref\":\"x\",\"y\":\"pressure3pm\",\"yref\":\"y\"},{\"font\":{\"color\":\"#FFFFFF\"},\"showarrow\":false,\"text\":\"0.08\",\"x\":\"mintemp\",\"xref\":\"x\",\"y\":\"cloud9am\",\"yref\":\"y\"},{\"font\":{\"color\":\"#FFFFFF\"},\"showarrow\":false,\"text\":\"-0.29\",\"x\":\"maxtemp\",\"xref\":\"x\",\"y\":\"cloud9am\",\"yref\":\"y\"},{\"font\":{\"color\":\"#000000\"},\"showarrow\":false,\"text\":\"0.2\",\"x\":\"rainfall\",\"xref\":\"x\",\"y\":\"cloud9am\",\"yref\":\"y\"},{\"font\":{\"color\":\"#FFFFFF\"},\"showarrow\":false,\"text\":\"-0.19\",\"x\":\"evaporation\",\"xref\":\"x\",\"y\":\"cloud9am\",\"yref\":\"y\"},{\"font\":{\"color\":\"#FFFFFF\"},\"showarrow\":false,\"text\":\"-0.68\",\"x\":\"sunshine\",\"xref\":\"x\",\"y\":\"cloud9am\",\"yref\":\"y\"},{\"font\":{\"color\":\"#FFFFFF\"},\"showarrow\":false,\"text\":\"0.07\",\"x\":\"windgustspeed\",\"xref\":\"x\",\"y\":\"cloud9am\",\"yref\":\"y\"},{\"font\":{\"color\":\"#FFFFFF\"},\"showarrow\":false,\"text\":\"0.02\",\"x\":\"windspeed9am\",\"xref\":\"x\",\"y\":\"cloud9am\",\"yref\":\"y\"},{\"font\":{\"color\":\"#FFFFFF\"},\"showarrow\":false,\"text\":\"0.05\",\"x\":\"windspeed3pm\",\"xref\":\"x\",\"y\":\"cloud9am\",\"yref\":\"y\"},{\"font\":{\"color\":\"#000000\"},\"showarrow\":false,\"text\":\"0.45\",\"x\":\"humidity9am\",\"xref\":\"x\",\"y\":\"cloud9am\",\"yref\":\"y\"},{\"font\":{\"color\":\"#000000\"},\"showarrow\":false,\"text\":\"0.51\",\"x\":\"humidity3pm\",\"xref\":\"x\",\"y\":\"cloud9am\",\"yref\":\"y\"},{\"font\":{\"color\":\"#FFFFFF\"},\"showarrow\":false,\"text\":\"-0.13\",\"x\":\"pressure9am\",\"xref\":\"x\",\"y\":\"cloud9am\",\"yref\":\"y\"},{\"font\":{\"color\":\"#FFFFFF\"},\"showarrow\":false,\"text\":\"-0.06\",\"x\":\"pressure3pm\",\"xref\":\"x\",\"y\":\"cloud9am\",\"yref\":\"y\"},{\"font\":{\"color\":\"#000000\"},\"showarrow\":false,\"text\":\"1.0\",\"x\":\"cloud9am\",\"xref\":\"x\",\"y\":\"cloud9am\",\"yref\":\"y\"},{\"font\":{\"color\":\"#000000\"},\"showarrow\":false,\"text\":\"0.6\",\"x\":\"cloud3pm\",\"xref\":\"x\",\"y\":\"cloud9am\",\"yref\":\"y\"},{\"font\":{\"color\":\"#FFFFFF\"},\"showarrow\":false,\"text\":\"-0.14\",\"x\":\"temp9am\",\"xref\":\"x\",\"y\":\"cloud9am\",\"yref\":\"y\"},{\"font\":{\"color\":\"#FFFFFF\"},\"showarrow\":false,\"text\":\"-0.3\",\"x\":\"temp3pm\",\"xref\":\"x\",\"y\":\"cloud9am\",\"yref\":\"y\"},{\"font\":{\"color\":\"#000000\"},\"showarrow\":false,\"text\":\"0.31\",\"x\":\"raintoday\",\"xref\":\"x\",\"y\":\"cloud9am\",\"yref\":\"y\"},{\"font\":{\"color\":\"#000000\"},\"showarrow\":false,\"text\":\"0.32\",\"x\":\"raintomorrow\",\"xref\":\"x\",\"y\":\"cloud9am\",\"yref\":\"y\"},{\"font\":{\"color\":\"#FFFFFF\"},\"showarrow\":false,\"text\":\"0.02\",\"x\":\"mintemp\",\"xref\":\"x\",\"y\":\"cloud3pm\",\"yref\":\"y\"},{\"font\":{\"color\":\"#FFFFFF\"},\"showarrow\":false,\"text\":\"-0.28\",\"x\":\"maxtemp\",\"xref\":\"x\",\"y\":\"cloud3pm\",\"yref\":\"y\"},{\"font\":{\"color\":\"#000000\"},\"showarrow\":false,\"text\":\"0.17\",\"x\":\"rainfall\",\"xref\":\"x\",\"y\":\"cloud3pm\",\"yref\":\"y\"},{\"font\":{\"color\":\"#FFFFFF\"},\"showarrow\":false,\"text\":\"-0.18\",\"x\":\"evaporation\",\"xref\":\"x\",\"y\":\"cloud3pm\",\"yref\":\"y\"},{\"font\":{\"color\":\"#FFFFFF\"},\"showarrow\":false,\"text\":\"-0.7\",\"x\":\"sunshine\",\"xref\":\"x\",\"y\":\"cloud3pm\",\"yref\":\"y\"},{\"font\":{\"color\":\"#FFFFFF\"},\"showarrow\":false,\"text\":\"0.1\",\"x\":\"windgustspeed\",\"xref\":\"x\",\"y\":\"cloud3pm\",\"yref\":\"y\"},{\"font\":{\"color\":\"#FFFFFF\"},\"showarrow\":false,\"text\":\"0.05\",\"x\":\"windspeed9am\",\"xref\":\"x\",\"y\":\"cloud3pm\",\"yref\":\"y\"},{\"font\":{\"color\":\"#FFFFFF\"},\"showarrow\":false,\"text\":\"0.02\",\"x\":\"windspeed3pm\",\"xref\":\"x\",\"y\":\"cloud3pm\",\"yref\":\"y\"},{\"font\":{\"color\":\"#000000\"},\"showarrow\":false,\"text\":\"0.36\",\"x\":\"humidity9am\",\"xref\":\"x\",\"y\":\"cloud3pm\",\"yref\":\"y\"},{\"font\":{\"color\":\"#000000\"},\"showarrow\":false,\"text\":\"0.52\",\"x\":\"humidity3pm\",\"xref\":\"x\",\"y\":\"cloud3pm\",\"yref\":\"y\"},{\"font\":{\"color\":\"#FFFFFF\"},\"showarrow\":false,\"text\":\"-0.15\",\"x\":\"pressure9am\",\"xref\":\"x\",\"y\":\"cloud3pm\",\"yref\":\"y\"},{\"font\":{\"color\":\"#FFFFFF\"},\"showarrow\":false,\"text\":\"-0.08\",\"x\":\"pressure3pm\",\"xref\":\"x\",\"y\":\"cloud3pm\",\"yref\":\"y\"},{\"font\":{\"color\":\"#000000\"},\"showarrow\":false,\"text\":\"0.6\",\"x\":\"cloud9am\",\"xref\":\"x\",\"y\":\"cloud3pm\",\"yref\":\"y\"},{\"font\":{\"color\":\"#000000\"},\"showarrow\":false,\"text\":\"1.0\",\"x\":\"cloud3pm\",\"xref\":\"x\",\"y\":\"cloud3pm\",\"yref\":\"y\"},{\"font\":{\"color\":\"#FFFFFF\"},\"showarrow\":false,\"text\":\"-0.13\",\"x\":\"temp9am\",\"xref\":\"x\",\"y\":\"cloud3pm\",\"yref\":\"y\"},{\"font\":{\"color\":\"#FFFFFF\"},\"showarrow\":false,\"text\":\"-0.32\",\"x\":\"temp3pm\",\"xref\":\"x\",\"y\":\"cloud3pm\",\"yref\":\"y\"},{\"font\":{\"color\":\"#000000\"},\"showarrow\":false,\"text\":\"0.27\",\"x\":\"raintoday\",\"xref\":\"x\",\"y\":\"cloud3pm\",\"yref\":\"y\"},{\"font\":{\"color\":\"#000000\"},\"showarrow\":false,\"text\":\"0.38\",\"x\":\"raintomorrow\",\"xref\":\"x\",\"y\":\"cloud3pm\",\"yref\":\"y\"},{\"font\":{\"color\":\"#000000\"},\"showarrow\":false,\"text\":\"0.9\",\"x\":\"mintemp\",\"xref\":\"x\",\"y\":\"temp9am\",\"yref\":\"y\"},{\"font\":{\"color\":\"#000000\"},\"showarrow\":false,\"text\":\"0.89\",\"x\":\"maxtemp\",\"xref\":\"x\",\"y\":\"temp9am\",\"yref\":\"y\"},{\"font\":{\"color\":\"#FFFFFF\"},\"showarrow\":false,\"text\":\"0.01\",\"x\":\"rainfall\",\"xref\":\"x\",\"y\":\"temp9am\",\"yref\":\"y\"},{\"font\":{\"color\":\"#000000\"},\"showarrow\":false,\"text\":\"0.55\",\"x\":\"evaporation\",\"xref\":\"x\",\"y\":\"temp9am\",\"yref\":\"y\"},{\"font\":{\"color\":\"#000000\"},\"showarrow\":false,\"text\":\"0.29\",\"x\":\"sunshine\",\"xref\":\"x\",\"y\":\"temp9am\",\"yref\":\"y\"},{\"font\":{\"color\":\"#000000\"},\"showarrow\":false,\"text\":\"0.15\",\"x\":\"windgustspeed\",\"xref\":\"x\",\"y\":\"temp9am\",\"yref\":\"y\"},{\"font\":{\"color\":\"#FFFFFF\"},\"showarrow\":false,\"text\":\"0.13\",\"x\":\"windspeed9am\",\"xref\":\"x\",\"y\":\"temp9am\",\"yref\":\"y\"},{\"font\":{\"color\":\"#000000\"},\"showarrow\":false,\"text\":\"0.16\",\"x\":\"windspeed3pm\",\"xref\":\"x\",\"y\":\"temp9am\",\"yref\":\"y\"},{\"font\":{\"color\":\"#FFFFFF\"},\"showarrow\":false,\"text\":\"-0.48\",\"x\":\"humidity9am\",\"xref\":\"x\",\"y\":\"temp9am\",\"yref\":\"y\"},{\"font\":{\"color\":\"#FFFFFF\"},\"showarrow\":false,\"text\":\"-0.23\",\"x\":\"humidity3pm\",\"xref\":\"x\",\"y\":\"temp9am\",\"yref\":\"y\"},{\"font\":{\"color\":\"#FFFFFF\"},\"showarrow\":false,\"text\":\"-0.42\",\"x\":\"pressure9am\",\"xref\":\"x\",\"y\":\"temp9am\",\"yref\":\"y\"},{\"font\":{\"color\":\"#FFFFFF\"},\"showarrow\":false,\"text\":\"-0.46\",\"x\":\"pressure3pm\",\"xref\":\"x\",\"y\":\"temp9am\",\"yref\":\"y\"},{\"font\":{\"color\":\"#FFFFFF\"},\"showarrow\":false,\"text\":\"-0.14\",\"x\":\"cloud9am\",\"xref\":\"x\",\"y\":\"temp9am\",\"yref\":\"y\"},{\"font\":{\"color\":\"#FFFFFF\"},\"showarrow\":false,\"text\":\"-0.13\",\"x\":\"cloud3pm\",\"xref\":\"x\",\"y\":\"temp9am\",\"yref\":\"y\"},{\"font\":{\"color\":\"#000000\"},\"showarrow\":false,\"text\":\"1.0\",\"x\":\"temp9am\",\"xref\":\"x\",\"y\":\"temp9am\",\"yref\":\"y\"},{\"font\":{\"color\":\"#000000\"},\"showarrow\":false,\"text\":\"0.86\",\"x\":\"temp3pm\",\"xref\":\"x\",\"y\":\"temp9am\",\"yref\":\"y\"},{\"font\":{\"color\":\"#FFFFFF\"},\"showarrow\":false,\"text\":\"-0.1\",\"x\":\"raintoday\",\"xref\":\"x\",\"y\":\"temp9am\",\"yref\":\"y\"},{\"font\":{\"color\":\"#FFFFFF\"},\"showarrow\":false,\"text\":\"-0.03\",\"x\":\"raintomorrow\",\"xref\":\"x\",\"y\":\"temp9am\",\"yref\":\"y\"},{\"font\":{\"color\":\"#000000\"},\"showarrow\":false,\"text\":\"0.71\",\"x\":\"mintemp\",\"xref\":\"x\",\"y\":\"temp3pm\",\"yref\":\"y\"},{\"font\":{\"color\":\"#000000\"},\"showarrow\":false,\"text\":\"0.98\",\"x\":\"maxtemp\",\"xref\":\"x\",\"y\":\"temp3pm\",\"yref\":\"y\"},{\"font\":{\"color\":\"#FFFFFF\"},\"showarrow\":false,\"text\":\"-0.08\",\"x\":\"rainfall\",\"xref\":\"x\",\"y\":\"temp3pm\",\"yref\":\"y\"},{\"font\":{\"color\":\"#000000\"},\"showarrow\":false,\"text\":\"0.57\",\"x\":\"evaporation\",\"xref\":\"x\",\"y\":\"temp3pm\",\"yref\":\"y\"},{\"font\":{\"color\":\"#000000\"},\"showarrow\":false,\"text\":\"0.49\",\"x\":\"sunshine\",\"xref\":\"x\",\"y\":\"temp3pm\",\"yref\":\"y\"},{\"font\":{\"color\":\"#FFFFFF\"},\"showarrow\":false,\"text\":\"0.03\",\"x\":\"windgustspeed\",\"xref\":\"x\",\"y\":\"temp3pm\",\"yref\":\"y\"},{\"font\":{\"color\":\"#FFFFFF\"},\"showarrow\":false,\"text\":\"0.0\",\"x\":\"windspeed9am\",\"xref\":\"x\",\"y\":\"temp3pm\",\"yref\":\"y\"},{\"font\":{\"color\":\"#FFFFFF\"},\"showarrow\":false,\"text\":\"0.03\",\"x\":\"windspeed3pm\",\"xref\":\"x\",\"y\":\"temp3pm\",\"yref\":\"y\"},{\"font\":{\"color\":\"#FFFFFF\"},\"showarrow\":false,\"text\":\"-0.5\",\"x\":\"humidity9am\",\"xref\":\"x\",\"y\":\"temp3pm\",\"yref\":\"y\"},{\"font\":{\"color\":\"#FFFFFF\"},\"showarrow\":false,\"text\":\"-0.56\",\"x\":\"humidity3pm\",\"xref\":\"x\",\"y\":\"temp3pm\",\"yref\":\"y\"},{\"font\":{\"color\":\"#FFFFFF\"},\"showarrow\":false,\"text\":\"-0.29\",\"x\":\"pressure9am\",\"xref\":\"x\",\"y\":\"temp3pm\",\"yref\":\"y\"},{\"font\":{\"color\":\"#FFFFFF\"},\"showarrow\":false,\"text\":\"-0.39\",\"x\":\"pressure3pm\",\"xref\":\"x\",\"y\":\"temp3pm\",\"yref\":\"y\"},{\"font\":{\"color\":\"#FFFFFF\"},\"showarrow\":false,\"text\":\"-0.3\",\"x\":\"cloud9am\",\"xref\":\"x\",\"y\":\"temp3pm\",\"yref\":\"y\"},{\"font\":{\"color\":\"#FFFFFF\"},\"showarrow\":false,\"text\":\"-0.32\",\"x\":\"cloud3pm\",\"xref\":\"x\",\"y\":\"temp3pm\",\"yref\":\"y\"},{\"font\":{\"color\":\"#000000\"},\"showarrow\":false,\"text\":\"0.86\",\"x\":\"temp9am\",\"xref\":\"x\",\"y\":\"temp3pm\",\"yref\":\"y\"},{\"font\":{\"color\":\"#000000\"},\"showarrow\":false,\"text\":\"1.0\",\"x\":\"temp3pm\",\"xref\":\"x\",\"y\":\"temp3pm\",\"yref\":\"y\"},{\"font\":{\"color\":\"#FFFFFF\"},\"showarrow\":false,\"text\":\"-0.23\",\"x\":\"raintoday\",\"xref\":\"x\",\"y\":\"temp3pm\",\"yref\":\"y\"},{\"font\":{\"color\":\"#FFFFFF\"},\"showarrow\":false,\"text\":\"-0.19\",\"x\":\"raintomorrow\",\"xref\":\"x\",\"y\":\"temp3pm\",\"yref\":\"y\"},{\"font\":{\"color\":\"#FFFFFF\"},\"showarrow\":false,\"text\":\"0.06\",\"x\":\"mintemp\",\"xref\":\"x\",\"y\":\"raintoday\",\"yref\":\"y\"},{\"font\":{\"color\":\"#FFFFFF\"},\"showarrow\":false,\"text\":\"-0.23\",\"x\":\"maxtemp\",\"xref\":\"x\",\"y\":\"raintoday\",\"yref\":\"y\"},{\"font\":{\"color\":\"#000000\"},\"showarrow\":false,\"text\":\"0.5\",\"x\":\"rainfall\",\"xref\":\"x\",\"y\":\"raintoday\",\"yref\":\"y\"},{\"font\":{\"color\":\"#FFFFFF\"},\"showarrow\":false,\"text\":\"-0.19\",\"x\":\"evaporation\",\"xref\":\"x\",\"y\":\"raintoday\",\"yref\":\"y\"},{\"font\":{\"color\":\"#FFFFFF\"},\"showarrow\":false,\"text\":\"-0.33\",\"x\":\"sunshine\",\"xref\":\"x\",\"y\":\"raintoday\",\"yref\":\"y\"},{\"font\":{\"color\":\"#000000\"},\"showarrow\":false,\"text\":\"0.15\",\"x\":\"windgustspeed\",\"xref\":\"x\",\"y\":\"raintoday\",\"yref\":\"y\"},{\"font\":{\"color\":\"#FFFFFF\"},\"showarrow\":false,\"text\":\"0.1\",\"x\":\"windspeed9am\",\"xref\":\"x\",\"y\":\"raintoday\",\"yref\":\"y\"},{\"font\":{\"color\":\"#FFFFFF\"},\"showarrow\":false,\"text\":\"0.08\",\"x\":\"windspeed3pm\",\"xref\":\"x\",\"y\":\"raintoday\",\"yref\":\"y\"},{\"font\":{\"color\":\"#000000\"},\"showarrow\":false,\"text\":\"0.35\",\"x\":\"humidity9am\",\"xref\":\"x\",\"y\":\"raintoday\",\"yref\":\"y\"},{\"font\":{\"color\":\"#000000\"},\"showarrow\":false,\"text\":\"0.38\",\"x\":\"humidity3pm\",\"xref\":\"x\",\"y\":\"raintoday\",\"yref\":\"y\"},{\"font\":{\"color\":\"#FFFFFF\"},\"showarrow\":false,\"text\":\"-0.18\",\"x\":\"pressure9am\",\"xref\":\"x\",\"y\":\"raintoday\",\"yref\":\"y\"},{\"font\":{\"color\":\"#FFFFFF\"},\"showarrow\":false,\"text\":\"-0.1\",\"x\":\"pressure3pm\",\"xref\":\"x\",\"y\":\"raintoday\",\"yref\":\"y\"},{\"font\":{\"color\":\"#000000\"},\"showarrow\":false,\"text\":\"0.31\",\"x\":\"cloud9am\",\"xref\":\"x\",\"y\":\"raintoday\",\"yref\":\"y\"},{\"font\":{\"color\":\"#000000\"},\"showarrow\":false,\"text\":\"0.27\",\"x\":\"cloud3pm\",\"xref\":\"x\",\"y\":\"raintoday\",\"yref\":\"y\"},{\"font\":{\"color\":\"#FFFFFF\"},\"showarrow\":false,\"text\":\"-0.1\",\"x\":\"temp9am\",\"xref\":\"x\",\"y\":\"raintoday\",\"yref\":\"y\"},{\"font\":{\"color\":\"#FFFFFF\"},\"showarrow\":false,\"text\":\"-0.23\",\"x\":\"temp3pm\",\"xref\":\"x\",\"y\":\"raintoday\",\"yref\":\"y\"},{\"font\":{\"color\":\"#000000\"},\"showarrow\":false,\"text\":\"1.0\",\"x\":\"raintoday\",\"xref\":\"x\",\"y\":\"raintoday\",\"yref\":\"y\"},{\"font\":{\"color\":\"#000000\"},\"showarrow\":false,\"text\":\"0.31\",\"x\":\"raintomorrow\",\"xref\":\"x\",\"y\":\"raintoday\",\"yref\":\"y\"},{\"font\":{\"color\":\"#FFFFFF\"},\"showarrow\":false,\"text\":\"0.08\",\"x\":\"mintemp\",\"xref\":\"x\",\"y\":\"raintomorrow\",\"yref\":\"y\"},{\"font\":{\"color\":\"#FFFFFF\"},\"showarrow\":false,\"text\":\"-0.16\",\"x\":\"maxtemp\",\"xref\":\"x\",\"y\":\"raintomorrow\",\"yref\":\"y\"},{\"font\":{\"color\":\"#000000\"},\"showarrow\":false,\"text\":\"0.24\",\"x\":\"rainfall\",\"xref\":\"x\",\"y\":\"raintomorrow\",\"yref\":\"y\"},{\"font\":{\"color\":\"#FFFFFF\"},\"showarrow\":false,\"text\":\"-0.12\",\"x\":\"evaporation\",\"xref\":\"x\",\"y\":\"raintomorrow\",\"yref\":\"y\"},{\"font\":{\"color\":\"#FFFFFF\"},\"showarrow\":false,\"text\":\"-0.45\",\"x\":\"sunshine\",\"xref\":\"x\",\"y\":\"raintomorrow\",\"yref\":\"y\"},{\"font\":{\"color\":\"#000000\"},\"showarrow\":false,\"text\":\"0.22\",\"x\":\"windgustspeed\",\"xref\":\"x\",\"y\":\"raintomorrow\",\"yref\":\"y\"},{\"font\":{\"color\":\"#FFFFFF\"},\"showarrow\":false,\"text\":\"0.09\",\"x\":\"windspeed9am\",\"xref\":\"x\",\"y\":\"raintomorrow\",\"yref\":\"y\"},{\"font\":{\"color\":\"#FFFFFF\"},\"showarrow\":false,\"text\":\"0.08\",\"x\":\"windspeed3pm\",\"xref\":\"x\",\"y\":\"raintomorrow\",\"yref\":\"y\"},{\"font\":{\"color\":\"#000000\"},\"showarrow\":false,\"text\":\"0.26\",\"x\":\"humidity9am\",\"xref\":\"x\",\"y\":\"raintomorrow\",\"yref\":\"y\"},{\"font\":{\"color\":\"#000000\"},\"showarrow\":false,\"text\":\"0.44\",\"x\":\"humidity3pm\",\"xref\":\"x\",\"y\":\"raintomorrow\",\"yref\":\"y\"},{\"font\":{\"color\":\"#FFFFFF\"},\"showarrow\":false,\"text\":\"-0.23\",\"x\":\"pressure9am\",\"xref\":\"x\",\"y\":\"raintomorrow\",\"yref\":\"y\"},{\"font\":{\"color\":\"#FFFFFF\"},\"showarrow\":false,\"text\":\"-0.21\",\"x\":\"pressure3pm\",\"xref\":\"x\",\"y\":\"raintomorrow\",\"yref\":\"y\"},{\"font\":{\"color\":\"#000000\"},\"showarrow\":false,\"text\":\"0.32\",\"x\":\"cloud9am\",\"xref\":\"x\",\"y\":\"raintomorrow\",\"yref\":\"y\"},{\"font\":{\"color\":\"#000000\"},\"showarrow\":false,\"text\":\"0.38\",\"x\":\"cloud3pm\",\"xref\":\"x\",\"y\":\"raintomorrow\",\"yref\":\"y\"},{\"font\":{\"color\":\"#FFFFFF\"},\"showarrow\":false,\"text\":\"-0.03\",\"x\":\"temp9am\",\"xref\":\"x\",\"y\":\"raintomorrow\",\"yref\":\"y\"},{\"font\":{\"color\":\"#FFFFFF\"},\"showarrow\":false,\"text\":\"-0.19\",\"x\":\"temp3pm\",\"xref\":\"x\",\"y\":\"raintomorrow\",\"yref\":\"y\"},{\"font\":{\"color\":\"#000000\"},\"showarrow\":false,\"text\":\"0.31\",\"x\":\"raintoday\",\"xref\":\"x\",\"y\":\"raintomorrow\",\"yref\":\"y\"},{\"font\":{\"color\":\"#000000\"},\"showarrow\":false,\"text\":\"1.0\",\"x\":\"raintomorrow\",\"xref\":\"x\",\"y\":\"raintomorrow\",\"yref\":\"y\"}],\"xaxis\":{\"dtick\":1,\"gridcolor\":\"rgb(0, 0, 0)\",\"side\":\"top\",\"ticks\":\"\"},\"yaxis\":{\"dtick\":1,\"ticks\":\"\",\"ticksuffix\":\"  \"},\"template\":{\"data\":{\"bar\":[{\"error_x\":{\"color\":\"#2a3f5f\"},\"error_y\":{\"color\":\"#2a3f5f\"},\"marker\":{\"line\":{\"color\":\"#E5ECF6\",\"width\":0.5},\"pattern\":{\"fillmode\":\"overlay\",\"size\":10,\"solidity\":0.2}},\"type\":\"bar\"}],\"barpolar\":[{\"marker\":{\"line\":{\"color\":\"#E5ECF6\",\"width\":0.5},\"pattern\":{\"fillmode\":\"overlay\",\"size\":10,\"solidity\":0.2}},\"type\":\"barpolar\"}],\"carpet\":[{\"aaxis\":{\"endlinecolor\":\"#2a3f5f\",\"gridcolor\":\"white\",\"linecolor\":\"white\",\"minorgridcolor\":\"white\",\"startlinecolor\":\"#2a3f5f\"},\"baxis\":{\"endlinecolor\":\"#2a3f5f\",\"gridcolor\":\"white\",\"linecolor\":\"white\",\"minorgridcolor\":\"white\",\"startlinecolor\":\"#2a3f5f\"},\"type\":\"carpet\"}],\"choropleth\":[{\"colorbar\":{\"outlinewidth\":0,\"ticks\":\"\"},\"type\":\"choropleth\"}],\"contour\":[{\"colorbar\":{\"outlinewidth\":0,\"ticks\":\"\"},\"colorscale\":[[0.0,\"#0d0887\"],[0.1111111111111111,\"#46039f\"],[0.2222222222222222,\"#7201a8\"],[0.3333333333333333,\"#9c179e\"],[0.4444444444444444,\"#bd3786\"],[0.5555555555555556,\"#d8576b\"],[0.6666666666666666,\"#ed7953\"],[0.7777777777777778,\"#fb9f3a\"],[0.8888888888888888,\"#fdca26\"],[1.0,\"#f0f921\"]],\"type\":\"contour\"}],\"contourcarpet\":[{\"colorbar\":{\"outlinewidth\":0,\"ticks\":\"\"},\"type\":\"contourcarpet\"}],\"heatmap\":[{\"colorbar\":{\"outlinewidth\":0,\"ticks\":\"\"},\"colorscale\":[[0.0,\"#0d0887\"],[0.1111111111111111,\"#46039f\"],[0.2222222222222222,\"#7201a8\"],[0.3333333333333333,\"#9c179e\"],[0.4444444444444444,\"#bd3786\"],[0.5555555555555556,\"#d8576b\"],[0.6666666666666666,\"#ed7953\"],[0.7777777777777778,\"#fb9f3a\"],[0.8888888888888888,\"#fdca26\"],[1.0,\"#f0f921\"]],\"type\":\"heatmap\"}],\"heatmapgl\":[{\"colorbar\":{\"outlinewidth\":0,\"ticks\":\"\"},\"colorscale\":[[0.0,\"#0d0887\"],[0.1111111111111111,\"#46039f\"],[0.2222222222222222,\"#7201a8\"],[0.3333333333333333,\"#9c179e\"],[0.4444444444444444,\"#bd3786\"],[0.5555555555555556,\"#d8576b\"],[0.6666666666666666,\"#ed7953\"],[0.7777777777777778,\"#fb9f3a\"],[0.8888888888888888,\"#fdca26\"],[1.0,\"#f0f921\"]],\"type\":\"heatmapgl\"}],\"histogram\":[{\"marker\":{\"pattern\":{\"fillmode\":\"overlay\",\"size\":10,\"solidity\":0.2}},\"type\":\"histogram\"}],\"histogram2d\":[{\"colorbar\":{\"outlinewidth\":0,\"ticks\":\"\"},\"colorscale\":[[0.0,\"#0d0887\"],[0.1111111111111111,\"#46039f\"],[0.2222222222222222,\"#7201a8\"],[0.3333333333333333,\"#9c179e\"],[0.4444444444444444,\"#bd3786\"],[0.5555555555555556,\"#d8576b\"],[0.6666666666666666,\"#ed7953\"],[0.7777777777777778,\"#fb9f3a\"],[0.8888888888888888,\"#fdca26\"],[1.0,\"#f0f921\"]],\"type\":\"histogram2d\"}],\"histogram2dcontour\":[{\"colorbar\":{\"outlinewidth\":0,\"ticks\":\"\"},\"colorscale\":[[0.0,\"#0d0887\"],[0.1111111111111111,\"#46039f\"],[0.2222222222222222,\"#7201a8\"],[0.3333333333333333,\"#9c179e\"],[0.4444444444444444,\"#bd3786\"],[0.5555555555555556,\"#d8576b\"],[0.6666666666666666,\"#ed7953\"],[0.7777777777777778,\"#fb9f3a\"],[0.8888888888888888,\"#fdca26\"],[1.0,\"#f0f921\"]],\"type\":\"histogram2dcontour\"}],\"mesh3d\":[{\"colorbar\":{\"outlinewidth\":0,\"ticks\":\"\"},\"type\":\"mesh3d\"}],\"parcoords\":[{\"line\":{\"colorbar\":{\"outlinewidth\":0,\"ticks\":\"\"}},\"type\":\"parcoords\"}],\"pie\":[{\"automargin\":true,\"type\":\"pie\"}],\"scatter\":[{\"marker\":{\"colorbar\":{\"outlinewidth\":0,\"ticks\":\"\"}},\"type\":\"scatter\"}],\"scatter3d\":[{\"line\":{\"colorbar\":{\"outlinewidth\":0,\"ticks\":\"\"}},\"marker\":{\"colorbar\":{\"outlinewidth\":0,\"ticks\":\"\"}},\"type\":\"scatter3d\"}],\"scattercarpet\":[{\"marker\":{\"colorbar\":{\"outlinewidth\":0,\"ticks\":\"\"}},\"type\":\"scattercarpet\"}],\"scattergeo\":[{\"marker\":{\"colorbar\":{\"outlinewidth\":0,\"ticks\":\"\"}},\"type\":\"scattergeo\"}],\"scattergl\":[{\"marker\":{\"colorbar\":{\"outlinewidth\":0,\"ticks\":\"\"}},\"type\":\"scattergl\"}],\"scattermapbox\":[{\"marker\":{\"colorbar\":{\"outlinewidth\":0,\"ticks\":\"\"}},\"type\":\"scattermapbox\"}],\"scatterpolar\":[{\"marker\":{\"colorbar\":{\"outlinewidth\":0,\"ticks\":\"\"}},\"type\":\"scatterpolar\"}],\"scatterpolargl\":[{\"marker\":{\"colorbar\":{\"outlinewidth\":0,\"ticks\":\"\"}},\"type\":\"scatterpolargl\"}],\"scatterternary\":[{\"marker\":{\"colorbar\":{\"outlinewidth\":0,\"ticks\":\"\"}},\"type\":\"scatterternary\"}],\"surface\":[{\"colorbar\":{\"outlinewidth\":0,\"ticks\":\"\"},\"colorscale\":[[0.0,\"#0d0887\"],[0.1111111111111111,\"#46039f\"],[0.2222222222222222,\"#7201a8\"],[0.3333333333333333,\"#9c179e\"],[0.4444444444444444,\"#bd3786\"],[0.5555555555555556,\"#d8576b\"],[0.6666666666666666,\"#ed7953\"],[0.7777777777777778,\"#fb9f3a\"],[0.8888888888888888,\"#fdca26\"],[1.0,\"#f0f921\"]],\"type\":\"surface\"}],\"table\":[{\"cells\":{\"fill\":{\"color\":\"#EBF0F8\"},\"line\":{\"color\":\"white\"}},\"header\":{\"fill\":{\"color\":\"#C8D4E3\"},\"line\":{\"color\":\"white\"}},\"type\":\"table\"}]},\"layout\":{\"annotationdefaults\":{\"arrowcolor\":\"#2a3f5f\",\"arrowhead\":0,\"arrowwidth\":1},\"autotypenumbers\":\"strict\",\"coloraxis\":{\"colorbar\":{\"outlinewidth\":0,\"ticks\":\"\"}},\"colorscale\":{\"diverging\":[[0,\"#8e0152\"],[0.1,\"#c51b7d\"],[0.2,\"#de77ae\"],[0.3,\"#f1b6da\"],[0.4,\"#fde0ef\"],[0.5,\"#f7f7f7\"],[0.6,\"#e6f5d0\"],[0.7,\"#b8e186\"],[0.8,\"#7fbc41\"],[0.9,\"#4d9221\"],[1,\"#276419\"]],\"sequential\":[[0.0,\"#0d0887\"],[0.1111111111111111,\"#46039f\"],[0.2222222222222222,\"#7201a8\"],[0.3333333333333333,\"#9c179e\"],[0.4444444444444444,\"#bd3786\"],[0.5555555555555556,\"#d8576b\"],[0.6666666666666666,\"#ed7953\"],[0.7777777777777778,\"#fb9f3a\"],[0.8888888888888888,\"#fdca26\"],[1.0,\"#f0f921\"]],\"sequentialminus\":[[0.0,\"#0d0887\"],[0.1111111111111111,\"#46039f\"],[0.2222222222222222,\"#7201a8\"],[0.3333333333333333,\"#9c179e\"],[0.4444444444444444,\"#bd3786\"],[0.5555555555555556,\"#d8576b\"],[0.6666666666666666,\"#ed7953\"],[0.7777777777777778,\"#fb9f3a\"],[0.8888888888888888,\"#fdca26\"],[1.0,\"#f0f921\"]]},\"colorway\":[\"#636efa\",\"#EF553B\",\"#00cc96\",\"#ab63fa\",\"#FFA15A\",\"#19d3f3\",\"#FF6692\",\"#B6E880\",\"#FF97FF\",\"#FECB52\"],\"font\":{\"color\":\"#2a3f5f\"},\"geo\":{\"bgcolor\":\"white\",\"lakecolor\":\"white\",\"landcolor\":\"#E5ECF6\",\"showlakes\":true,\"showland\":true,\"subunitcolor\":\"white\"},\"hoverlabel\":{\"align\":\"left\"},\"hovermode\":\"closest\",\"mapbox\":{\"style\":\"light\"},\"paper_bgcolor\":\"white\",\"plot_bgcolor\":\"#E5ECF6\",\"polar\":{\"angularaxis\":{\"gridcolor\":\"white\",\"linecolor\":\"white\",\"ticks\":\"\"},\"bgcolor\":\"#E5ECF6\",\"radialaxis\":{\"gridcolor\":\"white\",\"linecolor\":\"white\",\"ticks\":\"\"}},\"scene\":{\"xaxis\":{\"backgroundcolor\":\"#E5ECF6\",\"gridcolor\":\"white\",\"gridwidth\":2,\"linecolor\":\"white\",\"showbackground\":true,\"ticks\":\"\",\"zerolinecolor\":\"white\"},\"yaxis\":{\"backgroundcolor\":\"#E5ECF6\",\"gridcolor\":\"white\",\"gridwidth\":2,\"linecolor\":\"white\",\"showbackground\":true,\"ticks\":\"\",\"zerolinecolor\":\"white\"},\"zaxis\":{\"backgroundcolor\":\"#E5ECF6\",\"gridcolor\":\"white\",\"gridwidth\":2,\"linecolor\":\"white\",\"showbackground\":true,\"ticks\":\"\",\"zerolinecolor\":\"white\"}},\"shapedefaults\":{\"line\":{\"color\":\"#2a3f5f\"}},\"ternary\":{\"aaxis\":{\"gridcolor\":\"white\",\"linecolor\":\"white\",\"ticks\":\"\"},\"baxis\":{\"gridcolor\":\"white\",\"linecolor\":\"white\",\"ticks\":\"\"},\"bgcolor\":\"#E5ECF6\",\"caxis\":{\"gridcolor\":\"white\",\"linecolor\":\"white\",\"ticks\":\"\"}},\"title\":{\"x\":0.05},\"xaxis\":{\"automargin\":true,\"gridcolor\":\"white\",\"linecolor\":\"white\",\"ticks\":\"\",\"title\":{\"standoff\":15},\"zerolinecolor\":\"white\",\"zerolinewidth\":2},\"yaxis\":{\"automargin\":true,\"gridcolor\":\"white\",\"linecolor\":\"white\",\"ticks\":\"\",\"title\":{\"standoff\":15},\"zerolinecolor\":\"white\",\"zerolinewidth\":2}}}},                        {\"responsive\": true}                    ).then(function(){\n",
       "                            \n",
       "var gd = document.getElementById('dd73200f-6576-4a14-aa06-491c35a09ace');\n",
       "var x = new MutationObserver(function (mutations, observer) {{\n",
       "        var display = window.getComputedStyle(gd).display;\n",
       "        if (!display || display === 'none') {{\n",
       "            console.log([gd, 'removed!']);\n",
       "            Plotly.purge(gd);\n",
       "            observer.disconnect();\n",
       "        }}\n",
       "}});\n",
       "\n",
       "// Listen for the removal of the full notebook cells\n",
       "var notebookContainer = gd.closest('#notebook-container');\n",
       "if (notebookContainer) {{\n",
       "    x.observe(notebookContainer, {childList: true});\n",
       "}}\n",
       "\n",
       "// Listen for the clearing of the current output cell\n",
       "var outputEl = gd.closest('.output');\n",
       "if (outputEl) {{\n",
       "    x.observe(outputEl, {childList: true});\n",
       "}}\n",
       "\n",
       "                        })                };                });            </script>        </div>"
      ]
     },
     "metadata": {},
     "output_type": "display_data"
    }
   ],
   "source": [
    "data_for_corr = data.copy()\n",
    "data_for_corr['raintomorrow'] = data_for_corr['raintomorrow'].map({'Yes': 1, 'No': 0})\n",
    "data_for_corr['raintoday'] = data_for_corr['raintoday'].map({'Yes': 1, 'No': 0})\n",
    "\n",
    "corrs = data_for_corr.corr()\n",
    "ff.create_annotated_heatmap(\n",
    "    z=corrs.values,\n",
    "    x=list(corrs.columns),\n",
    "    y=list(corrs.index),\n",
    "    annotation_text=np.around(corrs.values, decimals=2),\n",
    "    showscale=True)"
   ]
  },
  {
   "cell_type": "code",
   "execution_count": null,
   "id": "8984963d",
   "metadata": {},
   "outputs": [],
   "source": []
  },
  {
   "cell_type": "code",
   "execution_count": null,
   "id": "91be58db",
   "metadata": {},
   "outputs": [],
   "source": []
  },
  {
   "cell_type": "code",
   "execution_count": null,
   "id": "141541c3",
   "metadata": {},
   "outputs": [],
   "source": []
  },
  {
   "cell_type": "code",
   "execution_count": null,
   "id": "c842c029",
   "metadata": {},
   "outputs": [],
   "source": []
  },
  {
   "cell_type": "code",
   "execution_count": null,
   "id": "f7370791",
   "metadata": {},
   "outputs": [],
   "source": []
  },
  {
   "cell_type": "code",
   "execution_count": null,
   "id": "7b6559ad",
   "metadata": {},
   "outputs": [],
   "source": []
  },
  {
   "cell_type": "code",
   "execution_count": null,
   "id": "5b24f87e",
   "metadata": {},
   "outputs": [],
   "source": []
  },
  {
   "cell_type": "code",
   "execution_count": null,
   "id": "7857a376",
   "metadata": {},
   "outputs": [],
   "source": []
  },
  {
   "cell_type": "code",
   "execution_count": null,
   "id": "c22fa9b2",
   "metadata": {},
   "outputs": [],
   "source": []
  },
  {
   "cell_type": "code",
   "execution_count": null,
   "id": "a5bf9d7e",
   "metadata": {},
   "outputs": [],
   "source": []
  },
  {
   "cell_type": "code",
   "execution_count": null,
   "id": "16460f96",
   "metadata": {},
   "outputs": [],
   "source": []
  },
  {
   "cell_type": "code",
   "execution_count": null,
   "id": "756033e6",
   "metadata": {},
   "outputs": [],
   "source": []
  },
  {
   "cell_type": "code",
   "execution_count": null,
   "id": "ffeab1ff",
   "metadata": {},
   "outputs": [],
   "source": []
  },
  {
   "cell_type": "code",
   "execution_count": null,
   "id": "fd1df7b2",
   "metadata": {},
   "outputs": [],
   "source": []
  },
  {
   "cell_type": "code",
   "execution_count": null,
   "id": "ce04bac2",
   "metadata": {},
   "outputs": [],
   "source": []
  },
  {
   "cell_type": "code",
   "execution_count": null,
   "id": "d29c5a8d",
   "metadata": {},
   "outputs": [],
   "source": []
  },
  {
   "cell_type": "code",
   "execution_count": null,
   "id": "217c13de",
   "metadata": {},
   "outputs": [],
   "source": []
  }
 ],
 "metadata": {
  "kernelspec": {
   "display_name": "Python 3 (ipykernel)",
   "language": "python",
   "name": "python3"
  },
  "language_info": {
   "codemirror_mode": {
    "name": "ipython",
    "version": 3
   },
   "file_extension": ".py",
   "mimetype": "text/x-python",
   "name": "python",
   "nbconvert_exporter": "python",
   "pygments_lexer": "ipython3",
   "version": "3.9.12"
  }
 },
 "nbformat": 4,
 "nbformat_minor": 5
}
